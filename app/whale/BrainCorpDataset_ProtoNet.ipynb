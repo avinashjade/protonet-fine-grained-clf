{
 "cells": [
  {
   "cell_type": "markdown",
   "metadata": {},
   "source": [
    "### Imports"
   ]
  },
  {
   "cell_type": "code",
   "execution_count": 1,
   "metadata": {},
   "outputs": [],
   "source": [
    "from dlcliche.image import *\n",
    "sys.path.append('..') # app\n",
    "sys.path.append('../..') # root\n",
    "from easydict import EasyDict\n",
    "from app_utils_clf import *\n",
    "from whale_utils import *\n",
    "from sklearn.preprocessing import LabelEncoder\n",
    "from torch.utils.data import Sampler\n",
    "import seaborn as sns"
   ]
  },
  {
   "cell_type": "markdown",
   "metadata": {},
   "source": [
    "### Parameters"
   ]
  },
  {
   "cell_type": "code",
   "execution_count": 52,
   "metadata": {},
   "outputs": [],
   "source": [
    "args = EasyDict()\n",
    "args.distance = 'l2'\n",
    "args.n_train = 1\n",
    "args.n_test = 1\n",
    "args.q_train = 2\n",
    "args.q_test = 5\n",
    "\n",
    "args.k_train = 80\n",
    "args.k_test = 34\n",
    "SZ = 256\n",
    "RE_SZ = 256\n",
    "\n",
    "args.n_epochs = 100\n",
    "args.drop_lr_every = 50\n",
    "args.lr = 5*1e-5\n",
    "args.init_weight = None\n",
    "\n",
    "data_train = DATA_PATH\n",
    "data_test  = DATA_PATH\n",
    "\n",
    "args.checkpoint_monitor = 'categorical_accuracy'\n",
    "args.checkpoint_period = 20"
   ]
  },
  {
   "cell_type": "markdown",
   "metadata": {},
   "source": [
    "### Dataset"
   ]
  },
  {
   "cell_type": "code",
   "execution_count": 53,
   "metadata": {},
   "outputs": [],
   "source": [
    "DATA_PATH = '/home/raghava_balusu_walmartlabs_com/Work/oneshotml/data/braincorp_data/'"
   ]
  },
  {
   "cell_type": "code",
   "execution_count": 54,
   "metadata": {},
   "outputs": [
    {
     "data": {
      "text/html": [
       "<div>\n",
       "<style scoped>\n",
       "    .dataframe tbody tr th:only-of-type {\n",
       "        vertical-align: middle;\n",
       "    }\n",
       "\n",
       "    .dataframe tbody tr th {\n",
       "        vertical-align: top;\n",
       "    }\n",
       "\n",
       "    .dataframe thead th {\n",
       "        text-align: right;\n",
       "    }\n",
       "</style>\n",
       "<table border=\"1\" class=\"dataframe\">\n",
       "  <thead>\n",
       "    <tr style=\"text-align: right;\">\n",
       "      <th></th>\n",
       "      <th>image_path</th>\n",
       "      <th>label</th>\n",
       "      <th>type</th>\n",
       "      <th>label_id</th>\n",
       "    </tr>\n",
       "  </thead>\n",
       "  <tbody>\n",
       "    <tr>\n",
       "      <th>0</th>\n",
       "      <td>/home/raghava_balusu_walmartlabs_com/Work/ones...</td>\n",
       "      <td>50038959</td>\n",
       "      <td>reference</td>\n",
       "      <td>515</td>\n",
       "    </tr>\n",
       "    <tr>\n",
       "      <th>1</th>\n",
       "      <td>/home/raghava_balusu_walmartlabs_com/Work/ones...</td>\n",
       "      <td>53425502</td>\n",
       "      <td>reference</td>\n",
       "      <td>818</td>\n",
       "    </tr>\n",
       "    <tr>\n",
       "      <th>2</th>\n",
       "      <td>/home/raghava_balusu_walmartlabs_com/Work/ones...</td>\n",
       "      <td>31184578</td>\n",
       "      <td>reference</td>\n",
       "      <td>276</td>\n",
       "    </tr>\n",
       "    <tr>\n",
       "      <th>3</th>\n",
       "      <td>/home/raghava_balusu_walmartlabs_com/Work/ones...</td>\n",
       "      <td>53132214</td>\n",
       "      <td>reference</td>\n",
       "      <td>762</td>\n",
       "    </tr>\n",
       "    <tr>\n",
       "      <th>4</th>\n",
       "      <td>/home/raghava_balusu_walmartlabs_com/Work/ones...</td>\n",
       "      <td>53050477</td>\n",
       "      <td>reference</td>\n",
       "      <td>715</td>\n",
       "    </tr>\n",
       "  </tbody>\n",
       "</table>\n",
       "</div>"
      ],
      "text/plain": [
       "                                          image_path     label       type  \\\n",
       "0  /home/raghava_balusu_walmartlabs_com/Work/ones...  50038959  reference   \n",
       "1  /home/raghava_balusu_walmartlabs_com/Work/ones...  53425502  reference   \n",
       "2  /home/raghava_balusu_walmartlabs_com/Work/ones...  31184578  reference   \n",
       "3  /home/raghava_balusu_walmartlabs_com/Work/ones...  53132214  reference   \n",
       "4  /home/raghava_balusu_walmartlabs_com/Work/ones...  53050477  reference   \n",
       "\n",
       "   label_id  \n",
       "0       515  \n",
       "1       818  \n",
       "2       276  \n",
       "3       762  \n",
       "4       715  "
      ]
     },
     "execution_count": 54,
     "metadata": {},
     "output_type": "execute_result"
    }
   ],
   "source": [
    "ref = [i for i in list(Path('/home/raghava_balusu_walmartlabs_com/Work/oneshotml/data/braincorp_data/ref_img').glob('*/*.png'))]\n",
    "aisle = [i for i in list(Path('/home/raghava_balusu_walmartlabs_com/Work/oneshotml/data/braincorp_data/ref_38').glob('*/*.png'))]\n",
    "# ref = aisle\n",
    "\n",
    "proto_df = pd.DataFrame({'image_path' : [str(i) for i in ref], 'label' : [i.parent.name for i in ref]})\n",
    "proto_df['type'] = 'reference'\n",
    "\n",
    "le = LabelEncoder()\n",
    "proto_df['label_id'] = le.fit_transform(proto_df.label)\n",
    "\n",
    "proto_df.head()"
   ]
  },
  {
   "cell_type": "code",
   "execution_count": 55,
   "metadata": {},
   "outputs": [
    {
     "data": {
      "text/html": [
       "<div>\n",
       "<style scoped>\n",
       "    .dataframe tbody tr th:only-of-type {\n",
       "        vertical-align: middle;\n",
       "    }\n",
       "\n",
       "    .dataframe tbody tr th {\n",
       "        vertical-align: top;\n",
       "    }\n",
       "\n",
       "    .dataframe thead th {\n",
       "        text-align: right;\n",
       "    }\n",
       "</style>\n",
       "<table border=\"1\" class=\"dataframe\">\n",
       "  <thead>\n",
       "    <tr style=\"text-align: right;\">\n",
       "      <th></th>\n",
       "      <th>image_path</th>\n",
       "      <th>label</th>\n",
       "      <th>type</th>\n",
       "      <th>label_id</th>\n",
       "    </tr>\n",
       "  </thead>\n",
       "  <tbody>\n",
       "    <tr>\n",
       "      <th>0</th>\n",
       "      <td>/home/raghava_balusu_walmartlabs_com/Work/ones...</td>\n",
       "      <td>5558787</td>\n",
       "      <td>query</td>\n",
       "      <td>1410</td>\n",
       "    </tr>\n",
       "    <tr>\n",
       "      <th>1</th>\n",
       "      <td>/home/raghava_balusu_walmartlabs_com/Work/ones...</td>\n",
       "      <td>5558787</td>\n",
       "      <td>query</td>\n",
       "      <td>1410</td>\n",
       "    </tr>\n",
       "    <tr>\n",
       "      <th>2</th>\n",
       "      <td>/home/raghava_balusu_walmartlabs_com/Work/ones...</td>\n",
       "      <td>5558787</td>\n",
       "      <td>query</td>\n",
       "      <td>1410</td>\n",
       "    </tr>\n",
       "    <tr>\n",
       "      <th>3</th>\n",
       "      <td>/home/raghava_balusu_walmartlabs_com/Work/ones...</td>\n",
       "      <td>5558787</td>\n",
       "      <td>query</td>\n",
       "      <td>1410</td>\n",
       "    </tr>\n",
       "    <tr>\n",
       "      <th>4</th>\n",
       "      <td>/home/raghava_balusu_walmartlabs_com/Work/ones...</td>\n",
       "      <td>5558787</td>\n",
       "      <td>query</td>\n",
       "      <td>1410</td>\n",
       "    </tr>\n",
       "  </tbody>\n",
       "</table>\n",
       "</div>"
      ],
      "text/plain": [
       "                                          image_path    label   type  label_id\n",
       "0  /home/raghava_balusu_walmartlabs_com/Work/ones...  5558787  query      1410\n",
       "1  /home/raghava_balusu_walmartlabs_com/Work/ones...  5558787  query      1410\n",
       "2  /home/raghava_balusu_walmartlabs_com/Work/ones...  5558787  query      1410\n",
       "3  /home/raghava_balusu_walmartlabs_com/Work/ones...  5558787  query      1410\n",
       "4  /home/raghava_balusu_walmartlabs_com/Work/ones...  5558787  query      1410"
      ]
     },
     "execution_count": 55,
     "metadata": {},
     "output_type": "execute_result"
    }
   ],
   "source": [
    "query_df = pd.read_csv('/home/raghava_balusu_walmartlabs_com/Work/oneshotml/data/braincorp_data/img_to_labels.csv', index_col=0)\n",
    "\n",
    "query_df.columns = ['image_path', 'label']\n",
    "\n",
    "query_df['image_path'] = query_df.image_path.map(lambda x : '/home/raghava_balusu_walmartlabs_com/Work/oneshotml/data/braincorp_data/query_images/' + x)\n",
    "\n",
    "item_mapping = {'1' : '54629736', '2' : '54481233', '3' : '3572171', '4' : '5558787', '5' : '4810550', '6' : '29566609', '7' : '100000000', '8':'4810554', '9' :'23296492','10':'22965966','11' :'100000010', '12' : '53798269', '13' : '100000001', '14':'5186005','15' :'23296489', '16':'38957303','17':'37989538', '18' :'5401467', '19' :'4385267', '20':'5142520','21':'53419173','22':'54747442','23':'53197162','24':'5262834','25':'54217299','26':'42430527','27':'6986914','28':'50563145','29':'100000003','30':'53564608','31':'100000004','32':'100000005','33':'100000006','34':'54271401','35':'100000007','36':'53621633','37':'53798262','38':'31525622','39':'53537941','40':'54739328','41':'52867343','42':'54003387','43':'54565142'}\n",
    "remove_lst = ['junk', '1', '7', '13', '29', '31', '32', '33', '35', '11']\n",
    "\n",
    "query_df = query_df[-query_df.label.isin(remove_lst)].reset_index(drop=True)\n",
    "\n",
    "query_df['label'] = query_df.label.map(lambda x : item_mapping[x])\n",
    "\n",
    "query_df['type'] = 'query'\n",
    "query_df['label_id'] = le.transform(query_df.label.values)\n",
    "\n",
    "query_df.head()"
   ]
  },
  {
   "cell_type": "code",
   "execution_count": null,
   "metadata": {},
   "outputs": [],
   "source": []
  },
  {
   "cell_type": "code",
   "execution_count": 56,
   "metadata": {},
   "outputs": [],
   "source": [
    "refdf = proto_df.copy()\n",
    "qdf = query_df.copy()\n",
    "img_df = refdf[['image_path', 'label', 'type']].append(qdf[['image_path', 'label', 'type']], ignore_index=True)"
   ]
  },
  {
   "cell_type": "code",
   "execution_count": 57,
   "metadata": {},
   "outputs": [
    {
     "data": {
      "text/plain": [
       "(                                          image_path     label       type  \\\n",
       " 0  /home/raghava_balusu_walmartlabs_com/Work/ones...  50038959  reference   \n",
       " 1  /home/raghava_balusu_walmartlabs_com/Work/ones...  53425502  reference   \n",
       " 2  /home/raghava_balusu_walmartlabs_com/Work/ones...  31184578  reference   \n",
       " 3  /home/raghava_balusu_walmartlabs_com/Work/ones...  53132214  reference   \n",
       " 4  /home/raghava_balusu_walmartlabs_com/Work/ones...  53050477  reference   \n",
       " \n",
       "    label_id  \n",
       " 0       515  \n",
       " 1       818  \n",
       " 2       276  \n",
       " 3       762  \n",
       " 4       715  ,\n",
       "                                              image_path    label   type  \\\n",
       " 3185  /home/raghava_balusu_walmartlabs_com/Work/ones...  4810554  query   \n",
       " 3186  /home/raghava_balusu_walmartlabs_com/Work/ones...  4810554  query   \n",
       " 3187  /home/raghava_balusu_walmartlabs_com/Work/ones...  4810554  query   \n",
       " 3188  /home/raghava_balusu_walmartlabs_com/Work/ones...  4810554  query   \n",
       " 3189  /home/raghava_balusu_walmartlabs_com/Work/ones...  4810554  query   \n",
       " \n",
       "       label_id  \n",
       " 3185       469  \n",
       " 3186       469  \n",
       " 3187       469  \n",
       " 3188       469  \n",
       " 3189       469  )"
      ]
     },
     "execution_count": 57,
     "metadata": {},
     "output_type": "execute_result"
    }
   ],
   "source": [
    "le = LabelEncoder()\n",
    "img_df['label_id'] = le.fit_transform(img_df.label)\n",
    "img_df.head(), img_df.tail()"
   ]
  },
  {
   "cell_type": "code",
   "execution_count": 58,
   "metadata": {},
   "outputs": [],
   "source": [
    "test_labels = list(img_df[img_df['type'] == 'query']['label'].unique())"
   ]
  },
  {
   "cell_type": "code",
   "execution_count": 59,
   "metadata": {},
   "outputs": [
    {
     "data": {
      "text/plain": [
       "34"
      ]
     },
     "execution_count": 59,
     "metadata": {},
     "output_type": "execute_result"
    }
   ],
   "source": [
    "len(test_labels)"
   ]
  },
  {
   "cell_type": "code",
   "execution_count": 60,
   "metadata": {},
   "outputs": [],
   "source": [
    "img_df['split'] = 'train'\n",
    "\n",
    "# img_df.loc[img_df.label.isin(test_labels), 'split'] = 'valid'\n",
    "\n",
    "# For including all ref images in training and query images in valid; Will ad reference images in valid later\n",
    "img_df.loc[(img_df.label.isin(test_labels)) & (img_df.type == 'query'), 'split'] = 'valid'"
   ]
  },
  {
   "cell_type": "code",
   "execution_count": 61,
   "metadata": {},
   "outputs": [
    {
     "data": {
      "text/plain": [
       "valid    1676\n",
       "train    1514\n",
       "Name: split, dtype: int64"
      ]
     },
     "execution_count": 61,
     "metadata": {},
     "output_type": "execute_result"
    }
   ],
   "source": [
    "img_df.split.value_counts()"
   ]
  },
  {
   "cell_type": "code",
   "execution_count": 62,
   "metadata": {},
   "outputs": [],
   "source": [
    "trn_df = img_df[(img_df.type == 'reference') & (img_df.split == 'train')]\n",
    "temp = trn_df.copy()\n",
    "temp['type'] = 'query'\n",
    "trn_df = trn_df.append([temp, temp], ignore_index=True).reset_index(drop=True)"
   ]
  },
  {
   "cell_type": "code",
   "execution_count": 63,
   "metadata": {},
   "outputs": [
    {
     "data": {
      "text/html": [
       "<div>\n",
       "<style scoped>\n",
       "    .dataframe tbody tr th:only-of-type {\n",
       "        vertical-align: middle;\n",
       "    }\n",
       "\n",
       "    .dataframe tbody tr th {\n",
       "        vertical-align: top;\n",
       "    }\n",
       "\n",
       "    .dataframe thead th {\n",
       "        text-align: right;\n",
       "    }\n",
       "</style>\n",
       "<table border=\"1\" class=\"dataframe\">\n",
       "  <thead>\n",
       "    <tr style=\"text-align: right;\">\n",
       "      <th></th>\n",
       "      <th>image_path</th>\n",
       "      <th>label</th>\n",
       "      <th>type</th>\n",
       "      <th>label_id</th>\n",
       "      <th>split</th>\n",
       "    </tr>\n",
       "  </thead>\n",
       "  <tbody>\n",
       "    <tr>\n",
       "      <th>0</th>\n",
       "      <td>/home/raghava_balusu_walmartlabs_com/Work/ones...</td>\n",
       "      <td>50038959</td>\n",
       "      <td>reference</td>\n",
       "      <td>515</td>\n",
       "      <td>train</td>\n",
       "    </tr>\n",
       "    <tr>\n",
       "      <th>1</th>\n",
       "      <td>/home/raghava_balusu_walmartlabs_com/Work/ones...</td>\n",
       "      <td>53425502</td>\n",
       "      <td>reference</td>\n",
       "      <td>818</td>\n",
       "      <td>train</td>\n",
       "    </tr>\n",
       "    <tr>\n",
       "      <th>2</th>\n",
       "      <td>/home/raghava_balusu_walmartlabs_com/Work/ones...</td>\n",
       "      <td>31184578</td>\n",
       "      <td>reference</td>\n",
       "      <td>276</td>\n",
       "      <td>train</td>\n",
       "    </tr>\n",
       "    <tr>\n",
       "      <th>3</th>\n",
       "      <td>/home/raghava_balusu_walmartlabs_com/Work/ones...</td>\n",
       "      <td>53132214</td>\n",
       "      <td>reference</td>\n",
       "      <td>762</td>\n",
       "      <td>train</td>\n",
       "    </tr>\n",
       "    <tr>\n",
       "      <th>4</th>\n",
       "      <td>/home/raghava_balusu_walmartlabs_com/Work/ones...</td>\n",
       "      <td>53050477</td>\n",
       "      <td>reference</td>\n",
       "      <td>715</td>\n",
       "      <td>train</td>\n",
       "    </tr>\n",
       "  </tbody>\n",
       "</table>\n",
       "</div>"
      ],
      "text/plain": [
       "                                          image_path     label       type  \\\n",
       "0  /home/raghava_balusu_walmartlabs_com/Work/ones...  50038959  reference   \n",
       "1  /home/raghava_balusu_walmartlabs_com/Work/ones...  53425502  reference   \n",
       "2  /home/raghava_balusu_walmartlabs_com/Work/ones...  31184578  reference   \n",
       "3  /home/raghava_balusu_walmartlabs_com/Work/ones...  53132214  reference   \n",
       "4  /home/raghava_balusu_walmartlabs_com/Work/ones...  53050477  reference   \n",
       "\n",
       "   label_id  split  \n",
       "0       515  train  \n",
       "1       818  train  \n",
       "2       276  train  \n",
       "3       762  train  \n",
       "4       715  train  "
      ]
     },
     "execution_count": 63,
     "metadata": {},
     "output_type": "execute_result"
    }
   ],
   "source": [
    "trn_df.head()"
   ]
  },
  {
   "cell_type": "code",
   "execution_count": 64,
   "metadata": {},
   "outputs": [],
   "source": [
    "# val_df = img_df[img_df.split == 'valid']\n",
    "\n",
    "# Getting reference and query images in img_df in test_labels@7.8k \n",
    "val_df = img_df[img_df.label.isin(test_labels)].reset_index(drop=True)"
   ]
  },
  {
   "cell_type": "code",
   "execution_count": 65,
   "metadata": {},
   "outputs": [
    {
     "data": {
      "text/plain": [
       "(1710, 5)"
      ]
     },
     "execution_count": 65,
     "metadata": {},
     "output_type": "execute_result"
    }
   ],
   "source": [
    "val_df.shape"
   ]
  },
  {
   "cell_type": "code",
   "execution_count": 66,
   "metadata": {},
   "outputs": [
    {
     "data": {
      "text/plain": [
       "query        1676\n",
       "reference      34\n",
       "Name: type, dtype: int64"
      ]
     },
     "execution_count": 66,
     "metadata": {},
     "output_type": "execute_result"
    }
   ],
   "source": [
    "val_df.type.value_counts()"
   ]
  },
  {
   "cell_type": "code",
   "execution_count": 67,
   "metadata": {},
   "outputs": [
    {
     "data": {
      "text/plain": [
       "<matplotlib.axes._subplots.AxesSubplot at 0x7fdd842f66a0>"
      ]
     },
     "execution_count": 67,
     "metadata": {},
     "output_type": "execute_result"
    },
    {
     "data": {
      "image/png": "[encoded data removed]",
      "text/plain": [
       "<Figure size 432x288 with 1 Axes>"
      ]
     },
     "metadata": {
      "needs_background": "light"
     },
     "output_type": "display_data"
    }
   ],
   "source": [
    "# trn_df[trn_df.type == 'query'].label.value_counts().hist(bins=25)\n",
    "sns.distplot(trn_df[trn_df.type == 'query'].label.value_counts(), norm_hist=False, kde=False)"
   ]
  },
  {
   "cell_type": "code",
   "execution_count": 68,
   "metadata": {},
   "outputs": [
    {
     "data": {
      "text/plain": [
       "<matplotlib.axes._subplots.AxesSubplot at 0x7fdcf27ea668>"
      ]
     },
     "execution_count": 68,
     "metadata": {},
     "output_type": "execute_result"
    },
    {
     "data": {
      "image/png": "[encoded data removed]",
      "text/plain": [
       "<Figure size 432x288 with 1 Axes>"
      ]
     },
     "metadata": {
      "needs_background": "light"
     },
     "output_type": "display_data"
    }
   ],
   "source": [
    "sns.distplot(val_df[val_df.type == 'query'].label.value_counts(), norm_hist=False, kde=False, bins= 25)"
   ]
  },
  {
   "cell_type": "markdown",
   "metadata": {},
   "source": [
    "#### Datset and DataLoader"
   ]
  },
  {
   "cell_type": "code",
   "execution_count": 69,
   "metadata": {},
   "outputs": [],
   "source": [
    "args.episodes_per_epoch = roundup((trn_df[trn_df.type == 'reference'].label.nunique())/args.k_train, 1)\n",
    "args.evaluation_episodes = 100 # setting small value, anyway validation set is almost useless here"
   ]
  },
  {
   "cell_type": "code",
   "execution_count": 70,
   "metadata": {
    "code_folding": [
     0
    ]
   },
   "outputs": [],
   "source": [
    "def get_aug_custom(re_size=224, to_size=224, train=True):\n",
    "    augs = [A.Resize(height=re_size, width=re_size)]\n",
    "    if train:\n",
    "        augs.extend([\n",
    "            A.RandomCrop(height=to_size, width=to_size),\n",
    "            A.ShiftScaleRotate(shift_limit=0.1, scale_limit=0.3, rotate_limit=30, p=0.75),\n",
    "            A.RandomBrightnessContrast(brightness_limit=0.5, contrast_limit=0.5, p=0.75),\n",
    "            A.Blur(p=0.5),\n",
    "            A.Cutout(max_h_size=to_size//12, max_w_size=to_size//12, p=0.5),\n",
    "        ])\n",
    "    else:\n",
    "        augs.extend([A.CenterCrop(height=to_size, width=to_size)])\n",
    "    return A.Compose(augs + [A.Normalize()])"
   ]
  },
  {
   "cell_type": "code",
   "execution_count": 71,
   "metadata": {
    "code_folding": [
     0
    ]
   },
   "outputs": [],
   "source": [
    "def get_aug_plus_custom(re_size=224, to_size=224, augment='train', normalize='imagenet'):\n",
    "    augs = [A.Resize(height=re_size, width=re_size)]\n",
    "    if augment == 'train':\n",
    "        augs.extend([\n",
    "            A.RandomCrop(height=to_size, width=to_size),\n",
    "            A.ShiftScaleRotate(shift_limit=0.1, scale_limit=0.3, rotate_limit=30, p=0.75),\n",
    "            A.RandomBrightnessContrast(brightness_limit=0.5, contrast_limit=0.5, p=0.75),\n",
    "            A.Blur(p=0.5),\n",
    "            A.Cutout(max_h_size=to_size//12, max_w_size=to_size//12, p=0.5),\n",
    "        ])\n",
    "    elif augment == 'train_hard':\n",
    "        augs.extend([\n",
    "            A.RandomCrop(height=to_size, width=to_size),\n",
    "            A.IAAAffine(scale=1.3, translate_percent=0.2, translate_px=None,\n",
    "                                        rotate=40, shear=20),\n",
    "            A.RandomBrightnessContrast(brightness_limit=0.5, contrast_limit=0.5, p=0.75),\n",
    "            A.IAAPerspective(p=1),\n",
    "            A.IAAAdditiveGaussianNoise(p=0.2),\n",
    "            A.Blur(p=0.5),\n",
    "            A.Cutout(max_h_size=to_size//12, max_w_size=to_size//12, p=0.5),\n",
    "        ])\n",
    "    elif augment == 'test':\n",
    "        augs.extend([\n",
    "            A.CenterCrop(height=to_size, width=to_size)\n",
    "        ])\n",
    "    elif augment == 'tta':\n",
    "        augs.extend([\n",
    "            A.IAAAffine(scale=1.05, translate_percent=0.1, translate_px=None, \n",
    "                        rotate=20, shear=10),\n",
    "            A.CenterCrop(height=to_size, width=to_size),\n",
    "        ])\n",
    "    else:\n",
    "        raise Exception(f'aug level not supported: {augment}')\n",
    "    return A.Compose(augs + [A.Normalize()])"
   ]
  },
  {
   "cell_type": "code",
   "execution_count": 72,
   "metadata": {
    "code_folding": [
     0
    ]
   },
   "outputs": [],
   "source": [
    "class GrocerImages(Dataset):\n",
    "    def __init__(self, path, df, re_size=256, to_size=256, train=True):\n",
    "        self.df = df.reset_index(drop=True)\n",
    "        # Index should be same in reference and query df compared to original df\n",
    "        self.support_df = self.df[self.df.type == 'reference']\n",
    "        self.query_df = self.df[self.df.type == 'query']\n",
    "        \n",
    "        self.classes = sorted(list(set(self.support_df.label_id.values)))\n",
    "\n",
    "        self.loader = get_img_loader(path, to_gray=False)\n",
    "        self.transform = get_aug_custom(re_size=re_size, to_size=to_size, train=train)\n",
    "        self.to_tensor = transforms.ToTensor()\n",
    "\n",
    "    def __getitem__(self, item):\n",
    "        instance = self.loader(self.df.loc[item, 'image_path'])\n",
    "        instance = self.transform(image=instance)['image']\n",
    "        instance = self.to_tensor(instance)\n",
    "        label = self.df.loc[item, 'label_id']\n",
    "        return instance, label\n",
    "\n",
    "    def __len__(self):\n",
    "        return len(self.df)\n",
    "\n",
    "    def num_classes(self):\n",
    "        return len(self.cls2imgs)"
   ]
  },
  {
   "cell_type": "code",
   "execution_count": 73,
   "metadata": {
    "code_folding": [
     0
    ]
   },
   "outputs": [],
   "source": [
    "class GrocerImages_plus(GrocerImages):\n",
    "    def __init__(self, path, df, re_size=256, to_size=224, part=0, n_part=1,\n",
    "                 augment='normal', normalize='samplewise'):\n",
    "        super().__init__(path, df, re_size=re_size, to_size=to_size, train=(augment=='train'))\n",
    "        self.df = df.reset_index(drop=True)\n",
    "        # Index should be same in reference and query df compared to original df\n",
    "\n",
    "        self.transform = get_aug_plus_custom(re_size=re_size, to_size=to_size, augment=augment, normalize=normalize)\n",
    "        self.part, self.n_part = part, n_part\n",
    "\n",
    "    def __getitem__(self, item):\n",
    "        instance = self.loader(self.df.loc[item, 'image_path'])\n",
    "#         if self.n_part > 1:\n",
    "#             instance = partition_np_image(instance, self.part, n_part=self.n_part)\n",
    "        instance = self.transform(image=instance)['image']\n",
    "        instance = self.to_tensor(instance)\n",
    "        label = self.df.loc[item, 'label_id']\n",
    "        return instance, label"
   ]
  },
  {
   "cell_type": "code",
   "execution_count": 74,
   "metadata": {
    "code_folding": [
     0
    ]
   },
   "outputs": [],
   "source": [
    "class NShotTaskSampler_custom(Sampler):\n",
    "    def __init__(self, dataset, episodes_per_epoch, n, k, q):\n",
    "\n",
    "        super(NShotTaskSampler_custom, self).__init__(dataset)\n",
    "        self.episodes_per_epoch = episodes_per_epoch\n",
    "        self.dataset = dataset\n",
    "\n",
    "        # TODO: Raise errors if initialise badly\n",
    "        self.k = k\n",
    "        self.n = n\n",
    "        self.q = q\n",
    "\n",
    "    def __len__(self):\n",
    "        return self.episodes_per_epoch\n",
    "\n",
    "    def __iter__(self):\n",
    "        for _ in range(self.episodes_per_epoch):\n",
    "            batch = []\n",
    "            # Get random classes\n",
    "            support_df = self.dataset.support_df\n",
    "            query_df = self.dataset.query_df\n",
    "            episode_classes = np.random.choice(support_df['label_id'].unique(), size=self.k, replace=False)\n",
    "            \n",
    "            #df = self.dataset.df[self.dataset.df['class_id'].isin(episode_classes)]\n",
    "\n",
    "            for k in episode_classes:\n",
    "                # Select support examples\n",
    "                support = support_df[support_df['label_id'] == k].sample(self.n)\n",
    "\n",
    "                for i, s in support.iterrows():\n",
    "                    batch.append(i)\n",
    "\n",
    "            for k in episode_classes:\n",
    "                query = query_df[query_df['label_id'] == k].sample(self.q)\n",
    "                for i, q in query.iterrows():\n",
    "                    batch.append(i)\n",
    "\n",
    "        yield np.stack(batch)"
   ]
  },
  {
   "cell_type": "code",
   "execution_count": 75,
   "metadata": {},
   "outputs": [],
   "source": [
    "# Dataloader\n",
    "background = GrocerImages_plus(path='/', df=trn_df, re_size=RE_SZ, to_size=SZ, augment='train', normalize = 'imagenet')\n",
    "background_taskloader = DataLoader(background, batch_sampler=NShotTaskSampler_custom(background, args.episodes_per_epoch, \n",
    "                            args.n_train, args.k_train, args.q_train),num_workers=8)\n",
    "\n",
    "evaluation = GrocerImages(path='/', df=val_df, re_size=RE_SZ, to_size=SZ, train=False)\n",
    "\n",
    "evaluation_taskloader = DataLoader(evaluation, \n",
    "            batch_sampler=NShotTaskSampler_custom(evaluation, args.episodes_per_epoch, args.n_test, args.k_test, args.q_test),\n",
    "    num_workers=8)"
   ]
  },
  {
   "cell_type": "markdown",
   "metadata": {},
   "source": [
    "#### Loaders Checking"
   ]
  },
  {
   "cell_type": "code",
   "execution_count": 76,
   "metadata": {},
   "outputs": [
    {
     "data": {
      "text/plain": [
       "True"
      ]
     },
     "execution_count": 76,
     "metadata": {},
     "output_type": "execute_result"
    }
   ],
   "source": [
    "x = next(iter(background_taskloader))\n",
    "\n",
    "sx = x[0][:args.k_train*args.n_train, ...]\n",
    "qx = x[0][args.k_train*args.n_train:, ...]\n",
    "\n",
    "sy = x[1][:args.k_train*args.n_train]\n",
    "qy = x[1][args.k_train*args.n_train:]\n",
    "\n",
    "sorted(sy.unique()) == sorted(qy.unique())"
   ]
  },
  {
   "cell_type": "code",
   "execution_count": 77,
   "metadata": {
    "code_folding": [
     1
    ]
   },
   "outputs": [],
   "source": [
    "%matplotlib inline\n",
    "def show(img):\n",
    "    img1 = img.numpy()\n",
    "    img1 = np.transpose(img1, (1,2,0))\n",
    "    img1 = (img1*std1) + mean1\n",
    "    #img = img*255.\n",
    "#     print(img1.shape)\n",
    "    plt.imshow(img1)#, interpolation = 'nearest')\n",
    "#     return img1\n",
    "\n",
    "mean = np.array([0.485, 0.456, 0.406])\n",
    "std = np.array([0.229, 0.224, 0.225])\n",
    "\n",
    "mean1 = mean[None, None, :]\n",
    "std1 = std[None, None, :]"
   ]
  },
  {
   "cell_type": "code",
   "execution_count": 78,
   "metadata": {},
   "outputs": [],
   "source": [
    "idx = np.random.randint(0, args.k_train)\n",
    "imgs = torch.cat((sx[sy == sy.unique()[idx], ...], qx[qy ==sy.unique()[idx], ...]), dim=0)\n",
    "\n",
    "imgs = torch.FloatTensor(imgs)"
   ]
  },
  {
   "cell_type": "code",
   "execution_count": 79,
   "metadata": {},
   "outputs": [
    {
     "name": "stderr",
     "output_type": "stream",
     "text": [
      "WARNING:matplotlib.image:Clipping input data to the valid range for imshow with RGB data ([0..1] for floats or [0..255] for integers).\n"
     ]
    },
    {
     "data": {
      "image/png": "[encoded data removed]",
      "text/plain": [
       "<Figure size 432x288 with 1 Axes>"
      ]
     },
     "metadata": {
      "needs_background": "light"
     },
     "output_type": "display_data"
    }
   ],
   "source": [
    "show(imgs[0]); "
   ]
  },
  {
   "cell_type": "code",
   "execution_count": 80,
   "metadata": {},
   "outputs": [
    {
     "data": {
      "image/png": "[encoded data removed]",
      "text/plain": [
       "<Figure size 432x288 with 1 Axes>"
      ]
     },
     "metadata": {
      "needs_background": "light"
     },
     "output_type": "display_data"
    }
   ],
   "source": [
    "show(imgs[1]);"
   ]
  },
  {
   "cell_type": "code",
   "execution_count": 81,
   "metadata": {},
   "outputs": [
    {
     "data": {
      "image/png": "[encoded data removed]",
      "text/plain": [
       "<Figure size 432x288 with 1 Axes>"
      ]
     },
     "metadata": {
      "needs_background": "light"
     },
     "output_type": "display_data"
    }
   ],
   "source": [
    "show(imgs[2])"
   ]
  },
  {
   "cell_type": "markdown",
   "metadata": {},
   "source": [
    "### Modeling\n",
    "* Pretraining with retail data\n",
    "* lr_finder\n",
    "* Freeze Initial layers and train only last layers\n",
    "* fit_one_cycle\n",
    "* disriminative learning rates"
   ]
  },
  {
   "cell_type": "markdown",
   "metadata": {
    "heading_collapsed": true
   },
   "source": [
    "#### Lr_Finder"
   ]
  },
  {
   "cell_type": "code",
   "execution_count": 39,
   "metadata": {
    "hidden": true
   },
   "outputs": [
    {
     "name": "stderr",
     "output_type": "stream",
     "text": [
      "WARNING:torch_lr_finder.lr_finder:To enable mixed precision training, please install `apex`. Or you can re-install this package by the following command:\n",
      "  pip install torch-lr-finder -v --global-option=\"amp\"\n"
     ]
    }
   ],
   "source": [
    "from few_shot.proto import proto_net_episode\n",
    "from few_shot.core import prepare_nshot_task\n",
    "from torch_lr_finder import LRFinder\n",
    "from torch import optim"
   ]
  },
  {
   "cell_type": "code",
   "execution_count": 40,
   "metadata": {
    "hidden": true
   },
   "outputs": [],
   "source": [
    "from torch_lr_finder.lr_finder import DataLoaderIterWrapper"
   ]
  },
  {
   "cell_type": "code",
   "execution_count": 41,
   "metadata": {
    "hidden": true
   },
   "outputs": [],
   "source": [
    "feature_model = get_resnet34(device=device, weight_file=args.init_weight)"
   ]
  },
  {
   "cell_type": "code",
   "execution_count": 42,
   "metadata": {
    "hidden": true
   },
   "outputs": [],
   "source": [
    "criterion = torch.nn.NLLLoss()"
   ]
  },
  {
   "cell_type": "code",
   "execution_count": 43,
   "metadata": {
    "hidden": true
   },
   "outputs": [],
   "source": [
    "optimizer = optim.Adam(feature_model.parameters(), lr=1e-7)"
   ]
  },
  {
   "cell_type": "code",
   "execution_count": 44,
   "metadata": {
    "code_folding": [],
    "hidden": true
   },
   "outputs": [],
   "source": [
    "class lr_finder_proto(LRFinder):\n",
    "    \n",
    "    def __init__(self, model, optimizer, criterion, device=None, memory_cache=True, cache_dir=None):\n",
    "        super().__init__(model, optimizer, criterion, device=None, memory_cache=True, cache_dir=None)\n",
    "        self.prepare_batch = prepare_nshot_task(args.n_train, args.k_train, args.q_train)\n",
    "    \n",
    "#     def range_test(self, train_loader, val_loader=None, start_lr=None, end_lr=10, num_iter=100, step_mode=\"exp\",\n",
    "#                     smooth_f=0.05, diverge_th=5, accumulation_steps=1):\n",
    "#         super().__init__(train_loader, val_loader=None, start_lr=None, end_lr=10, num_iter=100, step_mode=\"exp\",\n",
    "#                     smooth_f=0.05, diverge_th=5, accumulation_steps=1)\n",
    "#         self.dl = DataLoaderIterWrapper(train_loader)\n",
    "    \n",
    "    def _train_batch(self, iter_wrapper, accumulation_steps):\n",
    "#         self.model.train()\n",
    "        total_loss = None  # for late initialization\n",
    "\n",
    "#         self.optimizer.zero_grad()\n",
    "        for i in range(accumulation_steps):\n",
    "            batch = iter_wrapper.get_batch()\n",
    "            inputs, labels = self.prepare_batch(batch)\n",
    "#             print(inputs.shape, labels.shape)\n",
    "            # Forward pass\n",
    "            loss, y_pred = proto_net_episode(self.model, self.optimizer, self.criterion, inputs, labels, \n",
    "                                        args.n_train, args.k_train, args.q_train, distance ='l2' ,train =True)\n",
    "            \n",
    "            # Loss should be averaged in each step\n",
    "            loss /= accumulation_steps\n",
    "\n",
    "            # Backward pass\n",
    "#             loss.backward()\n",
    "\n",
    "            if total_loss is None:\n",
    "                total_loss = loss\n",
    "            else:\n",
    "                total_loss += loss\n",
    "        \n",
    "        if len(self.history['lr'])>0:\n",
    "            print(loss, self.history[\"lr\"][-1])\n",
    "\n",
    "        return total_loss.item()\n"
   ]
  },
  {
   "cell_type": "code",
   "execution_count": 45,
   "metadata": {
    "hidden": true
   },
   "outputs": [],
   "source": [
    "lr_finder = lr_finder_proto(feature_model, optimizer, criterion, device=\"cuda\", cache_dir = 'logs')"
   ]
  },
  {
   "cell_type": "code",
   "execution_count": 46,
   "metadata": {
    "hidden": true
   },
   "outputs": [
    {
     "data": {
      "application/vnd.jupyter.widget-view+json": {
       "model_id": "b633f6f5eea046a3b7dd51d575c81dc7",
       "version_major": 2,
       "version_minor": 0
      },
      "text/plain": [
       "HBox(children=(IntProgress(value=0, max=150), HTML(value='')))"
      ]
     },
     "metadata": {},
     "output_type": "display_data"
    },
    {
     "name": "stdout",
     "output_type": "stream",
     "text": [
      "tensor(61.4375, device='cuda:0', grad_fn=<DivBackward0>) 1.1481536214968827e-07\n",
      "tensor(61.9976, device='cuda:0', grad_fn=<DivBackward0>) 1.318256738556407e-07\n",
      "tensor(71.0080, device='cuda:0', grad_fn=<DivBackward0>) 1.513561248436208e-07\n",
      "tensor(60.3957, device='cuda:0', grad_fn=<DivBackward0>) 1.7378008287493754e-07\n",
      "tensor(73.2743, device='cuda:0', grad_fn=<DivBackward0>) 1.9952623149688795e-07\n",
      "tensor(68.5376, device='cuda:0', grad_fn=<DivBackward0>) 2.290867652767773e-07\n",
      "tensor(68.3815, device='cuda:0', grad_fn=<DivBackward0>) 2.630267991895382e-07\n",
      "tensor(38.0908, device='cuda:0', grad_fn=<DivBackward0>) 3.0199517204020165e-07\n",
      "tensor(66.4267, device='cuda:0', grad_fn=<DivBackward0>) 3.467368504525316e-07\n",
      "tensor(83.4415, device='cuda:0', grad_fn=<DivBackward0>) 3.981071705534972e-07\n",
      "tensor(79.8378, device='cuda:0', grad_fn=<DivBackward0>) 4.5708818961487505e-07\n",
      "tensor(68.2389, device='cuda:0', grad_fn=<DivBackward0>) 5.248074602497726e-07\n",
      "tensor(87.0141, device='cuda:0', grad_fn=<DivBackward0>) 6.025595860743577e-07\n",
      "tensor(68.6929, device='cuda:0', grad_fn=<DivBackward0>) 6.918309709189365e-07\n",
      "tensor(63.9252, device='cuda:0', grad_fn=<DivBackward0>) 7.943282347242816e-07\n",
      "tensor(55.4155, device='cuda:0', grad_fn=<DivBackward0>) 9.120108393559097e-07\n",
      "tensor(49.4683, device='cuda:0', grad_fn=<DivBackward0>) 1.0471285480508994e-06\n",
      "tensor(56.1424, device='cuda:0', grad_fn=<DivBackward0>) 1.2022644346174128e-06\n",
      "tensor(67.6019, device='cuda:0', grad_fn=<DivBackward0>) 1.380384264602885e-06\n",
      "tensor(79.5780, device='cuda:0', grad_fn=<DivBackward0>) 1.5848931924611134e-06\n",
      "tensor(74.5951, device='cuda:0', grad_fn=<DivBackward0>) 1.819700858609984e-06\n",
      "tensor(62.5028, device='cuda:0', grad_fn=<DivBackward0>) 2.0892961308540394e-06\n",
      "tensor(61.4614, device='cuda:0', grad_fn=<DivBackward0>) 2.3988329190194897e-06\n",
      "tensor(68.7025, device='cuda:0', grad_fn=<DivBackward0>) 2.7542287033381663e-06\n",
      "tensor(55.0516, device='cuda:0', grad_fn=<DivBackward0>) 3.1622776601683788e-06\n",
      "tensor(73.1564, device='cuda:0', grad_fn=<DivBackward0>) 3.630780547701014e-06\n",
      "tensor(54.1391, device='cuda:0', grad_fn=<DivBackward0>) 4.168693834703353e-06\n",
      "tensor(55.6842, device='cuda:0', grad_fn=<DivBackward0>) 4.786300923226384e-06\n",
      "tensor(59.6828, device='cuda:0', grad_fn=<DivBackward0>) 5.495408738576245e-06\n",
      "tensor(41.6770, device='cuda:0', grad_fn=<DivBackward0>) 6.309573444801934e-06\n",
      "tensor(51.2160, device='cuda:0', grad_fn=<DivBackward0>) 7.244359600749901e-06\n",
      "tensor(37.3711, device='cuda:0', grad_fn=<DivBackward0>) 8.317637711026713e-06\n",
      "tensor(61.4181, device='cuda:0', grad_fn=<DivBackward0>) 9.549925860214359e-06\n",
      "tensor(51.0570, device='cuda:0', grad_fn=<DivBackward0>) 1.0964781961431847e-05\n",
      "tensor(43.7567, device='cuda:0', grad_fn=<DivBackward0>) 1.2589254117941671e-05\n",
      "tensor(49.1912, device='cuda:0', grad_fn=<DivBackward0>) 1.4454397707459272e-05\n",
      "tensor(38.6889, device='cuda:0', grad_fn=<DivBackward0>) 1.659586907437561e-05\n",
      "tensor(27.2922, device='cuda:0', grad_fn=<DivBackward0>) 1.905460717963248e-05\n",
      "tensor(33.1867, device='cuda:0', grad_fn=<DivBackward0>) 2.187761623949553e-05\n",
      "tensor(28.1790, device='cuda:0', grad_fn=<DivBackward0>) 2.5118864315095798e-05\n",
      "tensor(22.2853, device='cuda:0', grad_fn=<DivBackward0>) 2.884031503126605e-05\n",
      "tensor(18.7305, device='cuda:0', grad_fn=<DivBackward0>) 3.3113112148259124e-05\n",
      "tensor(23.4928, device='cuda:0', grad_fn=<DivBackward0>) 3.8018939632056124e-05\n",
      "tensor(27.4773, device='cuda:0', grad_fn=<DivBackward0>) 4.36515832240166e-05\n",
      "tensor(18.4652, device='cuda:0', grad_fn=<DivBackward0>) 5.011872336272722e-05\n",
      "tensor(17.1986, device='cuda:0', grad_fn=<DivBackward0>) 5.754399373371566e-05\n",
      "tensor(23.4885, device='cuda:0', grad_fn=<DivBackward0>) 6.606934480075963e-05\n",
      "tensor(9.9002, device='cuda:0', grad_fn=<DivBackward0>) 7.585775750291839e-05\n",
      "tensor(12.9714, device='cuda:0', grad_fn=<DivBackward0>) 8.709635899560806e-05\n",
      "tensor(14.9863, device='cuda:0', grad_fn=<DivBackward0>) 9.999999999999996e-05\n",
      "tensor(13.8990, device='cuda:0', grad_fn=<DivBackward0>) 0.00011481536214968832\n",
      "tensor(9.4967, device='cuda:0', grad_fn=<DivBackward0>) 0.00013182567385564074\n",
      "tensor(8.0490, device='cuda:0', grad_fn=<DivBackward0>) 0.0001513561248436208\n",
      "tensor(10.0752, device='cuda:0', grad_fn=<DivBackward0>) 0.00017378008287493747\n",
      "tensor(3.1915, device='cuda:0', grad_fn=<DivBackward0>) 0.00019952623149688785\n",
      "tensor(14.4818, device='cuda:0', grad_fn=<DivBackward0>) 0.0002290867652767774\n",
      "tensor(8.1839, device='cuda:0', grad_fn=<DivBackward0>) 0.0002630267991895382\n",
      "tensor(6.9382, device='cuda:0', grad_fn=<DivBackward0>) 0.0003019951720402016\n",
      "tensor(2.9567, device='cuda:0', grad_fn=<DivBackward0>) 0.00034673685045253147\n",
      "tensor(9.9019, device='cuda:0', grad_fn=<DivBackward0>) 0.0003981071705534974\n",
      "tensor(5.4758, device='cuda:0', grad_fn=<DivBackward0>) 0.0004570881896148751\n",
      "tensor(6.4602, device='cuda:0', grad_fn=<DivBackward0>) 0.0005248074602497725\n",
      "tensor(4.5424, device='cuda:0', grad_fn=<DivBackward0>) 0.0006025595860743576\n",
      "tensor(3.6349, device='cuda:0', grad_fn=<DivBackward0>) 0.0006918309709189369\n",
      "tensor(5.9958, device='cuda:0', grad_fn=<DivBackward0>) 0.0007943282347242816\n",
      "tensor(1.8712, device='cuda:0', grad_fn=<DivBackward0>) 0.0009120108393559097\n",
      "tensor(3.6921, device='cuda:0', grad_fn=<DivBackward0>) 0.0010471285480508994\n",
      "tensor(5.0455, device='cuda:0', grad_fn=<DivBackward0>) 0.0012022644346174124\n",
      "tensor(7.0209, device='cuda:0', grad_fn=<DivBackward0>) 0.0013803842646028853\n",
      "tensor(3.7636, device='cuda:0', grad_fn=<DivBackward0>) 0.0015848931924611136\n",
      "tensor(4.0656, device='cuda:0', grad_fn=<DivBackward0>) 0.0018197008586099833\n",
      "tensor(5.6267, device='cuda:0', grad_fn=<DivBackward0>) 0.0020892961308540386\n",
      "tensor(8.5992, device='cuda:0', grad_fn=<DivBackward0>) 0.0023988329190194916\n",
      "tensor(4.1193, device='cuda:0', grad_fn=<DivBackward0>) 0.002754228703338167\n",
      "tensor(4.5946, device='cuda:0', grad_fn=<DivBackward0>) 0.003162277660168379\n",
      "tensor(12.3723, device='cuda:0', grad_fn=<DivBackward0>) 0.0036307805477010166\n",
      "tensor(5.5622, device='cuda:0', grad_fn=<DivBackward0>) 0.004168693834703352\n",
      "tensor(6.4710, device='cuda:0', grad_fn=<DivBackward0>) 0.004786300923226385\n",
      "tensor(5.4013, device='cuda:0', grad_fn=<DivBackward0>) 0.0054954087385762395\n",
      "tensor(14.3500, device='cuda:0', grad_fn=<DivBackward0>) 0.006309573444801931\n",
      "tensor(12.2591, device='cuda:0', grad_fn=<DivBackward0>) 0.007244359600749905\n",
      "tensor(8.0662, device='cuda:0', grad_fn=<DivBackward0>) 0.008317637711026704\n",
      "tensor(17.3278, device='cuda:0', grad_fn=<DivBackward0>) 0.00954992586021436\n",
      "tensor(23.2013, device='cuda:0', grad_fn=<DivBackward0>) 0.010964781961431861\n",
      "Stopping early, the loss has diverged\n",
      "Learning rate search finished. See the graph with {finder_name}.plot()\n"
     ]
    }
   ],
   "source": [
    "lr_finder.range_test(background_taskloader, end_lr=100, num_iter=150, smooth_f=0.5)"
   ]
  },
  {
   "cell_type": "code",
   "execution_count": 51,
   "metadata": {
    "hidden": true
   },
   "outputs": [
    {
     "data": {
      "image/png": "[encoded data removed]",
      "text/plain": [
       "<Figure size 432x288 with 1 Axes>"
      ]
     },
     "metadata": {
      "needs_background": "light"
     },
     "output_type": "display_data"
    },
    {
     "data": {
      "text/plain": [
       "<matplotlib.axes._subplots.AxesSubplot at 0x7fdd84947240>"
      ]
     },
     "execution_count": 51,
     "metadata": {},
     "output_type": "execute_result"
    }
   ],
   "source": [
    "lr_finder.plot(skip_start=30, skip_end=0) # to inspect the loss-learning rate graph"
   ]
  },
  {
   "cell_type": "code",
   "execution_count": 53,
   "metadata": {
    "hidden": true
   },
   "outputs": [],
   "source": [
    "lr_finder.reset() # to reset the model and optimizer to their initial state"
   ]
  },
  {
   "cell_type": "markdown",
   "metadata": {},
   "source": [
    "#### Training"
   ]
  },
  {
   "cell_type": "code",
   "execution_count": 82,
   "metadata": {},
   "outputs": [],
   "source": [
    "feature_model = get_resnet34(device=device, weight_file=args.init_weight)"
   ]
  },
  {
   "cell_type": "code",
   "execution_count": 83,
   "metadata": {},
   "outputs": [
    {
     "data": {
      "text/plain": [
       "'BC_res34_s1_q2_k80_ref1.5k'"
      ]
     },
     "execution_count": 83,
     "metadata": {},
     "output_type": "execute_result"
    }
   ],
   "source": [
    "args.param_str = f'BC_res34_s{args.n_train}_q{args.q_train}_k{args.k_train}_ref1.5k'\n",
    "args.param_str"
   ]
  },
  {
   "cell_type": "code",
   "execution_count": 84,
   "metadata": {},
   "outputs": [
    {
     "name": "stderr",
     "output_type": "stream",
     "text": [
      "\r",
      "Epoch 1:   0%|          | 0/19 [00:00<?, ?it/s]"
     ]
    },
    {
     "name": "stdout",
     "output_type": "stream",
     "text": [
      "Begin training...\n"
     ]
    },
    {
     "name": "stderr",
     "output_type": "stream",
     "text": [
      "Epoch 1:  11%|█         | 2/19 [00:10<01:35,  5.62s/it, loss=74.7, categorical_accuracy=0.419, val_1-shot_34-way_acc=0.241]\n",
      "Epoch 2:  11%|█         | 2/19 [00:10<01:40,  5.91s/it, loss=63.4, categorical_accuracy=0.556, val_1-shot_34-way_acc=0.271]\n",
      "Epoch 3:  11%|█         | 2/19 [00:09<01:33,  5.50s/it, loss=39.1, categorical_accuracy=0.675, val_1-shot_34-way_acc=0.318]\n",
      "Epoch 4:  11%|█         | 2/19 [00:10<01:38,  5.79s/it, loss=27.9, categorical_accuracy=0.75, val_1-shot_34-way_acc=0.312]\n",
      "Epoch 5:  11%|█         | 2/19 [00:09<01:33,  5.51s/it, loss=22.6, categorical_accuracy=0.756, val_1-shot_34-way_acc=0.318]\n",
      "Epoch 6:  11%|█         | 2/19 [00:09<01:30,  5.33s/it, loss=27.3, categorical_accuracy=0.681, val_1-shot_34-way_acc=0.382]\n",
      "Epoch 7:  11%|█         | 2/19 [00:09<01:31,  5.39s/it, loss=28.5, categorical_accuracy=0.725, val_1-shot_34-way_acc=0.359]\n",
      "Epoch 8:  11%|█         | 2/19 [00:11<01:47,  6.32s/it, loss=13.5, categorical_accuracy=0.812, val_1-shot_34-way_acc=0.347]\n",
      "Epoch 9:  11%|█         | 2/19 [00:09<01:32,  5.42s/it, loss=14.8, categorical_accuracy=0.85, val_1-shot_34-way_acc=0.388]\n",
      "Epoch 10:  11%|█         | 2/19 [00:10<01:37,  5.71s/it, loss=8.84, categorical_accuracy=0.844, val_1-shot_34-way_acc=0.365]\n",
      "Epoch 11:  11%|█         | 2/19 [00:09<01:32,  5.42s/it, loss=21.3, categorical_accuracy=0.769, val_1-shot_34-way_acc=0.347]\n",
      "Epoch 12:  11%|█         | 2/19 [00:09<01:32,  5.47s/it, loss=15, categorical_accuracy=0.831, val_1-shot_34-way_acc=0.382]\n",
      "Epoch 13:  11%|█         | 2/19 [00:11<01:50,  6.53s/it, loss=6.89, categorical_accuracy=0.906, val_1-shot_34-way_acc=0.324]\n",
      "Epoch 14:  11%|█         | 2/19 [00:10<01:44,  6.14s/it, loss=9.17, categorical_accuracy=0.887, val_1-shot_34-way_acc=0.4]\n",
      "Epoch 15:  11%|█         | 2/19 [00:09<01:31,  5.38s/it, loss=8.02, categorical_accuracy=0.869, val_1-shot_34-way_acc=0.341]\n",
      "Epoch 16:  11%|█         | 2/19 [00:09<01:30,  5.34s/it, loss=8.13, categorical_accuracy=0.869, val_1-shot_34-way_acc=0.353]\n",
      "Epoch 17:  11%|█         | 2/19 [00:09<01:32,  5.44s/it, loss=10.3, categorical_accuracy=0.85, val_1-shot_34-way_acc=0.324]\n",
      "Epoch 18:  11%|█         | 2/19 [00:09<01:32,  5.42s/it, loss=5.99, categorical_accuracy=0.906, val_1-shot_34-way_acc=0.329]\n",
      "Epoch 19:  11%|█         | 2/19 [00:10<01:41,  5.94s/it, loss=6.62, categorical_accuracy=0.869, val_1-shot_34-way_acc=0.347]\n",
      "Epoch 20:  11%|█         | 2/19 [00:10<01:35,  5.60s/it, loss=15.7, categorical_accuracy=0.825, val_1-shot_34-way_acc=0.329]\n",
      "Epoch 21:  11%|█         | 2/19 [00:10<01:35,  5.63s/it, loss=13.7, categorical_accuracy=0.863, val_1-shot_34-way_acc=0.371]\n",
      "Epoch 22:  11%|█         | 2/19 [00:09<01:34,  5.57s/it, loss=4.22, categorical_accuracy=0.906, val_1-shot_34-way_acc=0.341]\n",
      "Epoch 23:  11%|█         | 2/19 [00:09<01:31,  5.35s/it, loss=13.4, categorical_accuracy=0.881, val_1-shot_34-way_acc=0.353]\n",
      "Epoch 24:  11%|█         | 2/19 [00:09<01:34,  5.55s/it, loss=5.28, categorical_accuracy=0.9, val_1-shot_34-way_acc=0.353]\n",
      "Epoch 25:  11%|█         | 2/19 [00:09<01:31,  5.41s/it, loss=6.87, categorical_accuracy=0.925, val_1-shot_34-way_acc=0.371]\n",
      "Epoch 26:  11%|█         | 2/19 [00:09<01:34,  5.57s/it, loss=8.17, categorical_accuracy=0.881, val_1-shot_34-way_acc=0.347]\n",
      "Epoch 27:  11%|█         | 2/19 [00:09<01:32,  5.46s/it, loss=6.36, categorical_accuracy=0.912, val_1-shot_34-way_acc=0.353]\n",
      "Epoch 28:  11%|█         | 2/19 [00:09<01:33,  5.53s/it, loss=4.29, categorical_accuracy=0.925, val_1-shot_34-way_acc=0.312]\n",
      "Epoch 29:  11%|█         | 2/19 [00:10<01:36,  5.70s/it, loss=7.12, categorical_accuracy=0.906, val_1-shot_34-way_acc=0.371]\n",
      "Epoch 30:  11%|█         | 2/19 [00:10<01:37,  5.76s/it, loss=7.84, categorical_accuracy=0.881, val_1-shot_34-way_acc=0.353]\n",
      "Epoch 31:  11%|█         | 2/19 [00:09<01:31,  5.41s/it, loss=6.3, categorical_accuracy=0.931, val_1-shot_34-way_acc=0.406]\n",
      "Epoch 32:  11%|█         | 2/19 [00:09<01:34,  5.58s/it, loss=7.39, categorical_accuracy=0.912, val_1-shot_34-way_acc=0.312]\n",
      "Epoch 33:  11%|█         | 2/19 [00:10<01:37,  5.74s/it, loss=4.63, categorical_accuracy=0.9, val_1-shot_34-way_acc=0.359]\n",
      "Epoch 34:  11%|█         | 2/19 [00:10<01:35,  5.60s/it, loss=8.11, categorical_accuracy=0.906, val_1-shot_34-way_acc=0.388]\n",
      "Epoch 35:  11%|█         | 2/19 [00:09<01:32,  5.45s/it, loss=11.9, categorical_accuracy=0.875, val_1-shot_34-way_acc=0.341]\n",
      "Epoch 36:  11%|█         | 2/19 [00:10<01:36,  5.65s/it, loss=6.27, categorical_accuracy=0.887, val_1-shot_34-way_acc=0.347]\n",
      "Epoch 37:  11%|█         | 2/19 [00:10<01:37,  5.71s/it, loss=8.25, categorical_accuracy=0.875, val_1-shot_34-way_acc=0.388]\n",
      "Epoch 38:  11%|█         | 2/19 [00:10<01:42,  6.00s/it, loss=2.71, categorical_accuracy=0.95, val_1-shot_34-way_acc=0.376]\n",
      "Epoch 39:  11%|█         | 2/19 [00:09<01:32,  5.44s/it, loss=1.47, categorical_accuracy=0.956, val_1-shot_34-way_acc=0.353]\n",
      "Epoch 40:  11%|█         | 2/19 [00:10<01:33,  5.51s/it, loss=7.71, categorical_accuracy=0.894, val_1-shot_34-way_acc=0.382]\n",
      "Epoch 41:  11%|█         | 2/19 [00:10<01:35,  5.60s/it, loss=8.39, categorical_accuracy=0.887, val_1-shot_34-way_acc=0.394]\n",
      "Epoch 42:  11%|█         | 2/19 [00:10<01:41,  5.95s/it, loss=3.33, categorical_accuracy=0.931, val_1-shot_34-way_acc=0.412]\n",
      "Epoch 43:  11%|█         | 2/19 [00:09<01:34,  5.55s/it, loss=3.47, categorical_accuracy=0.963, val_1-shot_34-way_acc=0.382]\n",
      "Epoch 44:  11%|█         | 2/19 [00:09<01:32,  5.47s/it, loss=6.15, categorical_accuracy=0.912, val_1-shot_34-way_acc=0.382]\n",
      "Epoch 45:  11%|█         | 2/19 [00:09<01:34,  5.56s/it, loss=2.17, categorical_accuracy=0.938, val_1-shot_34-way_acc=0.347]\n",
      "Epoch 46:  11%|█         | 2/19 [00:09<01:34,  5.53s/it, loss=4.61, categorical_accuracy=0.938, val_1-shot_34-way_acc=0.382]\n",
      "Epoch 47:  11%|█         | 2/19 [00:10<01:35,  5.64s/it, loss=11.1, categorical_accuracy=0.881, val_1-shot_34-way_acc=0.376]\n",
      "Epoch 48:  11%|█         | 2/19 [00:10<01:43,  6.09s/it, loss=4.02, categorical_accuracy=0.95, val_1-shot_34-way_acc=0.382]\n",
      "Epoch 49:  11%|█         | 2/19 [00:09<01:34,  5.55s/it, loss=2, categorical_accuracy=0.956, val_1-shot_34-way_acc=0.382]\n",
      "Epoch 50:  11%|█         | 2/19 [00:10<01:41,  5.99s/it, loss=2.44, categorical_accuracy=0.956, val_1-shot_34-way_acc=0.353]\n",
      "Epoch 51:  11%|█         | 2/19 [00:09<01:33,  5.49s/it, loss=3.09, categorical_accuracy=0.938, val_1-shot_34-way_acc=0.359]\n",
      "Epoch 52:  11%|█         | 2/19 [00:10<01:39,  5.87s/it, loss=3.65, categorical_accuracy=0.919, val_1-shot_34-way_acc=0.371]\n",
      "Epoch 53:  11%|█         | 2/19 [00:10<01:38,  5.77s/it, loss=4.92, categorical_accuracy=0.912, val_1-shot_34-way_acc=0.382]\n",
      "Epoch 54:  11%|█         | 2/19 [00:10<01:39,  5.88s/it, loss=4.77, categorical_accuracy=0.912, val_1-shot_34-way_acc=0.335]\n",
      "Epoch 55:  11%|█         | 2/19 [00:10<01:36,  5.68s/it, loss=4.36, categorical_accuracy=0.95, val_1-shot_34-way_acc=0.418]\n",
      "Epoch 56:  11%|█         | 2/19 [00:10<01:36,  5.65s/it, loss=8.12, categorical_accuracy=0.919, val_1-shot_34-way_acc=0.353]\n",
      "Epoch 57:  11%|█         | 2/19 [00:10<01:40,  5.90s/it, loss=4.24, categorical_accuracy=0.931, val_1-shot_34-way_acc=0.429]\n",
      "Epoch 58:  11%|█         | 2/19 [00:11<01:50,  6.48s/it, loss=5.3, categorical_accuracy=0.919, val_1-shot_34-way_acc=0.4]\n",
      "Epoch 59:  11%|█         | 2/19 [00:09<01:34,  5.54s/it, loss=5.5, categorical_accuracy=0.925, val_1-shot_34-way_acc=0.406]\n",
      "Epoch 60:  11%|█         | 2/19 [00:10<01:33,  5.52s/it, loss=2.38, categorical_accuracy=0.956, val_1-shot_34-way_acc=0.365]\n",
      "Epoch 61:  11%|█         | 2/19 [00:10<01:39,  5.83s/it, loss=4.89, categorical_accuracy=0.887, val_1-shot_34-way_acc=0.424]\n",
      "Epoch 62:  11%|█         | 2/19 [00:10<01:42,  6.04s/it, loss=0.882, categorical_accuracy=0.963, val_1-shot_34-way_acc=0.424]\n",
      "Epoch 63:  11%|█         | 2/19 [00:10<01:39,  5.87s/it, loss=6.11, categorical_accuracy=0.912, val_1-shot_34-way_acc=0.4]\n",
      "Epoch 64:  11%|█         | 2/19 [00:09<01:32,  5.47s/it, loss=3.63, categorical_accuracy=0.925, val_1-shot_34-way_acc=0.365]\n",
      "Epoch 65:  11%|█         | 2/19 [00:10<01:38,  5.79s/it, loss=3.4, categorical_accuracy=0.95, val_1-shot_34-way_acc=0.359]\n"
     ]
    },
    {
     "name": "stderr",
     "output_type": "stream",
     "text": [
      "Epoch 66:  11%|█         | 2/19 [00:09<01:33,  5.48s/it, loss=1.33, categorical_accuracy=0.956, val_1-shot_34-way_acc=0.365]\n",
      "Epoch 67:  11%|█         | 2/19 [00:09<01:30,  5.33s/it, loss=4.3, categorical_accuracy=0.944, val_1-shot_34-way_acc=0.329]\n",
      "Epoch 68:  11%|█         | 2/19 [00:09<01:32,  5.46s/it, loss=0.228, categorical_accuracy=0.981, val_1-shot_34-way_acc=0.371]\n",
      "Epoch 69:  11%|█         | 2/19 [00:10<01:40,  5.93s/it, loss=3.19, categorical_accuracy=0.963, val_1-shot_34-way_acc=0.359]\n",
      "Epoch 70:  11%|█         | 2/19 [00:09<01:32,  5.43s/it, loss=3.34, categorical_accuracy=0.95, val_1-shot_34-way_acc=0.406]\n",
      "Epoch 71:  11%|█         | 2/19 [00:10<01:44,  6.15s/it, loss=3.55, categorical_accuracy=0.938, val_1-shot_34-way_acc=0.406]\n",
      "Epoch 72:  11%|█         | 2/19 [00:09<01:34,  5.53s/it, loss=2.72, categorical_accuracy=0.95, val_1-shot_34-way_acc=0.347]\n",
      "Epoch 73:  11%|█         | 2/19 [00:09<01:33,  5.49s/it, loss=5.95, categorical_accuracy=0.912, val_1-shot_34-way_acc=0.388]\n",
      "Epoch 74:  11%|█         | 2/19 [00:09<01:32,  5.41s/it, loss=5.71, categorical_accuracy=0.906, val_1-shot_34-way_acc=0.382]\n",
      "Epoch 75:  11%|█         | 2/19 [00:09<01:33,  5.49s/it, loss=3.3, categorical_accuracy=0.963, val_1-shot_34-way_acc=0.371]\n",
      "Epoch 76:  11%|█         | 2/19 [00:10<01:35,  5.63s/it, loss=2.73, categorical_accuracy=0.956, val_1-shot_34-way_acc=0.382]\n",
      "Epoch 77:  11%|█         | 2/19 [00:11<01:46,  6.29s/it, loss=2.94, categorical_accuracy=0.931, val_1-shot_34-way_acc=0.376]\n",
      "Epoch 78:  11%|█         | 2/19 [00:10<01:35,  5.61s/it, loss=4.12, categorical_accuracy=0.95, val_1-shot_34-way_acc=0.388]\n",
      "Epoch 79:  11%|█         | 2/19 [00:10<01:35,  5.60s/it, loss=4.57, categorical_accuracy=0.925, val_1-shot_34-way_acc=0.4]\n",
      "Epoch 80:  11%|█         | 2/19 [00:10<01:38,  5.79s/it, loss=5.47, categorical_accuracy=0.919, val_1-shot_34-way_acc=0.453]\n",
      "Epoch 81:  11%|█         | 2/19 [00:10<01:36,  5.65s/it, loss=1.3, categorical_accuracy=0.956, val_1-shot_34-way_acc=0.4]\n",
      "Epoch 82:  11%|█         | 2/19 [00:09<01:32,  5.43s/it, loss=3.85, categorical_accuracy=0.919, val_1-shot_34-way_acc=0.376]\n",
      "Epoch 83:  11%|█         | 2/19 [00:09<01:33,  5.49s/it, loss=2.34, categorical_accuracy=0.944, val_1-shot_34-way_acc=0.394]\n",
      "Epoch 84:  11%|█         | 2/19 [00:10<01:39,  5.84s/it, loss=3.31, categorical_accuracy=0.944, val_1-shot_34-way_acc=0.388]\n",
      "Epoch 85:  11%|█         | 2/19 [00:10<01:41,  5.99s/it, loss=1.18, categorical_accuracy=0.969, val_1-shot_34-way_acc=0.394]\n",
      "Epoch 86:  11%|█         | 2/19 [00:09<01:33,  5.52s/it, loss=2.98, categorical_accuracy=0.931, val_1-shot_34-way_acc=0.376]\n",
      "Epoch 87:  11%|█         | 2/19 [00:10<01:44,  6.15s/it, loss=5.39, categorical_accuracy=0.95, val_1-shot_34-way_acc=0.353]\n",
      "Epoch 88:  11%|█         | 2/19 [00:10<01:39,  5.84s/it, loss=1.69, categorical_accuracy=0.975, val_1-shot_34-way_acc=0.365]\n",
      "Epoch 89:  11%|█         | 2/19 [00:10<01:37,  5.73s/it, loss=2.3, categorical_accuracy=0.938, val_1-shot_34-way_acc=0.394]\n",
      "Epoch 90:  11%|█         | 2/19 [00:10<01:40,  5.94s/it, loss=1.05, categorical_accuracy=0.975, val_1-shot_34-way_acc=0.406]\n",
      "Epoch 91:  11%|█         | 2/19 [00:10<01:36,  5.67s/it, loss=2.18, categorical_accuracy=0.956, val_1-shot_34-way_acc=0.412]\n",
      "Epoch 92:  11%|█         | 2/19 [00:10<01:35,  5.62s/it, loss=2.09, categorical_accuracy=0.956, val_1-shot_34-way_acc=0.406]\n",
      "Epoch 93:  11%|█         | 2/19 [00:10<01:35,  5.61s/it, loss=2.51, categorical_accuracy=0.95, val_1-shot_34-way_acc=0.4]\n",
      "Epoch 94:  11%|█         | 2/19 [00:10<01:37,  5.73s/it, loss=2.59, categorical_accuracy=0.956, val_1-shot_34-way_acc=0.335]\n",
      "Epoch 95:  11%|█         | 2/19 [00:10<01:39,  5.84s/it, loss=0.582, categorical_accuracy=0.981, val_1-shot_34-way_acc=0.424]\n",
      "Epoch 96:  11%|█         | 2/19 [00:09<01:30,  5.30s/it, loss=4.74, categorical_accuracy=0.912, val_1-shot_34-way_acc=0.365]\n",
      "Epoch 97:  11%|█         | 2/19 [00:10<01:37,  5.73s/it, loss=2.79, categorical_accuracy=0.931, val_1-shot_34-way_acc=0.382]\n",
      "Epoch 98:  11%|█         | 2/19 [00:10<01:35,  5.61s/it, loss=1.17, categorical_accuracy=0.969, val_1-shot_34-way_acc=0.388]\n",
      "Epoch 99:  11%|█         | 2/19 [00:10<01:40,  5.91s/it, loss=2.65, categorical_accuracy=0.95, val_1-shot_34-way_acc=0.382]\n",
      "Epoch 100:  11%|█         | 2/19 [00:10<01:34,  5.55s/it, loss=5.17, categorical_accuracy=0.912, val_1-shot_34-way_acc=0.376]"
     ]
    },
    {
     "name": "stdout",
     "output_type": "stream",
     "text": [
      "Finished.\n"
     ]
    },
    {
     "name": "stderr",
     "output_type": "stream",
     "text": [
      "\n"
     ]
    }
   ],
   "source": [
    "train_proto_net(args,\n",
    "                model=feature_model,\n",
    "                device=device,\n",
    "                path='.',\n",
    "                n_epochs=args.n_epochs,\n",
    "                background_taskloader=background_taskloader,\n",
    "                evaluation_taskloader=evaluation_taskloader,\n",
    "                drop_lr_every=args.drop_lr_every,\n",
    "                evaluation_episodes=args.evaluation_episodes,\n",
    "                episodes_per_epoch=args.episodes_per_epoch,\n",
    "                lr=args.lr,\n",
    "               )"
   ]
  },
  {
   "cell_type": "code",
   "execution_count": 85,
   "metadata": {},
   "outputs": [
    {
     "data": {
      "text/plain": [
       "'BC_res34_s1_q2_k80_ref1.5k_epoch100.pth'"
      ]
     },
     "execution_count": 85,
     "metadata": {},
     "output_type": "execute_result"
    }
   ],
   "source": [
    "f'{args.param_str}_epoch{args.n_epochs}.pth'"
   ]
  },
  {
   "cell_type": "code",
   "execution_count": null,
   "metadata": {},
   "outputs": [],
   "source": [
    "# torch.save(feature_model.state_dict(), f'models/{args.param_str}_epoch{args.n_epochs}.pth')"
   ]
  },
  {
   "cell_type": "markdown",
   "metadata": {},
   "source": [
    "### Testing\n",
    "* loader for test query images\n",
    "* calculate protoypes for all reference images\n",
    "* Generate embeddings for all query images\n",
    "* Calculate distance between embeddings and prototypes\n",
    "* Save top1 and top5 accuracy"
   ]
  },
  {
   "cell_type": "code",
   "execution_count": 86,
   "metadata": {},
   "outputs": [],
   "source": [
    "from dlcliche.image import *\n",
    "sys.path.append('..') # app\n",
    "sys.path.append('../..') # root\n",
    "from easydict import EasyDict\n",
    "from app_utils_clf import *\n",
    "from whale_plus_utils import *\n",
    "from config import DATA_PATH"
   ]
  },
  {
   "cell_type": "code",
   "execution_count": 87,
   "metadata": {},
   "outputs": [
    {
     "name": "stdout",
     "output_type": "stream",
     "text": [
      "BC_res34_s1_q2_k80_ref1.5k\n",
      "models/BC_res34_s1_q2_k80_ref1.5k_e101.pth\n"
     ]
    }
   ],
   "source": [
    "# args.param_str = 'res_untrained'\n",
    "exp = f'{args.param_str}'#_epoch{args.n_epochs}'\n",
    "# exp = f'{args.param_str}_epoch{args.n_epochs}' + '_ref1.5k'\n",
    "# exp = 'res_untrained_ref1.5k'\n",
    "print(exp)\n",
    "get_model_fn=get_resnet34\n",
    "weight_file = f'models/{args.param_str}_e{args.n_epochs+1}.pth'\n",
    "output_path='results'\n",
    "print(weight_file)"
   ]
  },
  {
   "cell_type": "code",
   "execution_count": 88,
   "metadata": {},
   "outputs": [],
   "source": [
    "DATA_PATH = '/home/raghava_balusu_walmartlabs_com/Work/oneshotml/data/braincorp_data/'"
   ]
  },
  {
   "cell_type": "code",
   "execution_count": 89,
   "metadata": {},
   "outputs": [],
   "source": [
    "SZ=256\n",
    "device='cuda'\n",
    "train_csv=DATA_PATH+'/train.csv'\n",
    "data_train = DATA_PATH\n",
    "data_test  = DATA_PATH\n",
    "data_type='normal'\n",
    "normalize='imagenet'\n",
    "N_TTA=0\n",
    "part=0\n",
    "n_part=1"
   ]
  },
  {
   "cell_type": "code",
   "execution_count": 90,
   "metadata": {},
   "outputs": [],
   "source": [
    "weight_file = Path(weight_file)\n",
    "output_path = Path(output_path)\n",
    "ensure_folder(output_path)"
   ]
  },
  {
   "cell_type": "code",
   "execution_count": 91,
   "metadata": {},
   "outputs": [
    {
     "data": {
      "text/html": [
       "<div>\n",
       "<style scoped>\n",
       "    .dataframe tbody tr th:only-of-type {\n",
       "        vertical-align: middle;\n",
       "    }\n",
       "\n",
       "    .dataframe tbody tr th {\n",
       "        vertical-align: top;\n",
       "    }\n",
       "\n",
       "    .dataframe thead th {\n",
       "        text-align: right;\n",
       "    }\n",
       "</style>\n",
       "<table border=\"1\" class=\"dataframe\">\n",
       "  <thead>\n",
       "    <tr style=\"text-align: right;\">\n",
       "      <th></th>\n",
       "      <th>image_path</th>\n",
       "      <th>label</th>\n",
       "      <th>type</th>\n",
       "      <th>label_id</th>\n",
       "    </tr>\n",
       "  </thead>\n",
       "  <tbody>\n",
       "    <tr>\n",
       "      <th>0</th>\n",
       "      <td>/home/raghava_balusu_walmartlabs_com/Work/ones...</td>\n",
       "      <td>50038959</td>\n",
       "      <td>reference</td>\n",
       "      <td>515</td>\n",
       "    </tr>\n",
       "    <tr>\n",
       "      <th>1</th>\n",
       "      <td>/home/raghava_balusu_walmartlabs_com/Work/ones...</td>\n",
       "      <td>53425502</td>\n",
       "      <td>reference</td>\n",
       "      <td>818</td>\n",
       "    </tr>\n",
       "    <tr>\n",
       "      <th>2</th>\n",
       "      <td>/home/raghava_balusu_walmartlabs_com/Work/ones...</td>\n",
       "      <td>31184578</td>\n",
       "      <td>reference</td>\n",
       "      <td>276</td>\n",
       "    </tr>\n",
       "    <tr>\n",
       "      <th>3</th>\n",
       "      <td>/home/raghava_balusu_walmartlabs_com/Work/ones...</td>\n",
       "      <td>53132214</td>\n",
       "      <td>reference</td>\n",
       "      <td>762</td>\n",
       "    </tr>\n",
       "    <tr>\n",
       "      <th>4</th>\n",
       "      <td>/home/raghava_balusu_walmartlabs_com/Work/ones...</td>\n",
       "      <td>53050477</td>\n",
       "      <td>reference</td>\n",
       "      <td>715</td>\n",
       "    </tr>\n",
       "  </tbody>\n",
       "</table>\n",
       "</div>"
      ],
      "text/plain": [
       "                                          image_path     label       type  \\\n",
       "0  /home/raghava_balusu_walmartlabs_com/Work/ones...  50038959  reference   \n",
       "1  /home/raghava_balusu_walmartlabs_com/Work/ones...  53425502  reference   \n",
       "2  /home/raghava_balusu_walmartlabs_com/Work/ones...  31184578  reference   \n",
       "3  /home/raghava_balusu_walmartlabs_com/Work/ones...  53132214  reference   \n",
       "4  /home/raghava_balusu_walmartlabs_com/Work/ones...  53050477  reference   \n",
       "\n",
       "   label_id  \n",
       "0       515  \n",
       "1       818  \n",
       "2       276  \n",
       "3       762  \n",
       "4       715  "
      ]
     },
     "execution_count": 91,
     "metadata": {},
     "output_type": "execute_result"
    }
   ],
   "source": [
    "ref = [i for i in list(Path('/home/raghava_balusu_walmartlabs_com/Work/oneshotml/data/braincorp_data/ref_img').glob('*/*.png'))]\n",
    "aisle = [i for i in list(Path('/home/raghava_balusu_walmartlabs_com/Work/oneshotml/data/braincorp_data/ref_38').glob('*/*.png'))]\n",
    "# ref = aisle\n",
    "\n",
    "proto_df = pd.DataFrame({'image_path' : [str(i) for i in ref], 'label' : [i.parent.name for i in ref]})\n",
    "proto_df['type'] = 'reference'\n",
    "\n",
    "le = LabelEncoder()\n",
    "proto_df['label_id'] = le.fit_transform(proto_df.label)\n",
    "\n",
    "proto_df.head()"
   ]
  },
  {
   "cell_type": "code",
   "execution_count": 92,
   "metadata": {},
   "outputs": [
    {
     "data": {
      "text/html": [
       "<div>\n",
       "<style scoped>\n",
       "    .dataframe tbody tr th:only-of-type {\n",
       "        vertical-align: middle;\n",
       "    }\n",
       "\n",
       "    .dataframe tbody tr th {\n",
       "        vertical-align: top;\n",
       "    }\n",
       "\n",
       "    .dataframe thead th {\n",
       "        text-align: right;\n",
       "    }\n",
       "</style>\n",
       "<table border=\"1\" class=\"dataframe\">\n",
       "  <thead>\n",
       "    <tr style=\"text-align: right;\">\n",
       "      <th></th>\n",
       "      <th>image_path</th>\n",
       "      <th>label</th>\n",
       "      <th>type</th>\n",
       "      <th>label_id</th>\n",
       "    </tr>\n",
       "  </thead>\n",
       "  <tbody>\n",
       "    <tr>\n",
       "      <th>0</th>\n",
       "      <td>/home/raghava_balusu_walmartlabs_com/Work/ones...</td>\n",
       "      <td>5558787</td>\n",
       "      <td>query</td>\n",
       "      <td>1410</td>\n",
       "    </tr>\n",
       "    <tr>\n",
       "      <th>1</th>\n",
       "      <td>/home/raghava_balusu_walmartlabs_com/Work/ones...</td>\n",
       "      <td>5558787</td>\n",
       "      <td>query</td>\n",
       "      <td>1410</td>\n",
       "    </tr>\n",
       "    <tr>\n",
       "      <th>2</th>\n",
       "      <td>/home/raghava_balusu_walmartlabs_com/Work/ones...</td>\n",
       "      <td>5558787</td>\n",
       "      <td>query</td>\n",
       "      <td>1410</td>\n",
       "    </tr>\n",
       "    <tr>\n",
       "      <th>3</th>\n",
       "      <td>/home/raghava_balusu_walmartlabs_com/Work/ones...</td>\n",
       "      <td>5558787</td>\n",
       "      <td>query</td>\n",
       "      <td>1410</td>\n",
       "    </tr>\n",
       "    <tr>\n",
       "      <th>4</th>\n",
       "      <td>/home/raghava_balusu_walmartlabs_com/Work/ones...</td>\n",
       "      <td>5558787</td>\n",
       "      <td>query</td>\n",
       "      <td>1410</td>\n",
       "    </tr>\n",
       "  </tbody>\n",
       "</table>\n",
       "</div>"
      ],
      "text/plain": [
       "                                          image_path    label   type  label_id\n",
       "0  /home/raghava_balusu_walmartlabs_com/Work/ones...  5558787  query      1410\n",
       "1  /home/raghava_balusu_walmartlabs_com/Work/ones...  5558787  query      1410\n",
       "2  /home/raghava_balusu_walmartlabs_com/Work/ones...  5558787  query      1410\n",
       "3  /home/raghava_balusu_walmartlabs_com/Work/ones...  5558787  query      1410\n",
       "4  /home/raghava_balusu_walmartlabs_com/Work/ones...  5558787  query      1410"
      ]
     },
     "execution_count": 92,
     "metadata": {},
     "output_type": "execute_result"
    }
   ],
   "source": [
    "query_df = pd.read_csv('/home/raghava_balusu_walmartlabs_com/Work/oneshotml/data/braincorp_data/img_to_labels.csv', index_col=0)\n",
    "\n",
    "query_df.columns = ['image_path', 'label']\n",
    "\n",
    "query_df['image_path'] = query_df.image_path.map(lambda x : '/home/raghava_balusu_walmartlabs_com/Work/oneshotml/data/braincorp_data/query_images/' + x)\n",
    "\n",
    "item_mapping = {'1' : '54629736', '2' : '54481233', '3' : '3572171', '4' : '5558787', '5' : '4810550', '6' : '29566609', '7' : '100000000', '8':'4810554', '9' :'23296492','10':'22965966','11' :'100000010', '12' : '53798269', '13' : '100000001', '14':'5186005','15' :'23296489', '16':'38957303','17':'37989538', '18' :'5401467', '19' :'4385267', '20':'5142520','21':'53419173','22':'54747442','23':'53197162','24':'5262834','25':'54217299','26':'42430527','27':'6986914','28':'50563145','29':'100000003','30':'53564608','31':'100000004','32':'100000005','33':'100000006','34':'54271401','35':'100000007','36':'53621633','37':'53798262','38':'31525622','39':'53537941','40':'54739328','41':'52867343','42':'54003387','43':'54565142'}\n",
    "remove_lst = ['junk', '1', '7', '13', '29', '31', '32', '33', '35', '11']\n",
    "\n",
    "query_df = query_df[-query_df.label.isin(remove_lst)].reset_index(drop=True)\n",
    "\n",
    "query_df['label'] = query_df.label.map(lambda x : item_mapping[x])\n",
    "\n",
    "query_df['type'] = 'query'\n",
    "query_df['label_id'] = le.transform(query_df.label.values)\n",
    "\n",
    "query_df.head()"
   ]
  },
  {
   "cell_type": "code",
   "execution_count": 93,
   "metadata": {},
   "outputs": [],
   "source": [
    "data_train = '/'"
   ]
  },
  {
   "cell_type": "code",
   "execution_count": 94,
   "metadata": {},
   "outputs": [
    {
     "name": "stdout",
     "output_type": "stream",
     "text": [
      "Test samples: 1676.\n"
     ]
    },
    {
     "name": "stderr",
     "output_type": "stream",
     "text": [
      "100%|██████████| 6/6 [00:05<00:00,  1.02it/s]\n",
      "2020-04-23 04:40:52,770 dlcliche.utils make_prototypes [INFO]: Making new prototypes.\n"
     ]
    }
   ],
   "source": [
    "print(f'Test samples: {len(query_df)}.')\n",
    "\n",
    "# Making dataloaders\n",
    "def get_dl(df, folder, SZ=SZ, batch_size=256, augment='test', normalize='imagenet'):\n",
    "    if data_type == 'normal':\n",
    "        ds = GrocerImages_plus(folder, df, re_size=SZ, to_size=SZ,\n",
    "                             augment=augment, normalize=normalize, part=part, n_part=n_part)\n",
    "    else:\n",
    "        raise ValueError('invalid data type')\n",
    "    dl = DataLoader(ds, batch_size=batch_size, shuffle=False, num_workers=8)\n",
    "    return dl\n",
    "\n",
    "# 1. NORMAL RESULT\n",
    "# Make prototypes\n",
    "trn_dl = get_dl(proto_df, data_train)\n",
    "# model = feature_model\n",
    "model = get_model_fn(device=device, weight_file=weight_file)\n",
    "proto_net = ExtModelProtoNetClf(model, trn_dl.dataset.classes, device)\n",
    "proto_net.make_prototypes(trn_dl)"
   ]
  },
  {
   "cell_type": "code",
   "execution_count": 95,
   "metadata": {},
   "outputs": [],
   "source": [
    "data_test='/'"
   ]
  },
  {
   "cell_type": "code",
   "execution_count": 96,
   "metadata": {
    "scrolled": true
   },
   "outputs": [
    {
     "name": "stderr",
     "output_type": "stream",
     "text": [
      "100%|██████████| 7/7 [00:05<00:00,  1.43it/s]\n",
      "100%|██████████| 1676/1676 [00:17<00:00, 98.02it/s]\n"
     ]
    }
   ],
   "source": [
    "# Calculate distances\n",
    "test_dl = get_dl(query_df, data_test, batch_size=256)\n",
    "test_embs, gts = proto_net.get_embeddings(test_dl)\n",
    "test_dists = proto_net.predict_embeddings(test_embs, softmax=False) #Distance are already negated so dist shub b high now"
   ]
  },
  {
   "cell_type": "code",
   "execution_count": null,
   "metadata": {},
   "outputs": [],
   "source": []
  },
  {
   "cell_type": "code",
   "execution_count": 97,
   "metadata": {},
   "outputs": [],
   "source": [
    "from scipy.special import softmax\n",
    "test_probs = softmax(test_dists, axis=1)\n",
    "prototypes = np.array([x.mean() for x in proto_net.prototypes])"
   ]
  },
  {
   "cell_type": "code",
   "execution_count": 98,
   "metadata": {},
   "outputs": [
    {
     "data": {
      "text/plain": [
       "0.9749403341288783"
      ]
     },
     "execution_count": 98,
     "metadata": {},
     "output_type": "execute_result"
    }
   ],
   "source": [
    "(np.argsort(test_dists, axis=1)[:, :5] == np.argsort(test_probs, axis=1)[:, :5]).mean()"
   ]
  },
  {
   "cell_type": "code",
   "execution_count": 99,
   "metadata": {
    "scrolled": true
   },
   "outputs": [],
   "source": [
    "top5labels = np.argsort(-test_dists, axis=1)[:, :5] #- is to sort in descending order\n",
    "\n",
    "top5preds = [test_dists[i][top5labels[i]] for i in range(test_dists.shape[0])]\n",
    "top5probs = [test_probs[i][top5labels[i]] for i in range(test_dists.shape[0])]\n",
    "\n",
    "top5probs = np.array(top5probs)\n",
    "top5preds = np.array(top5preds)"
   ]
  },
  {
   "cell_type": "code",
   "execution_count": 100,
   "metadata": {},
   "outputs": [
    {
     "data": {
      "text/plain": [
       "Index(['image_path', 'label', 'type', 'label_id'], dtype='object')"
      ]
     },
     "execution_count": 100,
     "metadata": {},
     "output_type": "execute_result"
    }
   ],
   "source": [
    "query_df.columns"
   ]
  },
  {
   "cell_type": "code",
   "execution_count": 101,
   "metadata": {},
   "outputs": [
    {
     "data": {
      "text/html": [
       "<div>\n",
       "<style scoped>\n",
       "    .dataframe tbody tr th:only-of-type {\n",
       "        vertical-align: middle;\n",
       "    }\n",
       "\n",
       "    .dataframe tbody tr th {\n",
       "        vertical-align: top;\n",
       "    }\n",
       "\n",
       "    .dataframe thead th {\n",
       "        text-align: right;\n",
       "    }\n",
       "</style>\n",
       "<table border=\"1\" class=\"dataframe\">\n",
       "  <thead>\n",
       "    <tr style=\"text-align: right;\">\n",
       "      <th></th>\n",
       "      <th>fpath</th>\n",
       "      <th>category</th>\n",
       "      <th>type</th>\n",
       "      <th>label_id</th>\n",
       "      <th>actual</th>\n",
       "      <th>top_prob1</th>\n",
       "      <th>top_prob2</th>\n",
       "      <th>top_prob3</th>\n",
       "      <th>top_prob4</th>\n",
       "      <th>top_prob5</th>\n",
       "      <th>top_cat1</th>\n",
       "      <th>top_cat2</th>\n",
       "      <th>top_cat3</th>\n",
       "      <th>top_cat4</th>\n",
       "      <th>top_cat5</th>\n",
       "      <th>pred_cat</th>\n",
       "      <th>exp</th>\n",
       "    </tr>\n",
       "  </thead>\n",
       "  <tbody>\n",
       "    <tr>\n",
       "      <th>0</th>\n",
       "      <td>/home/raghava_balusu_walmartlabs_com/Work/ones...</td>\n",
       "      <td>5558787</td>\n",
       "      <td>query</td>\n",
       "      <td>1410</td>\n",
       "      <td>5558787</td>\n",
       "      <td>0.653093</td>\n",
       "      <td>3.403923e-01</td>\n",
       "      <td>3.787112e-03</td>\n",
       "      <td>2.727859e-03</td>\n",
       "      <td>2.644202e-21</td>\n",
       "      <td>22864674</td>\n",
       "      <td>53043115</td>\n",
       "      <td>53791011</td>\n",
       "      <td>54082010</td>\n",
       "      <td>31613803</td>\n",
       "      <td>22864674</td>\n",
       "      <td>BC_res34_s1_q2_k80_ref1.5k</td>\n",
       "    </tr>\n",
       "    <tr>\n",
       "      <th>1</th>\n",
       "      <td>/home/raghava_balusu_walmartlabs_com/Work/ones...</td>\n",
       "      <td>5558787</td>\n",
       "      <td>query</td>\n",
       "      <td>1410</td>\n",
       "      <td>5558787</td>\n",
       "      <td>0.998450</td>\n",
       "      <td>8.682608e-04</td>\n",
       "      <td>6.821865e-04</td>\n",
       "      <td>7.152212e-23</td>\n",
       "      <td>3.383517e-23</td>\n",
       "      <td>23296492</td>\n",
       "      <td>5558787</td>\n",
       "      <td>4858662</td>\n",
       "      <td>31613803</td>\n",
       "      <td>22657907</td>\n",
       "      <td>23296492</td>\n",
       "      <td>BC_res34_s1_q2_k80_ref1.5k</td>\n",
       "    </tr>\n",
       "    <tr>\n",
       "      <th>2</th>\n",
       "      <td>/home/raghava_balusu_walmartlabs_com/Work/ones...</td>\n",
       "      <td>5558787</td>\n",
       "      <td>query</td>\n",
       "      <td>1410</td>\n",
       "      <td>5558787</td>\n",
       "      <td>0.821548</td>\n",
       "      <td>1.784402e-01</td>\n",
       "      <td>1.129406e-05</td>\n",
       "      <td>3.055622e-07</td>\n",
       "      <td>2.908857e-11</td>\n",
       "      <td>23171282</td>\n",
       "      <td>53043115</td>\n",
       "      <td>49191</td>\n",
       "      <td>22864674</td>\n",
       "      <td>44605080</td>\n",
       "      <td>23171282</td>\n",
       "      <td>BC_res34_s1_q2_k80_ref1.5k</td>\n",
       "    </tr>\n",
       "    <tr>\n",
       "      <th>3</th>\n",
       "      <td>/home/raghava_balusu_walmartlabs_com/Work/ones...</td>\n",
       "      <td>5558787</td>\n",
       "      <td>query</td>\n",
       "      <td>1410</td>\n",
       "      <td>5558787</td>\n",
       "      <td>1.000000</td>\n",
       "      <td>4.056099e-16</td>\n",
       "      <td>9.163009e-21</td>\n",
       "      <td>2.387876e-23</td>\n",
       "      <td>1.364029e-25</td>\n",
       "      <td>53043115</td>\n",
       "      <td>53412062</td>\n",
       "      <td>53043138</td>\n",
       "      <td>53791011</td>\n",
       "      <td>22864674</td>\n",
       "      <td>53043115</td>\n",
       "      <td>BC_res34_s1_q2_k80_ref1.5k</td>\n",
       "    </tr>\n",
       "    <tr>\n",
       "      <th>4</th>\n",
       "      <td>/home/raghava_balusu_walmartlabs_com/Work/ones...</td>\n",
       "      <td>5558787</td>\n",
       "      <td>query</td>\n",
       "      <td>1410</td>\n",
       "      <td>5558787</td>\n",
       "      <td>0.767276</td>\n",
       "      <td>2.101231e-01</td>\n",
       "      <td>2.253562e-02</td>\n",
       "      <td>6.488870e-05</td>\n",
       "      <td>8.641453e-09</td>\n",
       "      <td>4858662</td>\n",
       "      <td>53043138</td>\n",
       "      <td>31613803</td>\n",
       "      <td>53043115</td>\n",
       "      <td>31613801</td>\n",
       "      <td>4858662</td>\n",
       "      <td>BC_res34_s1_q2_k80_ref1.5k</td>\n",
       "    </tr>\n",
       "  </tbody>\n",
       "</table>\n",
       "</div>"
      ],
      "text/plain": [
       "                                               fpath category   type  \\\n",
       "0  /home/raghava_balusu_walmartlabs_com/Work/ones...  5558787  query   \n",
       "1  /home/raghava_balusu_walmartlabs_com/Work/ones...  5558787  query   \n",
       "2  /home/raghava_balusu_walmartlabs_com/Work/ones...  5558787  query   \n",
       "3  /home/raghava_balusu_walmartlabs_com/Work/ones...  5558787  query   \n",
       "4  /home/raghava_balusu_walmartlabs_com/Work/ones...  5558787  query   \n",
       "\n",
       "   label_id   actual  top_prob1     top_prob2     top_prob3     top_prob4  \\\n",
       "0      1410  5558787   0.653093  3.403923e-01  3.787112e-03  2.727859e-03   \n",
       "1      1410  5558787   0.998450  8.682608e-04  6.821865e-04  7.152212e-23   \n",
       "2      1410  5558787   0.821548  1.784402e-01  1.129406e-05  3.055622e-07   \n",
       "3      1410  5558787   1.000000  4.056099e-16  9.163009e-21  2.387876e-23   \n",
       "4      1410  5558787   0.767276  2.101231e-01  2.253562e-02  6.488870e-05   \n",
       "\n",
       "      top_prob5  top_cat1  top_cat2  top_cat3  top_cat4  top_cat5  pred_cat  \\\n",
       "0  2.644202e-21  22864674  53043115  53791011  54082010  31613803  22864674   \n",
       "1  3.383517e-23  23296492   5558787   4858662  31613803  22657907  23296492   \n",
       "2  2.908857e-11  23171282  53043115     49191  22864674  44605080  23171282   \n",
       "3  1.364029e-25  53043115  53412062  53043138  53791011  22864674  53043115   \n",
       "4  8.641453e-09   4858662  53043138  31613803  53043115  31613801   4858662   \n",
       "\n",
       "                          exp  \n",
       "0  BC_res34_s1_q2_k80_ref1.5k  \n",
       "1  BC_res34_s1_q2_k80_ref1.5k  \n",
       "2  BC_res34_s1_q2_k80_ref1.5k  \n",
       "3  BC_res34_s1_q2_k80_ref1.5k  \n",
       "4  BC_res34_s1_q2_k80_ref1.5k  "
      ]
     },
     "execution_count": 101,
     "metadata": {},
     "output_type": "execute_result"
    }
   ],
   "source": [
    "query_df.columns = ['fpath', 'category', 'type', 'label_id']\n",
    "\n",
    "query_df['actual'] = query_df['category']\n",
    "\n",
    "for i in range(5):\n",
    "    query_df[f'top_prob'+str(i+1)] = top5probs[:, i]\n",
    "\n",
    "for i in range(5):\n",
    "    query_df[f'top_cat'+str(i+1)] = le.inverse_transform(top5labels[:, i])\n",
    "\n",
    "query_df['pred_cat'] = query_df['top_cat1']\n",
    "\n",
    "query_df['exp'] = exp\n",
    "\n",
    "query_df.head()"
   ]
  },
  {
   "cell_type": "code",
   "execution_count": 102,
   "metadata": {},
   "outputs": [
    {
     "name": "stdout",
     "output_type": "stream",
     "text": [
      "0.17720763723150357 0.28878281622911695\n"
     ]
    }
   ],
   "source": [
    "query_df['fpath'] = query_df.fpath.map(lambda x : '/Users/r0b03m2/Desktop/Work/braincorp_data/query_images/' + Path(x).name)\n",
    "\n",
    "query_df['Flag'] = query_df.apply(lambda x: x['actual'] == x['pred_cat'], axis=1)\n",
    "\n",
    "query_df['Flag_top5'] = query_df.apply(lambda x: x['actual'] in x[['top_cat1', 'top_cat2', 'top_cat3', 'top_cat4', 'top_cat5']].values, axis=1)\n",
    "\n",
    "print(query_df.Flag.mean(), query_df.Flag_top5.mean())"
   ]
  },
  {
   "cell_type": "code",
   "execution_count": 103,
   "metadata": {},
   "outputs": [],
   "source": [
    "temp = query_df.groupby(['exp', 'category'])['Flag'].mean().reset_index()\n",
    "temp.columns = ['exp', 'category', 'accuracy']\n",
    "query_df = query_df.merge(temp, how='left', on=['exp', 'category'])\n",
    "\n",
    "temp = query_df.groupby(['exp', 'category'])['Flag_top5'].mean().reset_index()\n",
    "temp.columns = ['exp', 'category', 'accuracy_Top5']\n",
    "query_df = query_df.merge(temp, how='left', on=['exp', 'category'])"
   ]
  },
  {
   "cell_type": "code",
   "execution_count": 104,
   "metadata": {},
   "outputs": [
    {
     "data": {
      "text/html": [
       "<div>\n",
       "<style scoped>\n",
       "    .dataframe tbody tr th:only-of-type {\n",
       "        vertical-align: middle;\n",
       "    }\n",
       "\n",
       "    .dataframe tbody tr th {\n",
       "        vertical-align: top;\n",
       "    }\n",
       "\n",
       "    .dataframe thead th {\n",
       "        text-align: right;\n",
       "    }\n",
       "</style>\n",
       "<table border=\"1\" class=\"dataframe\">\n",
       "  <thead>\n",
       "    <tr style=\"text-align: right;\">\n",
       "      <th></th>\n",
       "      <th>fpath</th>\n",
       "      <th>category</th>\n",
       "      <th>type</th>\n",
       "      <th>label_id</th>\n",
       "      <th>actual</th>\n",
       "      <th>top_prob1</th>\n",
       "      <th>top_prob2</th>\n",
       "      <th>top_prob3</th>\n",
       "      <th>top_prob4</th>\n",
       "      <th>top_prob5</th>\n",
       "      <th>...</th>\n",
       "      <th>top_cat2</th>\n",
       "      <th>top_cat3</th>\n",
       "      <th>top_cat4</th>\n",
       "      <th>top_cat5</th>\n",
       "      <th>pred_cat</th>\n",
       "      <th>exp</th>\n",
       "      <th>Flag</th>\n",
       "      <th>Flag_top5</th>\n",
       "      <th>accuracy</th>\n",
       "      <th>accuracy_Top5</th>\n",
       "    </tr>\n",
       "  </thead>\n",
       "  <tbody>\n",
       "    <tr>\n",
       "      <th>0</th>\n",
       "      <td>/Users/r0b03m2/Desktop/Work/braincorp_data/que...</td>\n",
       "      <td>5558787</td>\n",
       "      <td>query</td>\n",
       "      <td>1410</td>\n",
       "      <td>5558787</td>\n",
       "      <td>0.653093</td>\n",
       "      <td>3.403923e-01</td>\n",
       "      <td>3.787112e-03</td>\n",
       "      <td>2.727859e-03</td>\n",
       "      <td>2.644202e-21</td>\n",
       "      <td>...</td>\n",
       "      <td>53043115</td>\n",
       "      <td>53791011</td>\n",
       "      <td>54082010</td>\n",
       "      <td>31613803</td>\n",
       "      <td>22864674</td>\n",
       "      <td>BC_res34_s1_q2_k80_ref1.5k</td>\n",
       "      <td>False</td>\n",
       "      <td>False</td>\n",
       "      <td>0.1</td>\n",
       "      <td>0.2</td>\n",
       "    </tr>\n",
       "    <tr>\n",
       "      <th>1</th>\n",
       "      <td>/Users/r0b03m2/Desktop/Work/braincorp_data/que...</td>\n",
       "      <td>5558787</td>\n",
       "      <td>query</td>\n",
       "      <td>1410</td>\n",
       "      <td>5558787</td>\n",
       "      <td>0.998450</td>\n",
       "      <td>8.682608e-04</td>\n",
       "      <td>6.821865e-04</td>\n",
       "      <td>7.152212e-23</td>\n",
       "      <td>3.383517e-23</td>\n",
       "      <td>...</td>\n",
       "      <td>5558787</td>\n",
       "      <td>4858662</td>\n",
       "      <td>31613803</td>\n",
       "      <td>22657907</td>\n",
       "      <td>23296492</td>\n",
       "      <td>BC_res34_s1_q2_k80_ref1.5k</td>\n",
       "      <td>False</td>\n",
       "      <td>True</td>\n",
       "      <td>0.1</td>\n",
       "      <td>0.2</td>\n",
       "    </tr>\n",
       "    <tr>\n",
       "      <th>2</th>\n",
       "      <td>/Users/r0b03m2/Desktop/Work/braincorp_data/que...</td>\n",
       "      <td>5558787</td>\n",
       "      <td>query</td>\n",
       "      <td>1410</td>\n",
       "      <td>5558787</td>\n",
       "      <td>0.821548</td>\n",
       "      <td>1.784402e-01</td>\n",
       "      <td>1.129406e-05</td>\n",
       "      <td>3.055622e-07</td>\n",
       "      <td>2.908857e-11</td>\n",
       "      <td>...</td>\n",
       "      <td>53043115</td>\n",
       "      <td>49191</td>\n",
       "      <td>22864674</td>\n",
       "      <td>44605080</td>\n",
       "      <td>23171282</td>\n",
       "      <td>BC_res34_s1_q2_k80_ref1.5k</td>\n",
       "      <td>False</td>\n",
       "      <td>False</td>\n",
       "      <td>0.1</td>\n",
       "      <td>0.2</td>\n",
       "    </tr>\n",
       "    <tr>\n",
       "      <th>3</th>\n",
       "      <td>/Users/r0b03m2/Desktop/Work/braincorp_data/que...</td>\n",
       "      <td>5558787</td>\n",
       "      <td>query</td>\n",
       "      <td>1410</td>\n",
       "      <td>5558787</td>\n",
       "      <td>1.000000</td>\n",
       "      <td>4.056099e-16</td>\n",
       "      <td>9.163009e-21</td>\n",
       "      <td>2.387876e-23</td>\n",
       "      <td>1.364029e-25</td>\n",
       "      <td>...</td>\n",
       "      <td>53412062</td>\n",
       "      <td>53043138</td>\n",
       "      <td>53791011</td>\n",
       "      <td>22864674</td>\n",
       "      <td>53043115</td>\n",
       "      <td>BC_res34_s1_q2_k80_ref1.5k</td>\n",
       "      <td>False</td>\n",
       "      <td>False</td>\n",
       "      <td>0.1</td>\n",
       "      <td>0.2</td>\n",
       "    </tr>\n",
       "    <tr>\n",
       "      <th>4</th>\n",
       "      <td>/Users/r0b03m2/Desktop/Work/braincorp_data/que...</td>\n",
       "      <td>5558787</td>\n",
       "      <td>query</td>\n",
       "      <td>1410</td>\n",
       "      <td>5558787</td>\n",
       "      <td>0.767276</td>\n",
       "      <td>2.101231e-01</td>\n",
       "      <td>2.253562e-02</td>\n",
       "      <td>6.488870e-05</td>\n",
       "      <td>8.641453e-09</td>\n",
       "      <td>...</td>\n",
       "      <td>53043138</td>\n",
       "      <td>31613803</td>\n",
       "      <td>53043115</td>\n",
       "      <td>31613801</td>\n",
       "      <td>4858662</td>\n",
       "      <td>BC_res34_s1_q2_k80_ref1.5k</td>\n",
       "      <td>False</td>\n",
       "      <td>False</td>\n",
       "      <td>0.1</td>\n",
       "      <td>0.2</td>\n",
       "    </tr>\n",
       "  </tbody>\n",
       "</table>\n",
       "<p>5 rows × 21 columns</p>\n",
       "</div>"
      ],
      "text/plain": [
       "                                               fpath category   type  \\\n",
       "0  /Users/r0b03m2/Desktop/Work/braincorp_data/que...  5558787  query   \n",
       "1  /Users/r0b03m2/Desktop/Work/braincorp_data/que...  5558787  query   \n",
       "2  /Users/r0b03m2/Desktop/Work/braincorp_data/que...  5558787  query   \n",
       "3  /Users/r0b03m2/Desktop/Work/braincorp_data/que...  5558787  query   \n",
       "4  /Users/r0b03m2/Desktop/Work/braincorp_data/que...  5558787  query   \n",
       "\n",
       "   label_id   actual  top_prob1     top_prob2     top_prob3     top_prob4  \\\n",
       "0      1410  5558787   0.653093  3.403923e-01  3.787112e-03  2.727859e-03   \n",
       "1      1410  5558787   0.998450  8.682608e-04  6.821865e-04  7.152212e-23   \n",
       "2      1410  5558787   0.821548  1.784402e-01  1.129406e-05  3.055622e-07   \n",
       "3      1410  5558787   1.000000  4.056099e-16  9.163009e-21  2.387876e-23   \n",
       "4      1410  5558787   0.767276  2.101231e-01  2.253562e-02  6.488870e-05   \n",
       "\n",
       "      top_prob5      ...        top_cat2  top_cat3  top_cat4  top_cat5  \\\n",
       "0  2.644202e-21      ...        53043115  53791011  54082010  31613803   \n",
       "1  3.383517e-23      ...         5558787   4858662  31613803  22657907   \n",
       "2  2.908857e-11      ...        53043115     49191  22864674  44605080   \n",
       "3  1.364029e-25      ...        53412062  53043138  53791011  22864674   \n",
       "4  8.641453e-09      ...        53043138  31613803  53043115  31613801   \n",
       "\n",
       "   pred_cat                         exp   Flag  Flag_top5  accuracy  \\\n",
       "0  22864674  BC_res34_s1_q2_k80_ref1.5k  False      False       0.1   \n",
       "1  23296492  BC_res34_s1_q2_k80_ref1.5k  False       True       0.1   \n",
       "2  23171282  BC_res34_s1_q2_k80_ref1.5k  False      False       0.1   \n",
       "3  53043115  BC_res34_s1_q2_k80_ref1.5k  False      False       0.1   \n",
       "4   4858662  BC_res34_s1_q2_k80_ref1.5k  False      False       0.1   \n",
       "\n",
       "   accuracy_Top5  \n",
       "0            0.2  \n",
       "1            0.2  \n",
       "2            0.2  \n",
       "3            0.2  \n",
       "4            0.2  \n",
       "\n",
       "[5 rows x 21 columns]"
      ]
     },
     "execution_count": 104,
     "metadata": {},
     "output_type": "execute_result"
    }
   ],
   "source": [
    "query_df.head()"
   ]
  },
  {
   "cell_type": "code",
   "execution_count": 105,
   "metadata": {},
   "outputs": [],
   "source": [
    "# bc_proto_results = pd.DataFrame({'fpath':[str(i).replace('/home/raghava_balusu_walmartlabs_com/Work/oneshotml/data/braincorp_data', '/Users/r0b03m2/Desktop/Work/braincorp_data') for i in ref],\n",
    "#               'category' : [i.parent.name for i in ref],\n",
    "#               'exp': ['dummy' for i in range(len(ref))]})\n",
    "\n",
    "# bc_proto_results.head()"
   ]
  },
  {
   "cell_type": "code",
   "execution_count": 122,
   "metadata": {},
   "outputs": [],
   "source": [
    "result_df = pd.read_csv('results/bc_proto_results.csv')\n",
    "# result_df = bc_proto_results"
   ]
  },
  {
   "cell_type": "code",
   "execution_count": 107,
   "metadata": {},
   "outputs": [
    {
     "data": {
      "text/html": [
       "<div>\n",
       "<style scoped>\n",
       "    .dataframe tbody tr th:only-of-type {\n",
       "        vertical-align: middle;\n",
       "    }\n",
       "\n",
       "    .dataframe tbody tr th {\n",
       "        vertical-align: top;\n",
       "    }\n",
       "\n",
       "    .dataframe thead th {\n",
       "        text-align: right;\n",
       "    }\n",
       "</style>\n",
       "<table border=\"1\" class=\"dataframe\">\n",
       "  <thead>\n",
       "    <tr style=\"text-align: right;\">\n",
       "      <th></th>\n",
       "      <th>fpath</th>\n",
       "      <th>category</th>\n",
       "      <th>type</th>\n",
       "      <th>label_id</th>\n",
       "      <th>actual</th>\n",
       "      <th>top_prob1</th>\n",
       "      <th>top_prob2</th>\n",
       "      <th>top_prob3</th>\n",
       "      <th>top_prob4</th>\n",
       "      <th>top_prob5</th>\n",
       "      <th>...</th>\n",
       "      <th>top_cat2</th>\n",
       "      <th>top_cat3</th>\n",
       "      <th>top_cat4</th>\n",
       "      <th>top_cat5</th>\n",
       "      <th>pred_cat</th>\n",
       "      <th>exp</th>\n",
       "      <th>Flag</th>\n",
       "      <th>Flag_top5</th>\n",
       "      <th>accuracy</th>\n",
       "      <th>accuracy_Top5</th>\n",
       "    </tr>\n",
       "  </thead>\n",
       "  <tbody>\n",
       "    <tr>\n",
       "      <th>24973</th>\n",
       "      <td>/Users/r0b03m2/Desktop/Work/braincorp_data/que...</td>\n",
       "      <td>4810554</td>\n",
       "      <td>query</td>\n",
       "      <td>469.0</td>\n",
       "      <td>4810554.0</td>\n",
       "      <td>0.866038</td>\n",
       "      <td>1.331390e-01</td>\n",
       "      <td>5.237709e-04</td>\n",
       "      <td>8.394374e-05</td>\n",
       "      <td>8.149164e-05</td>\n",
       "      <td>...</td>\n",
       "      <td>45695494.0</td>\n",
       "      <td>51717510.0</td>\n",
       "      <td>53977377.0</td>\n",
       "      <td>26218152.0</td>\n",
       "      <td>11537.0</td>\n",
       "      <td>Grocer_res34_s1_q2_k80_onlyref_ref1.5k</td>\n",
       "      <td>False</td>\n",
       "      <td>False</td>\n",
       "      <td>0.0</td>\n",
       "      <td>0.011905</td>\n",
       "    </tr>\n",
       "    <tr>\n",
       "      <th>24974</th>\n",
       "      <td>/Users/r0b03m2/Desktop/Work/braincorp_data/que...</td>\n",
       "      <td>4810554</td>\n",
       "      <td>query</td>\n",
       "      <td>469.0</td>\n",
       "      <td>4810554.0</td>\n",
       "      <td>1.000000</td>\n",
       "      <td>4.447191e-11</td>\n",
       "      <td>1.472040e-16</td>\n",
       "      <td>1.034359e-16</td>\n",
       "      <td>1.754670e-18</td>\n",
       "      <td>...</td>\n",
       "      <td>54246729.0</td>\n",
       "      <td>50553539.0</td>\n",
       "      <td>45695494.0</td>\n",
       "      <td>44897.0</td>\n",
       "      <td>11537.0</td>\n",
       "      <td>Grocer_res34_s1_q2_k80_onlyref_ref1.5k</td>\n",
       "      <td>False</td>\n",
       "      <td>False</td>\n",
       "      <td>0.0</td>\n",
       "      <td>0.011905</td>\n",
       "    </tr>\n",
       "    <tr>\n",
       "      <th>24975</th>\n",
       "      <td>/Users/r0b03m2/Desktop/Work/braincorp_data/que...</td>\n",
       "      <td>4810554</td>\n",
       "      <td>query</td>\n",
       "      <td>469.0</td>\n",
       "      <td>4810554.0</td>\n",
       "      <td>0.997320</td>\n",
       "      <td>2.676460e-03</td>\n",
       "      <td>2.822676e-06</td>\n",
       "      <td>2.318528e-07</td>\n",
       "      <td>2.763629e-08</td>\n",
       "      <td>...</td>\n",
       "      <td>11537.0</td>\n",
       "      <td>44897.0</td>\n",
       "      <td>50553539.0</td>\n",
       "      <td>54246729.0</td>\n",
       "      <td>53977377.0</td>\n",
       "      <td>Grocer_res34_s1_q2_k80_onlyref_ref1.5k</td>\n",
       "      <td>False</td>\n",
       "      <td>False</td>\n",
       "      <td>0.0</td>\n",
       "      <td>0.011905</td>\n",
       "    </tr>\n",
       "    <tr>\n",
       "      <th>24976</th>\n",
       "      <td>/Users/r0b03m2/Desktop/Work/braincorp_data/que...</td>\n",
       "      <td>4810554</td>\n",
       "      <td>query</td>\n",
       "      <td>469.0</td>\n",
       "      <td>4810554.0</td>\n",
       "      <td>1.000000</td>\n",
       "      <td>3.758789e-07</td>\n",
       "      <td>3.471703e-08</td>\n",
       "      <td>2.400619e-13</td>\n",
       "      <td>1.001366e-14</td>\n",
       "      <td>...</td>\n",
       "      <td>50553539.0</td>\n",
       "      <td>54286058.0</td>\n",
       "      <td>11537.0</td>\n",
       "      <td>44897.0</td>\n",
       "      <td>53977377.0</td>\n",
       "      <td>Grocer_res34_s1_q2_k80_onlyref_ref1.5k</td>\n",
       "      <td>False</td>\n",
       "      <td>False</td>\n",
       "      <td>0.0</td>\n",
       "      <td>0.011905</td>\n",
       "    </tr>\n",
       "    <tr>\n",
       "      <th>24977</th>\n",
       "      <td>/Users/r0b03m2/Desktop/Work/braincorp_data/que...</td>\n",
       "      <td>4810554</td>\n",
       "      <td>query</td>\n",
       "      <td>469.0</td>\n",
       "      <td>4810554.0</td>\n",
       "      <td>0.833009</td>\n",
       "      <td>1.669912e-01</td>\n",
       "      <td>2.036247e-07</td>\n",
       "      <td>1.879514e-10</td>\n",
       "      <td>1.554963e-16</td>\n",
       "      <td>...</td>\n",
       "      <td>54286058.0</td>\n",
       "      <td>52962255.0</td>\n",
       "      <td>53541930.0</td>\n",
       "      <td>54373924.0</td>\n",
       "      <td>53977377.0</td>\n",
       "      <td>Grocer_res34_s1_q2_k80_onlyref_ref1.5k</td>\n",
       "      <td>False</td>\n",
       "      <td>False</td>\n",
       "      <td>0.0</td>\n",
       "      <td>0.011905</td>\n",
       "    </tr>\n",
       "  </tbody>\n",
       "</table>\n",
       "<p>5 rows × 21 columns</p>\n",
       "</div>"
      ],
      "text/plain": [
       "                                                   fpath  category   type  \\\n",
       "24973  /Users/r0b03m2/Desktop/Work/braincorp_data/que...   4810554  query   \n",
       "24974  /Users/r0b03m2/Desktop/Work/braincorp_data/que...   4810554  query   \n",
       "24975  /Users/r0b03m2/Desktop/Work/braincorp_data/que...   4810554  query   \n",
       "24976  /Users/r0b03m2/Desktop/Work/braincorp_data/que...   4810554  query   \n",
       "24977  /Users/r0b03m2/Desktop/Work/braincorp_data/que...   4810554  query   \n",
       "\n",
       "       label_id     actual  top_prob1     top_prob2     top_prob3  \\\n",
       "24973     469.0  4810554.0   0.866038  1.331390e-01  5.237709e-04   \n",
       "24974     469.0  4810554.0   1.000000  4.447191e-11  1.472040e-16   \n",
       "24975     469.0  4810554.0   0.997320  2.676460e-03  2.822676e-06   \n",
       "24976     469.0  4810554.0   1.000000  3.758789e-07  3.471703e-08   \n",
       "24977     469.0  4810554.0   0.833009  1.669912e-01  2.036247e-07   \n",
       "\n",
       "          top_prob4     top_prob5      ...          top_cat2    top_cat3  \\\n",
       "24973  8.394374e-05  8.149164e-05      ...        45695494.0  51717510.0   \n",
       "24974  1.034359e-16  1.754670e-18      ...        54246729.0  50553539.0   \n",
       "24975  2.318528e-07  2.763629e-08      ...           11537.0     44897.0   \n",
       "24976  2.400619e-13  1.001366e-14      ...        50553539.0  54286058.0   \n",
       "24977  1.879514e-10  1.554963e-16      ...        54286058.0  52962255.0   \n",
       "\n",
       "         top_cat4    top_cat5    pred_cat  \\\n",
       "24973  53977377.0  26218152.0     11537.0   \n",
       "24974  45695494.0     44897.0     11537.0   \n",
       "24975  50553539.0  54246729.0  53977377.0   \n",
       "24976     11537.0     44897.0  53977377.0   \n",
       "24977  53541930.0  54373924.0  53977377.0   \n",
       "\n",
       "                                          exp   Flag Flag_top5 accuracy  \\\n",
       "24973  Grocer_res34_s1_q2_k80_onlyref_ref1.5k  False     False      0.0   \n",
       "24974  Grocer_res34_s1_q2_k80_onlyref_ref1.5k  False     False      0.0   \n",
       "24975  Grocer_res34_s1_q2_k80_onlyref_ref1.5k  False     False      0.0   \n",
       "24976  Grocer_res34_s1_q2_k80_onlyref_ref1.5k  False     False      0.0   \n",
       "24977  Grocer_res34_s1_q2_k80_onlyref_ref1.5k  False     False      0.0   \n",
       "\n",
       "       accuracy_Top5  \n",
       "24973       0.011905  \n",
       "24974       0.011905  \n",
       "24975       0.011905  \n",
       "24976       0.011905  \n",
       "24977       0.011905  \n",
       "\n",
       "[5 rows x 21 columns]"
      ]
     },
     "execution_count": 107,
     "metadata": {},
     "output_type": "execute_result"
    }
   ],
   "source": [
    "result_df.tail()"
   ]
  },
  {
   "cell_type": "code",
   "execution_count": 108,
   "metadata": {},
   "outputs": [],
   "source": [
    "# result_df.drop(result_df[result_df.exp == 'Grocer_res34_s1_q2_k80_epoch100'].index.values, inplace=True, axis=0)"
   ]
  },
  {
   "cell_type": "code",
   "execution_count": 109,
   "metadata": {},
   "outputs": [],
   "source": [
    "fin_df = result_df.append(query_df, ignore_index=True)"
   ]
  },
  {
   "cell_type": "code",
   "execution_count": 110,
   "metadata": {},
   "outputs": [
    {
     "data": {
      "text/html": [
       "<div>\n",
       "<style scoped>\n",
       "    .dataframe tbody tr th:only-of-type {\n",
       "        vertical-align: middle;\n",
       "    }\n",
       "\n",
       "    .dataframe tbody tr th {\n",
       "        vertical-align: top;\n",
       "    }\n",
       "\n",
       "    .dataframe thead th {\n",
       "        text-align: right;\n",
       "    }\n",
       "</style>\n",
       "<table border=\"1\" class=\"dataframe\">\n",
       "  <thead>\n",
       "    <tr style=\"text-align: right;\">\n",
       "      <th></th>\n",
       "      <th>fpath</th>\n",
       "      <th>category</th>\n",
       "      <th>type</th>\n",
       "      <th>label_id</th>\n",
       "      <th>actual</th>\n",
       "      <th>top_prob1</th>\n",
       "      <th>top_prob2</th>\n",
       "      <th>top_prob3</th>\n",
       "      <th>top_prob4</th>\n",
       "      <th>top_prob5</th>\n",
       "      <th>...</th>\n",
       "      <th>top_cat2</th>\n",
       "      <th>top_cat3</th>\n",
       "      <th>top_cat4</th>\n",
       "      <th>top_cat5</th>\n",
       "      <th>pred_cat</th>\n",
       "      <th>exp</th>\n",
       "      <th>Flag</th>\n",
       "      <th>Flag_top5</th>\n",
       "      <th>accuracy</th>\n",
       "      <th>accuracy_Top5</th>\n",
       "    </tr>\n",
       "  </thead>\n",
       "  <tbody>\n",
       "    <tr>\n",
       "      <th>26649</th>\n",
       "      <td>/Users/r0b03m2/Desktop/Work/braincorp_data/que...</td>\n",
       "      <td>4810554</td>\n",
       "      <td>query</td>\n",
       "      <td>469.0</td>\n",
       "      <td>4810554</td>\n",
       "      <td>0.999979</td>\n",
       "      <td>2.101998e-05</td>\n",
       "      <td>3.126399e-22</td>\n",
       "      <td>7.597011e-25</td>\n",
       "      <td>2.711064e-25</td>\n",
       "      <td>...</td>\n",
       "      <td>54082010</td>\n",
       "      <td>54335208</td>\n",
       "      <td>53621633</td>\n",
       "      <td>52962255</td>\n",
       "      <td>22864674</td>\n",
       "      <td>BC_res34_s1_q2_k80_ref1.5k</td>\n",
       "      <td>False</td>\n",
       "      <td>False</td>\n",
       "      <td>0.0</td>\n",
       "      <td>0.011905</td>\n",
       "    </tr>\n",
       "    <tr>\n",
       "      <th>26650</th>\n",
       "      <td>/Users/r0b03m2/Desktop/Work/braincorp_data/que...</td>\n",
       "      <td>4810554</td>\n",
       "      <td>query</td>\n",
       "      <td>469.0</td>\n",
       "      <td>4810554</td>\n",
       "      <td>1.000000</td>\n",
       "      <td>1.334678e-39</td>\n",
       "      <td>7.048655e-40</td>\n",
       "      <td>2.051961e-40</td>\n",
       "      <td>3.739079e-41</td>\n",
       "      <td>...</td>\n",
       "      <td>4928730</td>\n",
       "      <td>5558787</td>\n",
       "      <td>52962255</td>\n",
       "      <td>29539503</td>\n",
       "      <td>54082010</td>\n",
       "      <td>BC_res34_s1_q2_k80_ref1.5k</td>\n",
       "      <td>False</td>\n",
       "      <td>False</td>\n",
       "      <td>0.0</td>\n",
       "      <td>0.011905</td>\n",
       "    </tr>\n",
       "    <tr>\n",
       "      <th>26651</th>\n",
       "      <td>/Users/r0b03m2/Desktop/Work/braincorp_data/que...</td>\n",
       "      <td>4810554</td>\n",
       "      <td>query</td>\n",
       "      <td>469.0</td>\n",
       "      <td>4810554</td>\n",
       "      <td>1.000000</td>\n",
       "      <td>3.512715e-34</td>\n",
       "      <td>5.765775e-35</td>\n",
       "      <td>2.961275e-39</td>\n",
       "      <td>1.350829e-44</td>\n",
       "      <td>...</td>\n",
       "      <td>52962255</td>\n",
       "      <td>54565142</td>\n",
       "      <td>2541133</td>\n",
       "      <td>5558787</td>\n",
       "      <td>54082010</td>\n",
       "      <td>BC_res34_s1_q2_k80_ref1.5k</td>\n",
       "      <td>False</td>\n",
       "      <td>False</td>\n",
       "      <td>0.0</td>\n",
       "      <td>0.011905</td>\n",
       "    </tr>\n",
       "    <tr>\n",
       "      <th>26652</th>\n",
       "      <td>/Users/r0b03m2/Desktop/Work/braincorp_data/que...</td>\n",
       "      <td>4810554</td>\n",
       "      <td>query</td>\n",
       "      <td>469.0</td>\n",
       "      <td>4810554</td>\n",
       "      <td>1.000000</td>\n",
       "      <td>3.684585e-09</td>\n",
       "      <td>8.686305e-11</td>\n",
       "      <td>2.727947e-13</td>\n",
       "      <td>8.873255e-14</td>\n",
       "      <td>...</td>\n",
       "      <td>53621633</td>\n",
       "      <td>54082010</td>\n",
       "      <td>31020349</td>\n",
       "      <td>26137226</td>\n",
       "      <td>52962255</td>\n",
       "      <td>BC_res34_s1_q2_k80_ref1.5k</td>\n",
       "      <td>False</td>\n",
       "      <td>False</td>\n",
       "      <td>0.0</td>\n",
       "      <td>0.011905</td>\n",
       "    </tr>\n",
       "    <tr>\n",
       "      <th>26653</th>\n",
       "      <td>/Users/r0b03m2/Desktop/Work/braincorp_data/que...</td>\n",
       "      <td>4810554</td>\n",
       "      <td>query</td>\n",
       "      <td>469.0</td>\n",
       "      <td>4810554</td>\n",
       "      <td>1.000000</td>\n",
       "      <td>1.137512e-13</td>\n",
       "      <td>1.152948e-15</td>\n",
       "      <td>7.914203e-23</td>\n",
       "      <td>3.208804e-24</td>\n",
       "      <td>...</td>\n",
       "      <td>31613803</td>\n",
       "      <td>26137226</td>\n",
       "      <td>53043138</td>\n",
       "      <td>53541930</td>\n",
       "      <td>52962255</td>\n",
       "      <td>BC_res34_s1_q2_k80_ref1.5k</td>\n",
       "      <td>False</td>\n",
       "      <td>False</td>\n",
       "      <td>0.0</td>\n",
       "      <td>0.011905</td>\n",
       "    </tr>\n",
       "  </tbody>\n",
       "</table>\n",
       "<p>5 rows × 21 columns</p>\n",
       "</div>"
      ],
      "text/plain": [
       "                                                   fpath category   type  \\\n",
       "26649  /Users/r0b03m2/Desktop/Work/braincorp_data/que...  4810554  query   \n",
       "26650  /Users/r0b03m2/Desktop/Work/braincorp_data/que...  4810554  query   \n",
       "26651  /Users/r0b03m2/Desktop/Work/braincorp_data/que...  4810554  query   \n",
       "26652  /Users/r0b03m2/Desktop/Work/braincorp_data/que...  4810554  query   \n",
       "26653  /Users/r0b03m2/Desktop/Work/braincorp_data/que...  4810554  query   \n",
       "\n",
       "       label_id   actual  top_prob1     top_prob2     top_prob3     top_prob4  \\\n",
       "26649     469.0  4810554   0.999979  2.101998e-05  3.126399e-22  7.597011e-25   \n",
       "26650     469.0  4810554   1.000000  1.334678e-39  7.048655e-40  2.051961e-40   \n",
       "26651     469.0  4810554   1.000000  3.512715e-34  5.765775e-35  2.961275e-39   \n",
       "26652     469.0  4810554   1.000000  3.684585e-09  8.686305e-11  2.727947e-13   \n",
       "26653     469.0  4810554   1.000000  1.137512e-13  1.152948e-15  7.914203e-23   \n",
       "\n",
       "          top_prob5      ...        top_cat2  top_cat3  top_cat4  top_cat5  \\\n",
       "26649  2.711064e-25      ...        54082010  54335208  53621633  52962255   \n",
       "26650  3.739079e-41      ...         4928730   5558787  52962255  29539503   \n",
       "26651  1.350829e-44      ...        52962255  54565142   2541133   5558787   \n",
       "26652  8.873255e-14      ...        53621633  54082010  31020349  26137226   \n",
       "26653  3.208804e-24      ...        31613803  26137226  53043138  53541930   \n",
       "\n",
       "       pred_cat                         exp   Flag Flag_top5 accuracy  \\\n",
       "26649  22864674  BC_res34_s1_q2_k80_ref1.5k  False     False      0.0   \n",
       "26650  54082010  BC_res34_s1_q2_k80_ref1.5k  False     False      0.0   \n",
       "26651  54082010  BC_res34_s1_q2_k80_ref1.5k  False     False      0.0   \n",
       "26652  52962255  BC_res34_s1_q2_k80_ref1.5k  False     False      0.0   \n",
       "26653  52962255  BC_res34_s1_q2_k80_ref1.5k  False     False      0.0   \n",
       "\n",
       "       accuracy_Top5  \n",
       "26649       0.011905  \n",
       "26650       0.011905  \n",
       "26651       0.011905  \n",
       "26652       0.011905  \n",
       "26653       0.011905  \n",
       "\n",
       "[5 rows x 21 columns]"
      ]
     },
     "execution_count": 110,
     "metadata": {},
     "output_type": "execute_result"
    }
   ],
   "source": [
    "fin_df.tail()"
   ]
  },
  {
   "cell_type": "code",
   "execution_count": 111,
   "metadata": {},
   "outputs": [
    {
     "data": {
      "text/plain": [
       "Index(['fpath', 'category', 'type', 'label_id', 'actual', 'top_prob1',\n",
       "       'top_prob2', 'top_prob3', 'top_prob4', 'top_prob5', 'top_cat1',\n",
       "       'top_cat2', 'top_cat3', 'top_cat4', 'top_cat5', 'pred_cat', 'exp',\n",
       "       'Flag', 'Flag_top5', 'accuracy', 'accuracy_Top5'],\n",
       "      dtype='object')"
      ]
     },
     "execution_count": 111,
     "metadata": {},
     "output_type": "execute_result"
    }
   ],
   "source": [
    "fin_df.columns"
   ]
  },
  {
   "cell_type": "code",
   "execution_count": 112,
   "metadata": {},
   "outputs": [
    {
     "data": {
      "text/html": [
       "<div>\n",
       "<style scoped>\n",
       "    .dataframe tbody tr th:only-of-type {\n",
       "        vertical-align: middle;\n",
       "    }\n",
       "\n",
       "    .dataframe tbody tr th {\n",
       "        vertical-align: top;\n",
       "    }\n",
       "\n",
       "    .dataframe thead th {\n",
       "        text-align: right;\n",
       "    }\n",
       "</style>\n",
       "<table border=\"1\" class=\"dataframe\">\n",
       "  <thead>\n",
       "    <tr style=\"text-align: right;\">\n",
       "      <th></th>\n",
       "      <th>fpath</th>\n",
       "      <th>category</th>\n",
       "      <th>type</th>\n",
       "      <th>label_id</th>\n",
       "      <th>actual</th>\n",
       "      <th>top_prob1</th>\n",
       "      <th>top_prob2</th>\n",
       "      <th>top_prob3</th>\n",
       "      <th>top_prob4</th>\n",
       "      <th>top_prob5</th>\n",
       "      <th>...</th>\n",
       "      <th>top_cat2</th>\n",
       "      <th>top_cat3</th>\n",
       "      <th>top_cat4</th>\n",
       "      <th>top_cat5</th>\n",
       "      <th>pred_cat</th>\n",
       "      <th>exp</th>\n",
       "      <th>Flag</th>\n",
       "      <th>Flag_top5</th>\n",
       "      <th>accuracy</th>\n",
       "      <th>accuracy_Top5</th>\n",
       "    </tr>\n",
       "  </thead>\n",
       "  <tbody>\n",
       "    <tr>\n",
       "      <th>26649</th>\n",
       "      <td>/Users/r0b03m2/Desktop/Work/braincorp_data/que...</td>\n",
       "      <td>4810554</td>\n",
       "      <td>query</td>\n",
       "      <td>469.0</td>\n",
       "      <td>4810554</td>\n",
       "      <td>0.999979</td>\n",
       "      <td>2.101998e-05</td>\n",
       "      <td>3.126399e-22</td>\n",
       "      <td>7.597011e-25</td>\n",
       "      <td>2.711064e-25</td>\n",
       "      <td>...</td>\n",
       "      <td>54082010</td>\n",
       "      <td>54335208</td>\n",
       "      <td>53621633</td>\n",
       "      <td>52962255</td>\n",
       "      <td>22864674</td>\n",
       "      <td>BC_res34_s1_q2_k80_ref1.5k</td>\n",
       "      <td>False</td>\n",
       "      <td>False</td>\n",
       "      <td>0.0</td>\n",
       "      <td>0.011905</td>\n",
       "    </tr>\n",
       "    <tr>\n",
       "      <th>26650</th>\n",
       "      <td>/Users/r0b03m2/Desktop/Work/braincorp_data/que...</td>\n",
       "      <td>4810554</td>\n",
       "      <td>query</td>\n",
       "      <td>469.0</td>\n",
       "      <td>4810554</td>\n",
       "      <td>1.000000</td>\n",
       "      <td>1.334678e-39</td>\n",
       "      <td>7.048655e-40</td>\n",
       "      <td>2.051961e-40</td>\n",
       "      <td>3.739079e-41</td>\n",
       "      <td>...</td>\n",
       "      <td>4928730</td>\n",
       "      <td>5558787</td>\n",
       "      <td>52962255</td>\n",
       "      <td>29539503</td>\n",
       "      <td>54082010</td>\n",
       "      <td>BC_res34_s1_q2_k80_ref1.5k</td>\n",
       "      <td>False</td>\n",
       "      <td>False</td>\n",
       "      <td>0.0</td>\n",
       "      <td>0.011905</td>\n",
       "    </tr>\n",
       "    <tr>\n",
       "      <th>26651</th>\n",
       "      <td>/Users/r0b03m2/Desktop/Work/braincorp_data/que...</td>\n",
       "      <td>4810554</td>\n",
       "      <td>query</td>\n",
       "      <td>469.0</td>\n",
       "      <td>4810554</td>\n",
       "      <td>1.000000</td>\n",
       "      <td>3.512715e-34</td>\n",
       "      <td>5.765775e-35</td>\n",
       "      <td>2.961275e-39</td>\n",
       "      <td>1.350829e-44</td>\n",
       "      <td>...</td>\n",
       "      <td>52962255</td>\n",
       "      <td>54565142</td>\n",
       "      <td>2541133</td>\n",
       "      <td>5558787</td>\n",
       "      <td>54082010</td>\n",
       "      <td>BC_res34_s1_q2_k80_ref1.5k</td>\n",
       "      <td>False</td>\n",
       "      <td>False</td>\n",
       "      <td>0.0</td>\n",
       "      <td>0.011905</td>\n",
       "    </tr>\n",
       "    <tr>\n",
       "      <th>26652</th>\n",
       "      <td>/Users/r0b03m2/Desktop/Work/braincorp_data/que...</td>\n",
       "      <td>4810554</td>\n",
       "      <td>query</td>\n",
       "      <td>469.0</td>\n",
       "      <td>4810554</td>\n",
       "      <td>1.000000</td>\n",
       "      <td>3.684585e-09</td>\n",
       "      <td>8.686305e-11</td>\n",
       "      <td>2.727947e-13</td>\n",
       "      <td>8.873255e-14</td>\n",
       "      <td>...</td>\n",
       "      <td>53621633</td>\n",
       "      <td>54082010</td>\n",
       "      <td>31020349</td>\n",
       "      <td>26137226</td>\n",
       "      <td>52962255</td>\n",
       "      <td>BC_res34_s1_q2_k80_ref1.5k</td>\n",
       "      <td>False</td>\n",
       "      <td>False</td>\n",
       "      <td>0.0</td>\n",
       "      <td>0.011905</td>\n",
       "    </tr>\n",
       "    <tr>\n",
       "      <th>26653</th>\n",
       "      <td>/Users/r0b03m2/Desktop/Work/braincorp_data/que...</td>\n",
       "      <td>4810554</td>\n",
       "      <td>query</td>\n",
       "      <td>469.0</td>\n",
       "      <td>4810554</td>\n",
       "      <td>1.000000</td>\n",
       "      <td>1.137512e-13</td>\n",
       "      <td>1.152948e-15</td>\n",
       "      <td>7.914203e-23</td>\n",
       "      <td>3.208804e-24</td>\n",
       "      <td>...</td>\n",
       "      <td>31613803</td>\n",
       "      <td>26137226</td>\n",
       "      <td>53043138</td>\n",
       "      <td>53541930</td>\n",
       "      <td>52962255</td>\n",
       "      <td>BC_res34_s1_q2_k80_ref1.5k</td>\n",
       "      <td>False</td>\n",
       "      <td>False</td>\n",
       "      <td>0.0</td>\n",
       "      <td>0.011905</td>\n",
       "    </tr>\n",
       "  </tbody>\n",
       "</table>\n",
       "<p>5 rows × 21 columns</p>\n",
       "</div>"
      ],
      "text/plain": [
       "                                                   fpath category   type  \\\n",
       "26649  /Users/r0b03m2/Desktop/Work/braincorp_data/que...  4810554  query   \n",
       "26650  /Users/r0b03m2/Desktop/Work/braincorp_data/que...  4810554  query   \n",
       "26651  /Users/r0b03m2/Desktop/Work/braincorp_data/que...  4810554  query   \n",
       "26652  /Users/r0b03m2/Desktop/Work/braincorp_data/que...  4810554  query   \n",
       "26653  /Users/r0b03m2/Desktop/Work/braincorp_data/que...  4810554  query   \n",
       "\n",
       "       label_id   actual  top_prob1     top_prob2     top_prob3     top_prob4  \\\n",
       "26649     469.0  4810554   0.999979  2.101998e-05  3.126399e-22  7.597011e-25   \n",
       "26650     469.0  4810554   1.000000  1.334678e-39  7.048655e-40  2.051961e-40   \n",
       "26651     469.0  4810554   1.000000  3.512715e-34  5.765775e-35  2.961275e-39   \n",
       "26652     469.0  4810554   1.000000  3.684585e-09  8.686305e-11  2.727947e-13   \n",
       "26653     469.0  4810554   1.000000  1.137512e-13  1.152948e-15  7.914203e-23   \n",
       "\n",
       "          top_prob5      ...        top_cat2  top_cat3  top_cat4  top_cat5  \\\n",
       "26649  2.711064e-25      ...        54082010  54335208  53621633  52962255   \n",
       "26650  3.739079e-41      ...         4928730   5558787  52962255  29539503   \n",
       "26651  1.350829e-44      ...        52962255  54565142   2541133   5558787   \n",
       "26652  8.873255e-14      ...        53621633  54082010  31020349  26137226   \n",
       "26653  3.208804e-24      ...        31613803  26137226  53043138  53541930   \n",
       "\n",
       "       pred_cat                         exp   Flag Flag_top5 accuracy  \\\n",
       "26649  22864674  BC_res34_s1_q2_k80_ref1.5k  False     False      0.0   \n",
       "26650  54082010  BC_res34_s1_q2_k80_ref1.5k  False     False      0.0   \n",
       "26651  54082010  BC_res34_s1_q2_k80_ref1.5k  False     False      0.0   \n",
       "26652  52962255  BC_res34_s1_q2_k80_ref1.5k  False     False      0.0   \n",
       "26653  52962255  BC_res34_s1_q2_k80_ref1.5k  False     False      0.0   \n",
       "\n",
       "       accuracy_Top5  \n",
       "26649       0.011905  \n",
       "26650       0.011905  \n",
       "26651       0.011905  \n",
       "26652       0.011905  \n",
       "26653       0.011905  \n",
       "\n",
       "[5 rows x 21 columns]"
      ]
     },
     "execution_count": 112,
     "metadata": {},
     "output_type": "execute_result"
    }
   ],
   "source": [
    "fin_df.tail()"
   ]
  },
  {
   "cell_type": "code",
   "execution_count": 118,
   "metadata": {},
   "outputs": [],
   "source": [
    "fin_df['exp']=fin_df.exp.map({'dummy':'dummy', 'Grocer_res34_s1_q2_k80_e101_ref1.5k' : 'GP_185refqcls_ref1.5k',\n",
    "       'Grocer_res34_s1_q2_k80_e101': 'GP_185refqcls', 'res_untrained':'res_untrained',\n",
    "       'Grocer_res34_s1_q2_k80_nonq7.8k_epoch100':       'GP_nonq7.8k',\n",
    "       'Grocer_res34_s1_q2_k80_nonq7.6k_epoch100':       'GP_nonq7.6k',\n",
    "       'Grocer_res34_s1_q2_k80_onlyref2.5k_epoch100':       'GP_onlyref2.5k',\n",
    "       'Grocer_res34_s1_q2_k80_onlyrefhard_epoch100':       'GP_onlyrefhard',\n",
    "       'Grocer_res34_s1_q2_k80_onlyref_epoch100':'GP_onlyref', \n",
    "        'res_untrained_ref1.5k':        'res_untrained_ref1.5k',\n",
    "       'Grocer_res34_s1_q2_k80_nonq7.8k_ref1.5k':       'GP_nonq7.8k_ref1.5k',\n",
    "       'Grocer_res34_s1_q2_k80_nonq7.6k_ref1.5k':       'GP_nonq7.6k_ref1.5k',\n",
    "       'Grocer_res34_s1_q2_k80_onlyref2.5k_ref1.5k':       'GP_onlyref2.5k_ref1.5k',\n",
    "       'Grocer_res34_s1_q2_k80_onlyrefhard_ref1.5k':       'GP_onlyrefhard_ref1.5k',\n",
    "       'Grocer_res34_s1_q2_k80_onlyref_ref1.5k':       'GP_onlyref_ref1.5k',\n",
    "       'BC_res34_s1_q2_k80_ref1.5k':       'BC_onlyref1.5k'})"
   ]
  },
  {
   "cell_type": "code",
   "execution_count": 126,
   "metadata": {},
   "outputs": [],
   "source": [
    "fin_df.to_csv('results/bc_proto_results.csv', index=False)"
   ]
  },
  {
   "cell_type": "code",
   "execution_count": 226,
   "metadata": {},
   "outputs": [],
   "source": [
    "# fin_df['exp'] = fin_df.exp.map(lambda x : x.replace('_only37', '').replace('.pth',''))"
   ]
  },
  {
   "cell_type": "code",
   "execution_count": 230,
   "metadata": {},
   "outputs": [
    {
     "data": {
      "text/plain": [
       "array(['dummy', 'Grocer_res34_s1_q2_k80_e101', 'res_untrained',\n",
       "       'Grocer_res34_s1_q2_k80_nonq7.8k_epoch100',\n",
       "       'Grocer_res34_s1_q2_k80_nonq7.6k_epoch100',\n",
       "       'Grocer_res34_s1_q2_k80_onlyref2.5k_epoch100',\n",
       "       'Grocer_res34_s1_q2_k80_onlyrefhard_epoch100',\n",
       "       'Grocer_res34_s1_q2_k80_onlyref_epoch100'], dtype=object)"
      ]
     },
     "execution_count": 230,
     "metadata": {},
     "output_type": "execute_result"
    }
   ],
   "source": [
    "fin_df.exp.unique()"
   ]
  },
  {
   "cell_type": "markdown",
   "metadata": {},
   "source": [
    "#### Topn Accuracy"
   ]
  },
  {
   "cell_type": "code",
   "execution_count": 64,
   "metadata": {},
   "outputs": [
    {
     "name": "stdout",
     "output_type": "stream",
     "text": [
      "0.25059665871121717 0.3585918854415274 0.8550119331742243\n"
     ]
    }
   ],
   "source": [
    "topn = 500\n",
    "\n",
    "topnlabels = np.argsort(-test_dists, axis=1)[:, :topn] #- is to sort in descending order\n",
    "\n",
    "topnpreds = [test_dists[i][topnlabels[i]] for i in range(test_dists.shape[0])]\n",
    "topnprobs = [test_probs[i][topnlabels[i]] for i in range(test_dists.shape[0])]\n",
    "\n",
    "topnprobs = np.array(topnprobs)\n",
    "topnpreds = np.array(topnpreds)\n",
    "\n",
    "for i in range(topn):\n",
    "    query_df[f'top_prob'+str(i+1)] = topnprobs[:, i]\n",
    "\n",
    "for i in range(topn):\n",
    "    query_df[f'top_cat'+str(i+1)] = le.inverse_transform(topnlabels[:, i])\n",
    "\n",
    "topn_cols = [f'top_cat{i+1}' for i in range(topn)]\n",
    "query_df['Flag_topn'] = query_df.apply(lambda x: x['actual'] in x[topn_cols].values, axis=1)\n",
    "\n",
    "print(query_df.Flag.mean(), query_df.Flag_top5.mean(), query_df.Flag_topn.mean())"
   ]
  },
  {
   "cell_type": "code",
   "execution_count": null,
   "metadata": {},
   "outputs": [],
   "source": []
  },
  {
   "cell_type": "code",
   "execution_count": null,
   "metadata": {},
   "outputs": [],
   "source": []
  },
  {
   "cell_type": "code",
   "execution_count": null,
   "metadata": {},
   "outputs": [],
   "source": []
  },
  {
   "cell_type": "code",
   "execution_count": 87,
   "metadata": {},
   "outputs": [
    {
     "data": {
      "text/plain": [
       "array(['dummy', 'Grocer_res34_s1_q2_k80_e101_ref1.5k',\n",
       "       'Grocer_res34_s1_q2_k80_e101', 'res_untrained',\n",
       "       'Grocer_res34_s1_q2_k80_nonq7.8k_epoch100',\n",
       "       'Grocer_res34_s1_q2_k80_nonq7.6k_epoch100',\n",
       "       'Grocer_res34_s1_q2_k80_onlyref2.5k_epoch100',\n",
       "       'Grocer_res34_s1_q2_k80_onlyrefhard_epoch100',\n",
       "       'Grocer_res34_s1_q2_k80_onlyref_epoch100', 'res_untrained_ref1.5k',\n",
       "       'Grocer_res34_s1_q2_k80_nonq7.8k_ref1.5k'], dtype=object)"
      ]
     },
     "execution_count": 87,
     "metadata": {},
     "output_type": "execute_result"
    }
   ],
   "source": [
    "fin_df.exp.unique()"
   ]
  },
  {
   "cell_type": "code",
   "execution_count": 90,
   "metadata": {},
   "outputs": [
    {
     "data": {
      "text/plain": [
       "array(['Grocer_res34_s1_q2_k80_nonq7.6k_epoch100',\n",
       "       'Grocer_res34_s1_q2_k80_onlyref2.5k_epoch100',\n",
       "       'Grocer_res34_s1_q2_k80_onlyrefhard_epoch100',\n",
       "       'Grocer_res34_s1_q2_k80_onlyref_epoch100'], dtype=object)"
      ]
     },
     "execution_count": 90,
     "metadata": {},
     "output_type": "execute_result"
    }
   ],
   "source": [
    "fin_df.exp.unique()[5:-2]"
   ]
  },
  {
   "cell_type": "code",
   "execution_count": 93,
   "metadata": {},
   "outputs": [
    {
     "name": "stdout",
     "output_type": "stream",
     "text": [
      "Grocer_res34_s1_q2_k80_nonq7.6k_ref1.5k\n",
      "Test samples: 1676.\n"
     ]
    },
    {
     "name": "stderr",
     "output_type": "stream",
     "text": [
      "100%|██████████| 6/6 [00:06<00:00,  1.02s/it]\n",
      "2020-04-22 19:01:36,473 dlcliche.utils make_prototypes [INFO]: Making new prototypes.\n",
      "100%|██████████| 7/7 [00:05<00:00,  1.39it/s]\n",
      "100%|██████████| 1676/1676 [00:17<00:00, 93.69it/s]\n"
     ]
    },
    {
     "name": "stdout",
     "output_type": "stream",
     "text": [
      "0.2022673031026253 0.3192124105011933\n",
      "Grocer_res34_s1_q2_k80_onlyref2.5k_ref1.5k\n",
      "Test samples: 1676.\n"
     ]
    },
    {
     "name": "stderr",
     "output_type": "stream",
     "text": [
      "100%|██████████| 6/6 [00:06<00:00,  1.08s/it]\n",
      "2020-04-22 19:02:24,926 dlcliche.utils make_prototypes [INFO]: Making new prototypes.\n",
      "100%|██████████| 7/7 [00:05<00:00,  1.40it/s]\n",
      "100%|██████████| 1676/1676 [00:17<00:00, 93.59it/s]\n"
     ]
    },
    {
     "name": "stdout",
     "output_type": "stream",
     "text": [
      "0.19391408114558473 0.3383054892601432\n",
      "Grocer_res34_s1_q2_k80_onlyrefhard_ref1.5k\n",
      "Test samples: 1676.\n"
     ]
    },
    {
     "name": "stderr",
     "output_type": "stream",
     "text": [
      "100%|██████████| 6/6 [00:06<00:00,  1.03s/it]\n",
      "2020-04-22 19:03:13,045 dlcliche.utils make_prototypes [INFO]: Making new prototypes.\n",
      "100%|██████████| 7/7 [00:05<00:00,  1.41it/s]\n",
      "100%|██████████| 1676/1676 [00:17<00:00, 94.63it/s]\n"
     ]
    },
    {
     "name": "stdout",
     "output_type": "stream",
     "text": [
      "0.20107398568019094 0.3168257756563246\n",
      "Grocer_res34_s1_q2_k80_onlyref_ref1.5k\n",
      "Test samples: 1676.\n"
     ]
    },
    {
     "name": "stderr",
     "output_type": "stream",
     "text": [
      "100%|██████████| 6/6 [00:06<00:00,  1.04s/it]\n",
      "2020-04-22 19:04:01,085 dlcliche.utils make_prototypes [INFO]: Making new prototypes.\n",
      "100%|██████████| 7/7 [00:05<00:00,  1.41it/s]\n",
      "100%|██████████| 1676/1676 [00:17<00:00, 94.03it/s]\n"
     ]
    },
    {
     "name": "stdout",
     "output_type": "stream",
     "text": [
      "0.19033412887828163 0.26968973747016706\n"
     ]
    }
   ],
   "source": [
    "for i in ['Grocer_res34_s1_q2_k80_nonq7.6k_epoch100',\n",
    "       'Grocer_res34_s1_q2_k80_onlyref2.5k_epoch100',\n",
    "       'Grocer_res34_s1_q2_k80_onlyrefhard_epoch100',\n",
    "       'Grocer_res34_s1_q2_k80_onlyref_epoch100']:\n",
    "    args.param_str = i.replace('_epoch100','')\n",
    "    # exp = f'{args.param_str}_epoch{args.n_epochs}' + '_ref1.5k'\n",
    "    exp = i.replace('_epoch100','')+'_ref1.5k'\n",
    "    print(exp)\n",
    "    get_model_fn=get_resnet34\n",
    "    weight_file = f'models/{args.param_str}_e{args.n_epochs+1}.pth'\n",
    "    output_path='results'\n",
    "\n",
    "\n",
    "    DATA_PATH = '/home/raghava_balusu_walmartlabs_com/Work/oneshotml/data/braincorp_data/'\n",
    "\n",
    "    SZ=256\n",
    "    device='cuda'\n",
    "    train_csv=DATA_PATH+'/train.csv'\n",
    "    data_train = DATA_PATH\n",
    "    data_test  = DATA_PATH\n",
    "    data_type='normal'\n",
    "    normalize='imagenet'\n",
    "    N_TTA=0\n",
    "    part=0\n",
    "    n_part=1\n",
    "\n",
    "    weight_file = Path(weight_file)\n",
    "    output_path = Path(output_path)\n",
    "    ensure_folder(output_path)\n",
    "\n",
    "    ref = [i for i in list(Path('/home/raghava_balusu_walmartlabs_com/Work/oneshotml/data/braincorp_data/ref_img').glob('*/*.png'))]\n",
    "    aisle = [i for i in list(Path('/home/raghava_balusu_walmartlabs_com/Work/oneshotml/data/braincorp_data/ref_38').glob('*/*.png'))]\n",
    "    # ref = aisle\n",
    "\n",
    "    proto_df = pd.DataFrame({'image_path' : [str(i) for i in ref], 'label' : [i.parent.name for i in ref]})\n",
    "    proto_df['type'] = 'reference'\n",
    "\n",
    "    le = LabelEncoder()\n",
    "    proto_df['label_id'] = le.fit_transform(proto_df.label)\n",
    "\n",
    "    proto_df.head()\n",
    "\n",
    "    query_df = pd.read_csv('/home/raghava_balusu_walmartlabs_com/Work/oneshotml/data/braincorp_data/img_to_labels.csv', index_col=0)\n",
    "\n",
    "    query_df.columns = ['image_path', 'label']\n",
    "\n",
    "    query_df['image_path'] = query_df.image_path.map(lambda x : '/home/raghava_balusu_walmartlabs_com/Work/oneshotml/data/braincorp_data/query_images/' + x)\n",
    "\n",
    "    item_mapping = {'1' : '54629736', '2' : '54481233', '3' : '3572171', '4' : '5558787', '5' : '4810550', '6' : '29566609', '7' : '100000000', '8':'4810554', '9' :'23296492','10':'22965966','11' :'100000010', '12' : '53798269', '13' : '100000001', '14':'5186005','15' :'23296489', '16':'38957303','17':'37989538', '18' :'5401467', '19' :'4385267', '20':'5142520','21':'53419173','22':'54747442','23':'53197162','24':'5262834','25':'54217299','26':'42430527','27':'6986914','28':'50563145','29':'100000003','30':'53564608','31':'100000004','32':'100000005','33':'100000006','34':'54271401','35':'100000007','36':'53621633','37':'53798262','38':'31525622','39':'53537941','40':'54739328','41':'52867343','42':'54003387','43':'54565142'}\n",
    "    remove_lst = ['junk', '1', '7', '13', '29', '31', '32', '33', '35', '11']\n",
    "\n",
    "    query_df = query_df[-query_df.label.isin(remove_lst)].reset_index(drop=True)\n",
    "\n",
    "    query_df['label'] = query_df.label.map(lambda x : item_mapping[x])\n",
    "\n",
    "    query_df['type'] = 'query'\n",
    "    query_df['label_id'] = le.transform(query_df.label.values)\n",
    "\n",
    "    query_df.head()\n",
    "\n",
    "    data_train = '/'\n",
    "\n",
    "    print(f'Test samples: {len(query_df)}.')\n",
    "\n",
    "    # Making dataloaders\n",
    "    def get_dl(df, folder, SZ=SZ, batch_size=256, augment='test', normalize='imagenet'):\n",
    "        if data_type == 'normal':\n",
    "            ds = GrocerImages_plus(folder, df, re_size=SZ, to_size=SZ,\n",
    "                                 augment=augment, normalize=normalize, part=part, n_part=n_part)\n",
    "        else:\n",
    "            raise ValueError('invalid data type')\n",
    "        dl = DataLoader(ds, batch_size=batch_size, shuffle=False, num_workers=8)\n",
    "        return dl\n",
    "\n",
    "    # 1. NORMAL RESULT\n",
    "    # Make prototypes\n",
    "    trn_dl = get_dl(proto_df, data_train)\n",
    "    # model = feature_model\n",
    "    model = get_model_fn(device=device, weight_file=weight_file)\n",
    "    proto_net = ExtModelProtoNetClf(model, trn_dl.dataset.classes, device)\n",
    "    proto_net.make_prototypes(trn_dl)\n",
    "\n",
    "    data_test='/'\n",
    "\n",
    "    # Calculate distances\n",
    "    test_dl = get_dl(query_df, data_test, batch_size=256)\n",
    "    test_embs, gts = proto_net.get_embeddings(test_dl)\n",
    "    test_dists = proto_net.predict_embeddings(test_embs, softmax=False) #Distance are already negated so dist shub b high now\n",
    "\n",
    "    from scipy.special import softmax\n",
    "    test_probs = softmax(test_dists, axis=1)\n",
    "    prototypes = np.array([x.mean() for x in proto_net.prototypes])\n",
    "\n",
    "    (np.argsort(test_dists, axis=1)[:, :5] == np.argsort(test_probs, axis=1)[:, :5]).mean()\n",
    "\n",
    "    top5labels = np.argsort(-test_dists, axis=1)[:, :5] #- is to sort in descending order\n",
    "\n",
    "    top5preds = [test_dists[i][top5labels[i]] for i in range(test_dists.shape[0])]\n",
    "    top5probs = [test_probs[i][top5labels[i]] for i in range(test_dists.shape[0])]\n",
    "\n",
    "    top5probs = np.array(top5probs)\n",
    "    top5preds = np.array(top5preds)\n",
    "\n",
    "    query_df.columns\n",
    "\n",
    "    query_df.columns = ['fpath', 'category', 'type', 'label_id']\n",
    "\n",
    "    query_df['actual'] = query_df['category']\n",
    "\n",
    "    for i in range(5):\n",
    "        query_df[f'top_prob'+str(i+1)] = top5probs[:, i]\n",
    "\n",
    "    for i in range(5):\n",
    "        query_df[f'top_cat'+str(i+1)] = le.inverse_transform(top5labels[:, i])\n",
    "\n",
    "    query_df['pred_cat'] = query_df['top_cat1']\n",
    "\n",
    "    query_df['exp'] = exp\n",
    "\n",
    "    query_df.head()\n",
    "\n",
    "    query_df['fpath'] = query_df.fpath.map(lambda x : '/Users/r0b03m2/Desktop/Work/braincorp_data/query_images/' + Path(x).name)\n",
    "\n",
    "    query_df['Flag'] = query_df.apply(lambda x: x['actual'] == x['pred_cat'], axis=1)\n",
    "\n",
    "    query_df['Flag_top5'] = query_df.apply(lambda x: x['actual'] in x[['top_cat1', 'top_cat2', 'top_cat3', 'top_cat4', 'top_cat5']].values, axis=1)\n",
    "\n",
    "    print(query_df.Flag.mean(), query_df.Flag_top5.mean())\n",
    "\n",
    "    temp = query_df.groupby(['exp', 'category'])['Flag'].mean().reset_index()\n",
    "    temp.columns = ['exp', 'category', 'accuracy']\n",
    "    query_df = query_df.merge(temp, how='left', on=['exp', 'category'])\n",
    "\n",
    "    temp = query_df.groupby(['exp', 'category'])['Flag_top5'].mean().reset_index()\n",
    "    temp.columns = ['exp', 'category', 'accuracy_Top5']\n",
    "    query_df = query_df.merge(temp, how='left', on=['exp', 'category'])\n",
    "\n",
    "    query_df.head()\n",
    "\n",
    "    # bc_proto_results = pd.DataFrame({'fpath':[str(i).replace('/home/raghava_balusu_walmartlabs_com/Work/oneshotml/data/braincorp_data', '/Users/r0b03m2/Desktop/Work/braincorp_data') for i in ref],\n",
    "    #               'category' : [i.parent.name for i in ref],\n",
    "    #               'exp': ['dummy' for i in range(len(ref))]})\n",
    "\n",
    "    # bc_proto_results.head()\n",
    "\n",
    "    result_df = pd.read_csv('results/bc_proto_results.csv')\n",
    "    # result_df = bc_proto_results\n",
    "\n",
    "    result_df.tail()\n",
    "\n",
    "    # result_df.drop(result_df[result_df.exp == 'Grocer_res34_s1_q2_k80_epoch100'].index.values, inplace=True, axis=0)\n",
    "\n",
    "    fin_df = result_df.append(query_df, ignore_index=True)\n",
    "\n",
    "    fin_df.tail()\n",
    "\n",
    "    fin_df.to_csv('results/bc_proto_results.csv', index=False)"
   ]
  },
  {
   "cell_type": "code",
   "execution_count": null,
   "metadata": {},
   "outputs": [],
   "source": []
  }
 ],
 "metadata": {
  "kernelspec": {
   "display_name": "proto",
   "language": "python",
   "name": "proto"
  },
  "language_info": {
   "codemirror_mode": {
    "name": "ipython",
    "version": 3
   },
   "file_extension": ".py",
   "mimetype": "text/x-python",
   "name": "python",
   "nbconvert_exporter": "python",
   "pygments_lexer": "ipython3",
   "version": "3.6.10"
  }
 },
 "nbformat": 4,
 "nbformat_minor": 2
}
