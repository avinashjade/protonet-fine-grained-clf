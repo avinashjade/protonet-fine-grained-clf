{
 "cells": [
  {
   "cell_type": "markdown",
   "metadata": {},
   "source": [
    "### Imports"
   ]
  },
  {
   "cell_type": "code",
   "execution_count": 1,
   "metadata": {},
   "outputs": [],
   "source": [
    "from dlcliche.image import *\n",
    "sys.path.append('..') # app\n",
    "sys.path.append('../..') # root\n",
    "from easydict import EasyDict\n",
    "from app_utils_clf import *\n",
    "from whale_utils import *\n",
    "from sklearn.preprocessing import LabelEncoder\n",
    "from torch.utils.data import Sampler\n",
    "import seaborn as sns"
   ]
  },
  {
   "cell_type": "markdown",
   "metadata": {},
   "source": [
    "### Parameters"
   ]
  },
  {
   "cell_type": "code",
   "execution_count": 2,
   "metadata": {},
   "outputs": [],
   "source": [
    "args = EasyDict()\n",
    "args.distance = 'l2'\n",
    "args.n_train = 1\n",
    "args.n_test = 1\n",
    "args.q_train = 2\n",
    "args.q_test = 5\n",
    "\n",
    "args.k_train = 100\n",
    "args.k_test = 34\n",
    "SZ = 256\n",
    "RE_SZ = 256\n",
    "\n",
    "args.n_epochs = 100\n",
    "args.drop_lr_every = 50\n",
    "args.lr = 1e-4\n",
    "args.init_weight = None\n",
    "\n",
    "data_train = DATA_PATH\n",
    "data_test  = DATA_PATH\n",
    "\n",
    "args.checkpoint_monitor = 'categorical_accuracy'\n",
    "args.checkpoint_period = 20"
   ]
  },
  {
   "cell_type": "markdown",
   "metadata": {},
   "source": [
    "### Dataset"
   ]
  },
  {
   "cell_type": "code",
   "execution_count": 3,
   "metadata": {},
   "outputs": [],
   "source": [
    "DATA_PATH = '/home/raghava_balusu_walmartlabs_com/Work/oneshotml/data/braincorp_data/'"
   ]
  },
  {
   "cell_type": "code",
   "execution_count": 4,
   "metadata": {},
   "outputs": [
    {
     "data": {
      "text/html": [
       "<div>\n",
       "<style scoped>\n",
       "    .dataframe tbody tr th:only-of-type {\n",
       "        vertical-align: middle;\n",
       "    }\n",
       "\n",
       "    .dataframe tbody tr th {\n",
       "        vertical-align: top;\n",
       "    }\n",
       "\n",
       "    .dataframe thead th {\n",
       "        text-align: right;\n",
       "    }\n",
       "</style>\n",
       "<table border=\"1\" class=\"dataframe\">\n",
       "  <thead>\n",
       "    <tr style=\"text-align: right;\">\n",
       "      <th></th>\n",
       "      <th>image_path</th>\n",
       "      <th>label</th>\n",
       "      <th>type</th>\n",
       "      <th>label_id</th>\n",
       "    </tr>\n",
       "  </thead>\n",
       "  <tbody>\n",
       "    <tr>\n",
       "      <th>0</th>\n",
       "      <td>/home/raghava_balusu_walmartlabs_com/Work/ones...</td>\n",
       "      <td>50038959</td>\n",
       "      <td>reference</td>\n",
       "      <td>515</td>\n",
       "    </tr>\n",
       "    <tr>\n",
       "      <th>1</th>\n",
       "      <td>/home/raghava_balusu_walmartlabs_com/Work/ones...</td>\n",
       "      <td>53425502</td>\n",
       "      <td>reference</td>\n",
       "      <td>818</td>\n",
       "    </tr>\n",
       "    <tr>\n",
       "      <th>2</th>\n",
       "      <td>/home/raghava_balusu_walmartlabs_com/Work/ones...</td>\n",
       "      <td>31184578</td>\n",
       "      <td>reference</td>\n",
       "      <td>276</td>\n",
       "    </tr>\n",
       "    <tr>\n",
       "      <th>3</th>\n",
       "      <td>/home/raghava_balusu_walmartlabs_com/Work/ones...</td>\n",
       "      <td>53132214</td>\n",
       "      <td>reference</td>\n",
       "      <td>762</td>\n",
       "    </tr>\n",
       "    <tr>\n",
       "      <th>4</th>\n",
       "      <td>/home/raghava_balusu_walmartlabs_com/Work/ones...</td>\n",
       "      <td>53050477</td>\n",
       "      <td>reference</td>\n",
       "      <td>715</td>\n",
       "    </tr>\n",
       "  </tbody>\n",
       "</table>\n",
       "</div>"
      ],
      "text/plain": [
       "                                          image_path     label       type  \\\n",
       "0  /home/raghava_balusu_walmartlabs_com/Work/ones...  50038959  reference   \n",
       "1  /home/raghava_balusu_walmartlabs_com/Work/ones...  53425502  reference   \n",
       "2  /home/raghava_balusu_walmartlabs_com/Work/ones...  31184578  reference   \n",
       "3  /home/raghava_balusu_walmartlabs_com/Work/ones...  53132214  reference   \n",
       "4  /home/raghava_balusu_walmartlabs_com/Work/ones...  53050477  reference   \n",
       "\n",
       "   label_id  \n",
       "0       515  \n",
       "1       818  \n",
       "2       276  \n",
       "3       762  \n",
       "4       715  "
      ]
     },
     "execution_count": 4,
     "metadata": {},
     "output_type": "execute_result"
    }
   ],
   "source": [
    "ref = [i for i in list(Path('/home/raghava_balusu_walmartlabs_com/Work/oneshotml/data/braincorp_data/ref_img').glob('*/*.png'))]\n",
    "aisle = [i for i in list(Path('/home/raghava_balusu_walmartlabs_com/Work/oneshotml/data/braincorp_data/ref_38').glob('*/*.png'))]\n",
    "# ref = aisle\n",
    "\n",
    "proto_df = pd.DataFrame({'image_path' : [str(i) for i in ref], 'label' : [i.parent.name for i in ref]})\n",
    "proto_df['type'] = 'reference'\n",
    "\n",
    "le = LabelEncoder()\n",
    "proto_df['label_id'] = le.fit_transform(proto_df.label)\n",
    "\n",
    "proto_df.head()"
   ]
  },
  {
   "cell_type": "code",
   "execution_count": 5,
   "metadata": {},
   "outputs": [
    {
     "data": {
      "text/html": [
       "<div>\n",
       "<style scoped>\n",
       "    .dataframe tbody tr th:only-of-type {\n",
       "        vertical-align: middle;\n",
       "    }\n",
       "\n",
       "    .dataframe tbody tr th {\n",
       "        vertical-align: top;\n",
       "    }\n",
       "\n",
       "    .dataframe thead th {\n",
       "        text-align: right;\n",
       "    }\n",
       "</style>\n",
       "<table border=\"1\" class=\"dataframe\">\n",
       "  <thead>\n",
       "    <tr style=\"text-align: right;\">\n",
       "      <th></th>\n",
       "      <th>image_path</th>\n",
       "      <th>label</th>\n",
       "      <th>type</th>\n",
       "      <th>label_id</th>\n",
       "    </tr>\n",
       "  </thead>\n",
       "  <tbody>\n",
       "    <tr>\n",
       "      <th>0</th>\n",
       "      <td>/home/raghava_balusu_walmartlabs_com/Work/ones...</td>\n",
       "      <td>5558787</td>\n",
       "      <td>query</td>\n",
       "      <td>1410</td>\n",
       "    </tr>\n",
       "    <tr>\n",
       "      <th>1</th>\n",
       "      <td>/home/raghava_balusu_walmartlabs_com/Work/ones...</td>\n",
       "      <td>5558787</td>\n",
       "      <td>query</td>\n",
       "      <td>1410</td>\n",
       "    </tr>\n",
       "    <tr>\n",
       "      <th>2</th>\n",
       "      <td>/home/raghava_balusu_walmartlabs_com/Work/ones...</td>\n",
       "      <td>5558787</td>\n",
       "      <td>query</td>\n",
       "      <td>1410</td>\n",
       "    </tr>\n",
       "    <tr>\n",
       "      <th>3</th>\n",
       "      <td>/home/raghava_balusu_walmartlabs_com/Work/ones...</td>\n",
       "      <td>5558787</td>\n",
       "      <td>query</td>\n",
       "      <td>1410</td>\n",
       "    </tr>\n",
       "    <tr>\n",
       "      <th>4</th>\n",
       "      <td>/home/raghava_balusu_walmartlabs_com/Work/ones...</td>\n",
       "      <td>5558787</td>\n",
       "      <td>query</td>\n",
       "      <td>1410</td>\n",
       "    </tr>\n",
       "  </tbody>\n",
       "</table>\n",
       "</div>"
      ],
      "text/plain": [
       "                                          image_path    label   type  label_id\n",
       "0  /home/raghava_balusu_walmartlabs_com/Work/ones...  5558787  query      1410\n",
       "1  /home/raghava_balusu_walmartlabs_com/Work/ones...  5558787  query      1410\n",
       "2  /home/raghava_balusu_walmartlabs_com/Work/ones...  5558787  query      1410\n",
       "3  /home/raghava_balusu_walmartlabs_com/Work/ones...  5558787  query      1410\n",
       "4  /home/raghava_balusu_walmartlabs_com/Work/ones...  5558787  query      1410"
      ]
     },
     "execution_count": 5,
     "metadata": {},
     "output_type": "execute_result"
    }
   ],
   "source": [
    "query_df = pd.read_csv('/home/raghava_balusu_walmartlabs_com/Work/oneshotml/data/braincorp_data/img_to_labels.csv', index_col=0)\n",
    "\n",
    "query_df.columns = ['image_path', 'label']\n",
    "\n",
    "query_df['image_path'] = query_df.image_path.map(lambda x : '/home/raghava_balusu_walmartlabs_com/Work/oneshotml/data/braincorp_data/query_images/' + x)\n",
    "\n",
    "item_mapping = {'1' : '54629736', '2' : '54481233', '3' : '3572171', '4' : '5558787', '5' : '4810550', '6' : '29566609', '7' : '100000000', '8':'4810554', '9' :'23296492','10':'22965966','11' :'100000010', '12' : '53798269', '13' : '100000001', '14':'5186005','15' :'23296489', '16':'38957303','17':'37989538', '18' :'5401467', '19' :'4385267', '20':'5142520','21':'53419173','22':'54747442','23':'53197162','24':'5262834','25':'54217299','26':'42430527','27':'6986914','28':'50563145','29':'100000003','30':'53564608','31':'100000004','32':'100000005','33':'100000006','34':'54271401','35':'100000007','36':'53621633','37':'53798262','38':'31525622','39':'53537941','40':'54739328','41':'52867343','42':'54003387','43':'54565142'}\n",
    "remove_lst = ['junk', '1', '7', '13', '29', '31', '32', '33', '35', '11']\n",
    "\n",
    "query_df = query_df[-query_df.label.isin(remove_lst)].reset_index(drop=True)\n",
    "\n",
    "query_df['label'] = query_df.label.map(lambda x : item_mapping[x])\n",
    "\n",
    "query_df['type'] = 'query'\n",
    "query_df['label_id'] = le.transform(query_df.label.values)\n",
    "\n",
    "query_df.drop_duplicates(inplace=True)\n",
    "query_df.drop(query_df[query_df.image_path =='/home/raghava_balusu_walmartlabs_com/Work/oneshotml/data/braincorp_data/query_images/SamsClub6235_031020_074323_818345_4.jpg'].index.values, axis=0, inplace=True)\n",
    "query_df.reset_index(drop=True, inplace=True)\n",
    "query_df.head()"
   ]
  },
  {
   "cell_type": "code",
   "execution_count": 6,
   "metadata": {},
   "outputs": [
    {
     "data": {
      "text/plain": [
       "(1671, 4)"
      ]
     },
     "execution_count": 6,
     "metadata": {},
     "output_type": "execute_result"
    }
   ],
   "source": [
    "query_df.shape"
   ]
  },
  {
   "cell_type": "code",
   "execution_count": null,
   "metadata": {},
   "outputs": [],
   "source": []
  },
  {
   "cell_type": "code",
   "execution_count": 7,
   "metadata": {},
   "outputs": [],
   "source": [
    "refdf = proto_df.copy()\n",
    "qdf = query_df.copy()\n",
    "img_df = refdf[['image_path', 'label', 'type']].append(qdf[['image_path', 'label', 'type']], ignore_index=True)"
   ]
  },
  {
   "cell_type": "code",
   "execution_count": 8,
   "metadata": {},
   "outputs": [
    {
     "data": {
      "text/plain": [
       "(                                          image_path     label       type  \\\n",
       " 0  /home/raghava_balusu_walmartlabs_com/Work/ones...  50038959  reference   \n",
       " 1  /home/raghava_balusu_walmartlabs_com/Work/ones...  53425502  reference   \n",
       " 2  /home/raghava_balusu_walmartlabs_com/Work/ones...  31184578  reference   \n",
       " 3  /home/raghava_balusu_walmartlabs_com/Work/ones...  53132214  reference   \n",
       " 4  /home/raghava_balusu_walmartlabs_com/Work/ones...  53050477  reference   \n",
       " \n",
       "    label_id  \n",
       " 0       515  \n",
       " 1       818  \n",
       " 2       276  \n",
       " 3       762  \n",
       " 4       715  ,\n",
       "                                              image_path    label   type  \\\n",
       " 3180  /home/raghava_balusu_walmartlabs_com/Work/ones...  4810554  query   \n",
       " 3181  /home/raghava_balusu_walmartlabs_com/Work/ones...  4810554  query   \n",
       " 3182  /home/raghava_balusu_walmartlabs_com/Work/ones...  4810554  query   \n",
       " 3183  /home/raghava_balusu_walmartlabs_com/Work/ones...  4810554  query   \n",
       " 3184  /home/raghava_balusu_walmartlabs_com/Work/ones...  4810554  query   \n",
       " \n",
       "       label_id  \n",
       " 3180       469  \n",
       " 3181       469  \n",
       " 3182       469  \n",
       " 3183       469  \n",
       " 3184       469  )"
      ]
     },
     "execution_count": 8,
     "metadata": {},
     "output_type": "execute_result"
    }
   ],
   "source": [
    "le = LabelEncoder()\n",
    "img_df['label_id'] = le.fit_transform(img_df.label)\n",
    "img_df.head(), img_df.tail()"
   ]
  },
  {
   "cell_type": "code",
   "execution_count": 9,
   "metadata": {},
   "outputs": [],
   "source": [
    "trn_qimgs = qdf.groupby('label').apply(lambda x: x[:5]).reset_index(drop=True).image_path.values\n",
    "trn_qlabels = qdf[qdf.image_path.isin(trn_qimgs)].label.values"
   ]
  },
  {
   "cell_type": "code",
   "execution_count": 10,
   "metadata": {},
   "outputs": [
    {
     "data": {
      "text/plain": [
       "170"
      ]
     },
     "execution_count": 10,
     "metadata": {},
     "output_type": "execute_result"
    }
   ],
   "source": [
    "len(trn_qimgs)"
   ]
  },
  {
   "cell_type": "code",
   "execution_count": null,
   "metadata": {},
   "outputs": [],
   "source": []
  },
  {
   "cell_type": "code",
   "execution_count": 11,
   "metadata": {},
   "outputs": [],
   "source": [
    "img_df['split'] = 'train'\n",
    "\n",
    "# img_df.loc[img_df.label.isin(test_labels), 'split'] = 'valid'\n",
    "\n",
    "# For including all ref images in training and query images in valid; Will ad reference images in valid later\n",
    "img_df.loc[img_df.type == 'query', 'split'] = 'valid'\n",
    "img_df.loc[(img_df.image_path.isin(trn_qimgs)) & (img_df.type == 'query'), 'split'] = 'train'"
   ]
  },
  {
   "cell_type": "code",
   "execution_count": 12,
   "metadata": {},
   "outputs": [
    {
     "data": {
      "text/plain": [
       "train    1684\n",
       "valid    1501\n",
       "Name: split, dtype: int64"
      ]
     },
     "execution_count": 12,
     "metadata": {},
     "output_type": "execute_result"
    }
   ],
   "source": [
    "img_df.split.value_counts()"
   ]
  },
  {
   "cell_type": "code",
   "execution_count": 13,
   "metadata": {},
   "outputs": [],
   "source": [
    "trn_df = img_df[(img_df.split == 'train')]\n",
    "temp = img_df[(img_df.type == 'reference') & (img_df.split == 'train') & -(img_df.label.isin(query_df.label.unique()))]\n",
    "temp['type'] = 'query'\n",
    "# trn_df = trn_df.append([temp for i in range(2)], ignore_index=True).reset_index(drop=True)\n",
    "trn_df = trn_df.append([temp], ignore_index=True).reset_index(drop=True)"
   ]
  },
  {
   "cell_type": "code",
   "execution_count": 14,
   "metadata": {},
   "outputs": [
    {
     "data": {
      "text/plain": [
       "((3164, 5),\n",
       " query        1650\n",
       " reference    1514\n",
       " Name: type, dtype: int64)"
      ]
     },
     "execution_count": 14,
     "metadata": {},
     "output_type": "execute_result"
    }
   ],
   "source": [
    "trn_df.shape, trn_df.type.value_counts()"
   ]
  },
  {
   "cell_type": "code",
   "execution_count": 15,
   "metadata": {},
   "outputs": [],
   "source": [
    "val_df = img_df[img_df.label.isin(query_df.label.unique())].reset_index(drop=True)\n",
    "\n",
    "# Getting reference and query images in img_df in test_labels@7.8k \n",
    "# val_df = img_df[img_df.label.isin(test_labels)].reset_index(drop=True)"
   ]
  },
  {
   "cell_type": "code",
   "execution_count": 16,
   "metadata": {},
   "outputs": [
    {
     "data": {
      "text/plain": [
       "(1705, 5)"
      ]
     },
     "execution_count": 16,
     "metadata": {},
     "output_type": "execute_result"
    }
   ],
   "source": [
    "val_df.shape"
   ]
  },
  {
   "cell_type": "code",
   "execution_count": 17,
   "metadata": {},
   "outputs": [
    {
     "data": {
      "text/plain": [
       "query        1671\n",
       "reference      34\n",
       "Name: type, dtype: int64"
      ]
     },
     "execution_count": 17,
     "metadata": {},
     "output_type": "execute_result"
    }
   ],
   "source": [
    "val_df.type.value_counts()"
   ]
  },
  {
   "cell_type": "code",
   "execution_count": 18,
   "metadata": {},
   "outputs": [
    {
     "data": {
      "text/plain": [
       "<matplotlib.axes._subplots.AxesSubplot at 0x7f992c1bce48>"
      ]
     },
     "execution_count": 18,
     "metadata": {},
     "output_type": "execute_result"
    },
    {
     "data": {
      "image/png": "[encoded data removed]",
      "text/plain": [
       "<Figure size 432x288 with 1 Axes>"
      ]
     },
     "metadata": {
      "needs_background": "light"
     },
     "output_type": "display_data"
    }
   ],
   "source": [
    "# trn_df[trn_df.type == 'query'].label.value_counts().hist(bins=25)\n",
    "sns.distplot(trn_df[trn_df.type == 'query'].label.value_counts(), norm_hist=False, kde=False,bins=15)"
   ]
  },
  {
   "cell_type": "code",
   "execution_count": 19,
   "metadata": {},
   "outputs": [
    {
     "data": {
      "text/plain": [
       "<matplotlib.axes._subplots.AxesSubplot at 0x7f992c092ef0>"
      ]
     },
     "execution_count": 19,
     "metadata": {},
     "output_type": "execute_result"
    },
    {
     "data": {
      "image/png": "[encoded data removed]",
      "text/plain": [
       "<Figure size 432x288 with 1 Axes>"
      ]
     },
     "metadata": {
      "needs_background": "light"
     },
     "output_type": "display_data"
    }
   ],
   "source": [
    "sns.distplot(val_df[val_df.type == 'query'].label.value_counts(), norm_hist=False, kde=False, bins= 20)"
   ]
  },
  {
   "cell_type": "markdown",
   "metadata": {},
   "source": [
    "#### Datset and DataLoader"
   ]
  },
  {
   "cell_type": "code",
   "execution_count": 20,
   "metadata": {},
   "outputs": [],
   "source": [
    "args.episodes_per_epoch = roundup((trn_df[trn_df.type == 'reference'].label.nunique())/args.k_train, 1)\n",
    "args.evaluation_episodes = 100 # setting small value, anyway validation set is almost useless here"
   ]
  },
  {
   "cell_type": "code",
   "execution_count": 21,
   "metadata": {
    "code_folding": [
     0
    ]
   },
   "outputs": [],
   "source": [
    "def get_aug_custom(re_size=224, to_size=224, train=True):\n",
    "    augs = [A.Resize(height=re_size, width=re_size)]\n",
    "    if train:\n",
    "        augs.extend([\n",
    "            A.RandomCrop(height=to_size, width=to_size),\n",
    "            A.ShiftScaleRotate(shift_limit=0.1, scale_limit=0.3, rotate_limit=30, p=0.75),\n",
    "            A.RandomBrightnessContrast(brightness_limit=0.5, contrast_limit=0.5, p=0.75),\n",
    "            A.Blur(p=0.5),\n",
    "            A.Cutout(max_h_size=to_size//12, max_w_size=to_size//12, p=0.5),\n",
    "        ])\n",
    "    else:\n",
    "        augs.extend([A.CenterCrop(height=to_size, width=to_size)])\n",
    "    return A.Compose(augs + [A.Normalize()])"
   ]
  },
  {
   "cell_type": "code",
   "execution_count": 22,
   "metadata": {
    "code_folding": [
     0
    ]
   },
   "outputs": [],
   "source": [
    "def get_aug_plus_custom(re_size=224, to_size=224, augment='train', normalize='imagenet'):\n",
    "    augs = [A.Resize(height=re_size, width=re_size)]\n",
    "    if augment == 'train':\n",
    "        augs.extend([\n",
    "            A.RandomCrop(height=to_size, width=to_size),\n",
    "            A.ShiftScaleRotate(shift_limit=0.1, scale_limit=0.3, rotate_limit=30, p=0.75),\n",
    "            A.RandomBrightnessContrast(brightness_limit=0.5, contrast_limit=0.5, p=0.75),\n",
    "            A.Blur(p=0.5),\n",
    "            A.Cutout(max_h_size=to_size//12, max_w_size=to_size//12, p=0.5),\n",
    "        ])\n",
    "    elif augment == 'train_hard':\n",
    "        augs.extend([\n",
    "            A.RandomCrop(height=to_size, width=to_size),\n",
    "            A.IAAAffine(scale=1.3, translate_percent=0.2, translate_px=None,\n",
    "                                        rotate=40, shear=20),\n",
    "            A.RandomBrightnessContrast(brightness_limit=0.5, contrast_limit=0.5, p=0.75),\n",
    "            A.IAAPerspective(p=1),\n",
    "            A.IAAAdditiveGaussianNoise(p=0.2),\n",
    "            A.Blur(p=0.5),\n",
    "            A.Cutout(max_h_size=to_size//12, max_w_size=to_size//12, p=0.5),\n",
    "        ])\n",
    "    elif augment == 'test':\n",
    "        augs.extend([\n",
    "            A.CenterCrop(height=to_size, width=to_size)\n",
    "        ])\n",
    "    elif augment == 'tta':\n",
    "        augs.extend([\n",
    "            A.IAAAffine(scale=1.05, translate_percent=0.1, translate_px=None, \n",
    "                        rotate=20, shear=10),\n",
    "            A.CenterCrop(height=to_size, width=to_size),\n",
    "        ])\n",
    "    else:\n",
    "        raise Exception(f'aug level not supported: {augment}')\n",
    "    return A.Compose(augs + [A.Normalize()])"
   ]
  },
  {
   "cell_type": "code",
   "execution_count": 23,
   "metadata": {
    "code_folding": [
     0
    ]
   },
   "outputs": [],
   "source": [
    "class GrocerImages(Dataset):\n",
    "    def __init__(self, path, df, re_size=256, to_size=256, train=True):\n",
    "        self.df = df.reset_index(drop=True)\n",
    "        # Index should be same in reference and query df compared to original df\n",
    "        self.support_df = self.df[self.df.type == 'reference']\n",
    "        self.query_df = self.df[self.df.type == 'query']\n",
    "        \n",
    "        self.classes = sorted(list(set(self.support_df.label_id.values)))\n",
    "\n",
    "        self.loader = get_img_loader(path, to_gray=False)\n",
    "        self.transform = get_aug_custom(re_size=re_size, to_size=to_size, train=train)\n",
    "        self.to_tensor = transforms.ToTensor()\n",
    "\n",
    "    def __getitem__(self, item):\n",
    "        instance = self.loader(self.df.loc[item, 'image_path'])\n",
    "        instance = self.transform(image=instance)['image']\n",
    "        instance = self.to_tensor(instance)\n",
    "        label = self.df.loc[item, 'label_id']\n",
    "        return instance, label\n",
    "\n",
    "    def __len__(self):\n",
    "        return len(self.df)\n",
    "\n",
    "    def num_classes(self):\n",
    "        return len(self.cls2imgs)"
   ]
  },
  {
   "cell_type": "code",
   "execution_count": 24,
   "metadata": {
    "code_folding": [
     0
    ]
   },
   "outputs": [],
   "source": [
    "class GrocerImages_plus(GrocerImages):\n",
    "    def __init__(self, path, df, re_size=256, to_size=224, part=0, n_part=1,\n",
    "                 augment='normal', normalize='samplewise'):\n",
    "        super().__init__(path, df, re_size=re_size, to_size=to_size, train=(augment=='train'))\n",
    "        self.df = df.reset_index(drop=True)\n",
    "        # Index should be same in reference and query df compared to original df\n",
    "\n",
    "        self.transform = get_aug_plus_custom(re_size=re_size, to_size=to_size, augment=augment, normalize=normalize)\n",
    "        self.part, self.n_part = part, n_part\n",
    "\n",
    "    def __getitem__(self, item):\n",
    "        instance = self.loader(self.df.loc[item, 'image_path'])\n",
    "#         if self.n_part > 1:\n",
    "#             instance = partition_np_image(instance, self.part, n_part=self.n_part)\n",
    "        instance = self.transform(image=instance)['image']\n",
    "        instance = self.to_tensor(instance)\n",
    "        label = self.df.loc[item, 'label_id']\n",
    "        return instance, label"
   ]
  },
  {
   "cell_type": "code",
   "execution_count": 25,
   "metadata": {
    "code_folding": [
     0
    ]
   },
   "outputs": [],
   "source": [
    "class NShotTaskSampler_custom(Sampler):\n",
    "    def __init__(self, dataset, episodes_per_epoch, n, k, q):\n",
    "\n",
    "        super(NShotTaskSampler_custom, self).__init__(dataset)\n",
    "        self.episodes_per_epoch = episodes_per_epoch\n",
    "        self.dataset = dataset\n",
    "\n",
    "        # TODO: Raise errors if initialise badly\n",
    "        self.k = k\n",
    "        self.n = n\n",
    "        self.q = q\n",
    "\n",
    "    def __len__(self):\n",
    "        return self.episodes_per_epoch\n",
    "\n",
    "    def __iter__(self):\n",
    "        for _ in range(self.episodes_per_epoch):\n",
    "            batch = []\n",
    "            # Get random classes\n",
    "            support_df = self.dataset.support_df\n",
    "            query_df = self.dataset.query_df\n",
    "            episode_classes = np.random.choice(support_df['label_id'].unique(), size=self.k, replace=False)\n",
    "            \n",
    "            #df = self.dataset.df[self.dataset.df['class_id'].isin(episode_classes)]\n",
    "\n",
    "            for k in episode_classes:\n",
    "                # Select support examples\n",
    "                support = support_df[support_df['label_id'] == k].sample(self.n)\n",
    "\n",
    "                for i, s in support.iterrows():\n",
    "                    batch.append(i)\n",
    "\n",
    "            for k in episode_classes:\n",
    "                try :\n",
    "                    query = query_df[query_df['label_id'] == k].sample(self.q)\n",
    "                except:\n",
    "                    query = query_df[query_df['label_id'] == k].sample(self.q, replace=True)\n",
    "                for i, q in query.iterrows():\n",
    "                    batch.append(i)\n",
    "\n",
    "        yield np.stack(batch)"
   ]
  },
  {
   "cell_type": "code",
   "execution_count": 26,
   "metadata": {},
   "outputs": [],
   "source": [
    "# Dataloader\n",
    "background = GrocerImages_plus(path='/', df=trn_df, re_size=RE_SZ, to_size=SZ, augment='train', normalize = 'imagenet')\n",
    "background_taskloader = DataLoader(background, batch_sampler=NShotTaskSampler_custom(background, args.episodes_per_epoch, \n",
    "                            args.n_train, args.k_train, args.q_train),num_workers=8)\n",
    "\n",
    "evaluation = GrocerImages(path='/', df=val_df, re_size=RE_SZ, to_size=SZ, train=False)\n",
    "\n",
    "evaluation_taskloader = DataLoader(evaluation, \n",
    "            batch_sampler=NShotTaskSampler_custom(evaluation, args.episodes_per_epoch, args.n_test, args.k_test, args.q_test),\n",
    "    num_workers=8)"
   ]
  },
  {
   "cell_type": "markdown",
   "metadata": {},
   "source": [
    "#### Loaders Checking"
   ]
  },
  {
   "cell_type": "code",
   "execution_count": 27,
   "metadata": {},
   "outputs": [
    {
     "data": {
      "text/plain": [
       "True"
      ]
     },
     "execution_count": 27,
     "metadata": {},
     "output_type": "execute_result"
    }
   ],
   "source": [
    "x = next(iter(background_taskloader))\n",
    "\n",
    "sx = x[0][:args.k_train*args.n_train, ...]\n",
    "qx = x[0][args.k_train*args.n_train:, ...]\n",
    "\n",
    "sy = x[1][:args.k_train*args.n_train]\n",
    "qy = x[1][args.k_train*args.n_train:]\n",
    "\n",
    "sorted(sy.unique()) == sorted(qy.unique())"
   ]
  },
  {
   "cell_type": "code",
   "execution_count": 28,
   "metadata": {
    "code_folding": [
     1
    ]
   },
   "outputs": [],
   "source": [
    "%matplotlib inline\n",
    "def show(img):\n",
    "    img1 = img.numpy()\n",
    "    img1 = np.transpose(img1, (1,2,0))\n",
    "    img1 = (img1*std1) + mean1\n",
    "    #img = img*255.\n",
    "#     print(img1.shape)\n",
    "    plt.imshow(img1)#, interpolation = 'nearest')\n",
    "#     return img1\n",
    "\n",
    "mean = np.array([0.485, 0.456, 0.406])\n",
    "std = np.array([0.229, 0.224, 0.225])\n",
    "\n",
    "mean1 = mean[None, None, :]\n",
    "std1 = std[None, None, :]"
   ]
  },
  {
   "cell_type": "code",
   "execution_count": 29,
   "metadata": {},
   "outputs": [],
   "source": [
    "idx = np.random.randint(0, args.k_train)\n",
    "imgs = torch.cat((sx[sy == sy.unique()[idx], ...], qx[qy ==sy.unique()[idx], ...]), dim=0)\n",
    "\n",
    "imgs = torch.FloatTensor(imgs)"
   ]
  },
  {
   "cell_type": "code",
   "execution_count": 30,
   "metadata": {},
   "outputs": [
    {
     "data": {
      "image/png": "[encoded data removed]",
      "text/plain": [
       "<Figure size 432x288 with 1 Axes>"
      ]
     },
     "metadata": {
      "needs_background": "light"
     },
     "output_type": "display_data"
    }
   ],
   "source": [
    "show(imgs[0]); "
   ]
  },
  {
   "cell_type": "code",
   "execution_count": 31,
   "metadata": {},
   "outputs": [
    {
     "data": {
      "image/png": "[encoded data removed]",
      "text/plain": [
       "<Figure size 432x288 with 1 Axes>"
      ]
     },
     "metadata": {
      "needs_background": "light"
     },
     "output_type": "display_data"
    }
   ],
   "source": [
    "show(imgs[1]);"
   ]
  },
  {
   "cell_type": "code",
   "execution_count": 32,
   "metadata": {},
   "outputs": [
    {
     "name": "stderr",
     "output_type": "stream",
     "text": [
      "Clipping input data to the valid range for imshow with RGB data ([0..1] for floats or [0..255] for integers).\n"
     ]
    },
    {
     "data": {
      "image/png": "[encoded data removed]",
      "text/plain": [
       "<Figure size 432x288 with 1 Axes>"
      ]
     },
     "metadata": {
      "needs_background": "light"
     },
     "output_type": "display_data"
    }
   ],
   "source": [
    "show(imgs[2])"
   ]
  },
  {
   "cell_type": "markdown",
   "metadata": {},
   "source": [
    "### Modeling\n",
    "* Pretraining with retail data\n",
    "* lr_finder\n",
    "* Freeze Initial layers and train only last layers\n",
    "* fit_one_cycle\n",
    "* disriminative learning rates"
   ]
  },
  {
   "cell_type": "markdown",
   "metadata": {
    "heading_collapsed": true
   },
   "source": [
    "#### Lr_Finder"
   ]
  },
  {
   "cell_type": "code",
   "execution_count": 39,
   "metadata": {
    "hidden": true
   },
   "outputs": [
    {
     "name": "stderr",
     "output_type": "stream",
     "text": [
      "WARNING:torch_lr_finder.lr_finder:To enable mixed precision training, please install `apex`. Or you can re-install this package by the following command:\n",
      "  pip install torch-lr-finder -v --global-option=\"amp\"\n"
     ]
    }
   ],
   "source": [
    "from few_shot.proto import proto_net_episode\n",
    "from few_shot.core import prepare_nshot_task\n",
    "from torch_lr_finder import LRFinder\n",
    "from torch import optim"
   ]
  },
  {
   "cell_type": "code",
   "execution_count": 40,
   "metadata": {
    "hidden": true
   },
   "outputs": [],
   "source": [
    "from torch_lr_finder.lr_finder import DataLoaderIterWrapper"
   ]
  },
  {
   "cell_type": "code",
   "execution_count": 41,
   "metadata": {
    "hidden": true
   },
   "outputs": [],
   "source": [
    "feature_model = get_resnet34(device=device, weight_file=args.init_weight)"
   ]
  },
  {
   "cell_type": "code",
   "execution_count": 42,
   "metadata": {
    "hidden": true
   },
   "outputs": [],
   "source": [
    "criterion = torch.nn.NLLLoss()"
   ]
  },
  {
   "cell_type": "code",
   "execution_count": 43,
   "metadata": {
    "hidden": true
   },
   "outputs": [],
   "source": [
    "optimizer = optim.Adam(feature_model.parameters(), lr=1e-7)"
   ]
  },
  {
   "cell_type": "code",
   "execution_count": 44,
   "metadata": {
    "code_folding": [],
    "hidden": true
   },
   "outputs": [],
   "source": [
    "class lr_finder_proto(LRFinder):\n",
    "    \n",
    "    def __init__(self, model, optimizer, criterion, device=None, memory_cache=True, cache_dir=None):\n",
    "        super().__init__(model, optimizer, criterion, device=None, memory_cache=True, cache_dir=None)\n",
    "        self.prepare_batch = prepare_nshot_task(args.n_train, args.k_train, args.q_train)\n",
    "    \n",
    "#     def range_test(self, train_loader, val_loader=None, start_lr=None, end_lr=10, num_iter=100, step_mode=\"exp\",\n",
    "#                     smooth_f=0.05, diverge_th=5, accumulation_steps=1):\n",
    "#         super().__init__(train_loader, val_loader=None, start_lr=None, end_lr=10, num_iter=100, step_mode=\"exp\",\n",
    "#                     smooth_f=0.05, diverge_th=5, accumulation_steps=1)\n",
    "#         self.dl = DataLoaderIterWrapper(train_loader)\n",
    "    \n",
    "    def _train_batch(self, iter_wrapper, accumulation_steps):\n",
    "#         self.model.train()\n",
    "        total_loss = None  # for late initialization\n",
    "\n",
    "#         self.optimizer.zero_grad()\n",
    "        for i in range(accumulation_steps):\n",
    "            batch = iter_wrapper.get_batch()\n",
    "            inputs, labels = self.prepare_batch(batch)\n",
    "#             print(inputs.shape, labels.shape)\n",
    "            # Forward pass\n",
    "            loss, y_pred = proto_net_episode(self.model, self.optimizer, self.criterion, inputs, labels, \n",
    "                                        args.n_train, args.k_train, args.q_train, distance ='l2' ,train =True)\n",
    "            \n",
    "            # Loss should be averaged in each step\n",
    "            loss /= accumulation_steps\n",
    "\n",
    "            # Backward pass\n",
    "#             loss.backward()\n",
    "\n",
    "            if total_loss is None:\n",
    "                total_loss = loss\n",
    "            else:\n",
    "                total_loss += loss\n",
    "        \n",
    "        if len(self.history['lr'])>0:\n",
    "            print(loss, self.history[\"lr\"][-1])\n",
    "\n",
    "        return total_loss.item()\n"
   ]
  },
  {
   "cell_type": "code",
   "execution_count": 45,
   "metadata": {
    "hidden": true
   },
   "outputs": [],
   "source": [
    "lr_finder = lr_finder_proto(feature_model, optimizer, criterion, device=\"cuda\", cache_dir = 'logs')"
   ]
  },
  {
   "cell_type": "code",
   "execution_count": 46,
   "metadata": {
    "hidden": true
   },
   "outputs": [
    {
     "data": {
      "application/vnd.jupyter.widget-view+json": {
       "model_id": "b633f6f5eea046a3b7dd51d575c81dc7",
       "version_major": 2,
       "version_minor": 0
      },
      "text/plain": [
       "HBox(children=(IntProgress(value=0, max=150), HTML(value='')))"
      ]
     },
     "metadata": {},
     "output_type": "display_data"
    },
    {
     "name": "stdout",
     "output_type": "stream",
     "text": [
      "tensor(61.4375, device='cuda:0', grad_fn=<DivBackward0>) 1.1481536214968827e-07\n",
      "tensor(61.9976, device='cuda:0', grad_fn=<DivBackward0>) 1.318256738556407e-07\n",
      "tensor(71.0080, device='cuda:0', grad_fn=<DivBackward0>) 1.513561248436208e-07\n",
      "tensor(60.3957, device='cuda:0', grad_fn=<DivBackward0>) 1.7378008287493754e-07\n",
      "tensor(73.2743, device='cuda:0', grad_fn=<DivBackward0>) 1.9952623149688795e-07\n",
      "tensor(68.5376, device='cuda:0', grad_fn=<DivBackward0>) 2.290867652767773e-07\n",
      "tensor(68.3815, device='cuda:0', grad_fn=<DivBackward0>) 2.630267991895382e-07\n",
      "tensor(38.0908, device='cuda:0', grad_fn=<DivBackward0>) 3.0199517204020165e-07\n",
      "tensor(66.4267, device='cuda:0', grad_fn=<DivBackward0>) 3.467368504525316e-07\n",
      "tensor(83.4415, device='cuda:0', grad_fn=<DivBackward0>) 3.981071705534972e-07\n",
      "tensor(79.8378, device='cuda:0', grad_fn=<DivBackward0>) 4.5708818961487505e-07\n",
      "tensor(68.2389, device='cuda:0', grad_fn=<DivBackward0>) 5.248074602497726e-07\n",
      "tensor(87.0141, device='cuda:0', grad_fn=<DivBackward0>) 6.025595860743577e-07\n",
      "tensor(68.6929, device='cuda:0', grad_fn=<DivBackward0>) 6.918309709189365e-07\n",
      "tensor(63.9252, device='cuda:0', grad_fn=<DivBackward0>) 7.943282347242816e-07\n",
      "tensor(55.4155, device='cuda:0', grad_fn=<DivBackward0>) 9.120108393559097e-07\n",
      "tensor(49.4683, device='cuda:0', grad_fn=<DivBackward0>) 1.0471285480508994e-06\n",
      "tensor(56.1424, device='cuda:0', grad_fn=<DivBackward0>) 1.2022644346174128e-06\n",
      "tensor(67.6019, device='cuda:0', grad_fn=<DivBackward0>) 1.380384264602885e-06\n",
      "tensor(79.5780, device='cuda:0', grad_fn=<DivBackward0>) 1.5848931924611134e-06\n",
      "tensor(74.5951, device='cuda:0', grad_fn=<DivBackward0>) 1.819700858609984e-06\n",
      "tensor(62.5028, device='cuda:0', grad_fn=<DivBackward0>) 2.0892961308540394e-06\n",
      "tensor(61.4614, device='cuda:0', grad_fn=<DivBackward0>) 2.3988329190194897e-06\n",
      "tensor(68.7025, device='cuda:0', grad_fn=<DivBackward0>) 2.7542287033381663e-06\n",
      "tensor(55.0516, device='cuda:0', grad_fn=<DivBackward0>) 3.1622776601683788e-06\n",
      "tensor(73.1564, device='cuda:0', grad_fn=<DivBackward0>) 3.630780547701014e-06\n",
      "tensor(54.1391, device='cuda:0', grad_fn=<DivBackward0>) 4.168693834703353e-06\n",
      "tensor(55.6842, device='cuda:0', grad_fn=<DivBackward0>) 4.786300923226384e-06\n",
      "tensor(59.6828, device='cuda:0', grad_fn=<DivBackward0>) 5.495408738576245e-06\n",
      "tensor(41.6770, device='cuda:0', grad_fn=<DivBackward0>) 6.309573444801934e-06\n",
      "tensor(51.2160, device='cuda:0', grad_fn=<DivBackward0>) 7.244359600749901e-06\n",
      "tensor(37.3711, device='cuda:0', grad_fn=<DivBackward0>) 8.317637711026713e-06\n",
      "tensor(61.4181, device='cuda:0', grad_fn=<DivBackward0>) 9.549925860214359e-06\n",
      "tensor(51.0570, device='cuda:0', grad_fn=<DivBackward0>) 1.0964781961431847e-05\n",
      "tensor(43.7567, device='cuda:0', grad_fn=<DivBackward0>) 1.2589254117941671e-05\n",
      "tensor(49.1912, device='cuda:0', grad_fn=<DivBackward0>) 1.4454397707459272e-05\n",
      "tensor(38.6889, device='cuda:0', grad_fn=<DivBackward0>) 1.659586907437561e-05\n",
      "tensor(27.2922, device='cuda:0', grad_fn=<DivBackward0>) 1.905460717963248e-05\n",
      "tensor(33.1867, device='cuda:0', grad_fn=<DivBackward0>) 2.187761623949553e-05\n",
      "tensor(28.1790, device='cuda:0', grad_fn=<DivBackward0>) 2.5118864315095798e-05\n",
      "tensor(22.2853, device='cuda:0', grad_fn=<DivBackward0>) 2.884031503126605e-05\n",
      "tensor(18.7305, device='cuda:0', grad_fn=<DivBackward0>) 3.3113112148259124e-05\n",
      "tensor(23.4928, device='cuda:0', grad_fn=<DivBackward0>) 3.8018939632056124e-05\n",
      "tensor(27.4773, device='cuda:0', grad_fn=<DivBackward0>) 4.36515832240166e-05\n",
      "tensor(18.4652, device='cuda:0', grad_fn=<DivBackward0>) 5.011872336272722e-05\n",
      "tensor(17.1986, device='cuda:0', grad_fn=<DivBackward0>) 5.754399373371566e-05\n",
      "tensor(23.4885, device='cuda:0', grad_fn=<DivBackward0>) 6.606934480075963e-05\n",
      "tensor(9.9002, device='cuda:0', grad_fn=<DivBackward0>) 7.585775750291839e-05\n",
      "tensor(12.9714, device='cuda:0', grad_fn=<DivBackward0>) 8.709635899560806e-05\n",
      "tensor(14.9863, device='cuda:0', grad_fn=<DivBackward0>) 9.999999999999996e-05\n",
      "tensor(13.8990, device='cuda:0', grad_fn=<DivBackward0>) 0.00011481536214968832\n",
      "tensor(9.4967, device='cuda:0', grad_fn=<DivBackward0>) 0.00013182567385564074\n",
      "tensor(8.0490, device='cuda:0', grad_fn=<DivBackward0>) 0.0001513561248436208\n",
      "tensor(10.0752, device='cuda:0', grad_fn=<DivBackward0>) 0.00017378008287493747\n",
      "tensor(3.1915, device='cuda:0', grad_fn=<DivBackward0>) 0.00019952623149688785\n",
      "tensor(14.4818, device='cuda:0', grad_fn=<DivBackward0>) 0.0002290867652767774\n",
      "tensor(8.1839, device='cuda:0', grad_fn=<DivBackward0>) 0.0002630267991895382\n",
      "tensor(6.9382, device='cuda:0', grad_fn=<DivBackward0>) 0.0003019951720402016\n",
      "tensor(2.9567, device='cuda:0', grad_fn=<DivBackward0>) 0.00034673685045253147\n",
      "tensor(9.9019, device='cuda:0', grad_fn=<DivBackward0>) 0.0003981071705534974\n",
      "tensor(5.4758, device='cuda:0', grad_fn=<DivBackward0>) 0.0004570881896148751\n",
      "tensor(6.4602, device='cuda:0', grad_fn=<DivBackward0>) 0.0005248074602497725\n",
      "tensor(4.5424, device='cuda:0', grad_fn=<DivBackward0>) 0.0006025595860743576\n",
      "tensor(3.6349, device='cuda:0', grad_fn=<DivBackward0>) 0.0006918309709189369\n",
      "tensor(5.9958, device='cuda:0', grad_fn=<DivBackward0>) 0.0007943282347242816\n",
      "tensor(1.8712, device='cuda:0', grad_fn=<DivBackward0>) 0.0009120108393559097\n",
      "tensor(3.6921, device='cuda:0', grad_fn=<DivBackward0>) 0.0010471285480508994\n",
      "tensor(5.0455, device='cuda:0', grad_fn=<DivBackward0>) 0.0012022644346174124\n",
      "tensor(7.0209, device='cuda:0', grad_fn=<DivBackward0>) 0.0013803842646028853\n",
      "tensor(3.7636, device='cuda:0', grad_fn=<DivBackward0>) 0.0015848931924611136\n",
      "tensor(4.0656, device='cuda:0', grad_fn=<DivBackward0>) 0.0018197008586099833\n",
      "tensor(5.6267, device='cuda:0', grad_fn=<DivBackward0>) 0.0020892961308540386\n",
      "tensor(8.5992, device='cuda:0', grad_fn=<DivBackward0>) 0.0023988329190194916\n",
      "tensor(4.1193, device='cuda:0', grad_fn=<DivBackward0>) 0.002754228703338167\n",
      "tensor(4.5946, device='cuda:0', grad_fn=<DivBackward0>) 0.003162277660168379\n",
      "tensor(12.3723, device='cuda:0', grad_fn=<DivBackward0>) 0.0036307805477010166\n",
      "tensor(5.5622, device='cuda:0', grad_fn=<DivBackward0>) 0.004168693834703352\n",
      "tensor(6.4710, device='cuda:0', grad_fn=<DivBackward0>) 0.004786300923226385\n",
      "tensor(5.4013, device='cuda:0', grad_fn=<DivBackward0>) 0.0054954087385762395\n",
      "tensor(14.3500, device='cuda:0', grad_fn=<DivBackward0>) 0.006309573444801931\n",
      "tensor(12.2591, device='cuda:0', grad_fn=<DivBackward0>) 0.007244359600749905\n",
      "tensor(8.0662, device='cuda:0', grad_fn=<DivBackward0>) 0.008317637711026704\n",
      "tensor(17.3278, device='cuda:0', grad_fn=<DivBackward0>) 0.00954992586021436\n",
      "tensor(23.2013, device='cuda:0', grad_fn=<DivBackward0>) 0.010964781961431861\n",
      "Stopping early, the loss has diverged\n",
      "Learning rate search finished. See the graph with {finder_name}.plot()\n"
     ]
    }
   ],
   "source": [
    "lr_finder.range_test(background_taskloader, end_lr=100, num_iter=150, smooth_f=0.5)"
   ]
  },
  {
   "cell_type": "code",
   "execution_count": 51,
   "metadata": {
    "hidden": true
   },
   "outputs": [
    {
     "data": {
      "image/png": "[encoded data removed]",
      "text/plain": [
       "<Figure size 432x288 with 1 Axes>"
      ]
     },
     "metadata": {
      "needs_background": "light"
     },
     "output_type": "display_data"
    },
    {
     "data": {
      "text/plain": [
       "<matplotlib.axes._subplots.AxesSubplot at 0x7fdd84947240>"
      ]
     },
     "execution_count": 51,
     "metadata": {},
     "output_type": "execute_result"
    }
   ],
   "source": [
    "lr_finder.plot(skip_start=30, skip_end=0) # to inspect the loss-learning rate graph"
   ]
  },
  {
   "cell_type": "code",
   "execution_count": 53,
   "metadata": {
    "hidden": true
   },
   "outputs": [],
   "source": [
    "lr_finder.reset() # to reset the model and optimizer to their initial state"
   ]
  },
  {
   "cell_type": "markdown",
   "metadata": {},
   "source": [
    "#### Training"
   ]
  },
  {
   "cell_type": "code",
   "execution_count": 33,
   "metadata": {},
   "outputs": [],
   "source": [
    "feature_model = get_resnet34(device=device, weight_file=args.init_weight)"
   ]
  },
  {
   "cell_type": "code",
   "execution_count": 34,
   "metadata": {},
   "outputs": [
    {
     "data": {
      "text/plain": [
       "'BC_q2k100_rq5_ref1.5k'"
      ]
     },
     "execution_count": 34,
     "metadata": {},
     "output_type": "execute_result"
    }
   ],
   "source": [
    "args.param_str = f'BC_q{args.q_train}k{args.k_train}_rq5_ref1.5k'\n",
    "args.param_str"
   ]
  },
  {
   "cell_type": "code",
   "execution_count": 35,
   "metadata": {
    "scrolled": true
   },
   "outputs": [
    {
     "name": "stderr",
     "output_type": "stream",
     "text": [
      "\r",
      "Epoch 1:   0%|          | 0/16 [00:00<?, ?it/s]"
     ]
    },
    {
     "name": "stdout",
     "output_type": "stream",
     "text": [
      "Begin training...\n"
     ]
    },
    {
     "name": "stderr",
     "output_type": "stream",
     "text": [
      "Epoch 1:  12%|█▎        | 2/16 [00:11<01:31,  6.53s/it, loss=63.9, categorical_accuracy=0.52, val_1-shot_34-way_acc=0.218]\n",
      "Epoch 2:  12%|█▎        | 2/16 [00:11<01:30,  6.49s/it, loss=43.6, categorical_accuracy=0.58, val_1-shot_34-way_acc=0.271]\n",
      "Epoch 3:  12%|█▎        | 2/16 [00:11<01:30,  6.46s/it, loss=37, categorical_accuracy=0.665, val_1-shot_34-way_acc=0.341]\n",
      "Epoch 4:  12%|█▎        | 2/16 [00:11<01:31,  6.56s/it, loss=34.5, categorical_accuracy=0.695, val_1-shot_34-way_acc=0.324]\n",
      "Epoch 5:  12%|█▎        | 2/16 [00:10<01:28,  6.34s/it, loss=30.3, categorical_accuracy=0.71, val_1-shot_34-way_acc=0.388]\n",
      "Epoch 6:  12%|█▎        | 2/16 [00:10<01:28,  6.35s/it, loss=26.5, categorical_accuracy=0.78, val_1-shot_34-way_acc=0.482]\n",
      "Epoch 7:  12%|█▎        | 2/16 [00:10<01:28,  6.36s/it, loss=17.2, categorical_accuracy=0.785, val_1-shot_34-way_acc=0.506]\n",
      "Epoch 8:  12%|█▎        | 2/16 [00:10<01:28,  6.29s/it, loss=12.9, categorical_accuracy=0.845, val_1-shot_34-way_acc=0.5]\n",
      "Epoch 9:  12%|█▎        | 2/16 [00:10<01:28,  6.32s/it, loss=17, categorical_accuracy=0.825, val_1-shot_34-way_acc=0.524]\n",
      "Epoch 10:  12%|█▎        | 2/16 [00:11<01:34,  6.78s/it, loss=14.9, categorical_accuracy=0.845, val_1-shot_34-way_acc=0.494]\n",
      "Epoch 11:  12%|█▎        | 2/16 [00:10<01:28,  6.31s/it, loss=18.5, categorical_accuracy=0.81, val_1-shot_34-way_acc=0.506]\n",
      "Epoch 12:  12%|█▎        | 2/16 [00:10<01:27,  6.25s/it, loss=15.1, categorical_accuracy=0.83, val_1-shot_34-way_acc=0.512]\n",
      "Epoch 13:  12%|█▎        | 2/16 [00:10<01:27,  6.23s/it, loss=11.7, categorical_accuracy=0.83, val_1-shot_34-way_acc=0.547]\n",
      "Epoch 14:  12%|█▎        | 2/16 [00:10<01:26,  6.15s/it, loss=9.88, categorical_accuracy=0.88, val_1-shot_34-way_acc=0.529]\n",
      "Epoch 15:  12%|█▎        | 2/16 [00:11<01:30,  6.47s/it, loss=6.72, categorical_accuracy=0.92, val_1-shot_34-way_acc=0.494]\n",
      "Epoch 16:  12%|█▎        | 2/16 [00:10<01:29,  6.39s/it, loss=9.2, categorical_accuracy=0.9, val_1-shot_34-way_acc=0.524]\n",
      "Epoch 17:  12%|█▎        | 2/16 [00:10<01:28,  6.30s/it, loss=6.13, categorical_accuracy=0.91, val_1-shot_34-way_acc=0.494]\n",
      "Epoch 18:  12%|█▎        | 2/16 [00:10<01:26,  6.19s/it, loss=10.3, categorical_accuracy=0.885, val_1-shot_34-way_acc=0.553]\n",
      "Epoch 19:  12%|█▎        | 2/16 [00:11<01:33,  6.71s/it, loss=8.26, categorical_accuracy=0.87, val_1-shot_34-way_acc=0.506]\n",
      "Epoch 20:  12%|█▎        | 2/16 [00:10<01:27,  6.23s/it, loss=4.03, categorical_accuracy=0.92, val_1-shot_34-way_acc=0.459]\n",
      "Epoch 21:  12%|█▎        | 2/16 [00:10<01:27,  6.28s/it, loss=4.8, categorical_accuracy=0.905, val_1-shot_34-way_acc=0.488]\n",
      "Epoch 22:  12%|█▎        | 2/16 [00:11<01:34,  6.73s/it, loss=6.27, categorical_accuracy=0.92, val_1-shot_34-way_acc=0.453]\n",
      "Epoch 23:  12%|█▎        | 2/16 [00:11<01:36,  6.87s/it, loss=5.45, categorical_accuracy=0.915, val_1-shot_34-way_acc=0.465]\n",
      "Epoch 24:  12%|█▎        | 2/16 [00:11<01:33,  6.69s/it, loss=2.76, categorical_accuracy=0.935, val_1-shot_34-way_acc=0.435]\n",
      "Epoch 25:  12%|█▎        | 2/16 [00:10<01:24,  6.03s/it, loss=7.41, categorical_accuracy=0.895, val_1-shot_34-way_acc=0.453]\n",
      "Epoch 26:  12%|█▎        | 2/16 [00:10<01:29,  6.40s/it, loss=3.62, categorical_accuracy=0.91, val_1-shot_34-way_acc=0.447]\n",
      "Epoch 27:  12%|█▎        | 2/16 [00:10<01:29,  6.41s/it, loss=3.61, categorical_accuracy=0.925, val_1-shot_34-way_acc=0.476]\n",
      "Epoch 28:  12%|█▎        | 2/16 [00:11<01:32,  6.63s/it, loss=6.14, categorical_accuracy=0.925, val_1-shot_34-way_acc=0.435]\n",
      "Epoch 29:  12%|█▎        | 2/16 [00:12<01:39,  7.12s/it, loss=3.98, categorical_accuracy=0.92, val_1-shot_34-way_acc=0.471]\n",
      "Epoch 30:  12%|█▎        | 2/16 [00:11<01:33,  6.65s/it, loss=2.23, categorical_accuracy=0.93, val_1-shot_34-way_acc=0.506]\n",
      "Epoch 31:  12%|█▎        | 2/16 [00:11<01:36,  6.90s/it, loss=3.94, categorical_accuracy=0.92, val_1-shot_34-way_acc=0.518]\n",
      "Epoch 32:  12%|█▎        | 2/16 [00:11<01:37,  6.95s/it, loss=1.27, categorical_accuracy=0.97, val_1-shot_34-way_acc=0.571]\n",
      "Epoch 33:  12%|█▎        | 2/16 [00:11<01:38,  7.04s/it, loss=1.46, categorical_accuracy=0.95, val_1-shot_34-way_acc=0.547]\n",
      "Epoch 34:  12%|█▎        | 2/16 [00:11<01:30,  6.47s/it, loss=5.29, categorical_accuracy=0.92, val_1-shot_34-way_acc=0.559]\n",
      "Epoch 35:  12%|█▎        | 2/16 [00:11<01:37,  6.98s/it, loss=2.91, categorical_accuracy=0.965, val_1-shot_34-way_acc=0.547]\n",
      "Epoch 36:  12%|█▎        | 2/16 [00:12<01:39,  7.08s/it, loss=3.57, categorical_accuracy=0.95, val_1-shot_34-way_acc=0.553]\n",
      "Epoch 37:  12%|█▎        | 2/16 [00:11<01:32,  6.60s/it, loss=4.01, categorical_accuracy=0.94, val_1-shot_34-way_acc=0.565]\n",
      "Epoch 38:  12%|█▎        | 2/16 [00:10<01:29,  6.36s/it, loss=3.02, categorical_accuracy=0.965, val_1-shot_34-way_acc=0.594]\n",
      "Epoch 39:  12%|█▎        | 2/16 [00:11<01:37,  6.93s/it, loss=2.67, categorical_accuracy=0.945, val_1-shot_34-way_acc=0.565]\n",
      "Epoch 40:  12%|█▎        | 2/16 [00:11<01:34,  6.72s/it, loss=2.16, categorical_accuracy=0.93, val_1-shot_34-way_acc=0.553]\n",
      "Epoch 41:  12%|█▎        | 2/16 [00:11<01:31,  6.53s/it, loss=5.2, categorical_accuracy=0.905, val_1-shot_34-way_acc=0.6]\n",
      "Epoch 42:  12%|█▎        | 2/16 [00:11<01:32,  6.62s/it, loss=2.56, categorical_accuracy=0.945, val_1-shot_34-way_acc=0.606]\n",
      "Epoch 43:  12%|█▎        | 2/16 [00:11<01:31,  6.52s/it, loss=3.9, categorical_accuracy=0.93, val_1-shot_34-way_acc=0.624]\n",
      "Epoch 44:  12%|█▎        | 2/16 [00:11<01:37,  6.96s/it, loss=9.36, categorical_accuracy=0.9, val_1-shot_34-way_acc=0.606]\n",
      "Epoch 45:  12%|█▎        | 2/16 [00:12<01:40,  7.16s/it, loss=1.46, categorical_accuracy=0.955, val_1-shot_34-way_acc=0.618]\n",
      "Epoch 46:  12%|█▎        | 2/16 [00:11<01:31,  6.55s/it, loss=5, categorical_accuracy=0.92, val_1-shot_34-way_acc=0.659]\n",
      "Epoch 47:  12%|█▎        | 2/16 [00:12<01:41,  7.25s/it, loss=4.62, categorical_accuracy=0.91, val_1-shot_34-way_acc=0.588]\n",
      "Epoch 48:  12%|█▎        | 2/16 [00:10<01:28,  6.34s/it, loss=2.62, categorical_accuracy=0.965, val_1-shot_34-way_acc=0.606]\n",
      "Epoch 49:  12%|█▎        | 2/16 [00:11<01:29,  6.41s/it, loss=1.17, categorical_accuracy=0.97, val_1-shot_34-way_acc=0.618]\n",
      "Epoch 50:  12%|█▎        | 2/16 [00:11<01:36,  6.91s/it, loss=3.27, categorical_accuracy=0.945, val_1-shot_34-way_acc=0.659]\n",
      "Epoch 51:  12%|█▎        | 2/16 [00:11<01:35,  6.81s/it, loss=0.926, categorical_accuracy=0.965, val_1-shot_34-way_acc=0.6]\n",
      "Epoch 52:  12%|█▎        | 2/16 [00:11<01:32,  6.63s/it, loss=6.61, categorical_accuracy=0.91, val_1-shot_34-way_acc=0.641]\n",
      "Epoch 53:  12%|█▎        | 2/16 [00:11<01:31,  6.54s/it, loss=2.47, categorical_accuracy=0.965, val_1-shot_34-way_acc=0.629]\n",
      "Epoch 54:  12%|█▎        | 2/16 [00:11<01:30,  6.48s/it, loss=1.89, categorical_accuracy=0.955, val_1-shot_34-way_acc=0.565]\n",
      "Epoch 55:  12%|█▎        | 2/16 [00:10<01:29,  6.36s/it, loss=2.95, categorical_accuracy=0.955, val_1-shot_34-way_acc=0.565]\n",
      "Epoch 56:  12%|█▎        | 2/16 [00:11<01:32,  6.61s/it, loss=1.41, categorical_accuracy=0.975, val_1-shot_34-way_acc=0.635]\n",
      "Epoch 57:  12%|█▎        | 2/16 [00:11<01:30,  6.44s/it, loss=6.03, categorical_accuracy=0.92, val_1-shot_34-way_acc=0.576]\n",
      "Epoch 58:  12%|█▎        | 2/16 [00:11<01:31,  6.52s/it, loss=3.39, categorical_accuracy=0.945, val_1-shot_34-way_acc=0.588]\n",
      "Epoch 59:  12%|█▎        | 2/16 [00:11<01:32,  6.62s/it, loss=1.95, categorical_accuracy=0.95, val_1-shot_34-way_acc=0.612]\n",
      "Epoch 60:  12%|█▎        | 2/16 [00:11<01:32,  6.60s/it, loss=3.1, categorical_accuracy=0.96, val_1-shot_34-way_acc=0.629]\n",
      "Epoch 61:  12%|█▎        | 2/16 [00:11<01:31,  6.54s/it, loss=1.45, categorical_accuracy=0.965, val_1-shot_34-way_acc=0.641]\n",
      "Epoch 62:  12%|█▎        | 2/16 [00:11<01:34,  6.76s/it, loss=2.17, categorical_accuracy=0.965, val_1-shot_34-way_acc=0.653]\n",
      "Epoch 63:  12%|█▎        | 2/16 [00:11<01:32,  6.62s/it, loss=2.43, categorical_accuracy=0.95, val_1-shot_34-way_acc=0.671]\n",
      "Epoch 64:  12%|█▎        | 2/16 [00:11<01:30,  6.45s/it, loss=1.9, categorical_accuracy=0.97, val_1-shot_34-way_acc=0.629]\n",
      "Epoch 65:  12%|█▎        | 2/16 [00:11<01:35,  6.83s/it, loss=3.35, categorical_accuracy=0.91, val_1-shot_34-way_acc=0.635]\n",
      "Epoch 66:  12%|█▎        | 2/16 [00:11<01:31,  6.54s/it, loss=5.55, categorical_accuracy=0.915, val_1-shot_34-way_acc=0.647]\n"
     ]
    },
    {
     "name": "stderr",
     "output_type": "stream",
     "text": [
      "Epoch 67:  12%|█▎        | 2/16 [00:11<01:30,  6.49s/it, loss=6.27, categorical_accuracy=0.895, val_1-shot_34-way_acc=0.676]\n",
      "Epoch 68:  12%|█▎        | 2/16 [00:11<01:30,  6.45s/it, loss=3.46, categorical_accuracy=0.935, val_1-shot_34-way_acc=0.635]\n",
      "Epoch 69:  12%|█▎        | 2/16 [00:11<01:33,  6.68s/it, loss=2.27, categorical_accuracy=0.965, val_1-shot_34-way_acc=0.641]\n",
      "Epoch 70:  12%|█▎        | 2/16 [00:11<01:31,  6.51s/it, loss=2.49, categorical_accuracy=0.955, val_1-shot_34-way_acc=0.676]\n",
      "Epoch 71:  12%|█▎        | 2/16 [00:10<01:27,  6.23s/it, loss=3.51, categorical_accuracy=0.95, val_1-shot_34-way_acc=0.635]\n",
      "Epoch 72:  12%|█▎        | 2/16 [00:11<01:31,  6.51s/it, loss=3.83, categorical_accuracy=0.955, val_1-shot_34-way_acc=0.647]\n",
      "Epoch 73:  12%|█▎        | 2/16 [00:11<01:29,  6.40s/it, loss=0.919, categorical_accuracy=0.98, val_1-shot_34-way_acc=0.641]\n",
      "Epoch 74:  12%|█▎        | 2/16 [00:11<01:32,  6.59s/it, loss=1.35, categorical_accuracy=0.975, val_1-shot_34-way_acc=0.671]\n",
      "Epoch 75:  12%|█▎        | 2/16 [00:12<01:39,  7.10s/it, loss=2.33, categorical_accuracy=0.97, val_1-shot_34-way_acc=0.653]\n",
      "Epoch 76:  12%|█▎        | 2/16 [00:11<01:33,  6.69s/it, loss=1.84, categorical_accuracy=0.955, val_1-shot_34-way_acc=0.612]\n",
      "Epoch 77:  12%|█▎        | 2/16 [00:11<01:30,  6.45s/it, loss=1.35, categorical_accuracy=0.955, val_1-shot_34-way_acc=0.653]\n",
      "Epoch 78:  12%|█▎        | 2/16 [00:11<01:37,  6.93s/it, loss=1.04, categorical_accuracy=0.98, val_1-shot_34-way_acc=0.647]\n",
      "Epoch 79:  12%|█▎        | 2/16 [00:11<01:33,  6.65s/it, loss=0.987, categorical_accuracy=0.985, val_1-shot_34-way_acc=0.676]\n",
      "Epoch 80:  12%|█▎        | 2/16 [00:12<01:44,  7.49s/it, loss=3, categorical_accuracy=0.95, val_1-shot_34-way_acc=0.671]\n",
      "Epoch 81:  12%|█▎        | 2/16 [00:11<01:34,  6.75s/it, loss=2.35, categorical_accuracy=0.96, val_1-shot_34-way_acc=0.629]\n",
      "Epoch 82:  12%|█▎        | 2/16 [00:11<01:36,  6.88s/it, loss=2.32, categorical_accuracy=0.94, val_1-shot_34-way_acc=0.688]\n",
      "Epoch 83:  12%|█▎        | 2/16 [00:11<01:32,  6.63s/it, loss=2.8, categorical_accuracy=0.945, val_1-shot_34-way_acc=0.688]\n",
      "Epoch 84:  12%|█▎        | 2/16 [00:11<01:36,  6.93s/it, loss=2.82, categorical_accuracy=0.96, val_1-shot_34-way_acc=0.653]\n",
      "Epoch 85:  12%|█▎        | 2/16 [00:10<01:28,  6.34s/it, loss=1.9, categorical_accuracy=0.95, val_1-shot_34-way_acc=0.641]\n",
      "Epoch 86:  12%|█▎        | 2/16 [00:11<01:34,  6.78s/it, loss=3.77, categorical_accuracy=0.93, val_1-shot_34-way_acc=0.647]\n",
      "Epoch 87:  12%|█▎        | 2/16 [00:11<01:32,  6.62s/it, loss=2.03, categorical_accuracy=0.97, val_1-shot_34-way_acc=0.712]\n",
      "Epoch 88:  12%|█▎        | 2/16 [00:11<01:32,  6.59s/it, loss=1.52, categorical_accuracy=0.975, val_1-shot_34-way_acc=0.688]\n",
      "Epoch 89:  12%|█▎        | 2/16 [00:11<01:31,  6.50s/it, loss=1.63, categorical_accuracy=0.975, val_1-shot_34-way_acc=0.629]\n",
      "Epoch 90:  12%|█▎        | 2/16 [00:11<01:33,  6.71s/it, loss=0.331, categorical_accuracy=0.99, val_1-shot_34-way_acc=0.665]\n",
      "Epoch 91:  12%|█▎        | 2/16 [00:11<01:36,  6.88s/it, loss=2.02, categorical_accuracy=0.98, val_1-shot_34-way_acc=0.718]\n",
      "Epoch 92:  12%|█▎        | 2/16 [00:11<01:37,  6.94s/it, loss=1.44, categorical_accuracy=0.95, val_1-shot_34-way_acc=0.688]\n",
      "Epoch 93:  12%|█▎        | 2/16 [00:11<01:33,  6.65s/it, loss=1.07, categorical_accuracy=0.95, val_1-shot_34-way_acc=0.712]\n",
      "Epoch 94:  12%|█▎        | 2/16 [00:11<01:36,  6.88s/it, loss=1.6, categorical_accuracy=0.965, val_1-shot_34-way_acc=0.682]\n",
      "Epoch 95:  12%|█▎        | 2/16 [00:11<01:33,  6.69s/it, loss=0.782, categorical_accuracy=0.98, val_1-shot_34-way_acc=0.665]\n",
      "Epoch 96:  12%|█▎        | 2/16 [00:11<01:30,  6.45s/it, loss=2.6, categorical_accuracy=0.945, val_1-shot_34-way_acc=0.718]\n",
      "Epoch 97:  12%|█▎        | 2/16 [00:11<01:33,  6.71s/it, loss=1.39, categorical_accuracy=0.98, val_1-shot_34-way_acc=0.7]\n",
      "Epoch 98:  12%|█▎        | 2/16 [00:11<01:32,  6.61s/it, loss=2.6, categorical_accuracy=0.945, val_1-shot_34-way_acc=0.688]\n",
      "Epoch 99:  12%|█▎        | 2/16 [00:11<01:36,  6.91s/it, loss=2.3, categorical_accuracy=0.965, val_1-shot_34-way_acc=0.682]\n",
      "Epoch 100:  12%|█▎        | 2/16 [00:11<01:30,  6.44s/it, loss=2.58, categorical_accuracy=0.965, val_1-shot_34-way_acc=0.694]"
     ]
    },
    {
     "name": "stdout",
     "output_type": "stream",
     "text": [
      "Finished.\n"
     ]
    },
    {
     "name": "stderr",
     "output_type": "stream",
     "text": [
      "\n"
     ]
    }
   ],
   "source": [
    "train_proto_net(args,\n",
    "                model=feature_model,\n",
    "                device=device,\n",
    "                path='.',\n",
    "                n_epochs=args.n_epochs,\n",
    "                background_taskloader=background_taskloader,\n",
    "                evaluation_taskloader=evaluation_taskloader,\n",
    "                drop_lr_every=args.drop_lr_every,\n",
    "                evaluation_episodes=args.evaluation_episodes,\n",
    "                episodes_per_epoch=args.episodes_per_epoch,\n",
    "                lr=args.lr,\n",
    "               )"
   ]
  },
  {
   "cell_type": "code",
   "execution_count": 36,
   "metadata": {
    "scrolled": true
   },
   "outputs": [
    {
     "name": "stderr",
     "output_type": "stream",
     "text": [
      "\r",
      "Epoch 1:   0%|          | 0/16 [00:00<?, ?it/s]"
     ]
    },
    {
     "name": "stdout",
     "output_type": "stream",
     "text": [
      "Begin training...\n"
     ]
    },
    {
     "name": "stderr",
     "output_type": "stream",
     "text": [
      "Epoch 1:  12%|█▎        | 2/16 [00:11<01:30,  6.43s/it, loss=1.54, categorical_accuracy=0.975, val_1-shot_34-way_acc=0.694]\n",
      "Epoch 2:  12%|█▎        | 2/16 [00:10<01:27,  6.22s/it, loss=1.84, categorical_accuracy=0.975, val_1-shot_34-way_acc=0.676]\n",
      "Epoch 3:  12%|█▎        | 2/16 [00:11<01:37,  7.00s/it, loss=1.71, categorical_accuracy=0.965, val_1-shot_34-way_acc=0.659]\n",
      "Epoch 4:  12%|█▎        | 2/16 [00:11<01:37,  6.99s/it, loss=4.74, categorical_accuracy=0.96, val_1-shot_34-way_acc=0.7]\n",
      "Epoch 5:  12%|█▎        | 2/16 [00:11<01:33,  6.64s/it, loss=0.389, categorical_accuracy=0.98, val_1-shot_34-way_acc=0.718]\n",
      "Epoch 6:  12%|█▎        | 2/16 [00:11<01:32,  6.58s/it, loss=1.33, categorical_accuracy=0.97, val_1-shot_34-way_acc=0.682]\n",
      "Epoch 7:  12%|█▎        | 2/16 [00:11<01:30,  6.44s/it, loss=3.64, categorical_accuracy=0.935, val_1-shot_34-way_acc=0.671]\n",
      "Epoch 8:  12%|█▎        | 2/16 [00:11<01:35,  6.80s/it, loss=1.14, categorical_accuracy=0.98, val_1-shot_34-way_acc=0.724]\n",
      "Epoch 9:  12%|█▎        | 2/16 [00:11<01:31,  6.55s/it, loss=2.06, categorical_accuracy=0.945, val_1-shot_34-way_acc=0.641]\n",
      "Epoch 10:  12%|█▎        | 2/16 [00:11<01:35,  6.80s/it, loss=2.48, categorical_accuracy=0.955, val_1-shot_34-way_acc=0.635]\n",
      "Epoch 11:  12%|█▎        | 2/16 [00:11<01:35,  6.86s/it, loss=2.96, categorical_accuracy=0.955, val_1-shot_34-way_acc=0.712]\n",
      "Epoch 12:  12%|█▎        | 2/16 [00:11<01:30,  6.50s/it, loss=1.6, categorical_accuracy=0.96, val_1-shot_34-way_acc=0.694]\n",
      "Epoch 13:  12%|█▎        | 2/16 [00:11<01:30,  6.46s/it, loss=4.35, categorical_accuracy=0.97, val_1-shot_34-way_acc=0.7]\n",
      "Epoch 14:  12%|█▎        | 2/16 [00:11<01:31,  6.50s/it, loss=0.891, categorical_accuracy=0.97, val_1-shot_34-way_acc=0.694]\n",
      "Epoch 15:  12%|█▎        | 2/16 [00:11<01:33,  6.69s/it, loss=0.612, categorical_accuracy=0.98, val_1-shot_34-way_acc=0.694]\n",
      "Epoch 16:  12%|█▎        | 2/16 [00:11<01:37,  6.95s/it, loss=1.06, categorical_accuracy=0.965, val_1-shot_34-way_acc=0.665]\n",
      "Epoch 17:  12%|█▎        | 2/16 [00:11<01:33,  6.67s/it, loss=2.48, categorical_accuracy=0.95, val_1-shot_34-way_acc=0.641]\n",
      "Epoch 18:  12%|█▎        | 2/16 [00:11<01:32,  6.63s/it, loss=3.03, categorical_accuracy=0.935, val_1-shot_34-way_acc=0.729]\n",
      "Epoch 19:  12%|█▎        | 2/16 [00:11<01:33,  6.70s/it, loss=2.27, categorical_accuracy=0.935, val_1-shot_34-way_acc=0.694]\n",
      "Epoch 20:  12%|█▎        | 2/16 [00:11<01:30,  6.43s/it, loss=1.07, categorical_accuracy=0.97, val_1-shot_34-way_acc=0.682]\n",
      "Epoch 21:  12%|█▎        | 2/16 [00:11<01:29,  6.40s/it, loss=2.12, categorical_accuracy=0.97, val_1-shot_34-way_acc=0.635]\n",
      "Epoch 22:  12%|█▎        | 2/16 [00:11<01:34,  6.76s/it, loss=0.692, categorical_accuracy=0.98, val_1-shot_34-way_acc=0.724]\n",
      "Epoch 23:  12%|█▎        | 2/16 [00:11<01:29,  6.36s/it, loss=1.73, categorical_accuracy=0.96, val_1-shot_34-way_acc=0.688]\n",
      "Epoch 24:  12%|█▎        | 2/16 [00:11<01:35,  6.79s/it, loss=0.394, categorical_accuracy=0.975, val_1-shot_34-way_acc=0.724]\n",
      "Epoch 25:  12%|█▎        | 2/16 [00:11<01:32,  6.60s/it, loss=2.18, categorical_accuracy=0.965, val_1-shot_34-way_acc=0.735]\n",
      "Epoch 26:  12%|█▎        | 2/16 [00:10<01:29,  6.37s/it, loss=1.53, categorical_accuracy=0.97, val_1-shot_34-way_acc=0.712]\n",
      "Epoch 27:  12%|█▎        | 2/16 [00:11<01:33,  6.65s/it, loss=1.16, categorical_accuracy=0.96, val_1-shot_34-way_acc=0.688]\n",
      "Epoch 28:  12%|█▎        | 2/16 [00:11<01:32,  6.63s/it, loss=3.79, categorical_accuracy=0.975, val_1-shot_34-way_acc=0.712]\n",
      "Epoch 29:  12%|█▎        | 2/16 [00:11<01:31,  6.55s/it, loss=1.16, categorical_accuracy=0.98, val_1-shot_34-way_acc=0.712]\n",
      "Epoch 30:  12%|█▎        | 2/16 [00:11<01:31,  6.56s/it, loss=2.76, categorical_accuracy=0.95, val_1-shot_34-way_acc=0.765]\n",
      "Epoch 31:  12%|█▎        | 2/16 [00:11<01:31,  6.57s/it, loss=0.826, categorical_accuracy=0.98, val_1-shot_34-way_acc=0.712]\n",
      "Epoch 32:  12%|█▎        | 2/16 [00:11<01:31,  6.57s/it, loss=2.13, categorical_accuracy=0.955, val_1-shot_34-way_acc=0.747]\n",
      "Epoch 33:  12%|█▎        | 2/16 [00:11<01:33,  6.66s/it, loss=1.09, categorical_accuracy=0.975, val_1-shot_34-way_acc=0.676]\n",
      "Epoch 34:  12%|█▎        | 2/16 [00:11<01:35,  6.82s/it, loss=3.4, categorical_accuracy=0.96, val_1-shot_34-way_acc=0.718]\n",
      "Epoch 35:  12%|█▎        | 2/16 [00:12<01:39,  7.07s/it, loss=1.24, categorical_accuracy=0.965, val_1-shot_34-way_acc=0.747]\n",
      "Epoch 36:  12%|█▎        | 2/16 [00:11<01:33,  6.65s/it, loss=1.71, categorical_accuracy=0.975, val_1-shot_34-way_acc=0.735]\n",
      "Epoch 37:  12%|█▎        | 2/16 [00:11<01:30,  6.43s/it, loss=2.31, categorical_accuracy=0.945, val_1-shot_34-way_acc=0.718]\n",
      "Epoch 38:  12%|█▎        | 2/16 [00:11<01:37,  6.96s/it, loss=4.64, categorical_accuracy=0.955, val_1-shot_34-way_acc=0.688]\n",
      "Epoch 39:  12%|█▎        | 2/16 [00:11<01:34,  6.75s/it, loss=0.875, categorical_accuracy=0.96, val_1-shot_34-way_acc=0.694]\n",
      "Epoch 40:  12%|█▎        | 2/16 [00:11<01:36,  6.91s/it, loss=0.823, categorical_accuracy=0.985, val_1-shot_34-way_acc=0.718]\n",
      "Epoch 41:  12%|█▎        | 2/16 [00:11<01:32,  6.57s/it, loss=3.5, categorical_accuracy=0.965, val_1-shot_34-way_acc=0.724]\n",
      "Epoch 42:  12%|█▎        | 2/16 [00:11<01:31,  6.52s/it, loss=1.61, categorical_accuracy=0.96, val_1-shot_34-way_acc=0.729]\n",
      "Epoch 43:  12%|█▎        | 2/16 [00:11<01:33,  6.64s/it, loss=0.952, categorical_accuracy=0.955, val_1-shot_34-way_acc=0.718]\n",
      "Epoch 44:  12%|█▎        | 2/16 [00:11<01:33,  6.65s/it, loss=0.843, categorical_accuracy=0.98, val_1-shot_34-way_acc=0.724]\n",
      "Epoch 45:  12%|█▎        | 2/16 [00:11<01:33,  6.68s/it, loss=1.99, categorical_accuracy=0.965, val_1-shot_34-way_acc=0.729]\n",
      "Epoch 46:  12%|█▎        | 2/16 [00:11<01:29,  6.41s/it, loss=1.84, categorical_accuracy=0.955, val_1-shot_34-way_acc=0.741]\n",
      "Epoch 47:  12%|█▎        | 2/16 [00:11<01:32,  6.62s/it, loss=2.17, categorical_accuracy=0.965, val_1-shot_34-way_acc=0.712]\n",
      "Epoch 48:  12%|█▎        | 2/16 [00:11<01:37,  6.95s/it, loss=2.73, categorical_accuracy=0.975, val_1-shot_34-way_acc=0.718]\n",
      "Epoch 49:  12%|█▎        | 2/16 [00:11<01:35,  6.86s/it, loss=0.927, categorical_accuracy=0.975, val_1-shot_34-way_acc=0.706]\n",
      "Epoch 50:  12%|█▎        | 2/16 [00:11<01:31,  6.57s/it, loss=1.73, categorical_accuracy=0.965, val_1-shot_34-way_acc=0.706]"
     ]
    },
    {
     "name": "stdout",
     "output_type": "stream",
     "text": [
      "Finished.\n"
     ]
    },
    {
     "name": "stderr",
     "output_type": "stream",
     "text": [
      "\n"
     ]
    }
   ],
   "source": [
    "train_proto_net(args,\n",
    "                model=feature_model,\n",
    "                device=device,\n",
    "                path='.',\n",
    "                n_epochs=50,\n",
    "                background_taskloader=background_taskloader,\n",
    "                evaluation_taskloader=evaluation_taskloader,\n",
    "                drop_lr_every=args.drop_lr_every,\n",
    "                evaluation_episodes=args.evaluation_episodes,\n",
    "                episodes_per_epoch=args.episodes_per_epoch,\n",
    "                lr=args.lr/10,\n",
    "               )"
   ]
  },
  {
   "cell_type": "code",
   "execution_count": 37,
   "metadata": {},
   "outputs": [
    {
     "data": {
      "text/plain": [
       "'BC_q2k100_rq5_ref1.5k_e100.pth'"
      ]
     },
     "execution_count": 37,
     "metadata": {},
     "output_type": "execute_result"
    }
   ],
   "source": [
    "f'{args.param_str}_e{args.n_epochs}.pth'"
   ]
  },
  {
   "cell_type": "code",
   "execution_count": 38,
   "metadata": {},
   "outputs": [],
   "source": [
    "torch.save(feature_model.state_dict(), f'models/{args.param_str}_e151.pth')"
   ]
  },
  {
   "cell_type": "markdown",
   "metadata": {},
   "source": [
    "### Testing\n",
    "* loader for test query images\n",
    "* calculate protoypes for all reference images\n",
    "* Generate embeddings for all query images\n",
    "* Calculate distance between embeddings and prototypes\n",
    "* Save top1 and top5 accuracy"
   ]
  },
  {
   "cell_type": "code",
   "execution_count": 39,
   "metadata": {},
   "outputs": [],
   "source": [
    "from dlcliche.image import *\n",
    "sys.path.append('..') # app\n",
    "sys.path.append('../..') # root\n",
    "from easydict import EasyDict\n",
    "from app_utils_clf import *\n",
    "from whale_plus_utils import *\n",
    "from config import DATA_PATH"
   ]
  },
  {
   "cell_type": "code",
   "execution_count": 40,
   "metadata": {},
   "outputs": [],
   "source": [
    "args.n_epochs=150"
   ]
  },
  {
   "cell_type": "code",
   "execution_count": 41,
   "metadata": {},
   "outputs": [
    {
     "name": "stdout",
     "output_type": "stream",
     "text": [
      "BC_q2k100_rq5_ref1.5k\n",
      "models/BC_q2k100_rq5_ref1.5k_e151.pth\n"
     ]
    }
   ],
   "source": [
    "# args.param_str = 'res_untrained'\n",
    "exp = f'{args.param_str}'.replace(f'_res34_s1','')#_epoch{args.n_epochs}'\n",
    "# exp = f'{args.param_str}_epoch{args.n_epochs}' + '_ref1.5k'\n",
    "# exp = 'res_untrained_ref1.5k'\n",
    "print(exp)\n",
    "get_model_fn=get_resnet34\n",
    "weight_file = f'models/{args.param_str}_e{args.n_epochs+1}.pth'\n",
    "# weight_file = 'models/BC_res34_s1_q5_k25_q10ref1.5k_e151.pth'\n",
    "output_path='results'\n",
    "print(weight_file)"
   ]
  },
  {
   "cell_type": "code",
   "execution_count": 42,
   "metadata": {},
   "outputs": [],
   "source": [
    "DATA_PATH = '/home/raghava_balusu_walmartlabs_com/Work/oneshotml/data/braincorp_data/'"
   ]
  },
  {
   "cell_type": "code",
   "execution_count": 43,
   "metadata": {},
   "outputs": [],
   "source": [
    "SZ=256\n",
    "device='cuda'\n",
    "train_csv=DATA_PATH+'/train.csv'\n",
    "data_train = DATA_PATH\n",
    "data_test  = DATA_PATH\n",
    "data_type='normal'\n",
    "normalize='imagenet'\n",
    "N_TTA=0\n",
    "part=0\n",
    "n_part=1"
   ]
  },
  {
   "cell_type": "code",
   "execution_count": 44,
   "metadata": {},
   "outputs": [],
   "source": [
    "weight_file = Path(weight_file)\n",
    "output_path = Path(output_path)\n",
    "ensure_folder(output_path)"
   ]
  },
  {
   "cell_type": "code",
   "execution_count": 45,
   "metadata": {},
   "outputs": [
    {
     "data": {
      "text/html": [
       "<div>\n",
       "<style scoped>\n",
       "    .dataframe tbody tr th:only-of-type {\n",
       "        vertical-align: middle;\n",
       "    }\n",
       "\n",
       "    .dataframe tbody tr th {\n",
       "        vertical-align: top;\n",
       "    }\n",
       "\n",
       "    .dataframe thead th {\n",
       "        text-align: right;\n",
       "    }\n",
       "</style>\n",
       "<table border=\"1\" class=\"dataframe\">\n",
       "  <thead>\n",
       "    <tr style=\"text-align: right;\">\n",
       "      <th></th>\n",
       "      <th>image_path</th>\n",
       "      <th>label</th>\n",
       "      <th>type</th>\n",
       "      <th>label_id</th>\n",
       "    </tr>\n",
       "  </thead>\n",
       "  <tbody>\n",
       "    <tr>\n",
       "      <th>0</th>\n",
       "      <td>/home/raghava_balusu_walmartlabs_com/Work/ones...</td>\n",
       "      <td>50038959</td>\n",
       "      <td>reference</td>\n",
       "      <td>515</td>\n",
       "    </tr>\n",
       "    <tr>\n",
       "      <th>1</th>\n",
       "      <td>/home/raghava_balusu_walmartlabs_com/Work/ones...</td>\n",
       "      <td>53425502</td>\n",
       "      <td>reference</td>\n",
       "      <td>818</td>\n",
       "    </tr>\n",
       "    <tr>\n",
       "      <th>2</th>\n",
       "      <td>/home/raghava_balusu_walmartlabs_com/Work/ones...</td>\n",
       "      <td>31184578</td>\n",
       "      <td>reference</td>\n",
       "      <td>276</td>\n",
       "    </tr>\n",
       "    <tr>\n",
       "      <th>3</th>\n",
       "      <td>/home/raghava_balusu_walmartlabs_com/Work/ones...</td>\n",
       "      <td>53132214</td>\n",
       "      <td>reference</td>\n",
       "      <td>762</td>\n",
       "    </tr>\n",
       "    <tr>\n",
       "      <th>4</th>\n",
       "      <td>/home/raghava_balusu_walmartlabs_com/Work/ones...</td>\n",
       "      <td>53050477</td>\n",
       "      <td>reference</td>\n",
       "      <td>715</td>\n",
       "    </tr>\n",
       "  </tbody>\n",
       "</table>\n",
       "</div>"
      ],
      "text/plain": [
       "                                          image_path     label       type  \\\n",
       "0  /home/raghava_balusu_walmartlabs_com/Work/ones...  50038959  reference   \n",
       "1  /home/raghava_balusu_walmartlabs_com/Work/ones...  53425502  reference   \n",
       "2  /home/raghava_balusu_walmartlabs_com/Work/ones...  31184578  reference   \n",
       "3  /home/raghava_balusu_walmartlabs_com/Work/ones...  53132214  reference   \n",
       "4  /home/raghava_balusu_walmartlabs_com/Work/ones...  53050477  reference   \n",
       "\n",
       "   label_id  \n",
       "0       515  \n",
       "1       818  \n",
       "2       276  \n",
       "3       762  \n",
       "4       715  "
      ]
     },
     "execution_count": 45,
     "metadata": {},
     "output_type": "execute_result"
    }
   ],
   "source": [
    "ref = [i for i in list(Path('/home/raghava_balusu_walmartlabs_com/Work/oneshotml/data/braincorp_data/ref_img').glob('*/*.png'))]\n",
    "aisle = [i for i in list(Path('/home/raghava_balusu_walmartlabs_com/Work/oneshotml/data/braincorp_data/ref_38').glob('*/*.png'))]\n",
    "# ref = aisle\n",
    "\n",
    "proto_df = pd.DataFrame({'image_path' : [str(i) for i in ref], 'label' : [i.parent.name for i in ref]})\n",
    "proto_df['type'] = 'reference'\n",
    "\n",
    "le = LabelEncoder()\n",
    "proto_df['label_id'] = le.fit_transform(proto_df.label)\n",
    "\n",
    "proto_df.head()"
   ]
  },
  {
   "cell_type": "code",
   "execution_count": 46,
   "metadata": {},
   "outputs": [
    {
     "data": {
      "text/html": [
       "<div>\n",
       "<style scoped>\n",
       "    .dataframe tbody tr th:only-of-type {\n",
       "        vertical-align: middle;\n",
       "    }\n",
       "\n",
       "    .dataframe tbody tr th {\n",
       "        vertical-align: top;\n",
       "    }\n",
       "\n",
       "    .dataframe thead th {\n",
       "        text-align: right;\n",
       "    }\n",
       "</style>\n",
       "<table border=\"1\" class=\"dataframe\">\n",
       "  <thead>\n",
       "    <tr style=\"text-align: right;\">\n",
       "      <th></th>\n",
       "      <th>image_path</th>\n",
       "      <th>label</th>\n",
       "      <th>type</th>\n",
       "      <th>label_id</th>\n",
       "    </tr>\n",
       "  </thead>\n",
       "  <tbody>\n",
       "    <tr>\n",
       "      <th>0</th>\n",
       "      <td>/home/raghava_balusu_walmartlabs_com/Work/ones...</td>\n",
       "      <td>5558787</td>\n",
       "      <td>query</td>\n",
       "      <td>1410</td>\n",
       "    </tr>\n",
       "    <tr>\n",
       "      <th>1</th>\n",
       "      <td>/home/raghava_balusu_walmartlabs_com/Work/ones...</td>\n",
       "      <td>5558787</td>\n",
       "      <td>query</td>\n",
       "      <td>1410</td>\n",
       "    </tr>\n",
       "    <tr>\n",
       "      <th>2</th>\n",
       "      <td>/home/raghava_balusu_walmartlabs_com/Work/ones...</td>\n",
       "      <td>5558787</td>\n",
       "      <td>query</td>\n",
       "      <td>1410</td>\n",
       "    </tr>\n",
       "    <tr>\n",
       "      <th>3</th>\n",
       "      <td>/home/raghava_balusu_walmartlabs_com/Work/ones...</td>\n",
       "      <td>5558787</td>\n",
       "      <td>query</td>\n",
       "      <td>1410</td>\n",
       "    </tr>\n",
       "    <tr>\n",
       "      <th>4</th>\n",
       "      <td>/home/raghava_balusu_walmartlabs_com/Work/ones...</td>\n",
       "      <td>5558787</td>\n",
       "      <td>query</td>\n",
       "      <td>1410</td>\n",
       "    </tr>\n",
       "  </tbody>\n",
       "</table>\n",
       "</div>"
      ],
      "text/plain": [
       "                                          image_path    label   type  label_id\n",
       "0  /home/raghava_balusu_walmartlabs_com/Work/ones...  5558787  query      1410\n",
       "1  /home/raghava_balusu_walmartlabs_com/Work/ones...  5558787  query      1410\n",
       "2  /home/raghava_balusu_walmartlabs_com/Work/ones...  5558787  query      1410\n",
       "3  /home/raghava_balusu_walmartlabs_com/Work/ones...  5558787  query      1410\n",
       "4  /home/raghava_balusu_walmartlabs_com/Work/ones...  5558787  query      1410"
      ]
     },
     "execution_count": 46,
     "metadata": {},
     "output_type": "execute_result"
    }
   ],
   "source": [
    "query_df = pd.read_csv('/home/raghava_balusu_walmartlabs_com/Work/oneshotml/data/braincorp_data/img_to_labels.csv', index_col=0)\n",
    "\n",
    "query_df.columns = ['image_path', 'label']\n",
    "\n",
    "query_df['image_path'] = query_df.image_path.map(lambda x : '/home/raghava_balusu_walmartlabs_com/Work/oneshotml/data/braincorp_data/query_images/' + x)\n",
    "\n",
    "item_mapping = {'1' : '54629736', '2' : '54481233', '3' : '3572171', '4' : '5558787', '5' : '4810550', '6' : '29566609', '7' : '100000000', '8':'4810554', '9' :'23296492','10':'22965966','11' :'100000010', '12' : '53798269', '13' : '100000001', '14':'5186005','15' :'23296489', '16':'38957303','17':'37989538', '18' :'5401467', '19' :'4385267', '20':'5142520','21':'53419173','22':'54747442','23':'53197162','24':'5262834','25':'54217299','26':'42430527','27':'6986914','28':'50563145','29':'100000003','30':'53564608','31':'100000004','32':'100000005','33':'100000006','34':'54271401','35':'100000007','36':'53621633','37':'53798262','38':'31525622','39':'53537941','40':'54739328','41':'52867343','42':'54003387','43':'54565142'}\n",
    "remove_lst = ['junk', '1', '7', '13', '29', '31', '32', '33', '35', '11']\n",
    "\n",
    "query_df = query_df[-query_df.label.isin(remove_lst)].reset_index(drop=True)\n",
    "\n",
    "query_df['label'] = query_df.label.map(lambda x : item_mapping[x])\n",
    "\n",
    "query_df['type'] = 'query'\n",
    "query_df['label_id'] = le.transform(query_df.label.values)\n",
    "\n",
    "query_df.head()"
   ]
  },
  {
   "cell_type": "code",
   "execution_count": 47,
   "metadata": {},
   "outputs": [],
   "source": [
    "query_df['split'] = 'valid'\n",
    "query_df.loc[query_df.image_path.isin(trn_qimgs), 'split'] = 'train'"
   ]
  },
  {
   "cell_type": "code",
   "execution_count": 48,
   "metadata": {},
   "outputs": [
    {
     "data": {
      "text/plain": [
       "valid    1506\n",
       "train     170\n",
       "Name: split, dtype: int64"
      ]
     },
     "execution_count": 48,
     "metadata": {},
     "output_type": "execute_result"
    }
   ],
   "source": [
    "query_df.split.value_counts()"
   ]
  },
  {
   "cell_type": "code",
   "execution_count": 49,
   "metadata": {},
   "outputs": [],
   "source": [
    "data_train = '/'"
   ]
  },
  {
   "cell_type": "code",
   "execution_count": 50,
   "metadata": {},
   "outputs": [
    {
     "name": "stdout",
     "output_type": "stream",
     "text": [
      "Test samples: 1676.\n"
     ]
    },
    {
     "name": "stderr",
     "output_type": "stream",
     "text": [
      "100%|██████████| 6/6 [00:05<00:00,  1.03it/s]\n",
      "2020-04-23 18:32:00,748 dlcliche.utils make_prototypes [INFO]: Making new prototypes.\n"
     ]
    }
   ],
   "source": [
    "print(f'Test samples: {len(query_df)}.')\n",
    "\n",
    "# Making dataloaders\n",
    "def get_dl(df, folder, SZ=SZ, batch_size=256, augment='test', normalize='imagenet'):\n",
    "    if data_type == 'normal':\n",
    "        ds = GrocerImages_plus(folder, df, re_size=SZ, to_size=SZ,\n",
    "                             augment=augment, normalize=normalize, part=part, n_part=n_part)\n",
    "    else:\n",
    "        raise ValueError('invalid data type')\n",
    "    dl = DataLoader(ds, batch_size=batch_size, shuffle=False, num_workers=8)\n",
    "    return dl\n",
    "\n",
    "# 1. NORMAL RESULT\n",
    "# Make prototypes\n",
    "trn_dl = get_dl(proto_df, data_train)\n",
    "# model = feature_model\n",
    "model = get_model_fn(device=device, weight_file=weight_file)\n",
    "proto_net = ExtModelProtoNetClf(model, trn_dl.dataset.classes, device)\n",
    "proto_net.make_prototypes(trn_dl)"
   ]
  },
  {
   "cell_type": "code",
   "execution_count": 51,
   "metadata": {},
   "outputs": [],
   "source": [
    "data_test='/'"
   ]
  },
  {
   "cell_type": "code",
   "execution_count": 52,
   "metadata": {
    "scrolled": true
   },
   "outputs": [
    {
     "name": "stderr",
     "output_type": "stream",
     "text": [
      "100%|██████████| 7/7 [00:05<00:00,  1.43it/s]\n",
      "100%|██████████| 1676/1676 [00:15<00:00, 108.06it/s]\n"
     ]
    }
   ],
   "source": [
    "# Calculate distances\n",
    "test_dl = get_dl(query_df, data_test, batch_size=256)\n",
    "test_embs, gts = proto_net.get_embeddings(test_dl)\n",
    "test_dists = proto_net.predict_embeddings(test_embs, softmax=False) #Distance are already negated so dist shub b high now"
   ]
  },
  {
   "cell_type": "code",
   "execution_count": null,
   "metadata": {},
   "outputs": [],
   "source": []
  },
  {
   "cell_type": "code",
   "execution_count": 53,
   "metadata": {},
   "outputs": [],
   "source": [
    "from scipy.special import softmax\n",
    "test_probs = softmax(test_dists, axis=1)\n",
    "prototypes = np.array([x.mean() for x in proto_net.prototypes])"
   ]
  },
  {
   "cell_type": "code",
   "execution_count": 54,
   "metadata": {},
   "outputs": [
    {
     "data": {
      "text/plain": [
       "0.5544152744630072"
      ]
     },
     "execution_count": 54,
     "metadata": {},
     "output_type": "execute_result"
    }
   ],
   "source": [
    "(np.argsort(test_dists, axis=1)[:, :5] == np.argsort(test_probs, axis=1)[:, :5]).mean()"
   ]
  },
  {
   "cell_type": "code",
   "execution_count": 55,
   "metadata": {
    "scrolled": true
   },
   "outputs": [],
   "source": [
    "top5labels = np.argsort(-test_dists, axis=1)[:, :5] #- is to sort in descending order\n",
    "\n",
    "top5preds = [test_dists[i][top5labels[i]] for i in range(test_dists.shape[0])]\n",
    "top5probs = [test_probs[i][top5labels[i]] for i in range(test_dists.shape[0])]\n",
    "\n",
    "top5probs = np.array(top5probs)\n",
    "top5preds = np.array(top5preds)"
   ]
  },
  {
   "cell_type": "code",
   "execution_count": 56,
   "metadata": {},
   "outputs": [
    {
     "data": {
      "text/plain": [
       "Index(['image_path', 'label', 'type', 'label_id', 'split'], dtype='object')"
      ]
     },
     "execution_count": 56,
     "metadata": {},
     "output_type": "execute_result"
    }
   ],
   "source": [
    "query_df.columns"
   ]
  },
  {
   "cell_type": "code",
   "execution_count": 57,
   "metadata": {},
   "outputs": [
    {
     "data": {
      "text/html": [
       "<div>\n",
       "<style scoped>\n",
       "    .dataframe tbody tr th:only-of-type {\n",
       "        vertical-align: middle;\n",
       "    }\n",
       "\n",
       "    .dataframe tbody tr th {\n",
       "        vertical-align: top;\n",
       "    }\n",
       "\n",
       "    .dataframe thead th {\n",
       "        text-align: right;\n",
       "    }\n",
       "</style>\n",
       "<table border=\"1\" class=\"dataframe\">\n",
       "  <thead>\n",
       "    <tr style=\"text-align: right;\">\n",
       "      <th></th>\n",
       "      <th>fpath</th>\n",
       "      <th>category</th>\n",
       "      <th>type</th>\n",
       "      <th>label_id</th>\n",
       "      <th>split</th>\n",
       "      <th>actual</th>\n",
       "      <th>top_prob1</th>\n",
       "      <th>top_prob2</th>\n",
       "      <th>top_prob3</th>\n",
       "      <th>top_prob4</th>\n",
       "      <th>top_prob5</th>\n",
       "      <th>top_cat1</th>\n",
       "      <th>top_cat2</th>\n",
       "      <th>top_cat3</th>\n",
       "      <th>top_cat4</th>\n",
       "      <th>top_cat5</th>\n",
       "      <th>pred_cat</th>\n",
       "      <th>exp</th>\n",
       "    </tr>\n",
       "  </thead>\n",
       "  <tbody>\n",
       "    <tr>\n",
       "      <th>0</th>\n",
       "      <td>/home/raghava_balusu_walmartlabs_com/Work/ones...</td>\n",
       "      <td>5558787</td>\n",
       "      <td>query</td>\n",
       "      <td>1410</td>\n",
       "      <td>train</td>\n",
       "      <td>5558787</td>\n",
       "      <td>1.000000</td>\n",
       "      <td>4.155712e-09</td>\n",
       "      <td>6.482220e-13</td>\n",
       "      <td>7.007939e-15</td>\n",
       "      <td>8.621136e-19</td>\n",
       "      <td>5558787</td>\n",
       "      <td>23296492</td>\n",
       "      <td>4858662</td>\n",
       "      <td>5186005</td>\n",
       "      <td>4810550</td>\n",
       "      <td>5558787</td>\n",
       "      <td>BC_q2k100_rq5_ref1.5k</td>\n",
       "    </tr>\n",
       "    <tr>\n",
       "      <th>1</th>\n",
       "      <td>/home/raghava_balusu_walmartlabs_com/Work/ones...</td>\n",
       "      <td>5558787</td>\n",
       "      <td>query</td>\n",
       "      <td>1410</td>\n",
       "      <td>train</td>\n",
       "      <td>5558787</td>\n",
       "      <td>0.999940</td>\n",
       "      <td>5.970647e-05</td>\n",
       "      <td>7.537661e-18</td>\n",
       "      <td>8.849240e-26</td>\n",
       "      <td>1.594866e-26</td>\n",
       "      <td>23296492</td>\n",
       "      <td>22965966</td>\n",
       "      <td>4810552</td>\n",
       "      <td>5558787</td>\n",
       "      <td>4810554</td>\n",
       "      <td>23296492</td>\n",
       "      <td>BC_q2k100_rq5_ref1.5k</td>\n",
       "    </tr>\n",
       "    <tr>\n",
       "      <th>2</th>\n",
       "      <td>/home/raghava_balusu_walmartlabs_com/Work/ones...</td>\n",
       "      <td>5558787</td>\n",
       "      <td>query</td>\n",
       "      <td>1410</td>\n",
       "      <td>train</td>\n",
       "      <td>5558787</td>\n",
       "      <td>0.998892</td>\n",
       "      <td>1.107749e-03</td>\n",
       "      <td>6.259392e-08</td>\n",
       "      <td>6.364897e-10</td>\n",
       "      <td>1.701442e-10</td>\n",
       "      <td>23296492</td>\n",
       "      <td>5558787</td>\n",
       "      <td>4810554</td>\n",
       "      <td>5186005</td>\n",
       "      <td>23296489</td>\n",
       "      <td>23296492</td>\n",
       "      <td>BC_q2k100_rq5_ref1.5k</td>\n",
       "    </tr>\n",
       "    <tr>\n",
       "      <th>3</th>\n",
       "      <td>/home/raghava_balusu_walmartlabs_com/Work/ones...</td>\n",
       "      <td>5558787</td>\n",
       "      <td>query</td>\n",
       "      <td>1410</td>\n",
       "      <td>train</td>\n",
       "      <td>5558787</td>\n",
       "      <td>0.954831</td>\n",
       "      <td>4.040104e-02</td>\n",
       "      <td>4.766081e-03</td>\n",
       "      <td>2.082907e-06</td>\n",
       "      <td>6.285580e-08</td>\n",
       "      <td>53043115</td>\n",
       "      <td>6986914</td>\n",
       "      <td>5558787</td>\n",
       "      <td>42430527</td>\n",
       "      <td>54003387</td>\n",
       "      <td>53043115</td>\n",
       "      <td>BC_q2k100_rq5_ref1.5k</td>\n",
       "    </tr>\n",
       "    <tr>\n",
       "      <th>4</th>\n",
       "      <td>/home/raghava_balusu_walmartlabs_com/Work/ones...</td>\n",
       "      <td>5558787</td>\n",
       "      <td>query</td>\n",
       "      <td>1410</td>\n",
       "      <td>train</td>\n",
       "      <td>5558787</td>\n",
       "      <td>0.999992</td>\n",
       "      <td>7.664944e-06</td>\n",
       "      <td>8.822323e-15</td>\n",
       "      <td>3.632653e-15</td>\n",
       "      <td>5.588043e-22</td>\n",
       "      <td>4858662</td>\n",
       "      <td>23296492</td>\n",
       "      <td>31613801</td>\n",
       "      <td>5186005</td>\n",
       "      <td>53043115</td>\n",
       "      <td>4858662</td>\n",
       "      <td>BC_q2k100_rq5_ref1.5k</td>\n",
       "    </tr>\n",
       "  </tbody>\n",
       "</table>\n",
       "</div>"
      ],
      "text/plain": [
       "                                               fpath category   type  \\\n",
       "0  /home/raghava_balusu_walmartlabs_com/Work/ones...  5558787  query   \n",
       "1  /home/raghava_balusu_walmartlabs_com/Work/ones...  5558787  query   \n",
       "2  /home/raghava_balusu_walmartlabs_com/Work/ones...  5558787  query   \n",
       "3  /home/raghava_balusu_walmartlabs_com/Work/ones...  5558787  query   \n",
       "4  /home/raghava_balusu_walmartlabs_com/Work/ones...  5558787  query   \n",
       "\n",
       "   label_id  split   actual  top_prob1     top_prob2     top_prob3  \\\n",
       "0      1410  train  5558787   1.000000  4.155712e-09  6.482220e-13   \n",
       "1      1410  train  5558787   0.999940  5.970647e-05  7.537661e-18   \n",
       "2      1410  train  5558787   0.998892  1.107749e-03  6.259392e-08   \n",
       "3      1410  train  5558787   0.954831  4.040104e-02  4.766081e-03   \n",
       "4      1410  train  5558787   0.999992  7.664944e-06  8.822323e-15   \n",
       "\n",
       "      top_prob4     top_prob5  top_cat1  top_cat2  top_cat3  top_cat4  \\\n",
       "0  7.007939e-15  8.621136e-19   5558787  23296492   4858662   5186005   \n",
       "1  8.849240e-26  1.594866e-26  23296492  22965966   4810552   5558787   \n",
       "2  6.364897e-10  1.701442e-10  23296492   5558787   4810554   5186005   \n",
       "3  2.082907e-06  6.285580e-08  53043115   6986914   5558787  42430527   \n",
       "4  3.632653e-15  5.588043e-22   4858662  23296492  31613801   5186005   \n",
       "\n",
       "   top_cat5  pred_cat                    exp  \n",
       "0   4810550   5558787  BC_q2k100_rq5_ref1.5k  \n",
       "1   4810554  23296492  BC_q2k100_rq5_ref1.5k  \n",
       "2  23296489  23296492  BC_q2k100_rq5_ref1.5k  \n",
       "3  54003387  53043115  BC_q2k100_rq5_ref1.5k  \n",
       "4  53043115   4858662  BC_q2k100_rq5_ref1.5k  "
      ]
     },
     "execution_count": 57,
     "metadata": {},
     "output_type": "execute_result"
    }
   ],
   "source": [
    "query_df.columns = ['fpath', 'category', 'type', 'label_id', 'split']\n",
    "\n",
    "query_df['actual'] = query_df['category']\n",
    "\n",
    "for i in range(5):\n",
    "    query_df[f'top_prob'+str(i+1)] = top5probs[:, i]\n",
    "\n",
    "for i in range(5):\n",
    "    query_df[f'top_cat'+str(i+1)] = le.inverse_transform(top5labels[:, i])\n",
    "\n",
    "query_df['pred_cat'] = query_df['top_cat1']\n",
    "\n",
    "query_df['exp'] = exp\n",
    "\n",
    "query_df.head()"
   ]
  },
  {
   "cell_type": "code",
   "execution_count": 58,
   "metadata": {},
   "outputs": [
    {
     "name": "stdout",
     "output_type": "stream",
     "text": [
      "0.6700477326968973 0.9003579952267303\n"
     ]
    }
   ],
   "source": [
    "query_df['fpath'] = query_df.fpath.map(lambda x : '/Users/r0b03m2/Desktop/Work/braincorp_data/query_images/' + Path(x).name)\n",
    "\n",
    "query_df['Flag'] = query_df.apply(lambda x: x['actual'] == x['pred_cat'], axis=1)\n",
    "\n",
    "query_df['Flag_top5'] = query_df.apply(lambda x: x['actual'] in x[['top_cat1', 'top_cat2', 'top_cat3', 'top_cat4', 'top_cat5']].values, axis=1)\n",
    "\n",
    "print(query_df.Flag.mean(), query_df.Flag_top5.mean())"
   ]
  },
  {
   "cell_type": "code",
   "execution_count": 59,
   "metadata": {},
   "outputs": [],
   "source": [
    "temp = query_df.groupby(['exp', 'category'])['Flag'].mean().reset_index()\n",
    "temp.columns = ['exp', 'category', 'accuracy_Top1']\n",
    "query_df = query_df.merge(temp, how='left', on=['exp', 'category'])\n",
    "\n",
    "temp = query_df.groupby(['exp', 'category'])['Flag_top5'].mean().reset_index()\n",
    "temp.columns = ['exp', 'category', 'accuracy']\n",
    "query_df = query_df.merge(temp, how='left', on=['exp', 'category'])"
   ]
  },
  {
   "cell_type": "code",
   "execution_count": 60,
   "metadata": {},
   "outputs": [
    {
     "data": {
      "text/html": [
       "<div>\n",
       "<style scoped>\n",
       "    .dataframe tbody tr th:only-of-type {\n",
       "        vertical-align: middle;\n",
       "    }\n",
       "\n",
       "    .dataframe tbody tr th {\n",
       "        vertical-align: top;\n",
       "    }\n",
       "\n",
       "    .dataframe thead th {\n",
       "        text-align: right;\n",
       "    }\n",
       "</style>\n",
       "<table border=\"1\" class=\"dataframe\">\n",
       "  <thead>\n",
       "    <tr style=\"text-align: right;\">\n",
       "      <th></th>\n",
       "      <th>fpath</th>\n",
       "      <th>category</th>\n",
       "      <th>type</th>\n",
       "      <th>label_id</th>\n",
       "      <th>split</th>\n",
       "      <th>actual</th>\n",
       "      <th>top_prob1</th>\n",
       "      <th>top_prob2</th>\n",
       "      <th>top_prob3</th>\n",
       "      <th>top_prob4</th>\n",
       "      <th>...</th>\n",
       "      <th>top_cat2</th>\n",
       "      <th>top_cat3</th>\n",
       "      <th>top_cat4</th>\n",
       "      <th>top_cat5</th>\n",
       "      <th>pred_cat</th>\n",
       "      <th>exp</th>\n",
       "      <th>Flag</th>\n",
       "      <th>Flag_top5</th>\n",
       "      <th>accuracy_Top1</th>\n",
       "      <th>accuracy</th>\n",
       "    </tr>\n",
       "  </thead>\n",
       "  <tbody>\n",
       "    <tr>\n",
       "      <th>1671</th>\n",
       "      <td>/Users/r0b03m2/Desktop/Work/braincorp_data/que...</td>\n",
       "      <td>4810554</td>\n",
       "      <td>query</td>\n",
       "      <td>469</td>\n",
       "      <td>valid</td>\n",
       "      <td>4810554</td>\n",
       "      <td>0.930952</td>\n",
       "      <td>6.904832e-02</td>\n",
       "      <td>7.824354e-09</td>\n",
       "      <td>2.289855e-14</td>\n",
       "      <td>...</td>\n",
       "      <td>4810550</td>\n",
       "      <td>5186005</td>\n",
       "      <td>23296492</td>\n",
       "      <td>4810552</td>\n",
       "      <td>4810554</td>\n",
       "      <td>BC_q2k100_rq5_ref1.5k</td>\n",
       "      <td>True</td>\n",
       "      <td>True</td>\n",
       "      <td>0.75</td>\n",
       "      <td>0.964286</td>\n",
       "    </tr>\n",
       "    <tr>\n",
       "      <th>1672</th>\n",
       "      <td>/Users/r0b03m2/Desktop/Work/braincorp_data/que...</td>\n",
       "      <td>4810554</td>\n",
       "      <td>query</td>\n",
       "      <td>469</td>\n",
       "      <td>valid</td>\n",
       "      <td>4810554</td>\n",
       "      <td>1.000000</td>\n",
       "      <td>6.150504e-10</td>\n",
       "      <td>1.124491e-13</td>\n",
       "      <td>3.613324e-17</td>\n",
       "      <td>...</td>\n",
       "      <td>4810552</td>\n",
       "      <td>4810550</td>\n",
       "      <td>54082010</td>\n",
       "      <td>23296492</td>\n",
       "      <td>4810554</td>\n",
       "      <td>BC_q2k100_rq5_ref1.5k</td>\n",
       "      <td>True</td>\n",
       "      <td>True</td>\n",
       "      <td>0.75</td>\n",
       "      <td>0.964286</td>\n",
       "    </tr>\n",
       "    <tr>\n",
       "      <th>1673</th>\n",
       "      <td>/Users/r0b03m2/Desktop/Work/braincorp_data/que...</td>\n",
       "      <td>4810554</td>\n",
       "      <td>query</td>\n",
       "      <td>469</td>\n",
       "      <td>valid</td>\n",
       "      <td>4810554</td>\n",
       "      <td>1.000000</td>\n",
       "      <td>1.879601e-12</td>\n",
       "      <td>1.111173e-23</td>\n",
       "      <td>1.374991e-29</td>\n",
       "      <td>...</td>\n",
       "      <td>4810552</td>\n",
       "      <td>4810550</td>\n",
       "      <td>29566609</td>\n",
       "      <td>5186005</td>\n",
       "      <td>4810554</td>\n",
       "      <td>BC_q2k100_rq5_ref1.5k</td>\n",
       "      <td>True</td>\n",
       "      <td>True</td>\n",
       "      <td>0.75</td>\n",
       "      <td>0.964286</td>\n",
       "    </tr>\n",
       "    <tr>\n",
       "      <th>1674</th>\n",
       "      <td>/Users/r0b03m2/Desktop/Work/braincorp_data/que...</td>\n",
       "      <td>4810554</td>\n",
       "      <td>query</td>\n",
       "      <td>469</td>\n",
       "      <td>valid</td>\n",
       "      <td>4810554</td>\n",
       "      <td>1.000000</td>\n",
       "      <td>5.832542e-14</td>\n",
       "      <td>5.808764e-16</td>\n",
       "      <td>3.764980e-20</td>\n",
       "      <td>...</td>\n",
       "      <td>4810552</td>\n",
       "      <td>4810550</td>\n",
       "      <td>5186005</td>\n",
       "      <td>23296492</td>\n",
       "      <td>4810554</td>\n",
       "      <td>BC_q2k100_rq5_ref1.5k</td>\n",
       "      <td>True</td>\n",
       "      <td>True</td>\n",
       "      <td>0.75</td>\n",
       "      <td>0.964286</td>\n",
       "    </tr>\n",
       "    <tr>\n",
       "      <th>1675</th>\n",
       "      <td>/Users/r0b03m2/Desktop/Work/braincorp_data/que...</td>\n",
       "      <td>4810554</td>\n",
       "      <td>query</td>\n",
       "      <td>469</td>\n",
       "      <td>valid</td>\n",
       "      <td>4810554</td>\n",
       "      <td>0.999994</td>\n",
       "      <td>6.220384e-06</td>\n",
       "      <td>1.370812e-07</td>\n",
       "      <td>3.775429e-16</td>\n",
       "      <td>...</td>\n",
       "      <td>5186005</td>\n",
       "      <td>4810550</td>\n",
       "      <td>4810552</td>\n",
       "      <td>37989538</td>\n",
       "      <td>4810554</td>\n",
       "      <td>BC_q2k100_rq5_ref1.5k</td>\n",
       "      <td>True</td>\n",
       "      <td>True</td>\n",
       "      <td>0.75</td>\n",
       "      <td>0.964286</td>\n",
       "    </tr>\n",
       "  </tbody>\n",
       "</table>\n",
       "<p>5 rows × 22 columns</p>\n",
       "</div>"
      ],
      "text/plain": [
       "                                                  fpath category   type  \\\n",
       "1671  /Users/r0b03m2/Desktop/Work/braincorp_data/que...  4810554  query   \n",
       "1672  /Users/r0b03m2/Desktop/Work/braincorp_data/que...  4810554  query   \n",
       "1673  /Users/r0b03m2/Desktop/Work/braincorp_data/que...  4810554  query   \n",
       "1674  /Users/r0b03m2/Desktop/Work/braincorp_data/que...  4810554  query   \n",
       "1675  /Users/r0b03m2/Desktop/Work/braincorp_data/que...  4810554  query   \n",
       "\n",
       "      label_id  split   actual  top_prob1     top_prob2     top_prob3  \\\n",
       "1671       469  valid  4810554   0.930952  6.904832e-02  7.824354e-09   \n",
       "1672       469  valid  4810554   1.000000  6.150504e-10  1.124491e-13   \n",
       "1673       469  valid  4810554   1.000000  1.879601e-12  1.111173e-23   \n",
       "1674       469  valid  4810554   1.000000  5.832542e-14  5.808764e-16   \n",
       "1675       469  valid  4810554   0.999994  6.220384e-06  1.370812e-07   \n",
       "\n",
       "         top_prob4    ...     top_cat2 top_cat3  top_cat4  top_cat5 pred_cat  \\\n",
       "1671  2.289855e-14    ...      4810550  5186005  23296492   4810552  4810554   \n",
       "1672  3.613324e-17    ...      4810552  4810550  54082010  23296492  4810554   \n",
       "1673  1.374991e-29    ...      4810552  4810550  29566609   5186005  4810554   \n",
       "1674  3.764980e-20    ...      4810552  4810550   5186005  23296492  4810554   \n",
       "1675  3.775429e-16    ...      5186005  4810550   4810552  37989538  4810554   \n",
       "\n",
       "                        exp  Flag Flag_top5  accuracy_Top1  accuracy  \n",
       "1671  BC_q2k100_rq5_ref1.5k  True      True           0.75  0.964286  \n",
       "1672  BC_q2k100_rq5_ref1.5k  True      True           0.75  0.964286  \n",
       "1673  BC_q2k100_rq5_ref1.5k  True      True           0.75  0.964286  \n",
       "1674  BC_q2k100_rq5_ref1.5k  True      True           0.75  0.964286  \n",
       "1675  BC_q2k100_rq5_ref1.5k  True      True           0.75  0.964286  \n",
       "\n",
       "[5 rows x 22 columns]"
      ]
     },
     "execution_count": 60,
     "metadata": {},
     "output_type": "execute_result"
    }
   ],
   "source": [
    "query_df.tail()"
   ]
  },
  {
   "cell_type": "code",
   "execution_count": 113,
   "metadata": {},
   "outputs": [],
   "source": [
    "# bc_proto_results = pd.DataFrame({'fpath':[str(i).replace('/home/raghava_balusu_walmartlabs_com/Work/oneshotml/data/braincorp_data', '/Users/r0b03m2/Desktop/Work/braincorp_data') for i in ref],\n",
    "#               'category' : [i.parent.name for i in ref],\n",
    "#               'exp': ['dummy' for i in range(len(ref))]})\n",
    "\n",
    "# bc_proto_results.head()"
   ]
  },
  {
   "cell_type": "code",
   "execution_count": 61,
   "metadata": {},
   "outputs": [
    {
     "data": {
      "text/plain": [
       "'BC_q2k100_rq5_ref1.5k'"
      ]
     },
     "execution_count": 61,
     "metadata": {},
     "output_type": "execute_result"
    }
   ],
   "source": [
    "exp"
   ]
  },
  {
   "cell_type": "code",
   "execution_count": 88,
   "metadata": {},
   "outputs": [],
   "source": [
    "# result_df.to_csv('results/bc_proto_results.csv', index=False)"
   ]
  },
  {
   "cell_type": "code",
   "execution_count": 63,
   "metadata": {},
   "outputs": [],
   "source": [
    "result_df = pd.read_csv('results/bc_proto_results.csv')\n",
    "# result_df = bc_proto_results"
   ]
  },
  {
   "cell_type": "code",
   "execution_count": 64,
   "metadata": {},
   "outputs": [
    {
     "data": {
      "text/html": [
       "<div>\n",
       "<style scoped>\n",
       "    .dataframe tbody tr th:only-of-type {\n",
       "        vertical-align: middle;\n",
       "    }\n",
       "\n",
       "    .dataframe tbody tr th {\n",
       "        vertical-align: top;\n",
       "    }\n",
       "\n",
       "    .dataframe thead th {\n",
       "        text-align: right;\n",
       "    }\n",
       "</style>\n",
       "<table border=\"1\" class=\"dataframe\">\n",
       "  <thead>\n",
       "    <tr style=\"text-align: right;\">\n",
       "      <th></th>\n",
       "      <th>fpath</th>\n",
       "      <th>category</th>\n",
       "      <th>type</th>\n",
       "      <th>label_id</th>\n",
       "      <th>actual</th>\n",
       "      <th>top_prob1</th>\n",
       "      <th>top_prob2</th>\n",
       "      <th>top_prob3</th>\n",
       "      <th>top_prob4</th>\n",
       "      <th>top_prob5</th>\n",
       "      <th>...</th>\n",
       "      <th>top_cat3</th>\n",
       "      <th>top_cat4</th>\n",
       "      <th>top_cat5</th>\n",
       "      <th>pred_cat</th>\n",
       "      <th>exp</th>\n",
       "      <th>Flag</th>\n",
       "      <th>Flag_top5</th>\n",
       "      <th>accuracy</th>\n",
       "      <th>accuracy_Top1</th>\n",
       "      <th>split</th>\n",
       "    </tr>\n",
       "  </thead>\n",
       "  <tbody>\n",
       "    <tr>\n",
       "      <th>36705</th>\n",
       "      <td>/Users/r0b03m2/Desktop/Work/braincorp_data/que...</td>\n",
       "      <td>4810554</td>\n",
       "      <td>query</td>\n",
       "      <td>469.0</td>\n",
       "      <td>4810554.0</td>\n",
       "      <td>1.000000</td>\n",
       "      <td>7.581407e-10</td>\n",
       "      <td>1.044427e-12</td>\n",
       "      <td>1.101165e-21</td>\n",
       "      <td>3.111809e-25</td>\n",
       "      <td>...</td>\n",
       "      <td>5186005.0</td>\n",
       "      <td>23296489.0</td>\n",
       "      <td>4810552.0</td>\n",
       "      <td>4810550.0</td>\n",
       "      <td>BC_q2k100_ref1.5k</td>\n",
       "      <td>False</td>\n",
       "      <td>True</td>\n",
       "      <td>0.952381</td>\n",
       "      <td>0.488095</td>\n",
       "      <td>valid</td>\n",
       "    </tr>\n",
       "    <tr>\n",
       "      <th>36706</th>\n",
       "      <td>/Users/r0b03m2/Desktop/Work/braincorp_data/que...</td>\n",
       "      <td>4810554</td>\n",
       "      <td>query</td>\n",
       "      <td>469.0</td>\n",
       "      <td>4810554.0</td>\n",
       "      <td>1.000000</td>\n",
       "      <td>2.747309e-10</td>\n",
       "      <td>5.035298e-15</td>\n",
       "      <td>4.131967e-15</td>\n",
       "      <td>1.536410e-15</td>\n",
       "      <td>...</td>\n",
       "      <td>37989538.0</td>\n",
       "      <td>4810550.0</td>\n",
       "      <td>5186005.0</td>\n",
       "      <td>4810554.0</td>\n",
       "      <td>BC_q2k100_ref1.5k</td>\n",
       "      <td>True</td>\n",
       "      <td>True</td>\n",
       "      <td>0.952381</td>\n",
       "      <td>0.488095</td>\n",
       "      <td>valid</td>\n",
       "    </tr>\n",
       "    <tr>\n",
       "      <th>36707</th>\n",
       "      <td>/Users/r0b03m2/Desktop/Work/braincorp_data/que...</td>\n",
       "      <td>4810554</td>\n",
       "      <td>query</td>\n",
       "      <td>469.0</td>\n",
       "      <td>4810554.0</td>\n",
       "      <td>1.000000</td>\n",
       "      <td>7.628786e-09</td>\n",
       "      <td>4.371466e-14</td>\n",
       "      <td>1.070591e-17</td>\n",
       "      <td>8.988782e-20</td>\n",
       "      <td>...</td>\n",
       "      <td>37989538.0</td>\n",
       "      <td>5186005.0</td>\n",
       "      <td>4810552.0</td>\n",
       "      <td>4810554.0</td>\n",
       "      <td>BC_q2k100_ref1.5k</td>\n",
       "      <td>True</td>\n",
       "      <td>True</td>\n",
       "      <td>0.952381</td>\n",
       "      <td>0.488095</td>\n",
       "      <td>valid</td>\n",
       "    </tr>\n",
       "    <tr>\n",
       "      <th>36708</th>\n",
       "      <td>/Users/r0b03m2/Desktop/Work/braincorp_data/que...</td>\n",
       "      <td>4810554</td>\n",
       "      <td>query</td>\n",
       "      <td>469.0</td>\n",
       "      <td>4810554.0</td>\n",
       "      <td>1.000000</td>\n",
       "      <td>1.011866e-13</td>\n",
       "      <td>1.723761e-18</td>\n",
       "      <td>2.259140e-25</td>\n",
       "      <td>2.534978e-26</td>\n",
       "      <td>...</td>\n",
       "      <td>5186005.0</td>\n",
       "      <td>4810552.0</td>\n",
       "      <td>38957303.0</td>\n",
       "      <td>4810554.0</td>\n",
       "      <td>BC_q2k100_ref1.5k</td>\n",
       "      <td>True</td>\n",
       "      <td>True</td>\n",
       "      <td>0.952381</td>\n",
       "      <td>0.488095</td>\n",
       "      <td>valid</td>\n",
       "    </tr>\n",
       "    <tr>\n",
       "      <th>36709</th>\n",
       "      <td>/Users/r0b03m2/Desktop/Work/braincorp_data/que...</td>\n",
       "      <td>4810554</td>\n",
       "      <td>query</td>\n",
       "      <td>469.0</td>\n",
       "      <td>4810554.0</td>\n",
       "      <td>0.999999</td>\n",
       "      <td>7.476792e-07</td>\n",
       "      <td>7.162680e-14</td>\n",
       "      <td>2.382871e-20</td>\n",
       "      <td>1.523908e-20</td>\n",
       "      <td>...</td>\n",
       "      <td>5186005.0</td>\n",
       "      <td>37989538.0</td>\n",
       "      <td>4810552.0</td>\n",
       "      <td>4810554.0</td>\n",
       "      <td>BC_q2k100_ref1.5k</td>\n",
       "      <td>True</td>\n",
       "      <td>True</td>\n",
       "      <td>0.952381</td>\n",
       "      <td>0.488095</td>\n",
       "      <td>valid</td>\n",
       "    </tr>\n",
       "  </tbody>\n",
       "</table>\n",
       "<p>5 rows × 22 columns</p>\n",
       "</div>"
      ],
      "text/plain": [
       "                                                   fpath  category   type  \\\n",
       "36705  /Users/r0b03m2/Desktop/Work/braincorp_data/que...   4810554  query   \n",
       "36706  /Users/r0b03m2/Desktop/Work/braincorp_data/que...   4810554  query   \n",
       "36707  /Users/r0b03m2/Desktop/Work/braincorp_data/que...   4810554  query   \n",
       "36708  /Users/r0b03m2/Desktop/Work/braincorp_data/que...   4810554  query   \n",
       "36709  /Users/r0b03m2/Desktop/Work/braincorp_data/que...   4810554  query   \n",
       "\n",
       "       label_id     actual  top_prob1     top_prob2     top_prob3  \\\n",
       "36705     469.0  4810554.0   1.000000  7.581407e-10  1.044427e-12   \n",
       "36706     469.0  4810554.0   1.000000  2.747309e-10  5.035298e-15   \n",
       "36707     469.0  4810554.0   1.000000  7.628786e-09  4.371466e-14   \n",
       "36708     469.0  4810554.0   1.000000  1.011866e-13  1.723761e-18   \n",
       "36709     469.0  4810554.0   0.999999  7.476792e-07  7.162680e-14   \n",
       "\n",
       "          top_prob4     top_prob5  ...      top_cat3    top_cat4    top_cat5  \\\n",
       "36705  1.101165e-21  3.111809e-25  ...     5186005.0  23296489.0   4810552.0   \n",
       "36706  4.131967e-15  1.536410e-15  ...    37989538.0   4810550.0   5186005.0   \n",
       "36707  1.070591e-17  8.988782e-20  ...    37989538.0   5186005.0   4810552.0   \n",
       "36708  2.259140e-25  2.534978e-26  ...     5186005.0   4810552.0  38957303.0   \n",
       "36709  2.382871e-20  1.523908e-20  ...     5186005.0  37989538.0   4810552.0   \n",
       "\n",
       "        pred_cat                exp   Flag Flag_top5  accuracy accuracy_Top1  \\\n",
       "36705  4810550.0  BC_q2k100_ref1.5k  False      True  0.952381      0.488095   \n",
       "36706  4810554.0  BC_q2k100_ref1.5k   True      True  0.952381      0.488095   \n",
       "36707  4810554.0  BC_q2k100_ref1.5k   True      True  0.952381      0.488095   \n",
       "36708  4810554.0  BC_q2k100_ref1.5k   True      True  0.952381      0.488095   \n",
       "36709  4810554.0  BC_q2k100_ref1.5k   True      True  0.952381      0.488095   \n",
       "\n",
       "       split  \n",
       "36705  valid  \n",
       "36706  valid  \n",
       "36707  valid  \n",
       "36708  valid  \n",
       "36709  valid  \n",
       "\n",
       "[5 rows x 22 columns]"
      ]
     },
     "execution_count": 64,
     "metadata": {},
     "output_type": "execute_result"
    }
   ],
   "source": [
    "result_df.tail()"
   ]
  },
  {
   "cell_type": "code",
   "execution_count": 64,
   "metadata": {},
   "outputs": [],
   "source": [
    "# result_df.drop(result_df[result_df.exp == 'Grocer_res34_s1_q2_k80_epoch100'].index.values, inplace=True, axis=0)"
   ]
  },
  {
   "cell_type": "code",
   "execution_count": 65,
   "metadata": {},
   "outputs": [],
   "source": [
    "fin_df = result_df.append(query_df, ignore_index=True)"
   ]
  },
  {
   "cell_type": "code",
   "execution_count": 66,
   "metadata": {},
   "outputs": [
    {
     "data": {
      "text/html": [
       "<div>\n",
       "<style scoped>\n",
       "    .dataframe tbody tr th:only-of-type {\n",
       "        vertical-align: middle;\n",
       "    }\n",
       "\n",
       "    .dataframe tbody tr th {\n",
       "        vertical-align: top;\n",
       "    }\n",
       "\n",
       "    .dataframe thead th {\n",
       "        text-align: right;\n",
       "    }\n",
       "</style>\n",
       "<table border=\"1\" class=\"dataframe\">\n",
       "  <thead>\n",
       "    <tr style=\"text-align: right;\">\n",
       "      <th></th>\n",
       "      <th>Flag</th>\n",
       "      <th>Flag_top5</th>\n",
       "      <th>accuracy</th>\n",
       "      <th>accuracy_Top1</th>\n",
       "      <th>actual</th>\n",
       "      <th>category</th>\n",
       "      <th>exp</th>\n",
       "      <th>fpath</th>\n",
       "      <th>label_id</th>\n",
       "      <th>pred_cat</th>\n",
       "      <th>...</th>\n",
       "      <th>top_cat2</th>\n",
       "      <th>top_cat3</th>\n",
       "      <th>top_cat4</th>\n",
       "      <th>top_cat5</th>\n",
       "      <th>top_prob1</th>\n",
       "      <th>top_prob2</th>\n",
       "      <th>top_prob3</th>\n",
       "      <th>top_prob4</th>\n",
       "      <th>top_prob5</th>\n",
       "      <th>type</th>\n",
       "    </tr>\n",
       "  </thead>\n",
       "  <tbody>\n",
       "    <tr>\n",
       "      <th>38381</th>\n",
       "      <td>True</td>\n",
       "      <td>True</td>\n",
       "      <td>0.964286</td>\n",
       "      <td>0.75</td>\n",
       "      <td>4810554</td>\n",
       "      <td>4810554</td>\n",
       "      <td>BC_q2k100_rq5_ref1.5k</td>\n",
       "      <td>/Users/r0b03m2/Desktop/Work/braincorp_data/que...</td>\n",
       "      <td>469.0</td>\n",
       "      <td>4810554</td>\n",
       "      <td>...</td>\n",
       "      <td>4810550</td>\n",
       "      <td>5186005</td>\n",
       "      <td>23296492</td>\n",
       "      <td>4810552</td>\n",
       "      <td>0.930952</td>\n",
       "      <td>6.904832e-02</td>\n",
       "      <td>7.824354e-09</td>\n",
       "      <td>2.289855e-14</td>\n",
       "      <td>3.132165e-18</td>\n",
       "      <td>query</td>\n",
       "    </tr>\n",
       "    <tr>\n",
       "      <th>38382</th>\n",
       "      <td>True</td>\n",
       "      <td>True</td>\n",
       "      <td>0.964286</td>\n",
       "      <td>0.75</td>\n",
       "      <td>4810554</td>\n",
       "      <td>4810554</td>\n",
       "      <td>BC_q2k100_rq5_ref1.5k</td>\n",
       "      <td>/Users/r0b03m2/Desktop/Work/braincorp_data/que...</td>\n",
       "      <td>469.0</td>\n",
       "      <td>4810554</td>\n",
       "      <td>...</td>\n",
       "      <td>4810552</td>\n",
       "      <td>4810550</td>\n",
       "      <td>54082010</td>\n",
       "      <td>23296492</td>\n",
       "      <td>1.000000</td>\n",
       "      <td>6.150504e-10</td>\n",
       "      <td>1.124491e-13</td>\n",
       "      <td>3.613324e-17</td>\n",
       "      <td>2.811344e-17</td>\n",
       "      <td>query</td>\n",
       "    </tr>\n",
       "    <tr>\n",
       "      <th>38383</th>\n",
       "      <td>True</td>\n",
       "      <td>True</td>\n",
       "      <td>0.964286</td>\n",
       "      <td>0.75</td>\n",
       "      <td>4810554</td>\n",
       "      <td>4810554</td>\n",
       "      <td>BC_q2k100_rq5_ref1.5k</td>\n",
       "      <td>/Users/r0b03m2/Desktop/Work/braincorp_data/que...</td>\n",
       "      <td>469.0</td>\n",
       "      <td>4810554</td>\n",
       "      <td>...</td>\n",
       "      <td>4810552</td>\n",
       "      <td>4810550</td>\n",
       "      <td>29566609</td>\n",
       "      <td>5186005</td>\n",
       "      <td>1.000000</td>\n",
       "      <td>1.879601e-12</td>\n",
       "      <td>1.111173e-23</td>\n",
       "      <td>1.374991e-29</td>\n",
       "      <td>7.996715e-32</td>\n",
       "      <td>query</td>\n",
       "    </tr>\n",
       "    <tr>\n",
       "      <th>38384</th>\n",
       "      <td>True</td>\n",
       "      <td>True</td>\n",
       "      <td>0.964286</td>\n",
       "      <td>0.75</td>\n",
       "      <td>4810554</td>\n",
       "      <td>4810554</td>\n",
       "      <td>BC_q2k100_rq5_ref1.5k</td>\n",
       "      <td>/Users/r0b03m2/Desktop/Work/braincorp_data/que...</td>\n",
       "      <td>469.0</td>\n",
       "      <td>4810554</td>\n",
       "      <td>...</td>\n",
       "      <td>4810552</td>\n",
       "      <td>4810550</td>\n",
       "      <td>5186005</td>\n",
       "      <td>23296492</td>\n",
       "      <td>1.000000</td>\n",
       "      <td>5.832542e-14</td>\n",
       "      <td>5.808764e-16</td>\n",
       "      <td>3.764980e-20</td>\n",
       "      <td>8.711851e-28</td>\n",
       "      <td>query</td>\n",
       "    </tr>\n",
       "    <tr>\n",
       "      <th>38385</th>\n",
       "      <td>True</td>\n",
       "      <td>True</td>\n",
       "      <td>0.964286</td>\n",
       "      <td>0.75</td>\n",
       "      <td>4810554</td>\n",
       "      <td>4810554</td>\n",
       "      <td>BC_q2k100_rq5_ref1.5k</td>\n",
       "      <td>/Users/r0b03m2/Desktop/Work/braincorp_data/que...</td>\n",
       "      <td>469.0</td>\n",
       "      <td>4810554</td>\n",
       "      <td>...</td>\n",
       "      <td>5186005</td>\n",
       "      <td>4810550</td>\n",
       "      <td>4810552</td>\n",
       "      <td>37989538</td>\n",
       "      <td>0.999994</td>\n",
       "      <td>6.220384e-06</td>\n",
       "      <td>1.370812e-07</td>\n",
       "      <td>3.775429e-16</td>\n",
       "      <td>1.560768e-28</td>\n",
       "      <td>query</td>\n",
       "    </tr>\n",
       "  </tbody>\n",
       "</table>\n",
       "<p>5 rows × 22 columns</p>\n",
       "</div>"
      ],
      "text/plain": [
       "       Flag Flag_top5  accuracy  accuracy_Top1   actual category  \\\n",
       "38381  True      True  0.964286           0.75  4810554  4810554   \n",
       "38382  True      True  0.964286           0.75  4810554  4810554   \n",
       "38383  True      True  0.964286           0.75  4810554  4810554   \n",
       "38384  True      True  0.964286           0.75  4810554  4810554   \n",
       "38385  True      True  0.964286           0.75  4810554  4810554   \n",
       "\n",
       "                         exp  \\\n",
       "38381  BC_q2k100_rq5_ref1.5k   \n",
       "38382  BC_q2k100_rq5_ref1.5k   \n",
       "38383  BC_q2k100_rq5_ref1.5k   \n",
       "38384  BC_q2k100_rq5_ref1.5k   \n",
       "38385  BC_q2k100_rq5_ref1.5k   \n",
       "\n",
       "                                                   fpath  label_id pred_cat  \\\n",
       "38381  /Users/r0b03m2/Desktop/Work/braincorp_data/que...     469.0  4810554   \n",
       "38382  /Users/r0b03m2/Desktop/Work/braincorp_data/que...     469.0  4810554   \n",
       "38383  /Users/r0b03m2/Desktop/Work/braincorp_data/que...     469.0  4810554   \n",
       "38384  /Users/r0b03m2/Desktop/Work/braincorp_data/que...     469.0  4810554   \n",
       "38385  /Users/r0b03m2/Desktop/Work/braincorp_data/que...     469.0  4810554   \n",
       "\n",
       "       ...   top_cat2 top_cat3  top_cat4  top_cat5 top_prob1     top_prob2  \\\n",
       "38381  ...    4810550  5186005  23296492   4810552  0.930952  6.904832e-02   \n",
       "38382  ...    4810552  4810550  54082010  23296492  1.000000  6.150504e-10   \n",
       "38383  ...    4810552  4810550  29566609   5186005  1.000000  1.879601e-12   \n",
       "38384  ...    4810552  4810550   5186005  23296492  1.000000  5.832542e-14   \n",
       "38385  ...    5186005  4810550   4810552  37989538  0.999994  6.220384e-06   \n",
       "\n",
       "          top_prob3     top_prob4     top_prob5   type  \n",
       "38381  7.824354e-09  2.289855e-14  3.132165e-18  query  \n",
       "38382  1.124491e-13  3.613324e-17  2.811344e-17  query  \n",
       "38383  1.111173e-23  1.374991e-29  7.996715e-32  query  \n",
       "38384  5.808764e-16  3.764980e-20  8.711851e-28  query  \n",
       "38385  1.370812e-07  3.775429e-16  1.560768e-28  query  \n",
       "\n",
       "[5 rows x 22 columns]"
      ]
     },
     "execution_count": 66,
     "metadata": {},
     "output_type": "execute_result"
    }
   ],
   "source": [
    "fin_df.tail()"
   ]
  },
  {
   "cell_type": "code",
   "execution_count": 67,
   "metadata": {},
   "outputs": [],
   "source": [
    "fin_df = fin_df[['fpath', 'category', 'type', 'label_id', 'actual', 'top_prob1',\n",
    "       'top_prob2', 'top_prob3', 'top_prob4', 'top_prob5', 'top_cat1',\n",
    "       'top_cat2', 'top_cat3', 'top_cat4', 'top_cat5', 'pred_cat', 'exp',\n",
    "       'Flag', 'Flag_top5', 'accuracy', 'accuracy_Top1', 'split']]"
   ]
  },
  {
   "cell_type": "code",
   "execution_count": 68,
   "metadata": {},
   "outputs": [
    {
     "data": {
      "text/html": [
       "<div>\n",
       "<style scoped>\n",
       "    .dataframe tbody tr th:only-of-type {\n",
       "        vertical-align: middle;\n",
       "    }\n",
       "\n",
       "    .dataframe tbody tr th {\n",
       "        vertical-align: top;\n",
       "    }\n",
       "\n",
       "    .dataframe thead th {\n",
       "        text-align: right;\n",
       "    }\n",
       "</style>\n",
       "<table border=\"1\" class=\"dataframe\">\n",
       "  <thead>\n",
       "    <tr style=\"text-align: right;\">\n",
       "      <th></th>\n",
       "      <th>accuracy_Top1</th>\n",
       "    </tr>\n",
       "    <tr>\n",
       "      <th>exp</th>\n",
       "      <th></th>\n",
       "    </tr>\n",
       "  </thead>\n",
       "  <tbody>\n",
       "    <tr>\n",
       "      <th>BC_q10k25ref1.5k</th>\n",
       "      <td>0.447494</td>\n",
       "    </tr>\n",
       "    <tr>\n",
       "      <th>BC_q2k100_ref1.5k</th>\n",
       "      <td>0.607399</td>\n",
       "    </tr>\n",
       "    <tr>\n",
       "      <th>BC_q2k100_rq10_ref1.5k</th>\n",
       "      <td>0.645585</td>\n",
       "    </tr>\n",
       "    <tr>\n",
       "      <th>BC_q2k100_rq5_ref1.5k</th>\n",
       "      <td>0.670048</td>\n",
       "    </tr>\n",
       "    <tr>\n",
       "      <th>BC_q2k80onlyref1.5k</th>\n",
       "      <td>0.177208</td>\n",
       "    </tr>\n",
       "    <tr>\n",
       "      <th>BC_q5k25_ref1.5k</th>\n",
       "      <td>0.451671</td>\n",
       "    </tr>\n",
       "    <tr>\n",
       "      <th>BC_q5k50_rq10_ref1.5k</th>\n",
       "      <td>0.508950</td>\n",
       "    </tr>\n",
       "    <tr>\n",
       "      <th>BC_q5k50ref1.5k</th>\n",
       "      <td>0.519690</td>\n",
       "    </tr>\n",
       "    <tr>\n",
       "      <th>GP_185refqcls</th>\n",
       "      <td>0.269093</td>\n",
       "    </tr>\n",
       "    <tr>\n",
       "      <th>GP_185refqcls_ref1.5k</th>\n",
       "      <td>0.065036</td>\n",
       "    </tr>\n",
       "    <tr>\n",
       "      <th>GP_nonq7.6k</th>\n",
       "      <td>0.332936</td>\n",
       "    </tr>\n",
       "    <tr>\n",
       "      <th>GP_nonq7.6k_ref1.5k</th>\n",
       "      <td>0.202267</td>\n",
       "    </tr>\n",
       "    <tr>\n",
       "      <th>GP_nonq7.8k</th>\n",
       "      <td>0.324582</td>\n",
       "    </tr>\n",
       "    <tr>\n",
       "      <th>GP_nonq7.8k_ref1.5k</th>\n",
       "      <td>0.158115</td>\n",
       "    </tr>\n",
       "    <tr>\n",
       "      <th>GP_onlyref</th>\n",
       "      <td>0.335322</td>\n",
       "    </tr>\n",
       "    <tr>\n",
       "      <th>GP_onlyref2.5k</th>\n",
       "      <td>0.321002</td>\n",
       "    </tr>\n",
       "    <tr>\n",
       "      <th>GP_onlyref2.5k_ref1.5k</th>\n",
       "      <td>0.193914</td>\n",
       "    </tr>\n",
       "    <tr>\n",
       "      <th>GP_onlyref_ref1.5k</th>\n",
       "      <td>0.190334</td>\n",
       "    </tr>\n",
       "    <tr>\n",
       "      <th>GP_onlyrefhard</th>\n",
       "      <td>0.365155</td>\n",
       "    </tr>\n",
       "    <tr>\n",
       "      <th>GP_onlyrefhard_ref1.5k</th>\n",
       "      <td>0.201074</td>\n",
       "    </tr>\n",
       "    <tr>\n",
       "      <th>dummy</th>\n",
       "      <td>NaN</td>\n",
       "    </tr>\n",
       "    <tr>\n",
       "      <th>res_untrained</th>\n",
       "      <td>0.238067</td>\n",
       "    </tr>\n",
       "    <tr>\n",
       "      <th>res_untrained_ref1.5k</th>\n",
       "      <td>0.106205</td>\n",
       "    </tr>\n",
       "  </tbody>\n",
       "</table>\n",
       "</div>"
      ],
      "text/plain": [
       "                        accuracy_Top1\n",
       "exp                                  \n",
       "BC_q10k25ref1.5k             0.447494\n",
       "BC_q2k100_ref1.5k            0.607399\n",
       "BC_q2k100_rq10_ref1.5k       0.645585\n",
       "BC_q2k100_rq5_ref1.5k        0.670048\n",
       "BC_q2k80onlyref1.5k          0.177208\n",
       "BC_q5k25_ref1.5k             0.451671\n",
       "BC_q5k50_rq10_ref1.5k        0.508950\n",
       "BC_q5k50ref1.5k              0.519690\n",
       "GP_185refqcls                0.269093\n",
       "GP_185refqcls_ref1.5k        0.065036\n",
       "GP_nonq7.6k                  0.332936\n",
       "GP_nonq7.6k_ref1.5k          0.202267\n",
       "GP_nonq7.8k                  0.324582\n",
       "GP_nonq7.8k_ref1.5k          0.158115\n",
       "GP_onlyref                   0.335322\n",
       "GP_onlyref2.5k               0.321002\n",
       "GP_onlyref2.5k_ref1.5k       0.193914\n",
       "GP_onlyref_ref1.5k           0.190334\n",
       "GP_onlyrefhard               0.365155\n",
       "GP_onlyrefhard_ref1.5k       0.201074\n",
       "dummy                             NaN\n",
       "res_untrained                0.238067\n",
       "res_untrained_ref1.5k        0.106205"
      ]
     },
     "execution_count": 68,
     "metadata": {},
     "output_type": "execute_result"
    }
   ],
   "source": [
    "fin_df.groupby('exp').aggregate({'accuracy_Top1': np.mean})"
   ]
  },
  {
   "cell_type": "code",
   "execution_count": 119,
   "metadata": {},
   "outputs": [],
   "source": [
    "# fin_df['exp'] = fin_df.exp.map({'dummy':'dummy', \n",
    "#  'GP_185refqcls_ref1.5k': 'GP_185refqcls_ref1.5k', \n",
    "#  'GP_185refqcls':'GP_185refqcls', \n",
    "#  'res_untrained': 'res_untrained',\n",
    "#  'GP_nonq7.8k': 'GP_nonq7.8k', \n",
    "#  'GP_nonq7.6k': 'GP_nonq7.6k', \n",
    "#  'GP_onlyref2.5k': 'GP_onlyref2.5k', \n",
    "#  'GP_onlyrefhard': 'GP_onlyrefhard',      \n",
    "#  'GP_onlyref': 'GP_onlyref', \n",
    "#  'res_untrained_ref1.5k': 'res_untrained_ref1.5k', \n",
    "#  'GP_nonq7.8k_ref1.5k': 'GP_nonq7.8k_ref1.5k',\n",
    "#  'GP_nonq7.6k_ref1.5k': 'GP_nonq7.6k_ref1.5k', \n",
    "#  'GP_onlyref2.5k_ref1.5k': 'GP_onlyref2.5k_ref1.5k',\n",
    "#  'GP_onlyrefhard_ref1.5k': 'GP_onlyrefhard_ref1.5k', \n",
    "#  'GP_onlyref_ref1.5k': 'GP_onlyref_ref1.5k', \n",
    "#  'BC_onlyref1.5k': 'BC_q2k80onlyref1.5k',\n",
    "#  'BC_q5ref1.5k': 'BC_q5k50ref1.5k', \n",
    "#  'BC_q10ref1.5k': 'BC_q10k25ref1.5k', \n",
    "#  'BC_q5k25_ref1.5k': 'BC_q5k25_ref1.5k'})"
   ]
  },
  {
   "cell_type": "code",
   "execution_count": 70,
   "metadata": {},
   "outputs": [],
   "source": [
    "# fin_df.columns = ['fpath', 'category', 'type', 'label_id', 'actual', 'top_prob1',\n",
    "#        'top_prob2', 'top_prob3', 'top_prob4', 'top_prob5', 'top_cat1',\n",
    "#        'top_cat2', 'top_cat3', 'top_cat4', 'top_cat5', 'pred_cat', 'exp',\n",
    "#        'Flag', 'Flag_top5', 'accuracy_Top1', 'accuracy', 'split']"
   ]
  },
  {
   "cell_type": "code",
   "execution_count": 69,
   "metadata": {},
   "outputs": [],
   "source": [
    "fin_df.to_csv('results/bc_proto_results.csv', index=False)"
   ]
  },
  {
   "cell_type": "code",
   "execution_count": 70,
   "metadata": {},
   "outputs": [],
   "source": [
    "fin_df[fin_df.split=='valid'].to_csv('results/bc_proto_valid_results.csv', index=False)"
   ]
  },
  {
   "cell_type": "code",
   "execution_count": 226,
   "metadata": {},
   "outputs": [],
   "source": [
    "# fin_df['exp'] = fin_df.exp.map(lambda x : x.replace('_only37', '').replace('.pth',''))"
   ]
  },
  {
   "cell_type": "code",
   "execution_count": 126,
   "metadata": {},
   "outputs": [
    {
     "data": {
      "text/plain": [
       "array(['dummy', 'GP_185refqcls_ref1.5k', 'GP_185refqcls', 'res_untrained',\n",
       "       'GP_nonq7.8k', 'GP_nonq7.6k', 'GP_onlyref2.5k', 'GP_onlyrefhard',\n",
       "       'GP_onlyref', 'res_untrained_ref1.5k', 'GP_nonq7.8k_ref1.5k',\n",
       "       'GP_nonq7.6k_ref1.5k', 'GP_onlyref2.5k_ref1.5k',\n",
       "       'GP_onlyrefhard_ref1.5k', 'GP_onlyref_ref1.5k',\n",
       "       'BC_q2k80onlyref1.5k', 'BC_q5k50ref1.5k', 'BC_q10k25ref1.5k',\n",
       "       'BC_q5k25_ref1.5k', 'BC_q5k50_rq10_ref1.5k',\n",
       "       'BC_q2k100_rq10_ref1.5k', 'BC_q2k100_ref1.5k'], dtype=object)"
      ]
     },
     "execution_count": 126,
     "metadata": {},
     "output_type": "execute_result"
    }
   ],
   "source": [
    "fin_df.exp.unique()"
   ]
  },
  {
   "cell_type": "code",
   "execution_count": null,
   "metadata": {},
   "outputs": [],
   "source": []
  },
  {
   "cell_type": "code",
   "execution_count": 85,
   "metadata": {},
   "outputs": [],
   "source": [
    "query_df[query_df.split=='train'].to_csv('results/bc_proto_train_results.csv', index=False)"
   ]
  },
  {
   "cell_type": "markdown",
   "metadata": {},
   "source": [
    "#### Topn Accuracy\n",
    "\n",
    "* 1514 ref Images\n",
    "    * 34 Ref classes ahve query images as well\n",
    "    *1480 with augmentation\n",
    "    * test - 34 images  with out 5 query not in trainign"
   ]
  },
  {
   "cell_type": "code",
   "execution_count": 72,
   "metadata": {},
   "outputs": [
    {
     "name": "stdout",
     "output_type": "stream",
     "text": [
      "0.6700477326968973 0.9003579952267303 0.9570405727923628\n"
     ]
    }
   ],
   "source": [
    "topn = 15\n",
    "\n",
    "topnlabels = np.argsort(-test_dists, axis=1)[:, :topn] #- is to sort in descending order\n",
    "\n",
    "topnpreds = [test_dists[i][topnlabels[i]] for i in range(test_dists.shape[0])]\n",
    "topnprobs = [test_probs[i][topnlabels[i]] for i in range(test_dists.shape[0])]\n",
    "\n",
    "topnprobs = np.array(topnprobs)\n",
    "topnpreds = np.array(topnpreds)\n",
    "\n",
    "for i in range(topn):\n",
    "    query_df[f'top_prob'+str(i+1)] = topnprobs[:, i]\n",
    "\n",
    "for i in range(topn):\n",
    "    query_df[f'top_cat'+str(i+1)] = le.inverse_transform(topnlabels[:, i])\n",
    "\n",
    "topn_cols = [f'top_cat{i+1}' for i in range(topn)]\n",
    "query_df['Flag_topn'] = query_df.apply(lambda x: x['actual'] in x[topn_cols].values, axis=1)\n",
    "\n",
    "print(query_df.Flag.mean(), query_df.Flag_top5.mean(), query_df.Flag_topn.mean())"
   ]
  },
  {
   "cell_type": "code",
   "execution_count": null,
   "metadata": {},
   "outputs": [],
   "source": []
  },
  {
   "cell_type": "code",
   "execution_count": null,
   "metadata": {},
   "outputs": [],
   "source": []
  },
  {
   "cell_type": "code",
   "execution_count": null,
   "metadata": {},
   "outputs": [],
   "source": []
  },
  {
   "cell_type": "code",
   "execution_count": 87,
   "metadata": {},
   "outputs": [
    {
     "data": {
      "text/plain": [
       "array(['dummy', 'Grocer_res34_s1_q2_k80_e101_ref1.5k',\n",
       "       'Grocer_res34_s1_q2_k80_e101', 'res_untrained',\n",
       "       'Grocer_res34_s1_q2_k80_nonq7.8k_epoch100',\n",
       "       'Grocer_res34_s1_q2_k80_nonq7.6k_epoch100',\n",
       "       'Grocer_res34_s1_q2_k80_onlyref2.5k_epoch100',\n",
       "       'Grocer_res34_s1_q2_k80_onlyrefhard_epoch100',\n",
       "       'Grocer_res34_s1_q2_k80_onlyref_epoch100', 'res_untrained_ref1.5k',\n",
       "       'Grocer_res34_s1_q2_k80_nonq7.8k_ref1.5k'], dtype=object)"
      ]
     },
     "execution_count": 87,
     "metadata": {},
     "output_type": "execute_result"
    }
   ],
   "source": [
    "fin_df.exp.unique()"
   ]
  },
  {
   "cell_type": "code",
   "execution_count": 90,
   "metadata": {},
   "outputs": [
    {
     "data": {
      "text/plain": [
       "array(['Grocer_res34_s1_q2_k80_nonq7.6k_epoch100',\n",
       "       'Grocer_res34_s1_q2_k80_onlyref2.5k_epoch100',\n",
       "       'Grocer_res34_s1_q2_k80_onlyrefhard_epoch100',\n",
       "       'Grocer_res34_s1_q2_k80_onlyref_epoch100'], dtype=object)"
      ]
     },
     "execution_count": 90,
     "metadata": {},
     "output_type": "execute_result"
    }
   ],
   "source": [
    "fin_df.exp.unique()[5:-2]"
   ]
  },
  {
   "cell_type": "code",
   "execution_count": 93,
   "metadata": {},
   "outputs": [
    {
     "name": "stdout",
     "output_type": "stream",
     "text": [
      "Grocer_res34_s1_q2_k80_nonq7.6k_ref1.5k\n",
      "Test samples: 1676.\n"
     ]
    },
    {
     "name": "stderr",
     "output_type": "stream",
     "text": [
      "100%|██████████| 6/6 [00:06<00:00,  1.02s/it]\n",
      "2020-04-22 19:01:36,473 dlcliche.utils make_prototypes [INFO]: Making new prototypes.\n",
      "100%|██████████| 7/7 [00:05<00:00,  1.39it/s]\n",
      "100%|██████████| 1676/1676 [00:17<00:00, 93.69it/s]\n"
     ]
    },
    {
     "name": "stdout",
     "output_type": "stream",
     "text": [
      "0.2022673031026253 0.3192124105011933\n",
      "Grocer_res34_s1_q2_k80_onlyref2.5k_ref1.5k\n",
      "Test samples: 1676.\n"
     ]
    },
    {
     "name": "stderr",
     "output_type": "stream",
     "text": [
      "100%|██████████| 6/6 [00:06<00:00,  1.08s/it]\n",
      "2020-04-22 19:02:24,926 dlcliche.utils make_prototypes [INFO]: Making new prototypes.\n",
      "100%|██████████| 7/7 [00:05<00:00,  1.40it/s]\n",
      "100%|██████████| 1676/1676 [00:17<00:00, 93.59it/s]\n"
     ]
    },
    {
     "name": "stdout",
     "output_type": "stream",
     "text": [
      "0.19391408114558473 0.3383054892601432\n",
      "Grocer_res34_s1_q2_k80_onlyrefhard_ref1.5k\n",
      "Test samples: 1676.\n"
     ]
    },
    {
     "name": "stderr",
     "output_type": "stream",
     "text": [
      "100%|██████████| 6/6 [00:06<00:00,  1.03s/it]\n",
      "2020-04-22 19:03:13,045 dlcliche.utils make_prototypes [INFO]: Making new prototypes.\n",
      "100%|██████████| 7/7 [00:05<00:00,  1.41it/s]\n",
      "100%|██████████| 1676/1676 [00:17<00:00, 94.63it/s]\n"
     ]
    },
    {
     "name": "stdout",
     "output_type": "stream",
     "text": [
      "0.20107398568019094 0.3168257756563246\n",
      "Grocer_res34_s1_q2_k80_onlyref_ref1.5k\n",
      "Test samples: 1676.\n"
     ]
    },
    {
     "name": "stderr",
     "output_type": "stream",
     "text": [
      "100%|██████████| 6/6 [00:06<00:00,  1.04s/it]\n",
      "2020-04-22 19:04:01,085 dlcliche.utils make_prototypes [INFO]: Making new prototypes.\n",
      "100%|██████████| 7/7 [00:05<00:00,  1.41it/s]\n",
      "100%|██████████| 1676/1676 [00:17<00:00, 94.03it/s]\n"
     ]
    },
    {
     "name": "stdout",
     "output_type": "stream",
     "text": [
      "0.19033412887828163 0.26968973747016706\n"
     ]
    }
   ],
   "source": [
    "for i in ['Grocer_res34_s1_q2_k80_nonq7.6k_epoch100',\n",
    "       'Grocer_res34_s1_q2_k80_onlyref2.5k_epoch100',\n",
    "       'Grocer_res34_s1_q2_k80_onlyrefhard_epoch100',\n",
    "       'Grocer_res34_s1_q2_k80_onlyref_epoch100']:\n",
    "    args.param_str = i.replace('_epoch100','')\n",
    "    # exp = f'{args.param_str}_epoch{args.n_epochs}' + '_ref1.5k'\n",
    "    exp = i.replace('_epoch100','')+'_ref1.5k'\n",
    "    print(exp)\n",
    "    get_model_fn=get_resnet34\n",
    "    weight_file = f'models/{args.param_str}_e{args.n_epochs+1}.pth'\n",
    "    output_path='results'\n",
    "\n",
    "\n",
    "    DATA_PATH = '/home/raghava_balusu_walmartlabs_com/Work/oneshotml/data/braincorp_data/'\n",
    "\n",
    "    SZ=256\n",
    "    device='cuda'\n",
    "    train_csv=DATA_PATH+'/train.csv'\n",
    "    data_train = DATA_PATH\n",
    "    data_test  = DATA_PATH\n",
    "    data_type='normal'\n",
    "    normalize='imagenet'\n",
    "    N_TTA=0\n",
    "    part=0\n",
    "    n_part=1\n",
    "\n",
    "    weight_file = Path(weight_file)\n",
    "    output_path = Path(output_path)\n",
    "    ensure_folder(output_path)\n",
    "\n",
    "    ref = [i for i in list(Path('/home/raghava_balusu_walmartlabs_com/Work/oneshotml/data/braincorp_data/ref_img').glob('*/*.png'))]\n",
    "    aisle = [i for i in list(Path('/home/raghava_balusu_walmartlabs_com/Work/oneshotml/data/braincorp_data/ref_38').glob('*/*.png'))]\n",
    "    # ref = aisle\n",
    "\n",
    "    proto_df = pd.DataFrame({'image_path' : [str(i) for i in ref], 'label' : [i.parent.name for i in ref]})\n",
    "    proto_df['type'] = 'reference'\n",
    "\n",
    "    le = LabelEncoder()\n",
    "    proto_df['label_id'] = le.fit_transform(proto_df.label)\n",
    "\n",
    "    proto_df.head()\n",
    "\n",
    "    query_df = pd.read_csv('/home/raghava_balusu_walmartlabs_com/Work/oneshotml/data/braincorp_data/img_to_labels.csv', index_col=0)\n",
    "\n",
    "    query_df.columns = ['image_path', 'label']\n",
    "\n",
    "    query_df['image_path'] = query_df.image_path.map(lambda x : '/home/raghava_balusu_walmartlabs_com/Work/oneshotml/data/braincorp_data/query_images/' + x)\n",
    "\n",
    "    item_mapping = {'1' : '54629736', '2' : '54481233', '3' : '3572171', '4' : '5558787', '5' : '4810550', '6' : '29566609', '7' : '100000000', '8':'4810554', '9' :'23296492','10':'22965966','11' :'100000010', '12' : '53798269', '13' : '100000001', '14':'5186005','15' :'23296489', '16':'38957303','17':'37989538', '18' :'5401467', '19' :'4385267', '20':'5142520','21':'53419173','22':'54747442','23':'53197162','24':'5262834','25':'54217299','26':'42430527','27':'6986914','28':'50563145','29':'100000003','30':'53564608','31':'100000004','32':'100000005','33':'100000006','34':'54271401','35':'100000007','36':'53621633','37':'53798262','38':'31525622','39':'53537941','40':'54739328','41':'52867343','42':'54003387','43':'54565142'}\n",
    "    remove_lst = ['junk', '1', '7', '13', '29', '31', '32', '33', '35', '11']\n",
    "\n",
    "    query_df = query_df[-query_df.label.isin(remove_lst)].reset_index(drop=True)\n",
    "\n",
    "    query_df['label'] = query_df.label.map(lambda x : item_mapping[x])\n",
    "\n",
    "    query_df['type'] = 'query'\n",
    "    query_df['label_id'] = le.transform(query_df.label.values)\n",
    "\n",
    "    query_df.head()\n",
    "\n",
    "    data_train = '/'\n",
    "\n",
    "    print(f'Test samples: {len(query_df)}.')\n",
    "\n",
    "    # Making dataloaders\n",
    "    def get_dl(df, folder, SZ=SZ, batch_size=256, augment='test', normalize='imagenet'):\n",
    "        if data_type == 'normal':\n",
    "            ds = GrocerImages_plus(folder, df, re_size=SZ, to_size=SZ,\n",
    "                                 augment=augment, normalize=normalize, part=part, n_part=n_part)\n",
    "        else:\n",
    "            raise ValueError('invalid data type')\n",
    "        dl = DataLoader(ds, batch_size=batch_size, shuffle=False, num_workers=8)\n",
    "        return dl\n",
    "\n",
    "    # 1. NORMAL RESULT\n",
    "    # Make prototypes\n",
    "    trn_dl = get_dl(proto_df, data_train)\n",
    "    # model = feature_model\n",
    "    model = get_model_fn(device=device, weight_file=weight_file)\n",
    "    proto_net = ExtModelProtoNetClf(model, trn_dl.dataset.classes, device)\n",
    "    proto_net.make_prototypes(trn_dl)\n",
    "\n",
    "    data_test='/'\n",
    "\n",
    "    # Calculate distances\n",
    "    test_dl = get_dl(query_df, data_test, batch_size=256)\n",
    "    test_embs, gts = proto_net.get_embeddings(test_dl)\n",
    "    test_dists = proto_net.predict_embeddings(test_embs, softmax=False) #Distance are already negated so dist shub b high now\n",
    "\n",
    "    from scipy.special import softmax\n",
    "    test_probs = softmax(test_dists, axis=1)\n",
    "    prototypes = np.array([x.mean() for x in proto_net.prototypes])\n",
    "\n",
    "    (np.argsort(test_dists, axis=1)[:, :5] == np.argsort(test_probs, axis=1)[:, :5]).mean()\n",
    "\n",
    "    top5labels = np.argsort(-test_dists, axis=1)[:, :5] #- is to sort in descending order\n",
    "\n",
    "    top5preds = [test_dists[i][top5labels[i]] for i in range(test_dists.shape[0])]\n",
    "    top5probs = [test_probs[i][top5labels[i]] for i in range(test_dists.shape[0])]\n",
    "\n",
    "    top5probs = np.array(top5probs)\n",
    "    top5preds = np.array(top5preds)\n",
    "\n",
    "    query_df.columns\n",
    "\n",
    "    query_df.columns = ['fpath', 'category', 'type', 'label_id']\n",
    "\n",
    "    query_df['actual'] = query_df['category']\n",
    "\n",
    "    for i in range(5):\n",
    "        query_df[f'top_prob'+str(i+1)] = top5probs[:, i]\n",
    "\n",
    "    for i in range(5):\n",
    "        query_df[f'top_cat'+str(i+1)] = le.inverse_transform(top5labels[:, i])\n",
    "\n",
    "    query_df['pred_cat'] = query_df['top_cat1']\n",
    "\n",
    "    query_df['exp'] = exp\n",
    "\n",
    "    query_df.head()\n",
    "\n",
    "    query_df['fpath'] = query_df.fpath.map(lambda x : '/Users/r0b03m2/Desktop/Work/braincorp_data/query_images/' + Path(x).name)\n",
    "\n",
    "    query_df['Flag'] = query_df.apply(lambda x: x['actual'] == x['pred_cat'], axis=1)\n",
    "\n",
    "    query_df['Flag_top5'] = query_df.apply(lambda x: x['actual'] in x[['top_cat1', 'top_cat2', 'top_cat3', 'top_cat4', 'top_cat5']].values, axis=1)\n",
    "\n",
    "    print(query_df.Flag.mean(), query_df.Flag_top5.mean())\n",
    "\n",
    "    temp = query_df.groupby(['exp', 'category'])['Flag'].mean().reset_index()\n",
    "    temp.columns = ['exp', 'category', 'accuracy']\n",
    "    query_df = query_df.merge(temp, how='left', on=['exp', 'category'])\n",
    "\n",
    "    temp = query_df.groupby(['exp', 'category'])['Flag_top5'].mean().reset_index()\n",
    "    temp.columns = ['exp', 'category', 'accuracy_Top5']\n",
    "    query_df = query_df.merge(temp, how='left', on=['exp', 'category'])\n",
    "\n",
    "    query_df.head()\n",
    "\n",
    "    # bc_proto_results = pd.DataFrame({'fpath':[str(i).replace('/home/raghava_balusu_walmartlabs_com/Work/oneshotml/data/braincorp_data', '/Users/r0b03m2/Desktop/Work/braincorp_data') for i in ref],\n",
    "    #               'category' : [i.parent.name for i in ref],\n",
    "    #               'exp': ['dummy' for i in range(len(ref))]})\n",
    "\n",
    "    # bc_proto_results.head()\n",
    "\n",
    "    result_df = pd.read_csv('results/bc_proto_results.csv')\n",
    "    # result_df = bc_proto_results\n",
    "\n",
    "    result_df.tail()\n",
    "\n",
    "    # result_df.drop(result_df[result_df.exp == 'Grocer_res34_s1_q2_k80_epoch100'].index.values, inplace=True, axis=0)\n",
    "\n",
    "    fin_df = result_df.append(query_df, ignore_index=True)\n",
    "\n",
    "    fin_df.tail()\n",
    "\n",
    "    fin_df.to_csv('results/bc_proto_results.csv', index=False)"
   ]
  },
  {
   "cell_type": "code",
   "execution_count": null,
   "metadata": {},
   "outputs": [],
   "source": []
  }
 ],
 "metadata": {
  "kernelspec": {
   "display_name": "proto",
   "language": "python",
   "name": "proto"
  },
  "language_info": {
   "codemirror_mode": {
    "name": "ipython",
    "version": 3
   },
   "file_extension": ".py",
   "mimetype": "text/x-python",
   "name": "python",
   "nbconvert_exporter": "python",
   "pygments_lexer": "ipython3",
   "version": "3.6.10"
  }
 },
 "nbformat": 4,
 "nbformat_minor": 2
}
