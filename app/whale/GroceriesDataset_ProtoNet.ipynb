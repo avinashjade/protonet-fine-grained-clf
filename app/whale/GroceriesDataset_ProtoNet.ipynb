{
 "cells": [
  {
   "cell_type": "markdown",
   "metadata": {},
   "source": [
    "### Imports"
   ]
  },
  {
   "cell_type": "code",
   "execution_count": 1,
   "metadata": {},
   "outputs": [],
   "source": [
    "from dlcliche.image import *\n",
    "sys.path.append('..') # app\n",
    "sys.path.append('../..') # root\n",
    "from easydict import EasyDict\n",
    "from app_utils_clf import *\n",
    "from whale_utils import *\n",
    "from sklearn.preprocessing import LabelEncoder\n",
    "from torch.utils.data import Sampler\n",
    "import seaborn as sns"
   ]
  },
  {
   "cell_type": "markdown",
   "metadata": {},
   "source": [
    "### Parameters"
   ]
  },
  {
   "cell_type": "code",
   "execution_count": 3,
   "metadata": {},
   "outputs": [],
   "source": [
    "args = EasyDict()\n",
    "args.distance = 'l2'\n",
    "args.n_train = 1\n",
    "args.n_test = 1\n",
    "args.q_train = 2\n",
    "args.q_test = 1\n",
    "\n",
    "args.k_train = 80\n",
    "args.k_test = 41\n",
    "SZ = 256\n",
    "RE_SZ = 256\n",
    "\n",
    "args.n_epochs = 100\n",
    "args.drop_lr_every = 50\n",
    "args.lr = 1e-3\n",
    "args.init_weight = None\n",
    "\n",
    "data_train = DATA_PATH\n",
    "data_test  = DATA_PATH\n",
    "\n",
    "args.checkpoint_monitor = 'categorical_accuracy'\n",
    "args.checkpoint_period = 20"
   ]
  },
  {
   "cell_type": "markdown",
   "metadata": {},
   "source": [
    "### Dataset\n",
    "* n - Reference/Support Images per Class in each episode\n",
    "* q - Query Images per Class in each episode\n",
    "* k - Number of Classes in each episode\n",
    "\n",
    "Grocery Datset\n",
    "* Total Categories - 7851\n",
    "    * 1 Reference Image per Category i.e. 7851 Reference Images\n",
    "    * Only 185 Categories(Food Super Cateogry) have Query Images\n",
    "        * 948 Query Images for these 185 Categories\n",
    "* Train/Test Split\n",
    "    * Categories with only 1 Query Image or \n",
    "    * Those with more than 10 Query Images are used only for testing and not included in training\n",
    "        * 22 Categories with only 1 Query Images\n",
    "        * 19 Categories with more than 10 Query Images\n",
    "    * Total 41 Categories are used for testing which have 322 Query Images\n",
    "    * 144 categories with 626 Images are used for training ProtoNets i.e.Approx 4.34 Query Images per category"
   ]
  },
  {
   "cell_type": "code",
   "execution_count": 46,
   "metadata": {},
   "outputs": [],
   "source": [
    "refdf = pd.read_csv('/home/raghava_balusu_walmartlabs_com/Work/oneshotml/data/Grocery_products/reference_metadata.csv')\n",
    "qdf = pd.read_csv('/home/raghava_balusu_walmartlabs_com/Work/oneshotml/data/Grocery_products/query_image_metadata.csv')"
   ]
  },
  {
   "cell_type": "code",
   "execution_count": 47,
   "metadata": {},
   "outputs": [],
   "source": [
    "refdf = refdf[refdf.label.isin(qdf.label.unique())]\n",
    "refdf.reset_index(drop=True, inplace=True)\n",
    "\n",
    "refdf['type'] = 'reference'\n",
    "qdf['type'] = 'query'\n",
    "\n",
    "refdf.columns = ['image_path', 'class', 'class_id', 'sub_class_label', 'label', 'num_Query_imgs', 'type']\n",
    "\n",
    "img_df = refdf[['image_path', 'label', 'type']].append(qdf[['image_path', 'label', 'type']], ignore_index=True)"
   ]
  },
  {
   "cell_type": "code",
   "execution_count": 48,
   "metadata": {},
   "outputs": [
    {
     "data": {
      "text/plain": [
       "(                       image_path              label       type  label_id\n",
       " 0   Training/Food/Biscuits/10.jpg   Food_Biscuits_10  reference         0\n",
       " 1  Training/Food/Biscuits/114.jpg  Food_Biscuits_114  reference         1\n",
       " 2  Training/Food/Biscuits/115.jpg  Food_Biscuits_115  reference         2\n",
       " 3  Training/Food/Biscuits/118.jpg  Food_Biscuits_118  reference         3\n",
       " 4  Training/Food/Biscuits/119.jpg  Food_Biscuits_119  reference         4,\n",
       "                          image_path        label   type  label_id\n",
       " 1128  Training/query_images/338.jpg  Food_Tea_83  query       184\n",
       " 1129  Training/query_images/339.jpg  Food_Tea_83  query       184\n",
       " 1130  Training/query_images/449.jpg  Food_Tea_83  query       184\n",
       " 1131  Training/query_images/450.jpg  Food_Tea_83  query       184\n",
       " 1132  Training/query_images/451.jpg  Food_Tea_83  query       184)"
      ]
     },
     "execution_count": 48,
     "metadata": {},
     "output_type": "execute_result"
    }
   ],
   "source": [
    "le = LabelEncoder()\n",
    "img_df['label_id'] = le.fit_transform(img_df.label)\n",
    "img_df.head(), img_df.tail()"
   ]
  },
  {
   "cell_type": "markdown",
   "metadata": {},
   "source": [
    "* train(val will be within this itself) and test df. Check how testing is being done now\n",
    "* Dataloader will give idxs for support followed by query images. Dataset should give imgs accordingly\n",
    "* Changes dataloader such that all classes are seen in epoch unlike the random choice now\n",
    "* Change dataset which accepts only df now"
   ]
  },
  {
   "cell_type": "code",
   "execution_count": 5,
   "metadata": {},
   "outputs": [],
   "source": [
    "test_labels = (list(img_df[img_df['type'] == 'query']['label'].value_counts()[(img_df[img_df['type'] == 'query']['label'].value_counts() == 1).values].index.values)\n",
    "                    + list(img_df[img_df['type'] == 'query']['label'].value_counts()[(img_df[img_df['type'] == 'query']['label'].value_counts() > 10).values].index.values)\n",
    "              )"
   ]
  },
  {
   "cell_type": "code",
   "execution_count": 6,
   "metadata": {},
   "outputs": [
    {
     "data": {
      "text/plain": [
       "41"
      ]
     },
     "execution_count": 6,
     "metadata": {},
     "output_type": "execute_result"
    }
   ],
   "source": [
    "len(test_labels)"
   ]
  },
  {
   "cell_type": "code",
   "execution_count": 7,
   "metadata": {},
   "outputs": [],
   "source": [
    "img_df['split'] = 'train'\n",
    "img_df.loc[img_df.label.isin(test_labels), 'split'] = 'valid'"
   ]
  },
  {
   "cell_type": "code",
   "execution_count": 8,
   "metadata": {},
   "outputs": [
    {
     "data": {
      "text/plain": [
       "train    770\n",
       "valid    363\n",
       "Name: split, dtype: int64"
      ]
     },
     "execution_count": 8,
     "metadata": {},
     "output_type": "execute_result"
    }
   ],
   "source": [
    "img_df.split.value_counts()"
   ]
  },
  {
   "cell_type": "code",
   "execution_count": 9,
   "metadata": {},
   "outputs": [],
   "source": [
    "trn_df = img_df[img_df.split == 'train']\n",
    "val_df = img_df[img_df.split == 'valid']"
   ]
  },
  {
   "cell_type": "code",
   "execution_count": 10,
   "metadata": {},
   "outputs": [
    {
     "data": {
      "text/plain": [
       "<matplotlib.axes._subplots.AxesSubplot at 0x7fb890d9cd68>"
      ]
     },
     "execution_count": 10,
     "metadata": {},
     "output_type": "execute_result"
    },
    {
     "data": {
      "image/png": "[encoded data removed]",
      "text/plain": [
       "<Figure size 432x288 with 1 Axes>"
      ]
     },
     "metadata": {
      "needs_background": "light"
     },
     "output_type": "display_data"
    }
   ],
   "source": [
    "#trn_df[trn_df.type == 'query'].label.value_counts().hist(bins=25)\n",
    "sns.distplot(trn_df[trn_df.type == 'query'].label.value_counts(), norm_hist=False, kde=False)"
   ]
  },
  {
   "cell_type": "code",
   "execution_count": 11,
   "metadata": {},
   "outputs": [
    {
     "data": {
      "text/plain": [
       "<matplotlib.axes._subplots.AxesSubplot at 0x7fb8910555f8>"
      ]
     },
     "execution_count": 11,
     "metadata": {},
     "output_type": "execute_result"
    },
    {
     "data": {
      "image/png": "[encoded data removed]",
      "text/plain": [
       "<Figure size 432x288 with 1 Axes>"
      ]
     },
     "metadata": {
      "needs_background": "light"
     },
     "output_type": "display_data"
    }
   ],
   "source": [
    "sns.distplot(val_df[val_df.type == 'query'].label.value_counts(), norm_hist=False, kde=False, bins= 25)"
   ]
  },
  {
   "cell_type": "code",
   "execution_count": 28,
   "metadata": {},
   "outputs": [],
   "source": [
    "args.episodes_per_epoch = roundup((trn_df[trn_df.type == 'reference'].label.nunique())/args.k_train, 1)\n",
    "args.evaluation_episodes = 100 # setting small value, anyway validation set is almost useless here"
   ]
  },
  {
   "cell_type": "code",
   "execution_count": 29,
   "metadata": {
    "code_folding": [
     0
    ]
   },
   "outputs": [],
   "source": [
    "def get_aug_custom(re_size=224, to_size=224, train=True):\n",
    "    augs = [A.Resize(height=re_size, width=re_size)]\n",
    "    if train:\n",
    "        augs.extend([\n",
    "            A.RandomCrop(height=to_size, width=to_size),\n",
    "            A.ShiftScaleRotate(shift_limit=0.1, scale_limit=0.3, rotate_limit=30, p=0.75),\n",
    "            A.RandomBrightnessContrast(brightness_limit=0.5, contrast_limit=0.5, p=0.75),\n",
    "            A.Blur(p=0.5),\n",
    "            A.Cutout(max_h_size=to_size//12, max_w_size=to_size//12, p=0.5),\n",
    "        ])\n",
    "    else:\n",
    "        augs.extend([A.CenterCrop(height=to_size, width=to_size)])\n",
    "    return A.Compose(augs + [A.Normalize()])"
   ]
  },
  {
   "cell_type": "code",
   "execution_count": 30,
   "metadata": {
    "code_folding": [
     0
    ]
   },
   "outputs": [],
   "source": [
    "def get_aug_plus_custom(re_size=224, to_size=224, augment='train', normalize='imagenet'):\n",
    "    augs = [A.Resize(height=re_size, width=re_size)]\n",
    "    if augment == 'train':\n",
    "        augs.extend([\n",
    "            A.RandomCrop(height=to_size, width=to_size),\n",
    "            A.ShiftScaleRotate(shift_limit=0.1, scale_limit=0.3, rotate_limit=30, p=0.75),\n",
    "            A.RandomBrightnessContrast(brightness_limit=0.5, contrast_limit=0.5, p=0.75),\n",
    "            A.Blur(p=0.5),\n",
    "            A.Cutout(max_h_size=to_size//12, max_w_size=to_size//12, p=0.5),\n",
    "        ])\n",
    "    elif augment == 'train_hard':\n",
    "        augs.extend([\n",
    "            A.RandomCrop(height=to_size, width=to_size),\n",
    "            A.IAAAffine(scale=1.3, translate_percent=0.2, translate_px=None,\n",
    "                                        rotate=40, shear=20),\n",
    "            A.RandomBrightnessContrast(brightness_limit=0.5, contrast_limit=0.5, p=0.75),\n",
    "            A.IAAPerspective(p=1),\n",
    "            A.IAAAdditiveGaussianNoise(p=0.2),\n",
    "            A.Blur(p=0.5),\n",
    "            A.Cutout(max_h_size=to_size//12, max_w_size=to_size//12, p=0.5),\n",
    "        ])\n",
    "    elif augment == 'test':\n",
    "        augs.extend([\n",
    "            A.CenterCrop(height=to_size, width=to_size)\n",
    "        ])\n",
    "    elif augment == 'tta':\n",
    "        augs.extend([\n",
    "            A.IAAAffine(scale=1.05, translate_percent=0.1, translate_px=None, \n",
    "                        rotate=20, shear=10),\n",
    "            A.CenterCrop(height=to_size, width=to_size),\n",
    "        ])\n",
    "    else:\n",
    "        raise Exception(f'aug level not supported: {augment}')\n",
    "    return A.Compose(augs + [A.Normalize()])"
   ]
  },
  {
   "cell_type": "code",
   "execution_count": 31,
   "metadata": {
    "code_folding": []
   },
   "outputs": [],
   "source": [
    "class GrocerImages(Dataset):\n",
    "    def __init__(self, path, df, re_size=256, to_size=256, train=True):\n",
    "        self.df = df\n",
    "        # Index should be same in reference and query df compared to original df\n",
    "        self.support_df = self.df[self.df.type == 'reference']\n",
    "        self.query_df = self.df[self.df.type == 'query']\n",
    "        \n",
    "        self.classes = sorted(list(set(self.support_df.label_id.values)))\n",
    "\n",
    "        self.loader = get_img_loader(path, to_gray=False)\n",
    "        self.transform = get_aug_custom(re_size=re_size, to_size=to_size, train=train)\n",
    "        self.to_tensor = transforms.ToTensor()\n",
    "\n",
    "    def __getitem__(self, item):\n",
    "        instance = self.loader(self.df.loc[item, 'image_path'])\n",
    "        instance = self.transform(image=instance)['image']\n",
    "        instance = self.to_tensor(instance)\n",
    "        label = self.df.loc[item, 'label_id']\n",
    "        return instance, label\n",
    "\n",
    "    def __len__(self):\n",
    "        return len(self.df)\n",
    "\n",
    "    def num_classes(self):\n",
    "        return len(self.cls2imgs)"
   ]
  },
  {
   "cell_type": "code",
   "execution_count": 32,
   "metadata": {
    "code_folding": []
   },
   "outputs": [],
   "source": [
    "class GrocerImages_plus(GrocerImages):\n",
    "    def __init__(self, path, df, re_size=256, to_size=224, part=0, n_part=1,\n",
    "                 augment='normal', normalize='samplewise'):\n",
    "        super().__init__(path, df, re_size=re_size, to_size=to_size, train=(augment=='train'))\n",
    "        self.df = df\n",
    "        # Index should be same in reference and query df compared to original df\n",
    "\n",
    "        self.transform = get_aug_plus_custom(re_size=re_size, to_size=to_size, augment=augment, normalize=normalize)\n",
    "        self.part, self.n_part = part, n_part\n",
    "\n",
    "    def __getitem__(self, item):\n",
    "        instance = self.loader(self.df.loc[item, 'image_path'])\n",
    "#         if self.n_part > 1:\n",
    "#             instance = partition_np_image(instance, self.part, n_part=self.n_part)\n",
    "        instance = self.transform(image=instance)['image']\n",
    "        instance = self.to_tensor(instance)\n",
    "        label = self.df.loc[item, 'label_id']\n",
    "        return instance, label"
   ]
  },
  {
   "cell_type": "code",
   "execution_count": 33,
   "metadata": {
    "code_folding": []
   },
   "outputs": [],
   "source": [
    "class NShotTaskSampler_custom(Sampler):\n",
    "    def __init__(self, dataset, episodes_per_epoch, n, k, q):\n",
    "\n",
    "        super(NShotTaskSampler_custom, self).__init__(dataset)\n",
    "        self.episodes_per_epoch = episodes_per_epoch\n",
    "        self.dataset = dataset\n",
    "\n",
    "        # TODO: Raise errors if initialise badly\n",
    "        self.k = k\n",
    "        self.n = n\n",
    "        self.q = q\n",
    "\n",
    "    def __len__(self):\n",
    "        return self.episodes_per_epoch\n",
    "\n",
    "    def __iter__(self):\n",
    "        for _ in range(self.episodes_per_epoch):\n",
    "            batch = []\n",
    "            # Get random classes\n",
    "            support_df = self.dataset.support_df\n",
    "            query_df = self.dataset.query_df\n",
    "            episode_classes = np.random.choice(support_df['label_id'].unique(), size=self.k, replace=False)\n",
    "            \n",
    "            #df = self.dataset.df[self.dataset.df['class_id'].isin(episode_classes)]\n",
    "\n",
    "            for k in episode_classes:\n",
    "                # Select support examples\n",
    "                support = support_df[support_df['label_id'] == k].sample(self.n)\n",
    "\n",
    "                for i, s in support.iterrows():\n",
    "                    batch.append(i)\n",
    "\n",
    "            for k in episode_classes:\n",
    "                query = query_df[query_df['label_id'] == k].sample(self.q)\n",
    "                for i, q in query.iterrows():\n",
    "                    batch.append(i)\n",
    "\n",
    "        yield np.stack(batch)"
   ]
  },
  {
   "cell_type": "code",
   "execution_count": 34,
   "metadata": {},
   "outputs": [],
   "source": [
    "# Dataloader\n",
    "background = GrocerImages(data_train, trn_df, re_size=RE_SZ, to_size=SZ)\n",
    "background_taskloader = DataLoader(background, batch_sampler=NShotTaskSampler_custom(background, args.episodes_per_epoch, \n",
    "                            args.n_train, args.k_train, args.q_train),num_workers=8)\n",
    "\n",
    "evaluation = GrocerImages(data_train, val_df, re_size=RE_SZ, to_size=SZ, train=False)\n",
    "evaluation_taskloader = DataLoader(evaluation, \n",
    "            batch_sampler=NShotTaskSampler_custom(evaluation, args.episodes_per_epoch, args.n_test, args.k_test, args.q_test),\n",
    "    num_workers=8)"
   ]
  },
  {
   "cell_type": "markdown",
   "metadata": {
    "heading_collapsed": true
   },
   "source": [
    "#### Loaders Checking"
   ]
  },
  {
   "cell_type": "code",
   "execution_count": 20,
   "metadata": {
    "hidden": true
   },
   "outputs": [
    {
     "data": {
      "text/plain": [
       "True"
      ]
     },
     "execution_count": 20,
     "metadata": {},
     "output_type": "execute_result"
    }
   ],
   "source": [
    "x = next(iter(background_taskloader))\n",
    "\n",
    "sx = x[0][:args.k_train*args.n_train, ...]\n",
    "qx = x[0][args.k_train*args.n_train:, ...]\n",
    "\n",
    "sy = x[1][:args.k_train*args.n_train]\n",
    "qy = x[1][args.k_train*args.n_train:]\n",
    "\n",
    "sorted(sy.unique()) == sorted(qy.unique())"
   ]
  },
  {
   "cell_type": "code",
   "execution_count": 21,
   "metadata": {
    "code_folding": [
     1
    ],
    "hidden": true
   },
   "outputs": [],
   "source": [
    "%matplotlib inline\n",
    "def show(img):\n",
    "    img1 = img.numpy()\n",
    "    img1 = np.transpose(img1, (1,2,0))\n",
    "    img1 = (img1*std1) + mean1\n",
    "    #img = img*255.\n",
    "#     print(img1.shape)\n",
    "    plt.imshow(img1)#, interpolation = 'nearest')\n",
    "#     return img1\n",
    "\n",
    "mean = np.array([0.485, 0.456, 0.406])\n",
    "std = np.array([0.229, 0.224, 0.225])\n",
    "\n",
    "mean1 = mean[None, None, :]\n",
    "std1 = std[None, None, :]"
   ]
  },
  {
   "cell_type": "code",
   "execution_count": 22,
   "metadata": {
    "hidden": true
   },
   "outputs": [],
   "source": [
    "idx = np.random.randint(0, args.k_train)\n",
    "imgs = torch.cat((sx[sy == sy.unique()[idx], ...], qx[qy ==sy.unique()[idx], ...]), dim=0)\n",
    "\n",
    "imgs = torch.FloatTensor(imgs)"
   ]
  },
  {
   "cell_type": "code",
   "execution_count": 23,
   "metadata": {
    "hidden": true
   },
   "outputs": [
    {
     "name": "stderr",
     "output_type": "stream",
     "text": [
      "Clipping input data to the valid range for imshow with RGB data ([0..1] for floats or [0..255] for integers).\n"
     ]
    },
    {
     "data": {
      "image/png": "[encoded data removed]",
      "text/plain": [
       "<Figure size 432x288 with 1 Axes>"
      ]
     },
     "metadata": {
      "needs_background": "light"
     },
     "output_type": "display_data"
    }
   ],
   "source": [
    "show(imgs[0]); "
   ]
  },
  {
   "cell_type": "code",
   "execution_count": 24,
   "metadata": {
    "hidden": true
   },
   "outputs": [
    {
     "name": "stderr",
     "output_type": "stream",
     "text": [
      "Clipping input data to the valid range for imshow with RGB data ([0..1] for floats or [0..255] for integers).\n"
     ]
    },
    {
     "data": {
      "image/png": "[encoded data removed]",
      "text/plain": [
       "<Figure size 432x288 with 1 Axes>"
      ]
     },
     "metadata": {
      "needs_background": "light"
     },
     "output_type": "display_data"
    }
   ],
   "source": [
    "show(imgs[1]);"
   ]
  },
  {
   "cell_type": "code",
   "execution_count": 25,
   "metadata": {
    "hidden": true
   },
   "outputs": [
    {
     "data": {
      "image/png": "[encoded data removed]",
      "text/plain": [
       "<Figure size 432x288 with 1 Axes>"
      ]
     },
     "metadata": {
      "needs_background": "light"
     },
     "output_type": "display_data"
    }
   ],
   "source": [
    "show(imgs[2])"
   ]
  },
  {
   "cell_type": "markdown",
   "metadata": {
    "heading_collapsed": true
   },
   "source": [
    "### Modeling\n",
    "* Pretraining with retail data\n",
    "* lr_finder\n",
    "* Freeze Initial layers and train only last layers\n",
    "* fit_one_cycle\n",
    "* disriminative learning rates"
   ]
  },
  {
   "cell_type": "markdown",
   "metadata": {
    "heading_collapsed": true,
    "hidden": true
   },
   "source": [
    "#### Lr_Finder"
   ]
  },
  {
   "cell_type": "code",
   "execution_count": 20,
   "metadata": {
    "hidden": true
   },
   "outputs": [
    {
     "name": "stderr",
     "output_type": "stream",
     "text": [
      "WARNING:torch_lr_finder.lr_finder:To enable mixed precision training, please install `apex`. Or you can re-install this package by the following command:\n",
      "  pip install torch-lr-finder -v --global-option=\"amp\"\n"
     ]
    }
   ],
   "source": [
    "from few_shot.proto import proto_net_episode\n",
    "from few_shot.core import prepare_nshot_task\n",
    "from torch_lr_finder import LRFinder\n",
    "from torch import optim"
   ]
  },
  {
   "cell_type": "code",
   "execution_count": 70,
   "metadata": {
    "hidden": true
   },
   "outputs": [],
   "source": [
    "from torch_lr_finder.lr_finder import DataLoaderIterWrapper"
   ]
  },
  {
   "cell_type": "code",
   "execution_count": 77,
   "metadata": {
    "hidden": true
   },
   "outputs": [],
   "source": [
    "feature_model = get_resnet34(device=device, weight_file=args.init_weight)"
   ]
  },
  {
   "cell_type": "code",
   "execution_count": 78,
   "metadata": {
    "hidden": true
   },
   "outputs": [],
   "source": [
    "criterion = torch.nn.NLLLoss()"
   ]
  },
  {
   "cell_type": "code",
   "execution_count": 79,
   "metadata": {
    "hidden": true
   },
   "outputs": [],
   "source": [
    "optimizer = optim.Adam(feature_model.parameters(), lr=1e-7)"
   ]
  },
  {
   "cell_type": "code",
   "execution_count": 80,
   "metadata": {
    "code_folding": [],
    "hidden": true
   },
   "outputs": [],
   "source": [
    "class lr_finder_proto(LRFinder):\n",
    "    \n",
    "    def __init__(self, model, optimizer, criterion, device=None, memory_cache=True, cache_dir=None):\n",
    "        super().__init__(model, optimizer, criterion, device=None, memory_cache=True, cache_dir=None)\n",
    "        self.prepare_batch = prepare_nshot_task(args.n_train, args.k_train, args.q_train)\n",
    "    \n",
    "#     def range_test(self, train_loader, val_loader=None, start_lr=None, end_lr=10, num_iter=100, step_mode=\"exp\",\n",
    "#                     smooth_f=0.05, diverge_th=5, accumulation_steps=1):\n",
    "#         super().__init__(train_loader, val_loader=None, start_lr=None, end_lr=10, num_iter=100, step_mode=\"exp\",\n",
    "#                     smooth_f=0.05, diverge_th=5, accumulation_steps=1)\n",
    "#         self.dl = DataLoaderIterWrapper(train_loader)\n",
    "    \n",
    "    def _train_batch(self, iter_wrapper, accumulation_steps):\n",
    "#         self.model.train()\n",
    "        total_loss = None  # for late initialization\n",
    "\n",
    "#         self.optimizer.zero_grad()\n",
    "        for i in range(accumulation_steps):\n",
    "            batch = iter_wrapper.get_batch()\n",
    "            inputs, labels = self.prepare_batch(batch)\n",
    "#             print(inputs.shape, labels.shape)\n",
    "            # Forward pass\n",
    "            loss, y_pred = proto_net_episode(self.model, self.optimizer, self.criterion, inputs, labels, \n",
    "                                        args.n_train, args.k_train, args.q_train, distance ='l2' ,train =True)\n",
    "            \n",
    "            # Loss should be averaged in each step\n",
    "            loss /= accumulation_steps\n",
    "\n",
    "            # Backward pass\n",
    "#             loss.backward()\n",
    "\n",
    "            if total_loss is None:\n",
    "                total_loss = loss\n",
    "            else:\n",
    "                total_loss += loss\n",
    "        \n",
    "        if len(self.history['lr'])>0:\n",
    "            print(loss, self.history[\"lr\"][-1])\n",
    "\n",
    "        return total_loss.item()\n"
   ]
  },
  {
   "cell_type": "code",
   "execution_count": 81,
   "metadata": {
    "hidden": true
   },
   "outputs": [],
   "source": [
    "lr_finder = lr_finder_proto(feature_model, optimizer, criterion, device=\"cuda\", cache_dir = 'logs')"
   ]
  },
  {
   "cell_type": "code",
   "execution_count": 82,
   "metadata": {
    "hidden": true
   },
   "outputs": [
    {
     "data": {
      "application/vnd.jupyter.widget-view+json": {
       "model_id": "f1d593851bb646a48e6abc50ea0ba9df",
       "version_major": 2,
       "version_minor": 0
      },
      "text/plain": [
       "HBox(children=(IntProgress(value=0, max=150), HTML(value='')))"
      ]
     },
     "metadata": {},
     "output_type": "display_data"
    },
    {
     "name": "stdout",
     "output_type": "stream",
     "text": [
      "tensor(135.0471, device='cuda:0', grad_fn=<DivBackward0>) 1.1481536214968827e-07\n",
      "tensor(147.6078, device='cuda:0', grad_fn=<DivBackward0>) 1.318256738556407e-07\n",
      "tensor(140.4842, device='cuda:0', grad_fn=<DivBackward0>) 1.513561248436208e-07\n",
      "tensor(132.2170, device='cuda:0', grad_fn=<DivBackward0>) 1.7378008287493754e-07\n",
      "tensor(124.7322, device='cuda:0', grad_fn=<DivBackward0>) 1.9952623149688795e-07\n",
      "tensor(119.3566, device='cuda:0', grad_fn=<DivBackward0>) 2.290867652767773e-07\n",
      "tensor(131.4519, device='cuda:0', grad_fn=<DivBackward0>) 2.630267991895382e-07\n",
      "tensor(119.7072, device='cuda:0', grad_fn=<DivBackward0>) 3.0199517204020165e-07\n",
      "tensor(138.7571, device='cuda:0', grad_fn=<DivBackward0>) 3.467368504525316e-07\n",
      "tensor(145.0004, device='cuda:0', grad_fn=<DivBackward0>) 3.981071705534972e-07\n",
      "tensor(119.7420, device='cuda:0', grad_fn=<DivBackward0>) 4.5708818961487505e-07\n",
      "tensor(132.0012, device='cuda:0', grad_fn=<DivBackward0>) 5.248074602497726e-07\n",
      "tensor(118.5953, device='cuda:0', grad_fn=<DivBackward0>) 6.025595860743577e-07\n",
      "tensor(140.6729, device='cuda:0', grad_fn=<DivBackward0>) 6.918309709189365e-07\n",
      "tensor(130.7919, device='cuda:0', grad_fn=<DivBackward0>) 7.943282347242816e-07\n",
      "tensor(130.3421, device='cuda:0', grad_fn=<DivBackward0>) 9.120108393559097e-07\n",
      "tensor(116.4471, device='cuda:0', grad_fn=<DivBackward0>) 1.0471285480508994e-06\n",
      "tensor(147.2946, device='cuda:0', grad_fn=<DivBackward0>) 1.2022644346174128e-06\n",
      "tensor(124.4781, device='cuda:0', grad_fn=<DivBackward0>) 1.380384264602885e-06\n",
      "tensor(119.9632, device='cuda:0', grad_fn=<DivBackward0>) 1.5848931924611134e-06\n",
      "tensor(118.3631, device='cuda:0', grad_fn=<DivBackward0>) 1.819700858609984e-06\n",
      "tensor(117.9903, device='cuda:0', grad_fn=<DivBackward0>) 2.0892961308540394e-06\n",
      "tensor(119.5928, device='cuda:0', grad_fn=<DivBackward0>) 2.3988329190194897e-06\n",
      "tensor(130.8586, device='cuda:0', grad_fn=<DivBackward0>) 2.7542287033381663e-06\n",
      "tensor(98.8896, device='cuda:0', grad_fn=<DivBackward0>) 3.1622776601683788e-06\n",
      "tensor(116.8518, device='cuda:0', grad_fn=<DivBackward0>) 3.630780547701014e-06\n",
      "tensor(127.9283, device='cuda:0', grad_fn=<DivBackward0>) 4.168693834703353e-06\n",
      "tensor(102.6986, device='cuda:0', grad_fn=<DivBackward0>) 4.786300923226384e-06\n",
      "tensor(102.1968, device='cuda:0', grad_fn=<DivBackward0>) 5.495408738576245e-06\n",
      "tensor(100.9617, device='cuda:0', grad_fn=<DivBackward0>) 6.309573444801934e-06\n",
      "tensor(83.7988, device='cuda:0', grad_fn=<DivBackward0>) 7.244359600749901e-06\n",
      "tensor(107.6911, device='cuda:0', grad_fn=<DivBackward0>) 8.317637711026713e-06\n",
      "tensor(97.0713, device='cuda:0', grad_fn=<DivBackward0>) 9.549925860214359e-06\n",
      "tensor(92.5197, device='cuda:0', grad_fn=<DivBackward0>) 1.0964781961431847e-05\n",
      "tensor(73.5200, device='cuda:0', grad_fn=<DivBackward0>) 1.2589254117941671e-05\n",
      "tensor(71.6643, device='cuda:0', grad_fn=<DivBackward0>) 1.4454397707459272e-05\n",
      "tensor(77.8896, device='cuda:0', grad_fn=<DivBackward0>) 1.659586907437561e-05\n",
      "tensor(71.5704, device='cuda:0', grad_fn=<DivBackward0>) 1.905460717963248e-05\n",
      "tensor(75.3707, device='cuda:0', grad_fn=<DivBackward0>) 2.187761623949553e-05\n",
      "tensor(55.9925, device='cuda:0', grad_fn=<DivBackward0>) 2.5118864315095798e-05\n",
      "tensor(66.8884, device='cuda:0', grad_fn=<DivBackward0>) 2.884031503126605e-05\n",
      "tensor(75.4366, device='cuda:0', grad_fn=<DivBackward0>) 3.3113112148259124e-05\n",
      "tensor(60.9200, device='cuda:0', grad_fn=<DivBackward0>) 3.8018939632056124e-05\n",
      "tensor(49.6280, device='cuda:0', grad_fn=<DivBackward0>) 4.36515832240166e-05\n",
      "tensor(44.1562, device='cuda:0', grad_fn=<DivBackward0>) 5.011872336272722e-05\n",
      "tensor(40.4154, device='cuda:0', grad_fn=<DivBackward0>) 5.754399373371566e-05\n",
      "tensor(38.1930, device='cuda:0', grad_fn=<DivBackward0>) 6.606934480075963e-05\n",
      "tensor(36.9845, device='cuda:0', grad_fn=<DivBackward0>) 7.585775750291839e-05\n",
      "tensor(31.8558, device='cuda:0', grad_fn=<DivBackward0>) 8.709635899560806e-05\n",
      "tensor(39.2474, device='cuda:0', grad_fn=<DivBackward0>) 9.999999999999996e-05\n",
      "tensor(27.2040, device='cuda:0', grad_fn=<DivBackward0>) 0.00011481536214968832\n",
      "tensor(26.4795, device='cuda:0', grad_fn=<DivBackward0>) 0.00013182567385564074\n",
      "tensor(26.9590, device='cuda:0', grad_fn=<DivBackward0>) 0.0001513561248436208\n",
      "tensor(21.4963, device='cuda:0', grad_fn=<DivBackward0>) 0.00017378008287493747\n",
      "tensor(24.1804, device='cuda:0', grad_fn=<DivBackward0>) 0.00019952623149688785\n",
      "tensor(15.2883, device='cuda:0', grad_fn=<DivBackward0>) 0.0002290867652767774\n",
      "tensor(25.6257, device='cuda:0', grad_fn=<DivBackward0>) 0.0002630267991895382\n",
      "tensor(16.0480, device='cuda:0', grad_fn=<DivBackward0>) 0.0003019951720402016\n",
      "tensor(14.8418, device='cuda:0', grad_fn=<DivBackward0>) 0.00034673685045253147\n",
      "tensor(18.5392, device='cuda:0', grad_fn=<DivBackward0>) 0.0003981071705534974\n",
      "tensor(7.6317, device='cuda:0', grad_fn=<DivBackward0>) 0.0004570881896148751\n",
      "tensor(10.8739, device='cuda:0', grad_fn=<DivBackward0>) 0.0005248074602497725\n",
      "tensor(11.8516, device='cuda:0', grad_fn=<DivBackward0>) 0.0006025595860743576\n",
      "tensor(10.2925, device='cuda:0', grad_fn=<DivBackward0>) 0.0006918309709189369\n",
      "tensor(8.0666, device='cuda:0', grad_fn=<DivBackward0>) 0.0007943282347242816\n",
      "tensor(7.8407, device='cuda:0', grad_fn=<DivBackward0>) 0.0009120108393559097\n",
      "tensor(12.7367, device='cuda:0', grad_fn=<DivBackward0>) 0.0010471285480508994\n",
      "tensor(9.6797, device='cuda:0', grad_fn=<DivBackward0>) 0.0012022644346174124\n",
      "tensor(14.2047, device='cuda:0', grad_fn=<DivBackward0>) 0.0013803842646028853\n",
      "tensor(7.1259, device='cuda:0', grad_fn=<DivBackward0>) 0.0015848931924611136\n",
      "tensor(8.3251, device='cuda:0', grad_fn=<DivBackward0>) 0.0018197008586099833\n",
      "tensor(5.5069, device='cuda:0', grad_fn=<DivBackward0>) 0.0020892961308540386\n",
      "tensor(14.9749, device='cuda:0', grad_fn=<DivBackward0>) 0.0023988329190194916\n",
      "tensor(11.0009, device='cuda:0', grad_fn=<DivBackward0>) 0.002754228703338167\n",
      "tensor(7.9887, device='cuda:0', grad_fn=<DivBackward0>) 0.003162277660168379\n",
      "tensor(13.0092, device='cuda:0', grad_fn=<DivBackward0>) 0.0036307805477010166\n",
      "tensor(8.7310, device='cuda:0', grad_fn=<DivBackward0>) 0.004168693834703352\n",
      "tensor(17.2543, device='cuda:0', grad_fn=<DivBackward0>) 0.004786300923226385\n",
      "tensor(14.2248, device='cuda:0', grad_fn=<DivBackward0>) 0.0054954087385762395\n",
      "tensor(8.8251, device='cuda:0', grad_fn=<DivBackward0>) 0.006309573444801931\n",
      "tensor(13.6779, device='cuda:0', grad_fn=<DivBackward0>) 0.007244359600749905\n",
      "tensor(8.5317, device='cuda:0', grad_fn=<DivBackward0>) 0.008317637711026704\n",
      "tensor(8.8910, device='cuda:0', grad_fn=<DivBackward0>) 0.00954992586021436\n",
      "tensor(12.2448, device='cuda:0', grad_fn=<DivBackward0>) 0.010964781961431861\n",
      "tensor(6.1172, device='cuda:0', grad_fn=<DivBackward0>) 0.012589254117941668\n",
      "tensor(3.5774, device='cuda:0', grad_fn=<DivBackward0>) 0.014454397707459283\n",
      "tensor(3.8190, device='cuda:0', grad_fn=<DivBackward0>) 0.01659586907437559\n",
      "tensor(2.4423, device='cuda:0', grad_fn=<DivBackward0>) 0.019054607179632473\n",
      "tensor(2.9439, device='cuda:0', grad_fn=<DivBackward0>) 0.021877616239495544\n",
      "tensor(2.6955, device='cuda:0', grad_fn=<DivBackward0>) 0.025118864315095787\n",
      "tensor(3.0768, device='cuda:0', grad_fn=<DivBackward0>) 0.02884031503126607\n",
      "tensor(2.9869, device='cuda:0', grad_fn=<DivBackward0>) 0.03311311214825908\n",
      "tensor(2.6374, device='cuda:0', grad_fn=<DivBackward0>) 0.03801893963205612\n",
      "tensor(2.4966, device='cuda:0', grad_fn=<DivBackward0>) 0.04365158322401663\n",
      "tensor(2.8781, device='cuda:0', grad_fn=<DivBackward0>) 0.05011872336272719\n",
      "tensor(2.7872, device='cuda:0', grad_fn=<DivBackward0>) 0.05754399373371571\n",
      "tensor(2.9372, device='cuda:0', grad_fn=<DivBackward0>) 0.06606934480075952\n",
      "tensor(2.8896, device='cuda:0', grad_fn=<DivBackward0>) 0.07585775750291834\n",
      "tensor(2.3485, device='cuda:0', grad_fn=<DivBackward0>) 0.08709635899560812\n",
      "tensor(2.6006, device='cuda:0', grad_fn=<DivBackward0>) 0.09999999999999991\n",
      "tensor(2.8357, device='cuda:0', grad_fn=<DivBackward0>) 0.1148153621496883\n",
      "tensor(2.5160, device='cuda:0', grad_fn=<DivBackward0>) 0.1318256738556408\n",
      "tensor(2.6229, device='cuda:0', grad_fn=<DivBackward0>) 0.15135612484362077\n",
      "tensor(2.3875, device='cuda:0', grad_fn=<DivBackward0>) 0.17378008287493762\n",
      "tensor(2.3372, device='cuda:0', grad_fn=<DivBackward0>) 0.19952623149688775\n"
     ]
    },
    {
     "name": "stdout",
     "output_type": "stream",
     "text": [
      "tensor(2.8119, device='cuda:0', grad_fn=<DivBackward0>) 0.22908676527677727\n",
      "tensor(2.2352, device='cuda:0', grad_fn=<DivBackward0>) 0.2630267991895384\n",
      "tensor(2.2627, device='cuda:0', grad_fn=<DivBackward0>) 0.30199517204020143\n",
      "tensor(2.6497, device='cuda:0', grad_fn=<DivBackward0>) 0.3467368504525317\n",
      "tensor(2.2601, device='cuda:0', grad_fn=<DivBackward0>) 0.3981071705534968\n",
      "tensor(2.6013, device='cuda:0', grad_fn=<DivBackward0>) 0.45708818961487496\n",
      "tensor(3.6692, device='cuda:0', grad_fn=<DivBackward0>) 0.5248074602497729\n",
      "tensor(3.3640, device='cuda:0', grad_fn=<DivBackward0>) 0.6025595860743572\n",
      "tensor(3.4313, device='cuda:0', grad_fn=<DivBackward0>) 0.6918309709189366\n",
      "tensor(2.9570, device='cuda:0', grad_fn=<DivBackward0>) 0.7943282347242824\n",
      "tensor(2.9942, device='cuda:0', grad_fn=<DivBackward0>) 0.9120108393559094\n",
      "tensor(3.2750, device='cuda:0', grad_fn=<DivBackward0>) 1.0471285480509\n",
      "tensor(3.0023, device='cuda:0', grad_fn=<DivBackward0>) 1.2022644346174118\n",
      "tensor(3.8377, device='cuda:0', grad_fn=<DivBackward0>) 1.3803842646028848\n",
      "tensor(3.5228, device='cuda:0', grad_fn=<DivBackward0>) 1.584893192461115\n",
      "tensor(3.4266, device='cuda:0', grad_fn=<DivBackward0>) 1.8197008586099825\n",
      "tensor(4.2038, device='cuda:0', grad_fn=<DivBackward0>) 2.08929613085404\n",
      "tensor(4.2315, device='cuda:0', grad_fn=<DivBackward0>) 2.3988329190194877\n",
      "tensor(4.0242, device='cuda:0', grad_fn=<DivBackward0>) 2.754228703338166\n",
      "tensor(3.8495, device='cuda:0', grad_fn=<DivBackward0>) 3.1622776601683817\n",
      "tensor(3.7213, device='cuda:0', grad_fn=<DivBackward0>) 3.630780547701011\n",
      "tensor(3.8389, device='cuda:0', grad_fn=<DivBackward0>) 4.1686938347033555\n",
      "tensor(3.6754, device='cuda:0', grad_fn=<DivBackward0>) 4.7863009232263884\n",
      "tensor(5.7209, device='cuda:0', grad_fn=<DivBackward0>) 5.495408738576244\n",
      "tensor(4.3191, device='cuda:0', grad_fn=<DivBackward0>) 6.309573444801936\n",
      "tensor(4.3016, device='cuda:0', grad_fn=<DivBackward0>) 7.2443596007498945\n",
      "tensor(4.3248, device='cuda:0', grad_fn=<DivBackward0>) 8.317637711026709\n",
      "tensor(4.4469, device='cuda:0', grad_fn=<DivBackward0>) 9.549925860214369\n",
      "tensor(4.4288, device='cuda:0', grad_fn=<DivBackward0>) 10.964781961431845\n",
      "tensor(4.3648, device='cuda:0', grad_fn=<DivBackward0>) 12.589254117941676\n",
      "tensor(4.3375, device='cuda:0', grad_fn=<DivBackward0>) 14.454397707459261\n",
      "tensor(4.4146, device='cuda:0', grad_fn=<DivBackward0>) 16.595869074375607\n",
      "tensor(5.2825, device='cuda:0', grad_fn=<DivBackward0>) 19.054607179632487\n",
      "tensor(4.2667, device='cuda:0', grad_fn=<DivBackward0>) 21.877616239495513\n",
      "tensor(4.2975, device='cuda:0', grad_fn=<DivBackward0>) 25.11886431509581\n",
      "tensor(4.3378, device='cuda:0', grad_fn=<DivBackward0>) 28.840315031266027\n",
      "tensor(72.8955, device='cuda:0', grad_fn=<DivBackward0>) 33.1131121482591\n",
      "Stopping early, the loss has diverged\n",
      "Learning rate search finished. See the graph with {finder_name}.plot()\n"
     ]
    }
   ],
   "source": [
    "lr_finder.range_test(background_taskloader, end_lr=100, num_iter=150, smooth_f=0.75)"
   ]
  },
  {
   "cell_type": "code",
   "execution_count": 83,
   "metadata": {
    "hidden": true
   },
   "outputs": [
    {
     "name": "stderr",
     "output_type": "stream",
     "text": [
      "Traceback (most recent call last):\n",
      "Traceback (most recent call last):\n",
      "Traceback (most recent call last):\n",
      "  File \"/home/raghava_balusu_walmartlabs_com/anaconda3/envs/proto/lib/python3.6/multiprocessing/queues.py\", line 230, in _feed\n",
      "    close()\n",
      "  File \"/home/raghava_balusu_walmartlabs_com/anaconda3/envs/proto/lib/python3.6/multiprocessing/connection.py\", line 177, in close\n",
      "    self._close()\n",
      "  File \"/home/raghava_balusu_walmartlabs_com/anaconda3/envs/proto/lib/python3.6/multiprocessing/queues.py\", line 230, in _feed\n",
      "    close()\n",
      "  File \"/home/raghava_balusu_walmartlabs_com/anaconda3/envs/proto/lib/python3.6/multiprocessing/connection.py\", line 177, in close\n",
      "    self._close()\n",
      "Traceback (most recent call last):\n",
      "  File \"/home/raghava_balusu_walmartlabs_com/anaconda3/envs/proto/lib/python3.6/multiprocessing/queues.py\", line 230, in _feed\n",
      "    close()\n",
      "  File \"/home/raghava_balusu_walmartlabs_com/anaconda3/envs/proto/lib/python3.6/multiprocessing/connection.py\", line 177, in close\n",
      "    self._close()\n",
      "  File \"/home/raghava_balusu_walmartlabs_com/anaconda3/envs/proto/lib/python3.6/multiprocessing/connection.py\", line 361, in _close\n",
      "    _close(self._handle)\n",
      "OSError: [Errno 9] Bad file descriptor\n",
      "Traceback (most recent call last):\n",
      "  File \"/home/raghava_balusu_walmartlabs_com/anaconda3/envs/proto/lib/python3.6/multiprocessing/queues.py\", line 230, in _feed\n",
      "    close()\n",
      "  File \"/home/raghava_balusu_walmartlabs_com/anaconda3/envs/proto/lib/python3.6/multiprocessing/connection.py\", line 177, in close\n",
      "    self._close()\n",
      "  File \"/home/raghava_balusu_walmartlabs_com/anaconda3/envs/proto/lib/python3.6/multiprocessing/connection.py\", line 361, in _close\n",
      "    _close(self._handle)\n",
      "OSError: [Errno 9] Bad file descriptor\n",
      "  File \"/home/raghava_balusu_walmartlabs_com/anaconda3/envs/proto/lib/python3.6/multiprocessing/connection.py\", line 361, in _close\n",
      "    _close(self._handle)\n",
      "OSError: [Errno 9] Bad file descriptor\n",
      "  File \"/home/raghava_balusu_walmartlabs_com/anaconda3/envs/proto/lib/python3.6/multiprocessing/queues.py\", line 230, in _feed\n",
      "    close()\n",
      "  File \"/home/raghava_balusu_walmartlabs_com/anaconda3/envs/proto/lib/python3.6/multiprocessing/connection.py\", line 177, in close\n",
      "    self._close()\n",
      "  File \"/home/raghava_balusu_walmartlabs_com/anaconda3/envs/proto/lib/python3.6/multiprocessing/connection.py\", line 361, in _close\n",
      "    _close(self._handle)\n",
      "OSError: [Errno 9] Bad file descriptor\n",
      "  File \"/home/raghava_balusu_walmartlabs_com/anaconda3/envs/proto/lib/python3.6/multiprocessing/connection.py\", line 361, in _close\n",
      "    _close(self._handle)\n",
      "OSError: [Errno 9] Bad file descriptor\n",
      "Traceback (most recent call last):\n",
      "  File \"/home/raghava_balusu_walmartlabs_com/anaconda3/envs/proto/lib/python3.6/multiprocessing/queues.py\", line 230, in _feed\n",
      "    close()\n",
      "  File \"/home/raghava_balusu_walmartlabs_com/anaconda3/envs/proto/lib/python3.6/multiprocessing/connection.py\", line 177, in close\n",
      "    self._close()\n",
      "  File \"/home/raghava_balusu_walmartlabs_com/anaconda3/envs/proto/lib/python3.6/multiprocessing/connection.py\", line 361, in _close\n",
      "    _close(self._handle)\n",
      "OSError: [Errno 9] Bad file descriptor\n",
      "Traceback (most recent call last):\n",
      "  File \"/home/raghava_balusu_walmartlabs_com/anaconda3/envs/proto/lib/python3.6/multiprocessing/queues.py\", line 230, in _feed\n",
      "    close()\n",
      "  File \"/home/raghava_balusu_walmartlabs_com/anaconda3/envs/proto/lib/python3.6/multiprocessing/connection.py\", line 177, in close\n",
      "    self._close()\n",
      "  File \"/home/raghava_balusu_walmartlabs_com/anaconda3/envs/proto/lib/python3.6/multiprocessing/connection.py\", line 361, in _close\n",
      "    _close(self._handle)\n",
      "OSError: [Errno 9] Bad file descriptor\n"
     ]
    },
    {
     "data": {
      "image/png": "[encoded data removed]",
      "text/plain": [
       "<Figure size 432x288 with 1 Axes>"
      ]
     },
     "metadata": {
      "needs_background": "light"
     },
     "output_type": "display_data"
    },
    {
     "data": {
      "text/plain": [
       "<matplotlib.axes._subplots.AxesSubplot at 0x7efce6dfee48>"
      ]
     },
     "execution_count": 83,
     "metadata": {},
     "output_type": "execute_result"
    }
   ],
   "source": [
    "lr_finder.plot(skip_start=50, skip_end=0) # to inspect the loss-learning rate graph"
   ]
  },
  {
   "cell_type": "code",
   "execution_count": 50,
   "metadata": {
    "hidden": true
   },
   "outputs": [],
   "source": [
    "lr_finder.reset() # to reset the model and optimizer to their initial state"
   ]
  },
  {
   "cell_type": "markdown",
   "metadata": {
    "hidden": true
   },
   "source": [
    "#### Training"
   ]
  },
  {
   "cell_type": "code",
   "execution_count": 31,
   "metadata": {
    "hidden": true
   },
   "outputs": [],
   "source": [
    "feature_model = get_resnet34(device=device, weight_file=args.init_weight)"
   ]
  },
  {
   "cell_type": "code",
   "execution_count": 18,
   "metadata": {
    "hidden": true
   },
   "outputs": [
    {
     "data": {
      "text/plain": [
       "'Grocer_res34_s1_q2_k80'"
      ]
     },
     "execution_count": 18,
     "metadata": {},
     "output_type": "execute_result"
    }
   ],
   "source": [
    "args.param_str = f'Grocer_res34_s{args.n_train}_q{args.q_train}_k{args.k_train}'\n",
    "args.param_str"
   ]
  },
  {
   "cell_type": "code",
   "execution_count": 23,
   "metadata": {
    "hidden": true,
    "scrolled": true
   },
   "outputs": [
    {
     "name": "stderr",
     "output_type": "stream",
     "text": [
      "\r",
      "Epoch 1:   0%|          | 0/2 [00:00<?, ?it/s]"
     ]
    },
    {
     "name": "stdout",
     "output_type": "stream",
     "text": [
      "Begin training...\n"
     ]
    },
    {
     "name": "stderr",
     "output_type": "stream",
     "text": [
      "Epoch 1: 100%|██████████| 2/2 [00:04<00:00,  2.63s/it, loss=125, categorical_accuracy=0.188, val_1-shot_41-way_acc=0.829]\n",
      "Epoch 2: 100%|██████████| 2/2 [00:04<00:00,  2.63s/it, loss=76.4, categorical_accuracy=0.406, val_1-shot_41-way_acc=0.683]\n",
      "Epoch 3: 100%|██████████| 2/2 [00:04<00:00,  2.58s/it, loss=97.7, categorical_accuracy=0.325, val_1-shot_41-way_acc=0.732]\n",
      "Epoch 4: 100%|██████████| 2/2 [00:04<00:00,  2.60s/it, loss=76.5, categorical_accuracy=0.35, val_1-shot_41-way_acc=0.585]\n",
      "Epoch 5: 100%|██████████| 2/2 [00:04<00:00,  2.58s/it, loss=56.8, categorical_accuracy=0.4, val_1-shot_41-way_acc=0.463]\n",
      "Epoch 6: 100%|██████████| 2/2 [00:04<00:00,  2.55s/it, loss=44.9, categorical_accuracy=0.456, val_1-shot_41-way_acc=0.585]\n",
      "Epoch 7: 100%|██████████| 2/2 [00:04<00:00,  2.56s/it, loss=32.2, categorical_accuracy=0.487, val_1-shot_41-way_acc=0.512]\n",
      "Epoch 8: 100%|██████████| 2/2 [00:04<00:00,  2.61s/it, loss=26.4, categorical_accuracy=0.456, val_1-shot_41-way_acc=0.463]\n",
      "Epoch 9: 100%|██████████| 2/2 [00:04<00:00,  2.58s/it, loss=18, categorical_accuracy=0.512, val_1-shot_41-way_acc=0.415]\n",
      "Epoch 10: 100%|██████████| 2/2 [00:04<00:00,  2.61s/it, loss=14.4, categorical_accuracy=0.388, val_1-shot_41-way_acc=0.439]\n",
      "Epoch 11: 100%|██████████| 2/2 [00:04<00:00,  2.59s/it, loss=14.2, categorical_accuracy=0.406, val_1-shot_41-way_acc=0.268]\n",
      "Epoch 12: 100%|██████████| 2/2 [00:04<00:00,  2.62s/it, loss=9.79, categorical_accuracy=0.431, val_1-shot_41-way_acc=0.244]\n",
      "Epoch 13: 100%|██████████| 2/2 [00:04<00:00,  2.58s/it, loss=6.79, categorical_accuracy=0.481, val_1-shot_41-way_acc=0.22]\n",
      "Epoch 14: 100%|██████████| 2/2 [00:04<00:00,  2.56s/it, loss=3.93, categorical_accuracy=0.525, val_1-shot_41-way_acc=0.171]\n",
      "Epoch 15: 100%|██████████| 2/2 [00:04<00:00,  2.60s/it, loss=4.88, categorical_accuracy=0.375, val_1-shot_41-way_acc=0.268]\n",
      "Epoch 16: 100%|██████████| 2/2 [00:04<00:00,  2.61s/it, loss=4.57, categorical_accuracy=0.406, val_1-shot_41-way_acc=0.244]\n",
      "Epoch 17: 100%|██████████| 2/2 [00:04<00:00,  2.58s/it, loss=2.93, categorical_accuracy=0.494, val_1-shot_41-way_acc=0.366]\n",
      "Epoch 18: 100%|██████████| 2/2 [00:04<00:00,  2.60s/it, loss=2.66, categorical_accuracy=0.469, val_1-shot_41-way_acc=0.39]\n",
      "Epoch 19: 100%|██████████| 2/2 [00:04<00:00,  2.57s/it, loss=2.77, categorical_accuracy=0.45, val_1-shot_41-way_acc=0.341]\n",
      "Epoch 20: 100%|██████████| 2/2 [00:04<00:00,  2.70s/it, loss=2.19, categorical_accuracy=0.537, val_1-shot_41-way_acc=0.39]\n",
      "Epoch 21: 100%|██████████| 2/2 [00:04<00:00,  2.65s/it, loss=2.09, categorical_accuracy=0.544, val_1-shot_41-way_acc=0.439]\n",
      "Epoch 22: 100%|██████████| 2/2 [00:04<00:00,  2.62s/it, loss=1.91, categorical_accuracy=0.475, val_1-shot_41-way_acc=0.512]\n",
      "Epoch 23: 100%|██████████| 2/2 [00:04<00:00,  2.62s/it, loss=2.09, categorical_accuracy=0.487, val_1-shot_41-way_acc=0.463]\n",
      "Epoch 24: 100%|██████████| 2/2 [00:04<00:00,  2.64s/it, loss=2.04, categorical_accuracy=0.494, val_1-shot_41-way_acc=0.512]\n",
      "Epoch 25: 100%|██████████| 2/2 [00:04<00:00,  2.59s/it, loss=2.15, categorical_accuracy=0.475, val_1-shot_41-way_acc=0.634]\n",
      "Epoch 26: 100%|██████████| 2/2 [00:04<00:00,  2.61s/it, loss=1.81, categorical_accuracy=0.537, val_1-shot_41-way_acc=0.659]\n",
      "Epoch 27: 100%|██████████| 2/2 [00:04<00:00,  2.58s/it, loss=1.91, categorical_accuracy=0.525, val_1-shot_41-way_acc=0.707]\n",
      "Epoch 28: 100%|██████████| 2/2 [00:04<00:00,  2.64s/it, loss=1.82, categorical_accuracy=0.481, val_1-shot_41-way_acc=0.732]\n",
      "Epoch 29: 100%|██████████| 2/2 [00:04<00:00,  2.61s/it, loss=1.95, categorical_accuracy=0.463, val_1-shot_41-way_acc=0.756]\n",
      "Epoch 30: 100%|██████████| 2/2 [00:04<00:00,  2.65s/it, loss=1.57, categorical_accuracy=0.6, val_1-shot_41-way_acc=0.732]\n",
      "Epoch 31: 100%|██████████| 2/2 [00:04<00:00,  2.55s/it, loss=1.7, categorical_accuracy=0.613, val_1-shot_41-way_acc=0.732]\n",
      "Epoch 32: 100%|██████████| 2/2 [00:04<00:00,  2.58s/it, loss=1.64, categorical_accuracy=0.556, val_1-shot_41-way_acc=0.805]\n",
      "Epoch 33: 100%|██████████| 2/2 [00:04<00:00,  2.56s/it, loss=1.7, categorical_accuracy=0.562, val_1-shot_41-way_acc=0.805]\n",
      "Epoch 34: 100%|██████████| 2/2 [00:04<00:00,  2.61s/it, loss=1.28, categorical_accuracy=0.669, val_1-shot_41-way_acc=0.829]\n",
      "Epoch 35: 100%|██████████| 2/2 [00:04<00:00,  2.58s/it, loss=1.87, categorical_accuracy=0.481, val_1-shot_41-way_acc=0.805]\n",
      "Epoch 36: 100%|██████████| 2/2 [00:04<00:00,  2.59s/it, loss=1.39, categorical_accuracy=0.588, val_1-shot_41-way_acc=0.854]\n",
      "Epoch 37: 100%|██████████| 2/2 [00:04<00:00,  2.62s/it, loss=1.35, categorical_accuracy=0.625, val_1-shot_41-way_acc=0.854]\n",
      "Epoch 38: 100%|██████████| 2/2 [00:04<00:00,  2.62s/it, loss=1.44, categorical_accuracy=0.556, val_1-shot_41-way_acc=0.829]\n",
      "Epoch 39: 100%|██████████| 2/2 [00:04<00:00,  2.54s/it, loss=1.38, categorical_accuracy=0.594, val_1-shot_41-way_acc=0.829]\n",
      "Epoch 40: 100%|██████████| 2/2 [00:04<00:00,  2.63s/it, loss=1.39, categorical_accuracy=0.606, val_1-shot_41-way_acc=0.854]\n",
      "Epoch 41: 100%|██████████| 2/2 [00:04<00:00,  2.58s/it, loss=1.43, categorical_accuracy=0.613, val_1-shot_41-way_acc=0.878]\n",
      "Epoch 42: 100%|██████████| 2/2 [00:04<00:00,  2.61s/it, loss=1.31, categorical_accuracy=0.65, val_1-shot_41-way_acc=0.854]\n",
      "Epoch 43: 100%|██████████| 2/2 [00:04<00:00,  2.59s/it, loss=1.34, categorical_accuracy=0.6, val_1-shot_41-way_acc=0.854]\n",
      "Epoch 44: 100%|██████████| 2/2 [00:04<00:00,  2.60s/it, loss=1.57, categorical_accuracy=0.562, val_1-shot_41-way_acc=0.854]\n",
      "Epoch 45: 100%|██████████| 2/2 [00:04<00:00,  2.55s/it, loss=1.19, categorical_accuracy=0.625, val_1-shot_41-way_acc=0.805]\n",
      "Epoch 46: 100%|██████████| 2/2 [00:04<00:00,  2.62s/it, loss=1.04, categorical_accuracy=0.713, val_1-shot_41-way_acc=0.854]\n",
      "Epoch 47: 100%|██████████| 2/2 [00:04<00:00,  2.54s/it, loss=1.14, categorical_accuracy=0.656, val_1-shot_41-way_acc=0.878]\n",
      "Epoch 48: 100%|██████████| 2/2 [00:04<00:00,  2.61s/it, loss=1.63, categorical_accuracy=0.575, val_1-shot_41-way_acc=0.878]\n",
      "Epoch 49: 100%|██████████| 2/2 [00:04<00:00,  2.59s/it, loss=1.11, categorical_accuracy=0.637, val_1-shot_41-way_acc=0.878]\n",
      "Epoch 50: 100%|██████████| 2/2 [00:04<00:00,  2.53s/it, loss=1.56, categorical_accuracy=0.619, val_1-shot_41-way_acc=0.902]\n",
      "Epoch 51: 100%|██████████| 2/2 [00:04<00:00,  2.56s/it, loss=1.13, categorical_accuracy=0.65, val_1-shot_41-way_acc=0.902]\n",
      "Epoch 52: 100%|██████████| 2/2 [00:04<00:00,  2.52s/it, loss=1.07, categorical_accuracy=0.719, val_1-shot_41-way_acc=0.902]\n",
      "Epoch 53: 100%|██████████| 2/2 [00:04<00:00,  2.55s/it, loss=1.06, categorical_accuracy=0.713, val_1-shot_41-way_acc=0.927]\n",
      "Epoch 54: 100%|██████████| 2/2 [00:04<00:00,  2.63s/it, loss=1.26, categorical_accuracy=0.65, val_1-shot_41-way_acc=0.927]\n",
      "Epoch 55: 100%|██████████| 2/2 [00:04<00:00,  2.61s/it, loss=1.04, categorical_accuracy=0.713, val_1-shot_41-way_acc=0.927]\n",
      "Epoch 56: 100%|██████████| 2/2 [00:04<00:00,  2.59s/it, loss=1.09, categorical_accuracy=0.738, val_1-shot_41-way_acc=0.927]\n",
      "Epoch 57: 100%|██████████| 2/2 [00:04<00:00,  2.63s/it, loss=1.32, categorical_accuracy=0.694, val_1-shot_41-way_acc=0.927]\n",
      "Epoch 58: 100%|██████████| 2/2 [00:04<00:00,  2.66s/it, loss=1.01, categorical_accuracy=0.7, val_1-shot_41-way_acc=0.927]\n",
      "Epoch 59: 100%|██████████| 2/2 [00:04<00:00,  2.64s/it, loss=1.16, categorical_accuracy=0.669, val_1-shot_41-way_acc=0.878]\n",
      "Epoch 60: 100%|██████████| 2/2 [00:04<00:00,  2.62s/it, loss=0.919, categorical_accuracy=0.744, val_1-shot_41-way_acc=0.927]\n",
      "Epoch 61: 100%|██████████| 2/2 [00:04<00:00,  2.60s/it, loss=0.99, categorical_accuracy=0.662, val_1-shot_41-way_acc=0.902]\n",
      "Epoch 62: 100%|██████████| 2/2 [00:04<00:00,  2.56s/it, loss=0.821, categorical_accuracy=0.762, val_1-shot_41-way_acc=0.902]\n",
      "Epoch 63: 100%|██████████| 2/2 [00:04<00:00,  2.58s/it, loss=0.937, categorical_accuracy=0.719, val_1-shot_41-way_acc=0.902]\n",
      "Epoch 64: 100%|██████████| 2/2 [00:04<00:00,  2.63s/it, loss=1.06, categorical_accuracy=0.719, val_1-shot_41-way_acc=0.902]\n",
      "Epoch 65: 100%|██████████| 2/2 [00:04<00:00,  2.63s/it, loss=0.93, categorical_accuracy=0.694, val_1-shot_41-way_acc=0.927]\n",
      "Epoch 66: 100%|██████████| 2/2 [00:04<00:00,  2.59s/it, loss=0.937, categorical_accuracy=0.725, val_1-shot_41-way_acc=0.927]\n",
      "Epoch 67: 100%|██████████| 2/2 [00:04<00:00,  2.66s/it, loss=0.866, categorical_accuracy=0.744, val_1-shot_41-way_acc=0.927]\n",
      "Epoch 68: 100%|██████████| 2/2 [00:04<00:00,  2.59s/it, loss=0.928, categorical_accuracy=0.744, val_1-shot_41-way_acc=0.902]\n",
      "Epoch 69: 100%|██████████| 2/2 [00:04<00:00,  2.59s/it, loss=0.864, categorical_accuracy=0.713, val_1-shot_41-way_acc=0.878]\n",
      "Epoch 70: 100%|██████████| 2/2 [00:04<00:00,  2.59s/it, loss=0.927, categorical_accuracy=0.738, val_1-shot_41-way_acc=0.878]\n",
      "Epoch 71: 100%|██████████| 2/2 [00:04<00:00,  2.62s/it, loss=0.883, categorical_accuracy=0.738, val_1-shot_41-way_acc=0.902]\n",
      "Epoch 72: 100%|██████████| 2/2 [00:04<00:00,  2.62s/it, loss=1.05, categorical_accuracy=0.694, val_1-shot_41-way_acc=0.951]\n",
      "Epoch 73: 100%|██████████| 2/2 [00:04<00:00,  2.64s/it, loss=0.828, categorical_accuracy=0.688, val_1-shot_41-way_acc=0.902]\n",
      "Epoch 74: 100%|██████████| 2/2 [00:04<00:00,  2.65s/it, loss=1.01, categorical_accuracy=0.725, val_1-shot_41-way_acc=0.951]\n",
      "Epoch 75: 100%|██████████| 2/2 [00:04<00:00,  2.61s/it, loss=0.802, categorical_accuracy=0.744, val_1-shot_41-way_acc=0.951]\n",
      "Epoch 76: 100%|██████████| 2/2 [00:04<00:00,  2.57s/it, loss=0.815, categorical_accuracy=0.781, val_1-shot_41-way_acc=0.902]\n",
      "Epoch 77: 100%|██████████| 2/2 [00:04<00:00,  2.59s/it, loss=0.957, categorical_accuracy=0.706, val_1-shot_41-way_acc=0.927]\n",
      "Epoch 78: 100%|██████████| 2/2 [00:04<00:00,  2.59s/it, loss=1.18, categorical_accuracy=0.637, val_1-shot_41-way_acc=0.951]\n",
      "Epoch 79: 100%|██████████| 2/2 [00:04<00:00,  2.63s/it, loss=0.77, categorical_accuracy=0.787, val_1-shot_41-way_acc=0.927]\n",
      "Epoch 80: 100%|██████████| 2/2 [00:04<00:00,  2.62s/it, loss=0.907, categorical_accuracy=0.725, val_1-shot_41-way_acc=0.854]\n",
      "Epoch 81: 100%|██████████| 2/2 [00:04<00:00,  2.58s/it, loss=0.781, categorical_accuracy=0.75, val_1-shot_41-way_acc=0.854]\n",
      "Epoch 82: 100%|██████████| 2/2 [00:04<00:00,  2.63s/it, loss=0.657, categorical_accuracy=0.794, val_1-shot_41-way_acc=0.902]\n",
      "Epoch 83: 100%|██████████| 2/2 [00:04<00:00,  2.62s/it, loss=0.773, categorical_accuracy=0.756, val_1-shot_41-way_acc=0.902]\n",
      "Epoch 84: 100%|██████████| 2/2 [00:04<00:00,  2.60s/it, loss=0.742, categorical_accuracy=0.781, val_1-shot_41-way_acc=0.927]\n",
      "Epoch 85: 100%|██████████| 2/2 [00:04<00:00,  2.63s/it, loss=0.773, categorical_accuracy=0.769, val_1-shot_41-way_acc=0.951]\n",
      "Epoch 86: 100%|██████████| 2/2 [00:04<00:00,  2.60s/it, loss=0.783, categorical_accuracy=0.744, val_1-shot_41-way_acc=0.902]\n",
      "Epoch 87: 100%|██████████| 2/2 [00:04<00:00,  2.62s/it, loss=0.774, categorical_accuracy=0.781, val_1-shot_41-way_acc=0.902]\n",
      "Epoch 88: 100%|██████████| 2/2 [00:04<00:00,  2.59s/it, loss=0.873, categorical_accuracy=0.725, val_1-shot_41-way_acc=0.951]\n",
      "Epoch 89: 100%|██████████| 2/2 [00:04<00:00,  2.63s/it, loss=0.924, categorical_accuracy=0.762, val_1-shot_41-way_acc=0.902]\n",
      "Epoch 90: 100%|██████████| 2/2 [00:04<00:00,  2.60s/it, loss=0.694, categorical_accuracy=0.781, val_1-shot_41-way_acc=0.927]\n",
      "Epoch 91: 100%|██████████| 2/2 [00:04<00:00,  2.61s/it, loss=0.788, categorical_accuracy=0.731, val_1-shot_41-way_acc=0.951]\n",
      "Epoch 92: 100%|██████████| 2/2 [00:04<00:00,  2.60s/it, loss=0.761, categorical_accuracy=0.769, val_1-shot_41-way_acc=0.902]\n",
      "Epoch 93: 100%|██████████| 2/2 [00:04<00:00,  2.58s/it, loss=0.767, categorical_accuracy=0.775, val_1-shot_41-way_acc=0.902]\n",
      "Epoch 94: 100%|██████████| 2/2 [00:04<00:00,  2.58s/it, loss=0.834, categorical_accuracy=0.787, val_1-shot_41-way_acc=0.902]\n",
      "Epoch 95: 100%|██████████| 2/2 [00:04<00:00,  2.58s/it, loss=0.661, categorical_accuracy=0.769, val_1-shot_41-way_acc=0.878]\n",
      "Epoch 96: 100%|██████████| 2/2 [00:04<00:00,  2.59s/it, loss=0.757, categorical_accuracy=0.744, val_1-shot_41-way_acc=0.878]\n",
      "Epoch 97: 100%|██████████| 2/2 [00:04<00:00,  2.58s/it, loss=0.625, categorical_accuracy=0.8, val_1-shot_41-way_acc=0.878]\n",
      "Epoch 98: 100%|██████████| 2/2 [00:04<00:00,  2.62s/it, loss=0.739, categorical_accuracy=0.794, val_1-shot_41-way_acc=0.878]\n",
      "Epoch 99: 100%|██████████| 2/2 [00:04<00:00,  2.56s/it, loss=0.653, categorical_accuracy=0.806, val_1-shot_41-way_acc=0.902]\n",
      "Epoch 100: 100%|██████████| 2/2 [00:04<00:00,  2.63s/it, loss=0.581, categorical_accuracy=0.794, val_1-shot_41-way_acc=0.951]"
     ]
    },
    {
     "name": "stdout",
     "output_type": "stream",
     "text": [
      "Finished.\n"
     ]
    },
    {
     "name": "stderr",
     "output_type": "stream",
     "text": [
      "\n"
     ]
    }
   ],
   "source": [
    "train_proto_net(args,\n",
    "                model=feature_model,\n",
    "                device=device,\n",
    "                path='.',\n",
    "                n_epochs=args.n_epochs,\n",
    "                background_taskloader=background_taskloader,\n",
    "                evaluation_taskloader=evaluation_taskloader,\n",
    "                drop_lr_every=args.drop_lr_every,\n",
    "                evaluation_episodes=args.evaluation_episodes,\n",
    "                episodes_per_epoch=args.episodes_per_epoch,\n",
    "                lr=args.lr,\n",
    "               )"
   ]
  },
  {
   "cell_type": "code",
   "execution_count": 24,
   "metadata": {
    "hidden": true
   },
   "outputs": [
    {
     "data": {
      "text/plain": [
       "'Grocer_res34_s1_q2_k80_epoch100.pth'"
      ]
     },
     "execution_count": 24,
     "metadata": {},
     "output_type": "execute_result"
    }
   ],
   "source": [
    "f'{args.param_str}_epoch{args.n_epochs}.pth'"
   ]
  },
  {
   "cell_type": "code",
   "execution_count": null,
   "metadata": {
    "hidden": true
   },
   "outputs": [],
   "source": [
    "# torch.save(feature_model.state_dict(), f'models/{args.param_str}_epoch{args.n_epochs}.pth')"
   ]
  },
  {
   "cell_type": "markdown",
   "metadata": {},
   "source": [
    "### Testing\n",
    "* loader for test query images\n",
    "* calculate protoypes for all reference images\n",
    "* Generate embeddings for all query images\n",
    "* Calculate distance between embeddings and prototypes\n",
    "* Save top1 and top5 accuracy"
   ]
  },
  {
   "cell_type": "code",
   "execution_count": 13,
   "metadata": {},
   "outputs": [],
   "source": [
    "from dlcliche.image import *\n",
    "sys.path.append('..') # app\n",
    "sys.path.append('../..') # root\n",
    "from easydict import EasyDict\n",
    "from app_utils_clf import *\n",
    "from whale_plus_utils import *\n",
    "from config import DATA_PATH"
   ]
  },
  {
   "cell_type": "code",
   "execution_count": 19,
   "metadata": {},
   "outputs": [
    {
     "name": "stdout",
     "output_type": "stream",
     "text": [
      "Grocer_res34_s1_q2_k80_epoch100\n"
     ]
    }
   ],
   "source": [
    "exp = f'{args.param_str}_epoch{args.n_epochs}'\n",
    "# exp = 'res34_untrained_8kcls'\n",
    "print(exp)\n",
    "get_model_fn=get_resnet34\n",
    "weight_file = f'models/{args.param_str}_e{args.n_epochs+1}.pth'\n",
    "output_path='results'"
   ]
  },
  {
   "cell_type": "code",
   "execution_count": 20,
   "metadata": {},
   "outputs": [],
   "source": [
    "SZ=256\n",
    "device='cuda'\n",
    "train_csv=DATA_PATH+'/train.csv'\n",
    "data_train = DATA_PATH\n",
    "data_test  = DATA_PATH\n",
    "data_type='normal'\n",
    "normalize='imagenet'\n",
    "N_TTA=0\n",
    "part=0\n",
    "n_part=1"
   ]
  },
  {
   "cell_type": "code",
   "execution_count": 21,
   "metadata": {},
   "outputs": [],
   "source": [
    "weight_file = Path(weight_file)\n",
    "output_path = Path(output_path)\n",
    "ensure_folder(output_path)"
   ]
  },
  {
   "cell_type": "code",
   "execution_count": 22,
   "metadata": {},
   "outputs": [],
   "source": [
    "proto_df = pd.read_csv('/home/raghava_balusu_walmartlabs_com/Work/oneshotml/data/Grocery_products/reference_metadata.csv')"
   ]
  },
  {
   "cell_type": "code",
   "execution_count": 23,
   "metadata": {},
   "outputs": [],
   "source": [
    "proto_df['type'] = 'reference'\n",
    "\n",
    "proto_df.columns = ['image_path', 'class', 'class_id', 'sub_class_label', 'label', 'num_Query_imgs', 'type']"
   ]
  },
  {
   "cell_type": "code",
   "execution_count": 24,
   "metadata": {},
   "outputs": [],
   "source": [
    "le = LabelEncoder()\n",
    "proto_df['label_id'] = le.fit_transform(proto_df.label)"
   ]
  },
  {
   "cell_type": "code",
   "execution_count": 25,
   "metadata": {},
   "outputs": [
    {
     "data": {
      "text/html": [
       "<div>\n",
       "<style scoped>\n",
       "    .dataframe tbody tr th:only-of-type {\n",
       "        vertical-align: middle;\n",
       "    }\n",
       "\n",
       "    .dataframe tbody tr th {\n",
       "        vertical-align: top;\n",
       "    }\n",
       "\n",
       "    .dataframe thead th {\n",
       "        text-align: right;\n",
       "    }\n",
       "</style>\n",
       "<table border=\"1\" class=\"dataframe\">\n",
       "  <thead>\n",
       "    <tr style=\"text-align: right;\">\n",
       "      <th></th>\n",
       "      <th>image_path</th>\n",
       "      <th>class</th>\n",
       "      <th>class_id</th>\n",
       "      <th>sub_class_label</th>\n",
       "      <th>label</th>\n",
       "      <th>num_Query_imgs</th>\n",
       "      <th>type</th>\n",
       "      <th>label_id</th>\n",
       "    </tr>\n",
       "  </thead>\n",
       "  <tbody>\n",
       "    <tr>\n",
       "      <th>0</th>\n",
       "      <td>Training/Beers/Dark/123121.JPG</td>\n",
       "      <td>Beers_Dark</td>\n",
       "      <td>2</td>\n",
       "      <td>123121.0</td>\n",
       "      <td>Beers_Dark_123121</td>\n",
       "      <td>0</td>\n",
       "      <td>reference</td>\n",
       "      <td>0</td>\n",
       "    </tr>\n",
       "    <tr>\n",
       "      <th>1</th>\n",
       "      <td>Training/Beers/Dark/14923.JPG</td>\n",
       "      <td>Beers_Dark</td>\n",
       "      <td>2</td>\n",
       "      <td>14923.0</td>\n",
       "      <td>Beers_Dark_14923</td>\n",
       "      <td>0</td>\n",
       "      <td>reference</td>\n",
       "      <td>1</td>\n",
       "    </tr>\n",
       "    <tr>\n",
       "      <th>2</th>\n",
       "      <td>Training/Beers/Dark/14925.JPG</td>\n",
       "      <td>Beers_Dark</td>\n",
       "      <td>2</td>\n",
       "      <td>14925.0</td>\n",
       "      <td>Beers_Dark_14925</td>\n",
       "      <td>0</td>\n",
       "      <td>reference</td>\n",
       "      <td>2</td>\n",
       "    </tr>\n",
       "    <tr>\n",
       "      <th>3</th>\n",
       "      <td>Training/Beers/Dark/201454.JPG</td>\n",
       "      <td>Beers_Dark</td>\n",
       "      <td>2</td>\n",
       "      <td>201454.0</td>\n",
       "      <td>Beers_Dark_201454</td>\n",
       "      <td>0</td>\n",
       "      <td>reference</td>\n",
       "      <td>3</td>\n",
       "    </tr>\n",
       "    <tr>\n",
       "      <th>4</th>\n",
       "      <td>Training/Beers/Dark/201750.JPG</td>\n",
       "      <td>Beers_Dark</td>\n",
       "      <td>2</td>\n",
       "      <td>201750.0</td>\n",
       "      <td>Beers_Dark_201750</td>\n",
       "      <td>0</td>\n",
       "      <td>reference</td>\n",
       "      <td>4</td>\n",
       "    </tr>\n",
       "  </tbody>\n",
       "</table>\n",
       "</div>"
      ],
      "text/plain": [
       "                       image_path       class  class_id  sub_class_label  \\\n",
       "0  Training/Beers/Dark/123121.JPG  Beers_Dark         2         123121.0   \n",
       "1   Training/Beers/Dark/14923.JPG  Beers_Dark         2          14923.0   \n",
       "2   Training/Beers/Dark/14925.JPG  Beers_Dark         2          14925.0   \n",
       "3  Training/Beers/Dark/201454.JPG  Beers_Dark         2         201454.0   \n",
       "4  Training/Beers/Dark/201750.JPG  Beers_Dark         2         201750.0   \n",
       "\n",
       "               label  num_Query_imgs       type  label_id  \n",
       "0  Beers_Dark_123121               0  reference         0  \n",
       "1   Beers_Dark_14923               0  reference         1  \n",
       "2   Beers_Dark_14925               0  reference         2  \n",
       "3  Beers_Dark_201454               0  reference         3  \n",
       "4  Beers_Dark_201750               0  reference         4  "
      ]
     },
     "execution_count": 25,
     "metadata": {},
     "output_type": "execute_result"
    }
   ],
   "source": [
    "proto_df.head()"
   ]
  },
  {
   "cell_type": "code",
   "execution_count": 26,
   "metadata": {
    "scrolled": true
   },
   "outputs": [],
   "source": [
    "query_df = img_df[img_df.type == 'query'].reset_index(drop=True)\n",
    "query_df['label_id'] = le.transform(query_df.label.values)"
   ]
  },
  {
   "cell_type": "code",
   "execution_count": 35,
   "metadata": {},
   "outputs": [
    {
     "name": "stdout",
     "output_type": "stream",
     "text": [
      "Test samples: 948.\n"
     ]
    },
    {
     "name": "stderr",
     "output_type": "stream",
     "text": [
      "100%|██████████| 31/31 [00:16<00:00,  3.35it/s]\n",
      "2020-04-13 06:17:15,092 dlcliche.utils make_prototypes [INFO]: Making new prototypes.\n"
     ]
    }
   ],
   "source": [
    "print(f'Test samples: {len(query_df)}.')\n",
    "\n",
    "# Making dataloaders\n",
    "def get_dl(df, folder, SZ=SZ, batch_size=256, augment='test', normalize='imagenet'):\n",
    "    if data_type == 'normal':\n",
    "        ds = GrocerImages_plus(folder, df, re_size=SZ, to_size=SZ,\n",
    "                             augment=augment, normalize=normalize, part=part, n_part=n_part)\n",
    "    else:\n",
    "        raise ValueError('invalid data type')\n",
    "    dl = DataLoader(ds, batch_size=batch_size, shuffle=False, num_workers=8)\n",
    "    return dl\n",
    "\n",
    "# 1. NORMAL RESULT\n",
    "# Make prototypes\n",
    "trn_dl = get_dl(proto_df, data_train)\n",
    "# model = feature_model\n",
    "model = get_model_fn(device=device, weight_file=weight_file)\n",
    "proto_net = ExtModelProtoNetClf(model, trn_dl.dataset.classes, device)\n",
    "proto_net.make_prototypes(trn_dl)"
   ]
  },
  {
   "cell_type": "code",
   "execution_count": 36,
   "metadata": {
    "scrolled": true
   },
   "outputs": [
    {
     "name": "stderr",
     "output_type": "stream",
     "text": [
      "100%|██████████| 4/4 [00:03<00:00,  1.22s/it]\n",
      "100%|██████████| 948/948 [00:50<00:00, 19.00it/s]\n"
     ]
    }
   ],
   "source": [
    "# Calculate distances\n",
    "test_dl = get_dl(query_df, data_test, batch_size=256)\n",
    "test_embs, gts = proto_net.get_embeddings(test_dl)\n",
    "test_dists = proto_net.predict_embeddings(test_embs, softmax=False) #Distance are already negated so dist shub b high now"
   ]
  },
  {
   "cell_type": "code",
   "execution_count": 37,
   "metadata": {},
   "outputs": [],
   "source": [
    "def stable_softmax(x):\n",
    "    z = x - x.max(axis=1)[:, None]\n",
    "    numerator = np.exp(z, )\n",
    "    denominator = np.sum(numerator, axis=1)[:, None]\n",
    "    softmax = numerator/denominator\n",
    "    return softmax"
   ]
  },
  {
   "cell_type": "code",
   "execution_count": 38,
   "metadata": {},
   "outputs": [],
   "source": [
    "from scipy.special import softmax\n",
    "test_probs = softmax(test_dists, axis=1)\n",
    "prototypes = np.array([x.mean() for x in proto_net.prototypes])"
   ]
  },
  {
   "cell_type": "code",
   "execution_count": 39,
   "metadata": {},
   "outputs": [
    {
     "data": {
      "text/plain": [
       "1.0"
      ]
     },
     "execution_count": 39,
     "metadata": {},
     "output_type": "execute_result"
    }
   ],
   "source": [
    "(np.argsort(test_dists, axis=1)[:, :5] == np.argsort(test_probs, axis=1)[:, :5]).mean()"
   ]
  },
  {
   "cell_type": "code",
   "execution_count": 40,
   "metadata": {
    "scrolled": true
   },
   "outputs": [],
   "source": [
    "top5labels = np.argsort(-test_dists, axis=1)[:, :5] #- is to sort in descending order\n",
    "\n",
    "top5preds = [test_dists[i][top5labels[i]] for i in range(test_dists.shape[0])]\n",
    "top5probs = [test_probs[i][top5labels[i]] for i in range(test_dists.shape[0])]\n",
    "\n",
    "top5probs = np.array(top5probs)\n",
    "top5preds = np.array(top5preds)"
   ]
  },
  {
   "cell_type": "code",
   "execution_count": 41,
   "metadata": {},
   "outputs": [
    {
     "data": {
      "text/html": [
       "<div>\n",
       "<style scoped>\n",
       "    .dataframe tbody tr th:only-of-type {\n",
       "        vertical-align: middle;\n",
       "    }\n",
       "\n",
       "    .dataframe tbody tr th {\n",
       "        vertical-align: top;\n",
       "    }\n",
       "\n",
       "    .dataframe thead th {\n",
       "        text-align: right;\n",
       "    }\n",
       "</style>\n",
       "<table border=\"1\" class=\"dataframe\">\n",
       "  <thead>\n",
       "    <tr style=\"text-align: right;\">\n",
       "      <th></th>\n",
       "      <th>fpath</th>\n",
       "      <th>category</th>\n",
       "      <th>type</th>\n",
       "      <th>label_id</th>\n",
       "      <th>split</th>\n",
       "      <th>actual</th>\n",
       "      <th>top_prob1</th>\n",
       "      <th>top_prob2</th>\n",
       "      <th>top_prob3</th>\n",
       "      <th>top_prob4</th>\n",
       "      <th>top_prob5</th>\n",
       "      <th>top_cat1</th>\n",
       "      <th>top_cat2</th>\n",
       "      <th>top_cat3</th>\n",
       "      <th>top_cat4</th>\n",
       "      <th>top_cat5</th>\n",
       "      <th>pred_cat</th>\n",
       "      <th>exp</th>\n",
       "    </tr>\n",
       "  </thead>\n",
       "  <tbody>\n",
       "    <tr>\n",
       "      <th>0</th>\n",
       "      <td>Training/query_images/380.jpg</td>\n",
       "      <td>Food_Biscuits_10</td>\n",
       "      <td>query</td>\n",
       "      <td>911</td>\n",
       "      <td>train</td>\n",
       "      <td>Food_Biscuits_10</td>\n",
       "      <td>0.175907</td>\n",
       "      <td>0.104308</td>\n",
       "      <td>0.057956</td>\n",
       "      <td>0.047397</td>\n",
       "      <td>0.037634</td>\n",
       "      <td>Food_Biscuits_10</td>\n",
       "      <td>Food_Biscuits_5</td>\n",
       "      <td>Food_Biscuits_26</td>\n",
       "      <td>Food_Biscuits_33</td>\n",
       "      <td>Food_Biscuits_21</td>\n",
       "      <td>Food_Biscuits_10</td>\n",
       "      <td>Grocer_res34_s1_q2_k80_epoch100</td>\n",
       "    </tr>\n",
       "    <tr>\n",
       "      <th>1</th>\n",
       "      <td>Training/query_images/381.jpg</td>\n",
       "      <td>Food_Biscuits_10</td>\n",
       "      <td>query</td>\n",
       "      <td>911</td>\n",
       "      <td>train</td>\n",
       "      <td>Food_Biscuits_10</td>\n",
       "      <td>0.142088</td>\n",
       "      <td>0.067990</td>\n",
       "      <td>0.049835</td>\n",
       "      <td>0.042169</td>\n",
       "      <td>0.031590</td>\n",
       "      <td>Food_Biscuits_10</td>\n",
       "      <td>Food_Biscuits_5</td>\n",
       "      <td>Food_Biscuits_26</td>\n",
       "      <td>Food_Biscuits_12</td>\n",
       "      <td>Food_Biscuits_4</td>\n",
       "      <td>Food_Biscuits_10</td>\n",
       "      <td>Grocer_res34_s1_q2_k80_epoch100</td>\n",
       "    </tr>\n",
       "    <tr>\n",
       "      <th>2</th>\n",
       "      <td>Training/query_images/514.jpg</td>\n",
       "      <td>Food_Biscuits_10</td>\n",
       "      <td>query</td>\n",
       "      <td>911</td>\n",
       "      <td>train</td>\n",
       "      <td>Food_Biscuits_10</td>\n",
       "      <td>0.196716</td>\n",
       "      <td>0.124897</td>\n",
       "      <td>0.099159</td>\n",
       "      <td>0.037033</td>\n",
       "      <td>0.032318</td>\n",
       "      <td>Food_Biscuits_10</td>\n",
       "      <td>Food_Biscuits_5</td>\n",
       "      <td>Food_Biscuits_33</td>\n",
       "      <td>Food_Biscuits_62</td>\n",
       "      <td>Food_Biscuits_4</td>\n",
       "      <td>Food_Biscuits_10</td>\n",
       "      <td>Grocer_res34_s1_q2_k80_epoch100</td>\n",
       "    </tr>\n",
       "    <tr>\n",
       "      <th>3</th>\n",
       "      <td>Training/query_images/516.jpg</td>\n",
       "      <td>Food_Biscuits_10</td>\n",
       "      <td>query</td>\n",
       "      <td>911</td>\n",
       "      <td>train</td>\n",
       "      <td>Food_Biscuits_10</td>\n",
       "      <td>0.233559</td>\n",
       "      <td>0.122402</td>\n",
       "      <td>0.045638</td>\n",
       "      <td>0.045620</td>\n",
       "      <td>0.028162</td>\n",
       "      <td>Food_Biscuits_10</td>\n",
       "      <td>Food_Biscuits_5</td>\n",
       "      <td>Food_Biscuits_33</td>\n",
       "      <td>Food_Biscuits_4</td>\n",
       "      <td>Food_Biscuits_26</td>\n",
       "      <td>Food_Biscuits_10</td>\n",
       "      <td>Grocer_res34_s1_q2_k80_epoch100</td>\n",
       "    </tr>\n",
       "    <tr>\n",
       "      <th>4</th>\n",
       "      <td>Training/query_images/541.jpg</td>\n",
       "      <td>Food_Biscuits_10</td>\n",
       "      <td>query</td>\n",
       "      <td>911</td>\n",
       "      <td>train</td>\n",
       "      <td>Food_Biscuits_10</td>\n",
       "      <td>0.398143</td>\n",
       "      <td>0.102663</td>\n",
       "      <td>0.067473</td>\n",
       "      <td>0.060316</td>\n",
       "      <td>0.038930</td>\n",
       "      <td>Food_Biscuits_10</td>\n",
       "      <td>Food_Biscuits_4</td>\n",
       "      <td>Food_Biscuits_5</td>\n",
       "      <td>Food_Biscuits_33</td>\n",
       "      <td>Food_Biscuits_12</td>\n",
       "      <td>Food_Biscuits_10</td>\n",
       "      <td>Grocer_res34_s1_q2_k80_epoch100</td>\n",
       "    </tr>\n",
       "  </tbody>\n",
       "</table>\n",
       "</div>"
      ],
      "text/plain": [
       "                           fpath          category   type  label_id  split  \\\n",
       "0  Training/query_images/380.jpg  Food_Biscuits_10  query       911  train   \n",
       "1  Training/query_images/381.jpg  Food_Biscuits_10  query       911  train   \n",
       "2  Training/query_images/514.jpg  Food_Biscuits_10  query       911  train   \n",
       "3  Training/query_images/516.jpg  Food_Biscuits_10  query       911  train   \n",
       "4  Training/query_images/541.jpg  Food_Biscuits_10  query       911  train   \n",
       "\n",
       "             actual  top_prob1  top_prob2  top_prob3  top_prob4  top_prob5  \\\n",
       "0  Food_Biscuits_10   0.175907   0.104308   0.057956   0.047397   0.037634   \n",
       "1  Food_Biscuits_10   0.142088   0.067990   0.049835   0.042169   0.031590   \n",
       "2  Food_Biscuits_10   0.196716   0.124897   0.099159   0.037033   0.032318   \n",
       "3  Food_Biscuits_10   0.233559   0.122402   0.045638   0.045620   0.028162   \n",
       "4  Food_Biscuits_10   0.398143   0.102663   0.067473   0.060316   0.038930   \n",
       "\n",
       "           top_cat1         top_cat2          top_cat3          top_cat4  \\\n",
       "0  Food_Biscuits_10  Food_Biscuits_5  Food_Biscuits_26  Food_Biscuits_33   \n",
       "1  Food_Biscuits_10  Food_Biscuits_5  Food_Biscuits_26  Food_Biscuits_12   \n",
       "2  Food_Biscuits_10  Food_Biscuits_5  Food_Biscuits_33  Food_Biscuits_62   \n",
       "3  Food_Biscuits_10  Food_Biscuits_5  Food_Biscuits_33   Food_Biscuits_4   \n",
       "4  Food_Biscuits_10  Food_Biscuits_4   Food_Biscuits_5  Food_Biscuits_33   \n",
       "\n",
       "           top_cat5          pred_cat                              exp  \n",
       "0  Food_Biscuits_21  Food_Biscuits_10  Grocer_res34_s1_q2_k80_epoch100  \n",
       "1   Food_Biscuits_4  Food_Biscuits_10  Grocer_res34_s1_q2_k80_epoch100  \n",
       "2   Food_Biscuits_4  Food_Biscuits_10  Grocer_res34_s1_q2_k80_epoch100  \n",
       "3  Food_Biscuits_26  Food_Biscuits_10  Grocer_res34_s1_q2_k80_epoch100  \n",
       "4  Food_Biscuits_12  Food_Biscuits_10  Grocer_res34_s1_q2_k80_epoch100  "
      ]
     },
     "execution_count": 41,
     "metadata": {},
     "output_type": "execute_result"
    }
   ],
   "source": [
    "query_df.columns = ['fpath', 'category', 'type', 'label_id', 'split']\n",
    "\n",
    "query_df['actual'] = query_df['category']\n",
    "\n",
    "for i in range(5):\n",
    "    query_df[f'top_prob'+str(i+1)] = top5probs[:, i]\n",
    "\n",
    "for i in range(5):\n",
    "    query_df[f'top_cat'+str(i+1)] = le.inverse_transform(top5labels[:, i])\n",
    "\n",
    "query_df['pred_cat'] = query_df['top_cat1']\n",
    "\n",
    "query_df['exp'] = exp\n",
    "\n",
    "query_df.head()"
   ]
  },
  {
   "cell_type": "code",
   "execution_count": 42,
   "metadata": {},
   "outputs": [
    {
     "name": "stdout",
     "output_type": "stream",
     "text": [
      "0.8217299578059072 0.9609704641350211\n",
      "0.7857142857142857 0.9503105590062112\n"
     ]
    }
   ],
   "source": [
    "query_df['fpath'] = query_df.fpath.map(lambda x : '/Users/r0b03m2/Desktop/Work/Retail_Data/Grocery_products/' + x)\n",
    "\n",
    "query_df['Flag'] = query_df.apply(lambda x: x['actual'] == x['pred_cat'], axis=1)\n",
    "\n",
    "query_df['Flag_top5'] = query_df.apply(lambda x: x['actual'] in x[['top_cat1', 'top_cat2', 'top_cat3', 'top_cat4', 'top_cat5']].values, axis=1)\n",
    "\n",
    "print(query_df.Flag.mean(), query_df.Flag_top5.mean())\n",
    "\n",
    "print(query_df[query_df.split == 'valid'].Flag.mean(), query_df[query_df.split == 'valid'].Flag_top5.mean())"
   ]
  },
  {
   "cell_type": "code",
   "execution_count": 43,
   "metadata": {},
   "outputs": [
    {
     "name": "stdout",
     "output_type": "stream",
     "text": [
      "0.8402555910543131 0.9664536741214057\n"
     ]
    }
   ],
   "source": [
    "print(query_df[query_df.split == 'train'].Flag.mean(), query_df[query_df.split == 'train'].Flag_top5.mean())"
   ]
  },
  {
   "cell_type": "code",
   "execution_count": 40,
   "metadata": {},
   "outputs": [],
   "source": [
    "temp = query_df.groupby(['exp', 'category'])['Flag'].mean().reset_index()\n",
    "temp.columns = ['exp', 'category', 'accuracy']\n",
    "query_df = query_df.merge(temp, how='left', on=['exp', 'category'])\n",
    "\n",
    "temp = query_df.groupby(['exp', 'category'])['Flag_top5'].mean().reset_index()\n",
    "temp.columns = ['exp', 'category', 'accuracy_Top5']\n",
    "query_df = query_df.merge(temp, how='left', on=['exp', 'category'])"
   ]
  },
  {
   "cell_type": "code",
   "execution_count": 41,
   "metadata": {},
   "outputs": [
    {
     "data": {
      "text/html": [
       "<div>\n",
       "<style scoped>\n",
       "    .dataframe tbody tr th:only-of-type {\n",
       "        vertical-align: middle;\n",
       "    }\n",
       "\n",
       "    .dataframe tbody tr th {\n",
       "        vertical-align: top;\n",
       "    }\n",
       "\n",
       "    .dataframe thead th {\n",
       "        text-align: right;\n",
       "    }\n",
       "</style>\n",
       "<table border=\"1\" class=\"dataframe\">\n",
       "  <thead>\n",
       "    <tr style=\"text-align: right;\">\n",
       "      <th></th>\n",
       "      <th>fpath</th>\n",
       "      <th>category</th>\n",
       "      <th>type</th>\n",
       "      <th>label_id</th>\n",
       "      <th>split</th>\n",
       "      <th>actual</th>\n",
       "      <th>top_prob1</th>\n",
       "      <th>top_prob2</th>\n",
       "      <th>top_prob3</th>\n",
       "      <th>top_prob4</th>\n",
       "      <th>...</th>\n",
       "      <th>top_cat2</th>\n",
       "      <th>top_cat3</th>\n",
       "      <th>top_cat4</th>\n",
       "      <th>top_cat5</th>\n",
       "      <th>pred_cat</th>\n",
       "      <th>exp</th>\n",
       "      <th>Flag</th>\n",
       "      <th>Flag_top5</th>\n",
       "      <th>accuracy</th>\n",
       "      <th>accuracy_Top5</th>\n",
       "    </tr>\n",
       "  </thead>\n",
       "  <tbody>\n",
       "    <tr>\n",
       "      <th>0</th>\n",
       "      <td>/Users/r0b03m2/Desktop/Work/Retail_Data/Grocer...</td>\n",
       "      <td>Food_Biscuits_10</td>\n",
       "      <td>query</td>\n",
       "      <td>911</td>\n",
       "      <td>train</td>\n",
       "      <td>Food_Biscuits_10</td>\n",
       "      <td>1.0</td>\n",
       "      <td>2.253973e-18</td>\n",
       "      <td>1.715093e-40</td>\n",
       "      <td>1.357995e-49</td>\n",
       "      <td>...</td>\n",
       "      <td>HouseProducts_Cooking_472</td>\n",
       "      <td>Food_Dairy_Cheese_61</td>\n",
       "      <td>Pets_HygieneAndAccessories_155629</td>\n",
       "      <td>Food_Coffee_13</td>\n",
       "      <td>Food_Biscuits_10</td>\n",
       "      <td>res34_untrained_8kcls</td>\n",
       "      <td>True</td>\n",
       "      <td>True</td>\n",
       "      <td>1.0</td>\n",
       "      <td>1.0</td>\n",
       "    </tr>\n",
       "    <tr>\n",
       "      <th>1</th>\n",
       "      <td>/Users/r0b03m2/Desktop/Work/Retail_Data/Grocer...</td>\n",
       "      <td>Food_Biscuits_10</td>\n",
       "      <td>query</td>\n",
       "      <td>911</td>\n",
       "      <td>train</td>\n",
       "      <td>Food_Biscuits_10</td>\n",
       "      <td>1.0</td>\n",
       "      <td>3.344813e-26</td>\n",
       "      <td>4.431676e-34</td>\n",
       "      <td>2.373294e-39</td>\n",
       "      <td>...</td>\n",
       "      <td>Food_Biscuits_12</td>\n",
       "      <td>Food_Biscuits_24</td>\n",
       "      <td>HouseProducts_Cooking_472</td>\n",
       "      <td>Food_Dairy_Cheese_61</td>\n",
       "      <td>Food_Biscuits_10</td>\n",
       "      <td>res34_untrained_8kcls</td>\n",
       "      <td>True</td>\n",
       "      <td>True</td>\n",
       "      <td>1.0</td>\n",
       "      <td>1.0</td>\n",
       "    </tr>\n",
       "    <tr>\n",
       "      <th>2</th>\n",
       "      <td>/Users/r0b03m2/Desktop/Work/Retail_Data/Grocer...</td>\n",
       "      <td>Food_Biscuits_10</td>\n",
       "      <td>query</td>\n",
       "      <td>911</td>\n",
       "      <td>train</td>\n",
       "      <td>Food_Biscuits_10</td>\n",
       "      <td>1.0</td>\n",
       "      <td>1.218954e-41</td>\n",
       "      <td>1.023354e-47</td>\n",
       "      <td>2.526898e-52</td>\n",
       "      <td>...</td>\n",
       "      <td>Food_Dairy_Cheese_61</td>\n",
       "      <td>Food_Jars-Cans_Sauces_158</td>\n",
       "      <td>HouseProducts_Cooking_472</td>\n",
       "      <td>Food_Biscuits_114</td>\n",
       "      <td>Food_Biscuits_10</td>\n",
       "      <td>res34_untrained_8kcls</td>\n",
       "      <td>True</td>\n",
       "      <td>True</td>\n",
       "      <td>1.0</td>\n",
       "      <td>1.0</td>\n",
       "    </tr>\n",
       "    <tr>\n",
       "      <th>3</th>\n",
       "      <td>/Users/r0b03m2/Desktop/Work/Retail_Data/Grocer...</td>\n",
       "      <td>Food_Biscuits_10</td>\n",
       "      <td>query</td>\n",
       "      <td>911</td>\n",
       "      <td>train</td>\n",
       "      <td>Food_Biscuits_10</td>\n",
       "      <td>1.0</td>\n",
       "      <td>1.745004e-32</td>\n",
       "      <td>2.889143e-45</td>\n",
       "      <td>1.317915e-45</td>\n",
       "      <td>...</td>\n",
       "      <td>Food_Jars-Cans_Sauces_158</td>\n",
       "      <td>Food_Dairy_Cheese_61</td>\n",
       "      <td>Food_Biscuits_24</td>\n",
       "      <td>Food_Biscuits_33</td>\n",
       "      <td>Food_Biscuits_10</td>\n",
       "      <td>res34_untrained_8kcls</td>\n",
       "      <td>True</td>\n",
       "      <td>True</td>\n",
       "      <td>1.0</td>\n",
       "      <td>1.0</td>\n",
       "    </tr>\n",
       "    <tr>\n",
       "      <th>4</th>\n",
       "      <td>/Users/r0b03m2/Desktop/Work/Retail_Data/Grocer...</td>\n",
       "      <td>Food_Biscuits_10</td>\n",
       "      <td>query</td>\n",
       "      <td>911</td>\n",
       "      <td>train</td>\n",
       "      <td>Food_Biscuits_10</td>\n",
       "      <td>1.0</td>\n",
       "      <td>1.055076e-45</td>\n",
       "      <td>1.579702e-53</td>\n",
       "      <td>3.254151e-56</td>\n",
       "      <td>...</td>\n",
       "      <td>HouseProducts_Cooking_472</td>\n",
       "      <td>Food_Biscuits_114</td>\n",
       "      <td>Food_Biscuits_28</td>\n",
       "      <td>Food_Candy_Chocolate_162</td>\n",
       "      <td>Food_Biscuits_10</td>\n",
       "      <td>res34_untrained_8kcls</td>\n",
       "      <td>True</td>\n",
       "      <td>True</td>\n",
       "      <td>1.0</td>\n",
       "      <td>1.0</td>\n",
       "    </tr>\n",
       "  </tbody>\n",
       "</table>\n",
       "<p>5 rows × 22 columns</p>\n",
       "</div>"
      ],
      "text/plain": [
       "                                               fpath          category   type  \\\n",
       "0  /Users/r0b03m2/Desktop/Work/Retail_Data/Grocer...  Food_Biscuits_10  query   \n",
       "1  /Users/r0b03m2/Desktop/Work/Retail_Data/Grocer...  Food_Biscuits_10  query   \n",
       "2  /Users/r0b03m2/Desktop/Work/Retail_Data/Grocer...  Food_Biscuits_10  query   \n",
       "3  /Users/r0b03m2/Desktop/Work/Retail_Data/Grocer...  Food_Biscuits_10  query   \n",
       "4  /Users/r0b03m2/Desktop/Work/Retail_Data/Grocer...  Food_Biscuits_10  query   \n",
       "\n",
       "   label_id  split            actual  top_prob1     top_prob2     top_prob3  \\\n",
       "0       911  train  Food_Biscuits_10        1.0  2.253973e-18  1.715093e-40   \n",
       "1       911  train  Food_Biscuits_10        1.0  3.344813e-26  4.431676e-34   \n",
       "2       911  train  Food_Biscuits_10        1.0  1.218954e-41  1.023354e-47   \n",
       "3       911  train  Food_Biscuits_10        1.0  1.745004e-32  2.889143e-45   \n",
       "4       911  train  Food_Biscuits_10        1.0  1.055076e-45  1.579702e-53   \n",
       "\n",
       "      top_prob4      ...                         top_cat2  \\\n",
       "0  1.357995e-49      ...        HouseProducts_Cooking_472   \n",
       "1  2.373294e-39      ...                 Food_Biscuits_12   \n",
       "2  2.526898e-52      ...             Food_Dairy_Cheese_61   \n",
       "3  1.317915e-45      ...        Food_Jars-Cans_Sauces_158   \n",
       "4  3.254151e-56      ...        HouseProducts_Cooking_472   \n",
       "\n",
       "                    top_cat3                           top_cat4  \\\n",
       "0       Food_Dairy_Cheese_61  Pets_HygieneAndAccessories_155629   \n",
       "1           Food_Biscuits_24          HouseProducts_Cooking_472   \n",
       "2  Food_Jars-Cans_Sauces_158          HouseProducts_Cooking_472   \n",
       "3       Food_Dairy_Cheese_61                   Food_Biscuits_24   \n",
       "4          Food_Biscuits_114                   Food_Biscuits_28   \n",
       "\n",
       "                   top_cat5          pred_cat                    exp  Flag  \\\n",
       "0            Food_Coffee_13  Food_Biscuits_10  res34_untrained_8kcls  True   \n",
       "1      Food_Dairy_Cheese_61  Food_Biscuits_10  res34_untrained_8kcls  True   \n",
       "2         Food_Biscuits_114  Food_Biscuits_10  res34_untrained_8kcls  True   \n",
       "3          Food_Biscuits_33  Food_Biscuits_10  res34_untrained_8kcls  True   \n",
       "4  Food_Candy_Chocolate_162  Food_Biscuits_10  res34_untrained_8kcls  True   \n",
       "\n",
       "  Flag_top5  accuracy  accuracy_Top5  \n",
       "0      True       1.0            1.0  \n",
       "1      True       1.0            1.0  \n",
       "2      True       1.0            1.0  \n",
       "3      True       1.0            1.0  \n",
       "4      True       1.0            1.0  \n",
       "\n",
       "[5 rows x 22 columns]"
      ]
     },
     "execution_count": 41,
     "metadata": {},
     "output_type": "execute_result"
    }
   ],
   "source": [
    "query_df.head()"
   ]
  },
  {
   "cell_type": "code",
   "execution_count": 49,
   "metadata": {},
   "outputs": [],
   "source": [
    "result_df = pd.read_csv('results/protonet_results.csv')"
   ]
  },
  {
   "cell_type": "code",
   "execution_count": 50,
   "metadata": {},
   "outputs": [
    {
     "data": {
      "text/html": [
       "<div>\n",
       "<style scoped>\n",
       "    .dataframe tbody tr th:only-of-type {\n",
       "        vertical-align: middle;\n",
       "    }\n",
       "\n",
       "    .dataframe tbody tr th {\n",
       "        vertical-align: top;\n",
       "    }\n",
       "\n",
       "    .dataframe thead th {\n",
       "        text-align: right;\n",
       "    }\n",
       "</style>\n",
       "<table border=\"1\" class=\"dataframe\">\n",
       "  <thead>\n",
       "    <tr style=\"text-align: right;\">\n",
       "      <th></th>\n",
       "      <th>fpath</th>\n",
       "      <th>category</th>\n",
       "      <th>type</th>\n",
       "      <th>label_id</th>\n",
       "      <th>split</th>\n",
       "      <th>actual</th>\n",
       "      <th>top_prob1</th>\n",
       "      <th>top_prob2</th>\n",
       "      <th>top_prob3</th>\n",
       "      <th>top_prob4</th>\n",
       "      <th>...</th>\n",
       "      <th>top_cat2</th>\n",
       "      <th>top_cat3</th>\n",
       "      <th>top_cat4</th>\n",
       "      <th>top_cat5</th>\n",
       "      <th>pred_cat</th>\n",
       "      <th>exp</th>\n",
       "      <th>Flag</th>\n",
       "      <th>Flag_top5</th>\n",
       "      <th>accuracy</th>\n",
       "      <th>accuracy_Top5</th>\n",
       "    </tr>\n",
       "  </thead>\n",
       "  <tbody>\n",
       "    <tr>\n",
       "      <th>10505</th>\n",
       "      <td>/Users/r0b03m2/Desktop/Work/Retail_Data/Grocer...</td>\n",
       "      <td>Wines_White_89868</td>\n",
       "      <td>NaN</td>\n",
       "      <td>NaN</td>\n",
       "      <td>NaN</td>\n",
       "      <td>Wines_White_89868</td>\n",
       "      <td>NaN</td>\n",
       "      <td>NaN</td>\n",
       "      <td>NaN</td>\n",
       "      <td>NaN</td>\n",
       "      <td>...</td>\n",
       "      <td>NaN</td>\n",
       "      <td>NaN</td>\n",
       "      <td>NaN</td>\n",
       "      <td>NaN</td>\n",
       "      <td>NaN</td>\n",
       "      <td>dummy</td>\n",
       "      <td>NaN</td>\n",
       "      <td>NaN</td>\n",
       "      <td>NaN</td>\n",
       "      <td>NaN</td>\n",
       "    </tr>\n",
       "    <tr>\n",
       "      <th>10506</th>\n",
       "      <td>/Users/r0b03m2/Desktop/Work/Retail_Data/Grocer...</td>\n",
       "      <td>Wines_White_91891</td>\n",
       "      <td>NaN</td>\n",
       "      <td>NaN</td>\n",
       "      <td>NaN</td>\n",
       "      <td>Wines_White_91891</td>\n",
       "      <td>NaN</td>\n",
       "      <td>NaN</td>\n",
       "      <td>NaN</td>\n",
       "      <td>NaN</td>\n",
       "      <td>...</td>\n",
       "      <td>NaN</td>\n",
       "      <td>NaN</td>\n",
       "      <td>NaN</td>\n",
       "      <td>NaN</td>\n",
       "      <td>NaN</td>\n",
       "      <td>dummy</td>\n",
       "      <td>NaN</td>\n",
       "      <td>NaN</td>\n",
       "      <td>NaN</td>\n",
       "      <td>NaN</td>\n",
       "    </tr>\n",
       "    <tr>\n",
       "      <th>10507</th>\n",
       "      <td>/Users/r0b03m2/Desktop/Work/Retail_Data/Grocer...</td>\n",
       "      <td>Wines_White_95180</td>\n",
       "      <td>NaN</td>\n",
       "      <td>NaN</td>\n",
       "      <td>NaN</td>\n",
       "      <td>Wines_White_95180</td>\n",
       "      <td>NaN</td>\n",
       "      <td>NaN</td>\n",
       "      <td>NaN</td>\n",
       "      <td>NaN</td>\n",
       "      <td>...</td>\n",
       "      <td>NaN</td>\n",
       "      <td>NaN</td>\n",
       "      <td>NaN</td>\n",
       "      <td>NaN</td>\n",
       "      <td>NaN</td>\n",
       "      <td>dummy</td>\n",
       "      <td>NaN</td>\n",
       "      <td>NaN</td>\n",
       "      <td>NaN</td>\n",
       "      <td>NaN</td>\n",
       "    </tr>\n",
       "    <tr>\n",
       "      <th>10508</th>\n",
       "      <td>/Users/r0b03m2/Desktop/Work/Retail_Data/Grocer...</td>\n",
       "      <td>Wines_White_95181</td>\n",
       "      <td>NaN</td>\n",
       "      <td>NaN</td>\n",
       "      <td>NaN</td>\n",
       "      <td>Wines_White_95181</td>\n",
       "      <td>NaN</td>\n",
       "      <td>NaN</td>\n",
       "      <td>NaN</td>\n",
       "      <td>NaN</td>\n",
       "      <td>...</td>\n",
       "      <td>NaN</td>\n",
       "      <td>NaN</td>\n",
       "      <td>NaN</td>\n",
       "      <td>NaN</td>\n",
       "      <td>NaN</td>\n",
       "      <td>dummy</td>\n",
       "      <td>NaN</td>\n",
       "      <td>NaN</td>\n",
       "      <td>NaN</td>\n",
       "      <td>NaN</td>\n",
       "    </tr>\n",
       "    <tr>\n",
       "      <th>10509</th>\n",
       "      <td>/Users/r0b03m2/Desktop/Work/Retail_Data/Grocer...</td>\n",
       "      <td>Wines_White_97255</td>\n",
       "      <td>NaN</td>\n",
       "      <td>NaN</td>\n",
       "      <td>NaN</td>\n",
       "      <td>Wines_White_97255</td>\n",
       "      <td>NaN</td>\n",
       "      <td>NaN</td>\n",
       "      <td>NaN</td>\n",
       "      <td>NaN</td>\n",
       "      <td>...</td>\n",
       "      <td>NaN</td>\n",
       "      <td>NaN</td>\n",
       "      <td>NaN</td>\n",
       "      <td>NaN</td>\n",
       "      <td>NaN</td>\n",
       "      <td>dummy</td>\n",
       "      <td>NaN</td>\n",
       "      <td>NaN</td>\n",
       "      <td>NaN</td>\n",
       "      <td>NaN</td>\n",
       "    </tr>\n",
       "  </tbody>\n",
       "</table>\n",
       "<p>5 rows × 22 columns</p>\n",
       "</div>"
      ],
      "text/plain": [
       "                                                   fpath           category  \\\n",
       "10505  /Users/r0b03m2/Desktop/Work/Retail_Data/Grocer...  Wines_White_89868   \n",
       "10506  /Users/r0b03m2/Desktop/Work/Retail_Data/Grocer...  Wines_White_91891   \n",
       "10507  /Users/r0b03m2/Desktop/Work/Retail_Data/Grocer...  Wines_White_95180   \n",
       "10508  /Users/r0b03m2/Desktop/Work/Retail_Data/Grocer...  Wines_White_95181   \n",
       "10509  /Users/r0b03m2/Desktop/Work/Retail_Data/Grocer...  Wines_White_97255   \n",
       "\n",
       "      type  label_id split             actual  top_prob1  top_prob2  \\\n",
       "10505  NaN       NaN   NaN  Wines_White_89868        NaN        NaN   \n",
       "10506  NaN       NaN   NaN  Wines_White_91891        NaN        NaN   \n",
       "10507  NaN       NaN   NaN  Wines_White_95180        NaN        NaN   \n",
       "10508  NaN       NaN   NaN  Wines_White_95181        NaN        NaN   \n",
       "10509  NaN       NaN   NaN  Wines_White_97255        NaN        NaN   \n",
       "\n",
       "       top_prob3  top_prob4      ...       top_cat2 top_cat3 top_cat4  \\\n",
       "10505        NaN        NaN      ...            NaN      NaN      NaN   \n",
       "10506        NaN        NaN      ...            NaN      NaN      NaN   \n",
       "10507        NaN        NaN      ...            NaN      NaN      NaN   \n",
       "10508        NaN        NaN      ...            NaN      NaN      NaN   \n",
       "10509        NaN        NaN      ...            NaN      NaN      NaN   \n",
       "\n",
       "      top_cat5 pred_cat    exp Flag Flag_top5 accuracy accuracy_Top5  \n",
       "10505      NaN      NaN  dummy  NaN       NaN      NaN           NaN  \n",
       "10506      NaN      NaN  dummy  NaN       NaN      NaN           NaN  \n",
       "10507      NaN      NaN  dummy  NaN       NaN      NaN           NaN  \n",
       "10508      NaN      NaN  dummy  NaN       NaN      NaN           NaN  \n",
       "10509      NaN      NaN  dummy  NaN       NaN      NaN           NaN  \n",
       "\n",
       "[5 rows x 22 columns]"
      ]
     },
     "execution_count": 50,
     "metadata": {},
     "output_type": "execute_result"
    }
   ],
   "source": [
    "result_df.tail()"
   ]
  },
  {
   "cell_type": "code",
   "execution_count": 57,
   "metadata": {},
   "outputs": [],
   "source": [
    "# result_df.drop(result_df[result_df.exp == 'Grocer_res34_s1_q2_k80_epoch100'].index.values, inplace=True, axis=0)"
   ]
  },
  {
   "cell_type": "code",
   "execution_count": 51,
   "metadata": {},
   "outputs": [],
   "source": [
    "fin_df = result_df.append(query_df, ignore_index=True)"
   ]
  },
  {
   "cell_type": "code",
   "execution_count": 52,
   "metadata": {},
   "outputs": [
    {
     "data": {
      "text/html": [
       "<div>\n",
       "<style scoped>\n",
       "    .dataframe tbody tr th:only-of-type {\n",
       "        vertical-align: middle;\n",
       "    }\n",
       "\n",
       "    .dataframe tbody tr th {\n",
       "        vertical-align: top;\n",
       "    }\n",
       "\n",
       "    .dataframe thead th {\n",
       "        text-align: right;\n",
       "    }\n",
       "</style>\n",
       "<table border=\"1\" class=\"dataframe\">\n",
       "  <thead>\n",
       "    <tr style=\"text-align: right;\">\n",
       "      <th></th>\n",
       "      <th>fpath</th>\n",
       "      <th>category</th>\n",
       "      <th>type</th>\n",
       "      <th>label_id</th>\n",
       "      <th>split</th>\n",
       "      <th>actual</th>\n",
       "      <th>top_prob1</th>\n",
       "      <th>top_prob2</th>\n",
       "      <th>top_prob3</th>\n",
       "      <th>top_prob4</th>\n",
       "      <th>...</th>\n",
       "      <th>top_cat2</th>\n",
       "      <th>top_cat3</th>\n",
       "      <th>top_cat4</th>\n",
       "      <th>top_cat5</th>\n",
       "      <th>pred_cat</th>\n",
       "      <th>exp</th>\n",
       "      <th>Flag</th>\n",
       "      <th>Flag_top5</th>\n",
       "      <th>accuracy</th>\n",
       "      <th>accuracy_Top5</th>\n",
       "    </tr>\n",
       "  </thead>\n",
       "  <tbody>\n",
       "    <tr>\n",
       "      <th>11453</th>\n",
       "      <td>/Users/r0b03m2/Desktop/Work/Retail_Data/Grocer...</td>\n",
       "      <td>Food_Tea_83</td>\n",
       "      <td>query</td>\n",
       "      <td>3961.0</td>\n",
       "      <td>train</td>\n",
       "      <td>Food_Tea_83</td>\n",
       "      <td>1.0</td>\n",
       "      <td>2.191723e-20</td>\n",
       "      <td>6.045339e-23</td>\n",
       "      <td>1.153960e-23</td>\n",
       "      <td>...</td>\n",
       "      <td>Food_Tea_15</td>\n",
       "      <td>Food_Tea_16</td>\n",
       "      <td>Food_Tea_14</td>\n",
       "      <td>Food_Tea_83</td>\n",
       "      <td>Food_Tea_37</td>\n",
       "      <td>res34_untrained_8kcls</td>\n",
       "      <td>False</td>\n",
       "      <td>True</td>\n",
       "      <td>0.0</td>\n",
       "      <td>1.0</td>\n",
       "    </tr>\n",
       "    <tr>\n",
       "      <th>11454</th>\n",
       "      <td>/Users/r0b03m2/Desktop/Work/Retail_Data/Grocer...</td>\n",
       "      <td>Food_Tea_83</td>\n",
       "      <td>query</td>\n",
       "      <td>3961.0</td>\n",
       "      <td>train</td>\n",
       "      <td>Food_Tea_83</td>\n",
       "      <td>1.0</td>\n",
       "      <td>1.424305e-28</td>\n",
       "      <td>9.340548e-29</td>\n",
       "      <td>3.831471e-37</td>\n",
       "      <td>...</td>\n",
       "      <td>Food_Tea_15</td>\n",
       "      <td>Food_Tea_83</td>\n",
       "      <td>Food_Tea_16</td>\n",
       "      <td>Food_Tea_14</td>\n",
       "      <td>Food_Tea_37</td>\n",
       "      <td>res34_untrained_8kcls</td>\n",
       "      <td>False</td>\n",
       "      <td>True</td>\n",
       "      <td>0.0</td>\n",
       "      <td>1.0</td>\n",
       "    </tr>\n",
       "    <tr>\n",
       "      <th>11455</th>\n",
       "      <td>/Users/r0b03m2/Desktop/Work/Retail_Data/Grocer...</td>\n",
       "      <td>Food_Tea_83</td>\n",
       "      <td>query</td>\n",
       "      <td>3961.0</td>\n",
       "      <td>train</td>\n",
       "      <td>Food_Tea_83</td>\n",
       "      <td>1.0</td>\n",
       "      <td>1.398801e-35</td>\n",
       "      <td>4.354014e-37</td>\n",
       "      <td>3.413846e-40</td>\n",
       "      <td>...</td>\n",
       "      <td>Food_Tea_16</td>\n",
       "      <td>Food_Tea_83</td>\n",
       "      <td>Food_Tea_15</td>\n",
       "      <td>Beers_LightAndCider_212823</td>\n",
       "      <td>Food_Tea_37</td>\n",
       "      <td>res34_untrained_8kcls</td>\n",
       "      <td>False</td>\n",
       "      <td>True</td>\n",
       "      <td>0.0</td>\n",
       "      <td>1.0</td>\n",
       "    </tr>\n",
       "    <tr>\n",
       "      <th>11456</th>\n",
       "      <td>/Users/r0b03m2/Desktop/Work/Retail_Data/Grocer...</td>\n",
       "      <td>Food_Tea_83</td>\n",
       "      <td>query</td>\n",
       "      <td>3961.0</td>\n",
       "      <td>train</td>\n",
       "      <td>Food_Tea_83</td>\n",
       "      <td>1.0</td>\n",
       "      <td>3.591190e-11</td>\n",
       "      <td>2.163036e-20</td>\n",
       "      <td>2.002301e-21</td>\n",
       "      <td>...</td>\n",
       "      <td>Food_Tea_15</td>\n",
       "      <td>Food_Tea_14</td>\n",
       "      <td>Food_Tea_16</td>\n",
       "      <td>Food_Tea_83</td>\n",
       "      <td>Food_Tea_37</td>\n",
       "      <td>res34_untrained_8kcls</td>\n",
       "      <td>False</td>\n",
       "      <td>True</td>\n",
       "      <td>0.0</td>\n",
       "      <td>1.0</td>\n",
       "    </tr>\n",
       "    <tr>\n",
       "      <th>11457</th>\n",
       "      <td>/Users/r0b03m2/Desktop/Work/Retail_Data/Grocer...</td>\n",
       "      <td>Food_Tea_83</td>\n",
       "      <td>query</td>\n",
       "      <td>3961.0</td>\n",
       "      <td>train</td>\n",
       "      <td>Food_Tea_83</td>\n",
       "      <td>1.0</td>\n",
       "      <td>1.470997e-29</td>\n",
       "      <td>1.052620e-32</td>\n",
       "      <td>9.106199e-35</td>\n",
       "      <td>...</td>\n",
       "      <td>Food_Tea_15</td>\n",
       "      <td>Food_Tea_83</td>\n",
       "      <td>Food_Tea_16</td>\n",
       "      <td>Food_Tea_14</td>\n",
       "      <td>Food_Tea_37</td>\n",
       "      <td>res34_untrained_8kcls</td>\n",
       "      <td>False</td>\n",
       "      <td>True</td>\n",
       "      <td>0.0</td>\n",
       "      <td>1.0</td>\n",
       "    </tr>\n",
       "  </tbody>\n",
       "</table>\n",
       "<p>5 rows × 22 columns</p>\n",
       "</div>"
      ],
      "text/plain": [
       "                                                   fpath     category   type  \\\n",
       "11453  /Users/r0b03m2/Desktop/Work/Retail_Data/Grocer...  Food_Tea_83  query   \n",
       "11454  /Users/r0b03m2/Desktop/Work/Retail_Data/Grocer...  Food_Tea_83  query   \n",
       "11455  /Users/r0b03m2/Desktop/Work/Retail_Data/Grocer...  Food_Tea_83  query   \n",
       "11456  /Users/r0b03m2/Desktop/Work/Retail_Data/Grocer...  Food_Tea_83  query   \n",
       "11457  /Users/r0b03m2/Desktop/Work/Retail_Data/Grocer...  Food_Tea_83  query   \n",
       "\n",
       "       label_id  split       actual  top_prob1     top_prob2     top_prob3  \\\n",
       "11453    3961.0  train  Food_Tea_83        1.0  2.191723e-20  6.045339e-23   \n",
       "11454    3961.0  train  Food_Tea_83        1.0  1.424305e-28  9.340548e-29   \n",
       "11455    3961.0  train  Food_Tea_83        1.0  1.398801e-35  4.354014e-37   \n",
       "11456    3961.0  train  Food_Tea_83        1.0  3.591190e-11  2.163036e-20   \n",
       "11457    3961.0  train  Food_Tea_83        1.0  1.470997e-29  1.052620e-32   \n",
       "\n",
       "          top_prob4      ...          top_cat2     top_cat3     top_cat4  \\\n",
       "11453  1.153960e-23      ...       Food_Tea_15  Food_Tea_16  Food_Tea_14   \n",
       "11454  3.831471e-37      ...       Food_Tea_15  Food_Tea_83  Food_Tea_16   \n",
       "11455  3.413846e-40      ...       Food_Tea_16  Food_Tea_83  Food_Tea_15   \n",
       "11456  2.002301e-21      ...       Food_Tea_15  Food_Tea_14  Food_Tea_16   \n",
       "11457  9.106199e-35      ...       Food_Tea_15  Food_Tea_83  Food_Tea_16   \n",
       "\n",
       "                         top_cat5     pred_cat                    exp   Flag  \\\n",
       "11453                 Food_Tea_83  Food_Tea_37  res34_untrained_8kcls  False   \n",
       "11454                 Food_Tea_14  Food_Tea_37  res34_untrained_8kcls  False   \n",
       "11455  Beers_LightAndCider_212823  Food_Tea_37  res34_untrained_8kcls  False   \n",
       "11456                 Food_Tea_83  Food_Tea_37  res34_untrained_8kcls  False   \n",
       "11457                 Food_Tea_14  Food_Tea_37  res34_untrained_8kcls  False   \n",
       "\n",
       "      Flag_top5 accuracy accuracy_Top5  \n",
       "11453      True      0.0           1.0  \n",
       "11454      True      0.0           1.0  \n",
       "11455      True      0.0           1.0  \n",
       "11456      True      0.0           1.0  \n",
       "11457      True      0.0           1.0  \n",
       "\n",
       "[5 rows x 22 columns]"
      ]
     },
     "execution_count": 52,
     "metadata": {},
     "output_type": "execute_result"
    }
   ],
   "source": [
    "fin_df.tail()"
   ]
  },
  {
   "cell_type": "code",
   "execution_count": 53,
   "metadata": {},
   "outputs": [
    {
     "data": {
      "text/html": [
       "<div>\n",
       "<style scoped>\n",
       "    .dataframe tbody tr th:only-of-type {\n",
       "        vertical-align: middle;\n",
       "    }\n",
       "\n",
       "    .dataframe tbody tr th {\n",
       "        vertical-align: top;\n",
       "    }\n",
       "\n",
       "    .dataframe thead th {\n",
       "        text-align: right;\n",
       "    }\n",
       "</style>\n",
       "<table border=\"1\" class=\"dataframe\">\n",
       "  <thead>\n",
       "    <tr style=\"text-align: right;\">\n",
       "      <th></th>\n",
       "      <th>fpath</th>\n",
       "      <th>category</th>\n",
       "      <th>type</th>\n",
       "      <th>label_id</th>\n",
       "      <th>split</th>\n",
       "      <th>actual</th>\n",
       "      <th>top_prob1</th>\n",
       "      <th>top_prob2</th>\n",
       "      <th>top_prob3</th>\n",
       "      <th>top_prob4</th>\n",
       "      <th>...</th>\n",
       "      <th>top_cat2</th>\n",
       "      <th>top_cat3</th>\n",
       "      <th>top_cat4</th>\n",
       "      <th>top_cat5</th>\n",
       "      <th>pred_cat</th>\n",
       "      <th>exp</th>\n",
       "      <th>Flag</th>\n",
       "      <th>Flag_top5</th>\n",
       "      <th>accuracy</th>\n",
       "      <th>accuracy_Top5</th>\n",
       "    </tr>\n",
       "  </thead>\n",
       "  <tbody>\n",
       "    <tr>\n",
       "      <th>0</th>\n",
       "      <td>/Users/r0b03m2/Desktop/Work/Retail_Data/Grocer...</td>\n",
       "      <td>Food_Biscuits_10</td>\n",
       "      <td>query</td>\n",
       "      <td>0.0</td>\n",
       "      <td>train</td>\n",
       "      <td>Food_Biscuits_10</td>\n",
       "      <td>0.008629</td>\n",
       "      <td>0.007199</td>\n",
       "      <td>0.007133</td>\n",
       "      <td>0.007083</td>\n",
       "      <td>...</td>\n",
       "      <td>Food_Coffee_13</td>\n",
       "      <td>Food_Biscuits_114</td>\n",
       "      <td>Food_Cereals_140</td>\n",
       "      <td>Food_Biscuits_12</td>\n",
       "      <td>Food_Biscuits_10</td>\n",
       "      <td>res34_untrained</td>\n",
       "      <td>True</td>\n",
       "      <td>True</td>\n",
       "      <td>1.0</td>\n",
       "      <td>1.0</td>\n",
       "    </tr>\n",
       "    <tr>\n",
       "      <th>1</th>\n",
       "      <td>/Users/r0b03m2/Desktop/Work/Retail_Data/Grocer...</td>\n",
       "      <td>Food_Biscuits_10</td>\n",
       "      <td>query</td>\n",
       "      <td>0.0</td>\n",
       "      <td>train</td>\n",
       "      <td>Food_Biscuits_10</td>\n",
       "      <td>0.009133</td>\n",
       "      <td>0.008316</td>\n",
       "      <td>0.008079</td>\n",
       "      <td>0.007641</td>\n",
       "      <td>...</td>\n",
       "      <td>Food_Biscuits_12</td>\n",
       "      <td>Food_Biscuits_24</td>\n",
       "      <td>Food_Biscuits_6</td>\n",
       "      <td>Food_Coffee_13</td>\n",
       "      <td>Food_Biscuits_10</td>\n",
       "      <td>res34_untrained</td>\n",
       "      <td>True</td>\n",
       "      <td>True</td>\n",
       "      <td>1.0</td>\n",
       "      <td>1.0</td>\n",
       "    </tr>\n",
       "    <tr>\n",
       "      <th>2</th>\n",
       "      <td>/Users/r0b03m2/Desktop/Work/Retail_Data/Grocer...</td>\n",
       "      <td>Food_Biscuits_10</td>\n",
       "      <td>query</td>\n",
       "      <td>0.0</td>\n",
       "      <td>train</td>\n",
       "      <td>Food_Biscuits_10</td>\n",
       "      <td>0.009334</td>\n",
       "      <td>0.007663</td>\n",
       "      <td>0.007574</td>\n",
       "      <td>0.007526</td>\n",
       "      <td>...</td>\n",
       "      <td>Food_Biscuits_114</td>\n",
       "      <td>Food_Tea_72</td>\n",
       "      <td>Food_Biscuits_33</td>\n",
       "      <td>Food_Coffee_13</td>\n",
       "      <td>Food_Biscuits_10</td>\n",
       "      <td>res34_untrained</td>\n",
       "      <td>True</td>\n",
       "      <td>True</td>\n",
       "      <td>1.0</td>\n",
       "      <td>1.0</td>\n",
       "    </tr>\n",
       "    <tr>\n",
       "      <th>3</th>\n",
       "      <td>/Users/r0b03m2/Desktop/Work/Retail_Data/Grocer...</td>\n",
       "      <td>Food_Biscuits_10</td>\n",
       "      <td>query</td>\n",
       "      <td>0.0</td>\n",
       "      <td>train</td>\n",
       "      <td>Food_Biscuits_10</td>\n",
       "      <td>0.009094</td>\n",
       "      <td>0.007711</td>\n",
       "      <td>0.007484</td>\n",
       "      <td>0.007454</td>\n",
       "      <td>...</td>\n",
       "      <td>Food_Biscuits_24</td>\n",
       "      <td>Food_Biscuits_33</td>\n",
       "      <td>Food_Tea_72</td>\n",
       "      <td>Food_Biscuits_28</td>\n",
       "      <td>Food_Biscuits_10</td>\n",
       "      <td>res34_untrained</td>\n",
       "      <td>True</td>\n",
       "      <td>True</td>\n",
       "      <td>1.0</td>\n",
       "      <td>1.0</td>\n",
       "    </tr>\n",
       "    <tr>\n",
       "      <th>4</th>\n",
       "      <td>/Users/r0b03m2/Desktop/Work/Retail_Data/Grocer...</td>\n",
       "      <td>Food_Biscuits_10</td>\n",
       "      <td>query</td>\n",
       "      <td>0.0</td>\n",
       "      <td>train</td>\n",
       "      <td>Food_Biscuits_10</td>\n",
       "      <td>0.009180</td>\n",
       "      <td>0.007560</td>\n",
       "      <td>0.007486</td>\n",
       "      <td>0.007305</td>\n",
       "      <td>...</td>\n",
       "      <td>Food_Biscuits_114</td>\n",
       "      <td>Food_Biscuits_28</td>\n",
       "      <td>Food_Biscuits_12</td>\n",
       "      <td>Food_Biscuits_6</td>\n",
       "      <td>Food_Biscuits_10</td>\n",
       "      <td>res34_untrained</td>\n",
       "      <td>True</td>\n",
       "      <td>True</td>\n",
       "      <td>1.0</td>\n",
       "      <td>1.0</td>\n",
       "    </tr>\n",
       "  </tbody>\n",
       "</table>\n",
       "<p>5 rows × 22 columns</p>\n",
       "</div>"
      ],
      "text/plain": [
       "                                               fpath          category   type  \\\n",
       "0  /Users/r0b03m2/Desktop/Work/Retail_Data/Grocer...  Food_Biscuits_10  query   \n",
       "1  /Users/r0b03m2/Desktop/Work/Retail_Data/Grocer...  Food_Biscuits_10  query   \n",
       "2  /Users/r0b03m2/Desktop/Work/Retail_Data/Grocer...  Food_Biscuits_10  query   \n",
       "3  /Users/r0b03m2/Desktop/Work/Retail_Data/Grocer...  Food_Biscuits_10  query   \n",
       "4  /Users/r0b03m2/Desktop/Work/Retail_Data/Grocer...  Food_Biscuits_10  query   \n",
       "\n",
       "   label_id  split            actual  top_prob1  top_prob2  top_prob3  \\\n",
       "0       0.0  train  Food_Biscuits_10   0.008629   0.007199   0.007133   \n",
       "1       0.0  train  Food_Biscuits_10   0.009133   0.008316   0.008079   \n",
       "2       0.0  train  Food_Biscuits_10   0.009334   0.007663   0.007574   \n",
       "3       0.0  train  Food_Biscuits_10   0.009094   0.007711   0.007484   \n",
       "4       0.0  train  Food_Biscuits_10   0.009180   0.007560   0.007486   \n",
       "\n",
       "   top_prob4      ...                top_cat2           top_cat3  \\\n",
       "0   0.007083      ...          Food_Coffee_13  Food_Biscuits_114   \n",
       "1   0.007641      ...        Food_Biscuits_12   Food_Biscuits_24   \n",
       "2   0.007526      ...       Food_Biscuits_114        Food_Tea_72   \n",
       "3   0.007454      ...        Food_Biscuits_24   Food_Biscuits_33   \n",
       "4   0.007305      ...       Food_Biscuits_114   Food_Biscuits_28   \n",
       "\n",
       "           top_cat4          top_cat5          pred_cat              exp  \\\n",
       "0  Food_Cereals_140  Food_Biscuits_12  Food_Biscuits_10  res34_untrained   \n",
       "1   Food_Biscuits_6    Food_Coffee_13  Food_Biscuits_10  res34_untrained   \n",
       "2  Food_Biscuits_33    Food_Coffee_13  Food_Biscuits_10  res34_untrained   \n",
       "3       Food_Tea_72  Food_Biscuits_28  Food_Biscuits_10  res34_untrained   \n",
       "4  Food_Biscuits_12   Food_Biscuits_6  Food_Biscuits_10  res34_untrained   \n",
       "\n",
       "   Flag Flag_top5 accuracy accuracy_Top5  \n",
       "0  True      True      1.0           1.0  \n",
       "1  True      True      1.0           1.0  \n",
       "2  True      True      1.0           1.0  \n",
       "3  True      True      1.0           1.0  \n",
       "4  True      True      1.0           1.0  \n",
       "\n",
       "[5 rows x 22 columns]"
      ]
     },
     "execution_count": 53,
     "metadata": {},
     "output_type": "execute_result"
    }
   ],
   "source": [
    "fin_df.head()"
   ]
  },
  {
   "cell_type": "code",
   "execution_count": 54,
   "metadata": {},
   "outputs": [],
   "source": [
    "fin_df.to_csv('results/protonet_results.csv', index=False)"
   ]
  },
  {
   "cell_type": "code",
   "execution_count": null,
   "metadata": {},
   "outputs": [],
   "source": []
  }
 ],
 "metadata": {
  "kernelspec": {
   "display_name": "proto",
   "language": "python",
   "name": "proto"
  },
  "language_info": {
   "codemirror_mode": {
    "name": "ipython",
    "version": 3
   },
   "file_extension": ".py",
   "mimetype": "text/x-python",
   "name": "python",
   "nbconvert_exporter": "python",
   "pygments_lexer": "ipython3",
   "version": "3.6.10"
  }
 },
 "nbformat": 4,
 "nbformat_minor": 2
}
