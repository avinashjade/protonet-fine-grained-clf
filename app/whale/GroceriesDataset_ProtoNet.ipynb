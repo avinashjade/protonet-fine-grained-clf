{
 "cells": [
  {
   "cell_type": "markdown",
   "metadata": {},
   "source": [
    "### Imports"
   ]
  },
  {
   "cell_type": "code",
   "execution_count": 1,
   "metadata": {},
   "outputs": [],
   "source": [
    "from dlcliche.image import *\n",
    "sys.path.append('..') # app\n",
    "sys.path.append('../..') # root\n",
    "from easydict import EasyDict\n",
    "from app_utils_clf import *\n",
    "from whale_utils import *\n",
    "from sklearn.preprocessing import LabelEncoder\n",
    "from torch.utils.data import Sampler\n",
    "import seaborn as sns"
   ]
  },
  {
   "cell_type": "markdown",
   "metadata": {},
   "source": [
    "### Parameters"
   ]
  },
  {
   "cell_type": "code",
   "execution_count": 2,
   "metadata": {},
   "outputs": [],
   "source": [
    "args = EasyDict()\n",
    "args.distance = 'l2'\n",
    "args.n_train = 1\n",
    "args.n_test = 1\n",
    "args.q_train = 2\n",
    "args.q_test = 1\n",
    "\n",
    "args.k_train = 80\n",
    "args.k_test = 93\n",
    "SZ = 256\n",
    "RE_SZ = 256\n",
    "\n",
    "args.n_epochs = 100\n",
    "args.drop_lr_every = 50\n",
    "args.lr = 1e-4\n",
    "args.init_weight = None\n",
    "\n",
    "data_train = DATA_PATH\n",
    "data_test  = DATA_PATH\n",
    "\n",
    "args.checkpoint_monitor = 'categorical_accuracy'\n",
    "args.checkpoint_period = 20"
   ]
  },
  {
   "cell_type": "markdown",
   "metadata": {},
   "source": [
    "### Dataset"
   ]
  },
  {
   "cell_type": "markdown",
   "metadata": {
    "heading_collapsed": true
   },
   "source": [
    "#### Split based on query images\n",
    "* n - Reference/Support Images per Class in each episode\n",
    "* q - Query Images per Class in each episode\n",
    "* k - Number of Classes in each episode\n",
    "\n",
    "Grocery Datset\n",
    "* Total Categories - 7851\n",
    "    * 1 Reference Image per Category i.e. 7851 Reference Images\n",
    "    * Only 185 Categories(Food Super Cateogry) have Query Images\n",
    "        * 948 Query Images for these 185 Categories\n",
    "* Train/Test Split\n",
    "    * Categories with only 1 Query Image or \n",
    "    * Those with more than 10 Query Images are used only for testing and not included in training\n",
    "        * 22 Categories with only 1 Query Images\n",
    "        * 19 Categories with more than 10 Query Images\n",
    "    * Total 41 Categories are used for testing which have 322 Query Images\n",
    "    * 144 categories with 626 Images are used for training ProtoNets i.e.Approx 4.34 Query Images per category"
   ]
  },
  {
   "cell_type": "code",
   "execution_count": 46,
   "metadata": {
    "hidden": true
   },
   "outputs": [],
   "source": [
    "refdf = pd.read_csv('/home/raghava_balusu_walmartlabs_com/Work/oneshotml/data/Grocery_products/reference_metadata.csv')\n",
    "qdf = pd.read_csv('/home/raghava_balusu_walmartlabs_com/Work/oneshotml/data/Grocery_products/query_image_metadata.csv')"
   ]
  },
  {
   "cell_type": "code",
   "execution_count": 47,
   "metadata": {
    "hidden": true
   },
   "outputs": [],
   "source": [
    "refdf = refdf[refdf.label.isin(qdf.label.unique())]\n",
    "refdf.reset_index(drop=True, inplace=True)\n",
    "\n",
    "refdf['type'] = 'reference'\n",
    "qdf['type'] = 'query'\n",
    "\n",
    "refdf.columns = ['image_path', 'class', 'class_id', 'sub_class_label', 'label', 'num_Query_imgs', 'type']\n",
    "\n",
    "img_df = refdf[['image_path', 'label', 'type']].append(qdf[['image_path', 'label', 'type']], ignore_index=True)"
   ]
  },
  {
   "cell_type": "code",
   "execution_count": 48,
   "metadata": {
    "hidden": true
   },
   "outputs": [
    {
     "data": {
      "text/plain": [
       "(                       image_path              label       type  label_id\n",
       " 0   Training/Food/Biscuits/10.jpg   Food_Biscuits_10  reference         0\n",
       " 1  Training/Food/Biscuits/114.jpg  Food_Biscuits_114  reference         1\n",
       " 2  Training/Food/Biscuits/115.jpg  Food_Biscuits_115  reference         2\n",
       " 3  Training/Food/Biscuits/118.jpg  Food_Biscuits_118  reference         3\n",
       " 4  Training/Food/Biscuits/119.jpg  Food_Biscuits_119  reference         4,\n",
       "                          image_path        label   type  label_id\n",
       " 1128  Training/query_images/338.jpg  Food_Tea_83  query       184\n",
       " 1129  Training/query_images/339.jpg  Food_Tea_83  query       184\n",
       " 1130  Training/query_images/449.jpg  Food_Tea_83  query       184\n",
       " 1131  Training/query_images/450.jpg  Food_Tea_83  query       184\n",
       " 1132  Training/query_images/451.jpg  Food_Tea_83  query       184)"
      ]
     },
     "execution_count": 48,
     "metadata": {},
     "output_type": "execute_result"
    }
   ],
   "source": [
    "le = LabelEncoder()\n",
    "img_df['label_id'] = le.fit_transform(img_df.label)\n",
    "img_df.head(), img_df.tail()"
   ]
  },
  {
   "cell_type": "markdown",
   "metadata": {
    "hidden": true
   },
   "source": [
    "* train(val will be within this itself) and test df. Check how testing is being done now\n",
    "* Dataloader will give idxs for support followed by query images. Dataset should give imgs accordingly\n",
    "* Changes dataloader such that all classes are seen in epoch unlike the random choice now\n",
    "* Change dataset which accepts only df now"
   ]
  },
  {
   "cell_type": "code",
   "execution_count": 5,
   "metadata": {
    "hidden": true
   },
   "outputs": [],
   "source": [
    "test_labels = (list(img_df[img_df['type'] == 'query']['label'].value_counts()[(img_df[img_df['type'] == 'query']['label'].value_counts() == 1).values].index.values)\n",
    "                    + list(img_df[img_df['type'] == 'query']['label'].value_counts()[(img_df[img_df['type'] == 'query']['label'].value_counts() > 10).values].index.values)\n",
    "              )"
   ]
  },
  {
   "cell_type": "code",
   "execution_count": 6,
   "metadata": {
    "hidden": true
   },
   "outputs": [
    {
     "data": {
      "text/plain": [
       "41"
      ]
     },
     "execution_count": 6,
     "metadata": {},
     "output_type": "execute_result"
    }
   ],
   "source": [
    "len(test_labels)"
   ]
  },
  {
   "cell_type": "code",
   "execution_count": 7,
   "metadata": {
    "hidden": true
   },
   "outputs": [],
   "source": [
    "img_df['split'] = 'train'\n",
    "img_df.loc[img_df.label.isin(test_labels), 'split'] = 'valid'"
   ]
  },
  {
   "cell_type": "code",
   "execution_count": 8,
   "metadata": {
    "hidden": true
   },
   "outputs": [
    {
     "data": {
      "text/plain": [
       "train    770\n",
       "valid    363\n",
       "Name: split, dtype: int64"
      ]
     },
     "execution_count": 8,
     "metadata": {},
     "output_type": "execute_result"
    }
   ],
   "source": [
    "img_df.split.value_counts()"
   ]
  },
  {
   "cell_type": "code",
   "execution_count": 9,
   "metadata": {
    "hidden": true
   },
   "outputs": [],
   "source": [
    "trn_df = img_df[img_df.split == 'train']\n",
    "val_df = img_df[img_df.split == 'valid']"
   ]
  },
  {
   "cell_type": "code",
   "execution_count": 10,
   "metadata": {
    "hidden": true
   },
   "outputs": [
    {
     "data": {
      "text/plain": [
       "<matplotlib.axes._subplots.AxesSubplot at 0x7fb890d9cd68>"
      ]
     },
     "execution_count": 10,
     "metadata": {},
     "output_type": "execute_result"
    },
    {
     "data": {
      "image/png": "[encoded data removed]",
      "text/plain": [
       "<Figure size 432x288 with 1 Axes>"
      ]
     },
     "metadata": {
      "needs_background": "light"
     },
     "output_type": "display_data"
    }
   ],
   "source": [
    "#trn_df[trn_df.type == 'query'].label.value_counts().hist(bins=25)\n",
    "sns.distplot(trn_df[trn_df.type == 'query'].label.value_counts(), norm_hist=False, kde=False)"
   ]
  },
  {
   "cell_type": "code",
   "execution_count": 11,
   "metadata": {
    "hidden": true
   },
   "outputs": [
    {
     "data": {
      "text/plain": [
       "<matplotlib.axes._subplots.AxesSubplot at 0x7fb8910555f8>"
      ]
     },
     "execution_count": 11,
     "metadata": {},
     "output_type": "execute_result"
    },
    {
     "data": {
      "image/png": "[encoded data removed]",
      "text/plain": [
       "<Figure size 432x288 with 1 Axes>"
      ]
     },
     "metadata": {
      "needs_background": "light"
     },
     "output_type": "display_data"
    }
   ],
   "source": [
    "sns.distplot(val_df[val_df.type == 'query'].label.value_counts(), norm_hist=False, kde=False, bins= 25)"
   ]
  },
  {
   "cell_type": "markdown",
   "metadata": {},
   "source": [
    "#### Only using reference Images in Training but with same above criteria"
   ]
  },
  {
   "cell_type": "code",
   "execution_count": 3,
   "metadata": {},
   "outputs": [],
   "source": [
    "refdf = pd.read_csv('/home/raghava_balusu_walmartlabs_com/Work/oneshotml/data/Grocery_products/reference_metadata.csv')\n",
    "qdf = pd.read_csv('/home/raghava_balusu_walmartlabs_com/Work/oneshotml/data/Grocery_products/query_image_metadata.csv')"
   ]
  },
  {
   "cell_type": "code",
   "execution_count": 4,
   "metadata": {},
   "outputs": [],
   "source": [
    "# Using non query reference images for training\n",
    "refdf = refdf#[-refdf.label.isin(qdf.label.unique())]\n",
    "\n",
    "# Select based on how many ref classes should be included - Including 2.5k Classes in training\n",
    "# random.seed(17)\n",
    "# refcat_sl = random.sample(set(refdf[-refdf.label.isin(qdf.label.unique())].label.unique()), k=2500)\n",
    "# refdf = refdf[refdf.label.isin(list(qdf.label.unique()) + refcat_sl)]\n",
    "\n",
    "# refdf = refdf[refdf.label.isin(qdf.label.unique())]\n",
    "\n",
    "refdf.reset_index(drop=True, inplace=True)\n",
    "\n",
    "refdf['type'] = 'reference'\n",
    "qdf['type'] = 'query'\n",
    "\n",
    "refdf.columns = ['image_path', 'class', 'class_id', 'sub_class_label', 'label', 'num_Query_imgs', 'type']\n",
    "\n",
    "img_df = refdf[['image_path', 'label', 'type']].append(qdf[['image_path', 'label', 'type']], ignore_index=True)"
   ]
  },
  {
   "cell_type": "code",
   "execution_count": 5,
   "metadata": {},
   "outputs": [
    {
     "data": {
      "text/plain": [
       "(                       image_path              label       type  label_id\n",
       " 0  Training/Beers/Dark/123121.JPG  Beers_Dark_123121  reference         0\n",
       " 1   Training/Beers/Dark/14923.JPG   Beers_Dark_14923  reference         1\n",
       " 2   Training/Beers/Dark/14925.JPG   Beers_Dark_14925  reference         2\n",
       " 3  Training/Beers/Dark/201454.JPG  Beers_Dark_201454  reference         3\n",
       " 4  Training/Beers/Dark/201750.JPG  Beers_Dark_201750  reference         4,\n",
       "                          image_path        label   type  label_id\n",
       " 8794  Training/query_images/338.jpg  Food_Tea_83  query      3961\n",
       " 8795  Training/query_images/339.jpg  Food_Tea_83  query      3961\n",
       " 8796  Training/query_images/449.jpg  Food_Tea_83  query      3961\n",
       " 8797  Training/query_images/450.jpg  Food_Tea_83  query      3961\n",
       " 8798  Training/query_images/451.jpg  Food_Tea_83  query      3961)"
      ]
     },
     "execution_count": 5,
     "metadata": {},
     "output_type": "execute_result"
    }
   ],
   "source": [
    "le = LabelEncoder()\n",
    "img_df['label_id'] = le.fit_transform(img_df.label)\n",
    "img_df.head(), img_df.tail()"
   ]
  },
  {
   "cell_type": "markdown",
   "metadata": {},
   "source": [
    "* train(val will be within this itself) and test df. Check how testing is being done now\n",
    "* Dataloader will give idxs for support followed by query images. Dataset should give imgs accordingly\n",
    "* Changes dataloader such that all classes are seen in epoch unlike the random choice now\n",
    "* Change dataset which accepts only df now"
   ]
  },
  {
   "cell_type": "code",
   "execution_count": 6,
   "metadata": {},
   "outputs": [],
   "source": [
    "# test_labels = (list(img_df[img_df['type'] == 'query']['label'].value_counts()[(img_df[img_df['type'] == 'query']['label'].value_counts() == 1).values].index.values)\n",
    "#                     + list(img_df[img_df['type'] == 'query']['label'].value_counts()[(img_df[img_df['type'] == 'query']['label'].value_counts() > 10).values].index.values)\n",
    "#               )\n",
    "\n",
    "test_labels = list(img_df[img_df['type'] == 'query']['label'].value_counts()[(img_df[img_df['type'] == 'query']['label'].value_counts() > 0).values].index.values)"
   ]
  },
  {
   "cell_type": "code",
   "execution_count": 7,
   "metadata": {},
   "outputs": [
    {
     "data": {
      "text/plain": [
       "185"
      ]
     },
     "execution_count": 7,
     "metadata": {},
     "output_type": "execute_result"
    }
   ],
   "source": [
    "len(test_labels)"
   ]
  },
  {
   "cell_type": "code",
   "execution_count": 8,
   "metadata": {},
   "outputs": [],
   "source": [
    "img_df['split'] = 'train'\n",
    "img_df.loc[img_df.label.isin(test_labels), 'split'] = 'valid'"
   ]
  },
  {
   "cell_type": "code",
   "execution_count": 9,
   "metadata": {},
   "outputs": [
    {
     "data": {
      "text/plain": [
       "train    7666\n",
       "valid    1133\n",
       "Name: split, dtype: int64"
      ]
     },
     "execution_count": 9,
     "metadata": {},
     "output_type": "execute_result"
    }
   ],
   "source": [
    "img_df.split.value_counts()"
   ]
  },
  {
   "cell_type": "code",
   "execution_count": 10,
   "metadata": {},
   "outputs": [],
   "source": [
    "trn_df = img_df[(img_df.type == 'reference') & (img_df.split == 'train')]\n",
    "temp = trn_df.copy()\n",
    "temp['type'] = 'query'\n",
    "trn_df = trn_df.append([temp, temp], ignore_index=True).reset_index(drop=True)"
   ]
  },
  {
   "cell_type": "code",
   "execution_count": 11,
   "metadata": {},
   "outputs": [
    {
     "data": {
      "text/html": [
       "<div>\n",
       "<style scoped>\n",
       "    .dataframe tbody tr th:only-of-type {\n",
       "        vertical-align: middle;\n",
       "    }\n",
       "\n",
       "    .dataframe tbody tr th {\n",
       "        vertical-align: top;\n",
       "    }\n",
       "\n",
       "    .dataframe thead th {\n",
       "        text-align: right;\n",
       "    }\n",
       "</style>\n",
       "<table border=\"1\" class=\"dataframe\">\n",
       "  <thead>\n",
       "    <tr style=\"text-align: right;\">\n",
       "      <th></th>\n",
       "      <th>image_path</th>\n",
       "      <th>label</th>\n",
       "      <th>type</th>\n",
       "      <th>label_id</th>\n",
       "      <th>split</th>\n",
       "    </tr>\n",
       "  </thead>\n",
       "  <tbody>\n",
       "    <tr>\n",
       "      <th>0</th>\n",
       "      <td>Training/Beers/Dark/123121.JPG</td>\n",
       "      <td>Beers_Dark_123121</td>\n",
       "      <td>reference</td>\n",
       "      <td>0</td>\n",
       "      <td>train</td>\n",
       "    </tr>\n",
       "    <tr>\n",
       "      <th>1</th>\n",
       "      <td>Training/Beers/Dark/14923.JPG</td>\n",
       "      <td>Beers_Dark_14923</td>\n",
       "      <td>reference</td>\n",
       "      <td>1</td>\n",
       "      <td>train</td>\n",
       "    </tr>\n",
       "    <tr>\n",
       "      <th>2</th>\n",
       "      <td>Training/Beers/Dark/14925.JPG</td>\n",
       "      <td>Beers_Dark_14925</td>\n",
       "      <td>reference</td>\n",
       "      <td>2</td>\n",
       "      <td>train</td>\n",
       "    </tr>\n",
       "    <tr>\n",
       "      <th>3</th>\n",
       "      <td>Training/Beers/Dark/201454.JPG</td>\n",
       "      <td>Beers_Dark_201454</td>\n",
       "      <td>reference</td>\n",
       "      <td>3</td>\n",
       "      <td>train</td>\n",
       "    </tr>\n",
       "    <tr>\n",
       "      <th>4</th>\n",
       "      <td>Training/Beers/Dark/201750.JPG</td>\n",
       "      <td>Beers_Dark_201750</td>\n",
       "      <td>reference</td>\n",
       "      <td>4</td>\n",
       "      <td>train</td>\n",
       "    </tr>\n",
       "  </tbody>\n",
       "</table>\n",
       "</div>"
      ],
      "text/plain": [
       "                       image_path              label       type  label_id  \\\n",
       "0  Training/Beers/Dark/123121.JPG  Beers_Dark_123121  reference         0   \n",
       "1   Training/Beers/Dark/14923.JPG   Beers_Dark_14923  reference         1   \n",
       "2   Training/Beers/Dark/14925.JPG   Beers_Dark_14925  reference         2   \n",
       "3  Training/Beers/Dark/201454.JPG  Beers_Dark_201454  reference         3   \n",
       "4  Training/Beers/Dark/201750.JPG  Beers_Dark_201750  reference         4   \n",
       "\n",
       "   split  \n",
       "0  train  \n",
       "1  train  \n",
       "2  train  \n",
       "3  train  \n",
       "4  train  "
      ]
     },
     "execution_count": 11,
     "metadata": {},
     "output_type": "execute_result"
    }
   ],
   "source": [
    "trn_df.head()"
   ]
  },
  {
   "cell_type": "code",
   "execution_count": 12,
   "metadata": {},
   "outputs": [],
   "source": [
    "val_df = img_df[img_df.split == 'valid']"
   ]
  },
  {
   "cell_type": "code",
   "execution_count": 13,
   "metadata": {},
   "outputs": [
    {
     "data": {
      "text/plain": [
       "<matplotlib.axes._subplots.AxesSubplot at 0x7f0bbd3a4e48>"
      ]
     },
     "execution_count": 13,
     "metadata": {},
     "output_type": "execute_result"
    },
    {
     "data": {
      "image/png": "[encoded data removed]",
      "text/plain": [
       "<Figure size 432x288 with 1 Axes>"
      ]
     },
     "metadata": {
      "needs_background": "light"
     },
     "output_type": "display_data"
    }
   ],
   "source": [
    "# trn_df[trn_df.type == 'query'].label.value_counts().hist(bins=25)\n",
    "sns.distplot(trn_df[trn_df.type == 'query'].label.value_counts(), norm_hist=False, kde=False)"
   ]
  },
  {
   "cell_type": "code",
   "execution_count": 14,
   "metadata": {},
   "outputs": [
    {
     "data": {
      "text/plain": [
       "<matplotlib.axes._subplots.AxesSubplot at 0x7f0bbd29ca90>"
      ]
     },
     "execution_count": 14,
     "metadata": {},
     "output_type": "execute_result"
    },
    {
     "data": {
      "image/png": "[encoded data removed]",
      "text/plain": [
       "<Figure size 432x288 with 1 Axes>"
      ]
     },
     "metadata": {
      "needs_background": "light"
     },
     "output_type": "display_data"
    }
   ],
   "source": [
    "sns.distplot(val_df[val_df.type == 'query'].label.value_counts(), norm_hist=False, kde=False, bins= 25)"
   ]
  },
  {
   "cell_type": "markdown",
   "metadata": {},
   "source": [
    "#### Datset and DataLoader"
   ]
  },
  {
   "cell_type": "code",
   "execution_count": 15,
   "metadata": {},
   "outputs": [],
   "source": [
    "args.episodes_per_epoch = roundup((trn_df[trn_df.type == 'reference'].label.nunique())/args.k_train, 1)\n",
    "args.evaluation_episodes = 100 # setting small value, anyway validation set is almost useless here"
   ]
  },
  {
   "cell_type": "code",
   "execution_count": 16,
   "metadata": {
    "code_folding": [
     0
    ]
   },
   "outputs": [],
   "source": [
    "def get_aug_custom(re_size=224, to_size=224, train=True):\n",
    "    augs = [A.Resize(height=re_size, width=re_size)]\n",
    "    if train:\n",
    "        augs.extend([\n",
    "            A.RandomCrop(height=to_size, width=to_size),\n",
    "            A.ShiftScaleRotate(shift_limit=0.1, scale_limit=0.3, rotate_limit=30, p=0.75),\n",
    "            A.RandomBrightnessContrast(brightness_limit=0.5, contrast_limit=0.5, p=0.75),\n",
    "            A.Blur(p=0.5),\n",
    "            A.Cutout(max_h_size=to_size//12, max_w_size=to_size//12, p=0.5),\n",
    "        ])\n",
    "    else:\n",
    "        augs.extend([A.CenterCrop(height=to_size, width=to_size)])\n",
    "    return A.Compose(augs + [A.Normalize()])"
   ]
  },
  {
   "cell_type": "code",
   "execution_count": 17,
   "metadata": {
    "code_folding": [
     0
    ]
   },
   "outputs": [],
   "source": [
    "def get_aug_plus_custom(re_size=224, to_size=224, augment='train', normalize='imagenet'):\n",
    "    augs = [A.Resize(height=re_size, width=re_size)]\n",
    "    if augment == 'train':\n",
    "        augs.extend([\n",
    "            A.RandomCrop(height=to_size, width=to_size),\n",
    "            A.ShiftScaleRotate(shift_limit=0.1, scale_limit=0.3, rotate_limit=30, p=0.75),\n",
    "            A.RandomBrightnessContrast(brightness_limit=0.5, contrast_limit=0.5, p=0.75),\n",
    "            A.Blur(p=0.5),\n",
    "            A.Cutout(max_h_size=to_size//12, max_w_size=to_size//12, p=0.5),\n",
    "        ])\n",
    "    elif augment == 'train_hard':\n",
    "        augs.extend([\n",
    "            A.RandomCrop(height=to_size, width=to_size),\n",
    "            A.IAAAffine(scale=1.3, translate_percent=0.2, translate_px=None,\n",
    "                                        rotate=40, shear=20),\n",
    "            A.RandomBrightnessContrast(brightness_limit=0.5, contrast_limit=0.5, p=0.75),\n",
    "            A.IAAPerspective(p=1),\n",
    "            A.IAAAdditiveGaussianNoise(p=0.2),\n",
    "            A.Blur(p=0.5),\n",
    "            A.Cutout(max_h_size=to_size//12, max_w_size=to_size//12, p=0.5),\n",
    "        ])\n",
    "    elif augment == 'test':\n",
    "        augs.extend([\n",
    "            A.CenterCrop(height=to_size, width=to_size)\n",
    "        ])\n",
    "    elif augment == 'tta':\n",
    "        augs.extend([\n",
    "            A.IAAAffine(scale=1.05, translate_percent=0.1, translate_px=None, \n",
    "                        rotate=20, shear=10),\n",
    "            A.CenterCrop(height=to_size, width=to_size),\n",
    "        ])\n",
    "    else:\n",
    "        raise Exception(f'aug level not supported: {augment}')\n",
    "    return A.Compose(augs + [A.Normalize()])"
   ]
  },
  {
   "cell_type": "code",
   "execution_count": 18,
   "metadata": {
    "code_folding": [
     0
    ]
   },
   "outputs": [],
   "source": [
    "class GrocerImages(Dataset):\n",
    "    def __init__(self, path, df, re_size=256, to_size=256, train=True):\n",
    "        self.df = df\n",
    "        # Index should be same in reference and query df compared to original df\n",
    "        self.support_df = self.df[self.df.type == 'reference']\n",
    "        self.query_df = self.df[self.df.type == 'query']\n",
    "        \n",
    "        self.classes = sorted(list(set(self.support_df.label_id.values)))\n",
    "\n",
    "        self.loader = get_img_loader(path, to_gray=False)\n",
    "        self.transform = get_aug_custom(re_size=re_size, to_size=to_size, train=train)\n",
    "        self.to_tensor = transforms.ToTensor()\n",
    "\n",
    "    def __getitem__(self, item):\n",
    "        instance = self.loader(self.df.loc[item, 'image_path'])\n",
    "        instance = self.transform(image=instance)['image']\n",
    "        instance = self.to_tensor(instance)\n",
    "        label = self.df.loc[item, 'label_id']\n",
    "        return instance, label\n",
    "\n",
    "    def __len__(self):\n",
    "        return len(self.df)\n",
    "\n",
    "    def num_classes(self):\n",
    "        return len(self.cls2imgs)"
   ]
  },
  {
   "cell_type": "code",
   "execution_count": 19,
   "metadata": {
    "code_folding": []
   },
   "outputs": [],
   "source": [
    "class GrocerImages_plus(GrocerImages):\n",
    "    def __init__(self, path, df, re_size=256, to_size=224, part=0, n_part=1,\n",
    "                 augment='normal', normalize='samplewise'):\n",
    "        super().__init__(path, df, re_size=re_size, to_size=to_size, train=(augment=='train'))\n",
    "        self.df = df\n",
    "        # Index should be same in reference and query df compared to original df\n",
    "\n",
    "        self.transform = get_aug_plus_custom(re_size=re_size, to_size=to_size, augment=augment, normalize=normalize)\n",
    "        self.part, self.n_part = part, n_part\n",
    "\n",
    "    def __getitem__(self, item):\n",
    "        instance = self.loader(self.df.loc[item, 'image_path'])\n",
    "#         if self.n_part > 1:\n",
    "#             instance = partition_np_image(instance, self.part, n_part=self.n_part)\n",
    "        instance = self.transform(image=instance)['image']\n",
    "        instance = self.to_tensor(instance)\n",
    "        label = self.df.loc[item, 'label_id']\n",
    "        return instance, label"
   ]
  },
  {
   "cell_type": "code",
   "execution_count": 20,
   "metadata": {
    "code_folding": [
     0
    ]
   },
   "outputs": [],
   "source": [
    "class NShotTaskSampler_custom(Sampler):\n",
    "    def __init__(self, dataset, episodes_per_epoch, n, k, q):\n",
    "\n",
    "        super(NShotTaskSampler_custom, self).__init__(dataset)\n",
    "        self.episodes_per_epoch = episodes_per_epoch\n",
    "        self.dataset = dataset\n",
    "\n",
    "        # TODO: Raise errors if initialise badly\n",
    "        self.k = k\n",
    "        self.n = n\n",
    "        self.q = q\n",
    "\n",
    "    def __len__(self):\n",
    "        return self.episodes_per_epoch\n",
    "\n",
    "    def __iter__(self):\n",
    "        for _ in range(self.episodes_per_epoch):\n",
    "            batch = []\n",
    "            # Get random classes\n",
    "            support_df = self.dataset.support_df\n",
    "            query_df = self.dataset.query_df\n",
    "            episode_classes = np.random.choice(support_df['label_id'].unique(), size=self.k, replace=False)\n",
    "            \n",
    "            #df = self.dataset.df[self.dataset.df['class_id'].isin(episode_classes)]\n",
    "\n",
    "            for k in episode_classes:\n",
    "                # Select support examples\n",
    "                support = support_df[support_df['label_id'] == k].sample(self.n)\n",
    "\n",
    "                for i, s in support.iterrows():\n",
    "                    batch.append(i)\n",
    "\n",
    "            for k in episode_classes:\n",
    "                query = query_df[query_df['label_id'] == k].sample(self.q)\n",
    "                for i, q in query.iterrows():\n",
    "                    batch.append(i)\n",
    "\n",
    "        yield np.stack(batch)"
   ]
  },
  {
   "cell_type": "code",
   "execution_count": 21,
   "metadata": {},
   "outputs": [],
   "source": [
    "# Dataloader\n",
    "background = GrocerImages_plus(data_train, trn_df, re_size=RE_SZ, to_size=SZ, augment='train', normalize = 'imagenet')\n",
    "background_taskloader = DataLoader(background, batch_sampler=NShotTaskSampler_custom(background, args.episodes_per_epoch, \n",
    "                            args.n_train, args.k_train, args.q_train),num_workers=8)\n",
    "\n",
    "evaluation = GrocerImages(data_train, val_df, re_size=RE_SZ, to_size=SZ, train=False)\n",
    "evaluation_taskloader = DataLoader(evaluation, \n",
    "            batch_sampler=NShotTaskSampler_custom(evaluation, args.episodes_per_epoch, args.n_test, args.k_test, args.q_test),\n",
    "    num_workers=8)"
   ]
  },
  {
   "cell_type": "markdown",
   "metadata": {
    "heading_collapsed": true
   },
   "source": [
    "#### Loaders Checking"
   ]
  },
  {
   "cell_type": "code",
   "execution_count": 36,
   "metadata": {
    "hidden": true
   },
   "outputs": [
    {
     "data": {
      "text/plain": [
       "True"
      ]
     },
     "execution_count": 36,
     "metadata": {},
     "output_type": "execute_result"
    }
   ],
   "source": [
    "x = next(iter(background_taskloader))\n",
    "\n",
    "sx = x[0][:args.k_train*args.n_train, ...]\n",
    "qx = x[0][args.k_train*args.n_train:, ...]\n",
    "\n",
    "sy = x[1][:args.k_train*args.n_train]\n",
    "qy = x[1][args.k_train*args.n_train:]\n",
    "\n",
    "sorted(sy.unique()) == sorted(qy.unique())"
   ]
  },
  {
   "cell_type": "code",
   "execution_count": 37,
   "metadata": {
    "code_folding": [
     1
    ],
    "hidden": true
   },
   "outputs": [],
   "source": [
    "%matplotlib inline\n",
    "def show(img):\n",
    "    img1 = img.numpy()\n",
    "    img1 = np.transpose(img1, (1,2,0))\n",
    "    img1 = (img1*std1) + mean1\n",
    "    #img = img*255.\n",
    "#     print(img1.shape)\n",
    "    plt.imshow(img1)#, interpolation = 'nearest')\n",
    "#     return img1\n",
    "\n",
    "mean = np.array([0.485, 0.456, 0.406])\n",
    "std = np.array([0.229, 0.224, 0.225])\n",
    "\n",
    "mean1 = mean[None, None, :]\n",
    "std1 = std[None, None, :]"
   ]
  },
  {
   "cell_type": "code",
   "execution_count": 38,
   "metadata": {
    "hidden": true
   },
   "outputs": [],
   "source": [
    "idx = np.random.randint(0, args.k_train)\n",
    "imgs = torch.cat((sx[sy == sy.unique()[idx], ...], qx[qy ==sy.unique()[idx], ...]), dim=0)\n",
    "\n",
    "imgs = torch.FloatTensor(imgs)"
   ]
  },
  {
   "cell_type": "code",
   "execution_count": 39,
   "metadata": {
    "hidden": true
   },
   "outputs": [
    {
     "name": "stderr",
     "output_type": "stream",
     "text": [
      "Clipping input data to the valid range for imshow with RGB data ([0..1] for floats or [0..255] for integers).\n"
     ]
    },
    {
     "data": {
      "image/png": "[encoded data removed]",
      "text/plain": [
       "<Figure size 432x288 with 1 Axes>"
      ]
     },
     "metadata": {
      "needs_background": "light"
     },
     "output_type": "display_data"
    }
   ],
   "source": [
    "show(imgs[0]); "
   ]
  },
  {
   "cell_type": "code",
   "execution_count": 40,
   "metadata": {
    "hidden": true
   },
   "outputs": [
    {
     "data": {
      "image/png": "[encoded data removed]",
      "text/plain": [
       "<Figure size 432x288 with 1 Axes>"
      ]
     },
     "metadata": {
      "needs_background": "light"
     },
     "output_type": "display_data"
    }
   ],
   "source": [
    "show(imgs[1]);"
   ]
  },
  {
   "cell_type": "code",
   "execution_count": 41,
   "metadata": {
    "hidden": true
   },
   "outputs": [
    {
     "name": "stderr",
     "output_type": "stream",
     "text": [
      "Clipping input data to the valid range for imshow with RGB data ([0..1] for floats or [0..255] for integers).\n"
     ]
    },
    {
     "data": {
      "image/png": "[encoded data removed]",
      "text/plain": [
       "<Figure size 432x288 with 1 Axes>"
      ]
     },
     "metadata": {
      "needs_background": "light"
     },
     "output_type": "display_data"
    }
   ],
   "source": [
    "show(imgs[2])"
   ]
  },
  {
   "cell_type": "markdown",
   "metadata": {},
   "source": [
    "### Modeling\n",
    "* Pretraining with retail data\n",
    "* lr_finder\n",
    "* Freeze Initial layers and train only last layers\n",
    "* fit_one_cycle\n",
    "* disriminative learning rates"
   ]
  },
  {
   "cell_type": "markdown",
   "metadata": {
    "heading_collapsed": true
   },
   "source": [
    "#### Lr_Finder"
   ]
  },
  {
   "cell_type": "code",
   "execution_count": 43,
   "metadata": {
    "hidden": true
   },
   "outputs": [
    {
     "name": "stderr",
     "output_type": "stream",
     "text": [
      "WARNING:torch_lr_finder.lr_finder:To enable mixed precision training, please install `apex`. Or you can re-install this package by the following command:\n",
      "  pip install torch-lr-finder -v --global-option=\"amp\"\n"
     ]
    }
   ],
   "source": [
    "from few_shot.proto import proto_net_episode\n",
    "from few_shot.core import prepare_nshot_task\n",
    "from torch_lr_finder import LRFinder\n",
    "from torch import optim"
   ]
  },
  {
   "cell_type": "code",
   "execution_count": 44,
   "metadata": {
    "hidden": true
   },
   "outputs": [],
   "source": [
    "from torch_lr_finder.lr_finder import DataLoaderIterWrapper"
   ]
  },
  {
   "cell_type": "code",
   "execution_count": 45,
   "metadata": {
    "hidden": true
   },
   "outputs": [],
   "source": [
    "feature_model = get_resnet34(device=device, weight_file=args.init_weight)"
   ]
  },
  {
   "cell_type": "code",
   "execution_count": 46,
   "metadata": {
    "hidden": true
   },
   "outputs": [],
   "source": [
    "criterion = torch.nn.NLLLoss()"
   ]
  },
  {
   "cell_type": "code",
   "execution_count": 47,
   "metadata": {
    "hidden": true
   },
   "outputs": [],
   "source": [
    "optimizer = optim.Adam(feature_model.parameters(), lr=1e-7)"
   ]
  },
  {
   "cell_type": "code",
   "execution_count": 48,
   "metadata": {
    "code_folding": [],
    "hidden": true
   },
   "outputs": [],
   "source": [
    "class lr_finder_proto(LRFinder):\n",
    "    \n",
    "    def __init__(self, model, optimizer, criterion, device=None, memory_cache=True, cache_dir=None):\n",
    "        super().__init__(model, optimizer, criterion, device=None, memory_cache=True, cache_dir=None)\n",
    "        self.prepare_batch = prepare_nshot_task(args.n_train, args.k_train, args.q_train)\n",
    "    \n",
    "#     def range_test(self, train_loader, val_loader=None, start_lr=None, end_lr=10, num_iter=100, step_mode=\"exp\",\n",
    "#                     smooth_f=0.05, diverge_th=5, accumulation_steps=1):\n",
    "#         super().__init__(train_loader, val_loader=None, start_lr=None, end_lr=10, num_iter=100, step_mode=\"exp\",\n",
    "#                     smooth_f=0.05, diverge_th=5, accumulation_steps=1)\n",
    "#         self.dl = DataLoaderIterWrapper(train_loader)\n",
    "    \n",
    "    def _train_batch(self, iter_wrapper, accumulation_steps):\n",
    "#         self.model.train()\n",
    "        total_loss = None  # for late initialization\n",
    "\n",
    "#         self.optimizer.zero_grad()\n",
    "        for i in range(accumulation_steps):\n",
    "            batch = iter_wrapper.get_batch()\n",
    "            inputs, labels = self.prepare_batch(batch)\n",
    "#             print(inputs.shape, labels.shape)\n",
    "            # Forward pass\n",
    "            loss, y_pred = proto_net_episode(self.model, self.optimizer, self.criterion, inputs, labels, \n",
    "                                        args.n_train, args.k_train, args.q_train, distance ='l2' ,train =True)\n",
    "            \n",
    "            # Loss should be averaged in each step\n",
    "            loss /= accumulation_steps\n",
    "\n",
    "            # Backward pass\n",
    "#             loss.backward()\n",
    "\n",
    "            if total_loss is None:\n",
    "                total_loss = loss\n",
    "            else:\n",
    "                total_loss += loss\n",
    "        \n",
    "        if len(self.history['lr'])>0:\n",
    "            print(loss, self.history[\"lr\"][-1])\n",
    "\n",
    "        return total_loss.item()\n"
   ]
  },
  {
   "cell_type": "code",
   "execution_count": 49,
   "metadata": {
    "hidden": true
   },
   "outputs": [],
   "source": [
    "lr_finder = lr_finder_proto(feature_model, optimizer, criterion, device=\"cuda\", cache_dir = 'logs')"
   ]
  },
  {
   "cell_type": "code",
   "execution_count": 50,
   "metadata": {
    "hidden": true
   },
   "outputs": [
    {
     "data": {
      "application/vnd.jupyter.widget-view+json": {
       "model_id": "5b4fc57427a6416bb6502bdeb409e987",
       "version_major": 2,
       "version_minor": 0
      },
      "text/plain": [
       "HBox(children=(IntProgress(value=0, max=150), HTML(value='')))"
      ]
     },
     "metadata": {},
     "output_type": "display_data"
    },
    {
     "name": "stdout",
     "output_type": "stream",
     "text": [
      "tensor(108.2968, device='cuda:0', grad_fn=<DivBackward0>) 1.1481536214968827e-07\n",
      "tensor(99.2213, device='cuda:0', grad_fn=<DivBackward0>) 1.318256738556407e-07\n",
      "tensor(108.0868, device='cuda:0', grad_fn=<DivBackward0>) 1.513561248436208e-07\n",
      "tensor(76.0278, device='cuda:0', grad_fn=<DivBackward0>) 1.7378008287493754e-07\n",
      "tensor(82.4634, device='cuda:0', grad_fn=<DivBackward0>) 1.9952623149688795e-07\n",
      "tensor(79.4709, device='cuda:0', grad_fn=<DivBackward0>) 2.290867652767773e-07\n",
      "tensor(111.7814, device='cuda:0', grad_fn=<DivBackward0>) 2.630267991895382e-07\n",
      "tensor(108.0368, device='cuda:0', grad_fn=<DivBackward0>) 3.0199517204020165e-07\n",
      "tensor(93.4976, device='cuda:0', grad_fn=<DivBackward0>) 3.467368504525316e-07\n",
      "tensor(106.6277, device='cuda:0', grad_fn=<DivBackward0>) 3.981071705534972e-07\n",
      "tensor(90.3637, device='cuda:0', grad_fn=<DivBackward0>) 4.5708818961487505e-07\n",
      "tensor(81.0704, device='cuda:0', grad_fn=<DivBackward0>) 5.248074602497726e-07\n",
      "tensor(61.8995, device='cuda:0', grad_fn=<DivBackward0>) 6.025595860743577e-07\n",
      "tensor(94.9881, device='cuda:0', grad_fn=<DivBackward0>) 6.918309709189365e-07\n",
      "tensor(93.6916, device='cuda:0', grad_fn=<DivBackward0>) 7.943282347242816e-07\n",
      "tensor(76.6270, device='cuda:0', grad_fn=<DivBackward0>) 9.120108393559097e-07\n",
      "tensor(87.4428, device='cuda:0', grad_fn=<DivBackward0>) 1.0471285480508994e-06\n",
      "tensor(92.9325, device='cuda:0', grad_fn=<DivBackward0>) 1.2022644346174128e-06\n",
      "tensor(89.7897, device='cuda:0', grad_fn=<DivBackward0>) 1.380384264602885e-06\n",
      "tensor(93.7046, device='cuda:0', grad_fn=<DivBackward0>) 1.5848931924611134e-06\n",
      "tensor(75.9232, device='cuda:0', grad_fn=<DivBackward0>) 1.819700858609984e-06\n",
      "tensor(83.1249, device='cuda:0', grad_fn=<DivBackward0>) 2.0892961308540394e-06\n",
      "tensor(75.8785, device='cuda:0', grad_fn=<DivBackward0>) 2.3988329190194897e-06\n",
      "tensor(74.9160, device='cuda:0', grad_fn=<DivBackward0>) 2.7542287033381663e-06\n",
      "tensor(82.7706, device='cuda:0', grad_fn=<DivBackward0>) 3.1622776601683788e-06\n",
      "tensor(67.2233, device='cuda:0', grad_fn=<DivBackward0>) 3.630780547701014e-06\n",
      "tensor(87.2299, device='cuda:0', grad_fn=<DivBackward0>) 4.168693834703353e-06\n",
      "tensor(84.3810, device='cuda:0', grad_fn=<DivBackward0>) 4.786300923226384e-06\n",
      "tensor(91.3664, device='cuda:0', grad_fn=<DivBackward0>) 5.495408738576245e-06\n",
      "tensor(63.5920, device='cuda:0', grad_fn=<DivBackward0>) 6.309573444801934e-06\n",
      "tensor(81.9301, device='cuda:0', grad_fn=<DivBackward0>) 7.244359600749901e-06\n",
      "tensor(48.2514, device='cuda:0', grad_fn=<DivBackward0>) 8.317637711026713e-06\n",
      "tensor(70.8015, device='cuda:0', grad_fn=<DivBackward0>) 9.549925860214359e-06\n",
      "tensor(70.2317, device='cuda:0', grad_fn=<DivBackward0>) 1.0964781961431847e-05\n",
      "tensor(57.1159, device='cuda:0', grad_fn=<DivBackward0>) 1.2589254117941671e-05\n",
      "tensor(62.5339, device='cuda:0', grad_fn=<DivBackward0>) 1.4454397707459272e-05\n",
      "tensor(59.6248, device='cuda:0', grad_fn=<DivBackward0>) 1.659586907437561e-05\n",
      "tensor(50.6232, device='cuda:0', grad_fn=<DivBackward0>) 1.905460717963248e-05\n",
      "tensor(43.5361, device='cuda:0', grad_fn=<DivBackward0>) 2.187761623949553e-05\n",
      "tensor(45.6915, device='cuda:0', grad_fn=<DivBackward0>) 2.5118864315095798e-05\n",
      "tensor(41.5325, device='cuda:0', grad_fn=<DivBackward0>) 2.884031503126605e-05\n",
      "tensor(28.5089, device='cuda:0', grad_fn=<DivBackward0>) 3.3113112148259124e-05\n",
      "tensor(42.9319, device='cuda:0', grad_fn=<DivBackward0>) 3.8018939632056124e-05\n",
      "tensor(24.9630, device='cuda:0', grad_fn=<DivBackward0>) 4.36515832240166e-05\n",
      "tensor(23.6510, device='cuda:0', grad_fn=<DivBackward0>) 5.011872336272722e-05\n",
      "tensor(30.4792, device='cuda:0', grad_fn=<DivBackward0>) 5.754399373371566e-05\n",
      "tensor(21.8601, device='cuda:0', grad_fn=<DivBackward0>) 6.606934480075963e-05\n",
      "tensor(13.6551, device='cuda:0', grad_fn=<DivBackward0>) 7.585775750291839e-05\n",
      "tensor(18.7276, device='cuda:0', grad_fn=<DivBackward0>) 8.709635899560806e-05\n",
      "tensor(19.5339, device='cuda:0', grad_fn=<DivBackward0>) 9.999999999999996e-05\n",
      "tensor(18.6407, device='cuda:0', grad_fn=<DivBackward0>) 0.00011481536214968832\n",
      "tensor(13.2695, device='cuda:0', grad_fn=<DivBackward0>) 0.00013182567385564074\n",
      "tensor(11.9688, device='cuda:0', grad_fn=<DivBackward0>) 0.0001513561248436208\n",
      "tensor(13.3966, device='cuda:0', grad_fn=<DivBackward0>) 0.00017378008287493747\n",
      "tensor(9.6463, device='cuda:0', grad_fn=<DivBackward0>) 0.00019952623149688785\n",
      "tensor(10.1288, device='cuda:0', grad_fn=<DivBackward0>) 0.0002290867652767774\n",
      "tensor(8.4909, device='cuda:0', grad_fn=<DivBackward0>) 0.0002630267991895382\n",
      "tensor(4.7304, device='cuda:0', grad_fn=<DivBackward0>) 0.0003019951720402016\n",
      "tensor(5.9919, device='cuda:0', grad_fn=<DivBackward0>) 0.00034673685045253147\n",
      "tensor(11.3395, device='cuda:0', grad_fn=<DivBackward0>) 0.0003981071705534974\n",
      "tensor(6.0183, device='cuda:0', grad_fn=<DivBackward0>) 0.0004570881896148751\n",
      "tensor(3.7983, device='cuda:0', grad_fn=<DivBackward0>) 0.0005248074602497725\n",
      "tensor(6.7015, device='cuda:0', grad_fn=<DivBackward0>) 0.0006025595860743576\n",
      "tensor(6.3884, device='cuda:0', grad_fn=<DivBackward0>) 0.0006918309709189369\n",
      "tensor(5.9481, device='cuda:0', grad_fn=<DivBackward0>) 0.0007943282347242816\n",
      "tensor(6.2920, device='cuda:0', grad_fn=<DivBackward0>) 0.0009120108393559097\n",
      "tensor(2.7410, device='cuda:0', grad_fn=<DivBackward0>) 0.0010471285480508994\n",
      "tensor(6.3013, device='cuda:0', grad_fn=<DivBackward0>) 0.0012022644346174124\n",
      "tensor(6.2587, device='cuda:0', grad_fn=<DivBackward0>) 0.0013803842646028853\n",
      "tensor(4.4691, device='cuda:0', grad_fn=<DivBackward0>) 0.0015848931924611136\n",
      "tensor(3.8756, device='cuda:0', grad_fn=<DivBackward0>) 0.0018197008586099833\n",
      "tensor(6.9272, device='cuda:0', grad_fn=<DivBackward0>) 0.0020892961308540386\n",
      "tensor(8.2423, device='cuda:0', grad_fn=<DivBackward0>) 0.0023988329190194916\n",
      "tensor(6.7149, device='cuda:0', grad_fn=<DivBackward0>) 0.002754228703338167\n",
      "tensor(5.4753, device='cuda:0', grad_fn=<DivBackward0>) 0.003162277660168379\n",
      "tensor(10.0436, device='cuda:0', grad_fn=<DivBackward0>) 0.0036307805477010166\n",
      "tensor(4.9844, device='cuda:0', grad_fn=<DivBackward0>) 0.004168693834703352\n",
      "tensor(5.1906, device='cuda:0', grad_fn=<DivBackward0>) 0.004786300923226385\n",
      "tensor(4.6968, device='cuda:0', grad_fn=<DivBackward0>) 0.0054954087385762395\n",
      "tensor(4.8383, device='cuda:0', grad_fn=<DivBackward0>) 0.006309573444801931\n",
      "tensor(13.7783, device='cuda:0', grad_fn=<DivBackward0>) 0.007244359600749905\n",
      "tensor(27.9001, device='cuda:0', grad_fn=<DivBackward0>) 0.008317637711026704\n",
      "tensor(38.1467, device='cuda:0', grad_fn=<DivBackward0>) 0.00954992586021436\n",
      "Stopping early, the loss has diverged\n",
      "Learning rate search finished. See the graph with {finder_name}.plot()\n"
     ]
    }
   ],
   "source": [
    "lr_finder.range_test(background_taskloader, end_lr=100, num_iter=150, smooth_f=0.5)"
   ]
  },
  {
   "cell_type": "code",
   "execution_count": 52,
   "metadata": {
    "hidden": true
   },
   "outputs": [
    {
     "data": {
      "image/png": "[encoded data removed]",
      "text/plain": [
       "<Figure size 432x288 with 1 Axes>"
      ]
     },
     "metadata": {
      "needs_background": "light"
     },
     "output_type": "display_data"
    },
    {
     "data": {
      "text/plain": [
       "<matplotlib.axes._subplots.AxesSubplot at 0x7fb17322f198>"
      ]
     },
     "execution_count": 52,
     "metadata": {},
     "output_type": "execute_result"
    }
   ],
   "source": [
    "lr_finder.plot(skip_start=10, skip_end=0) # to inspect the loss-learning rate graph"
   ]
  },
  {
   "cell_type": "code",
   "execution_count": 53,
   "metadata": {
    "hidden": true
   },
   "outputs": [],
   "source": [
    "lr_finder.reset() # to reset the model and optimizer to their initial state"
   ]
  },
  {
   "cell_type": "markdown",
   "metadata": {},
   "source": [
    "#### Training"
   ]
  },
  {
   "cell_type": "code",
   "execution_count": 22,
   "metadata": {},
   "outputs": [],
   "source": [
    "feature_model = get_resnet34(device=device, weight_file=args.init_weight)"
   ]
  },
  {
   "cell_type": "code",
   "execution_count": 23,
   "metadata": {},
   "outputs": [
    {
     "data": {
      "text/plain": [
       "'Grocer_res34_s1_q2_k80_nonq7.6k'"
      ]
     },
     "execution_count": 23,
     "metadata": {},
     "output_type": "execute_result"
    }
   ],
   "source": [
    "args.param_str = f'Grocer_res34_s{args.n_train}_q{args.q_train}_k{args.k_train}_nonq7.6k'\n",
    "args.param_str"
   ]
  },
  {
   "cell_type": "code",
   "execution_count": 24,
   "metadata": {
    "scrolled": true
   },
   "outputs": [
    {
     "name": "stderr",
     "output_type": "stream",
     "text": [
      "\r",
      "Epoch 1:   0%|          | 0/96 [00:00<?, ?it/s]"
     ]
    },
    {
     "name": "stdout",
     "output_type": "stream",
     "text": [
      "Begin training...\n"
     ]
    },
    {
     "name": "stderr",
     "output_type": "stream",
     "text": [
      "Epoch 1:   2%|▏         | 2/96 [00:36<28:22, 18.11s/it, loss=85.9, categorical_accuracy=0.475, val_1-shot_93-way_acc=0.71]\n",
      "Epoch 2:   2%|▏         | 2/96 [00:36<28:33, 18.23s/it, loss=44.4, categorical_accuracy=0.613, val_1-shot_93-way_acc=0.742]\n",
      "Epoch 3:   2%|▏         | 2/96 [00:36<28:17, 18.05s/it, loss=33.4, categorical_accuracy=0.694, val_1-shot_93-way_acc=0.806]\n",
      "Epoch 4:   2%|▏         | 2/96 [00:36<28:25, 18.14s/it, loss=26.3, categorical_accuracy=0.738, val_1-shot_93-way_acc=0.817]\n",
      "Epoch 5:   2%|▏         | 2/96 [00:36<28:26, 18.16s/it, loss=25.6, categorical_accuracy=0.738, val_1-shot_93-way_acc=0.785]\n",
      "Epoch 6:   2%|▏         | 2/96 [00:36<28:21, 18.10s/it, loss=20.9, categorical_accuracy=0.769, val_1-shot_93-way_acc=0.774]\n",
      "Epoch 7:   2%|▏         | 2/96 [00:36<28:06, 17.94s/it, loss=13, categorical_accuracy=0.831, val_1-shot_93-way_acc=0.785]\n",
      "Epoch 8:   2%|▏         | 2/96 [00:36<28:03, 17.91s/it, loss=11.8, categorical_accuracy=0.844, val_1-shot_93-way_acc=0.839]\n",
      "Epoch 9:   2%|▏         | 2/96 [00:36<28:01, 17.89s/it, loss=11.9, categorical_accuracy=0.819, val_1-shot_93-way_acc=0.817]\n",
      "Epoch 10:   2%|▏         | 2/96 [00:36<28:18, 18.07s/it, loss=12.9, categorical_accuracy=0.85, val_1-shot_93-way_acc=0.828]\n",
      "Epoch 11:   2%|▏         | 2/96 [00:35<27:44, 17.71s/it, loss=7.87, categorical_accuracy=0.863, val_1-shot_93-way_acc=0.892]\n",
      "Epoch 12:   2%|▏         | 2/96 [00:36<28:04, 17.92s/it, loss=8.95, categorical_accuracy=0.863, val_1-shot_93-way_acc=0.849]\n",
      "Epoch 13:   2%|▏         | 2/96 [00:35<27:51, 17.78s/it, loss=10.9, categorical_accuracy=0.838, val_1-shot_93-way_acc=0.839]\n",
      "Epoch 14:   2%|▏         | 2/96 [00:35<27:45, 17.72s/it, loss=12, categorical_accuracy=0.856, val_1-shot_93-way_acc=0.785]\n",
      "Epoch 15:   2%|▏         | 2/96 [00:35<27:46, 17.73s/it, loss=7.75, categorical_accuracy=0.881, val_1-shot_93-way_acc=0.763]\n",
      "Epoch 16:   2%|▏         | 2/96 [00:35<27:48, 17.75s/it, loss=10.4, categorical_accuracy=0.869, val_1-shot_93-way_acc=0.699]\n",
      "Epoch 17:   2%|▏         | 2/96 [00:36<27:52, 17.79s/it, loss=5.37, categorical_accuracy=0.894, val_1-shot_93-way_acc=0.806]\n",
      "Epoch 18:   2%|▏         | 2/96 [00:35<27:49, 17.76s/it, loss=11.6, categorical_accuracy=0.869, val_1-shot_93-way_acc=0.839]\n",
      "Epoch 19:   2%|▏         | 2/96 [00:36<27:53, 17.80s/it, loss=4.6, categorical_accuracy=0.95, val_1-shot_93-way_acc=0.774]\n",
      "Epoch 20:   2%|▏         | 2/96 [00:36<27:44, 17.70s/it, loss=3.05, categorical_accuracy=0.931, val_1-shot_93-way_acc=0.828]\n",
      "Epoch 21:   2%|▏         | 2/96 [00:35<27:48, 17.75s/it, loss=1.82, categorical_accuracy=0.931, val_1-shot_93-way_acc=0.785]\n",
      "Epoch 22:   2%|▏         | 2/96 [00:35<27:43, 17.70s/it, loss=6.88, categorical_accuracy=0.894, val_1-shot_93-way_acc=0.763]\n",
      "Epoch 23:   2%|▏         | 2/96 [00:35<27:38, 17.64s/it, loss=7.62, categorical_accuracy=0.919, val_1-shot_93-way_acc=0.806]\n",
      "Epoch 24:   2%|▏         | 2/96 [00:35<27:25, 17.51s/it, loss=9.9, categorical_accuracy=0.869, val_1-shot_93-way_acc=0.72]\n",
      "Epoch 25:   2%|▏         | 2/96 [00:35<27:27, 17.53s/it, loss=6.37, categorical_accuracy=0.919, val_1-shot_93-way_acc=0.806]\n",
      "Epoch 26:   2%|▏         | 2/96 [00:35<27:26, 17.51s/it, loss=2.66, categorical_accuracy=0.919, val_1-shot_93-way_acc=0.742]\n",
      "Epoch 27:   2%|▏         | 2/96 [00:35<27:22, 17.48s/it, loss=7.94, categorical_accuracy=0.887, val_1-shot_93-way_acc=0.849]\n",
      "Epoch 28:   2%|▏         | 2/96 [00:35<27:39, 17.65s/it, loss=4.06, categorical_accuracy=0.931, val_1-shot_93-way_acc=0.892]\n",
      "Epoch 29:   2%|▏         | 2/96 [00:36<28:08, 17.96s/it, loss=3.34, categorical_accuracy=0.925, val_1-shot_93-way_acc=0.796]\n",
      "Epoch 30:   2%|▏         | 2/96 [00:36<28:17, 18.06s/it, loss=3.39, categorical_accuracy=0.931, val_1-shot_93-way_acc=0.774]\n",
      "Epoch 31:   2%|▏         | 2/96 [00:36<28:11, 18.00s/it, loss=2.92, categorical_accuracy=0.95, val_1-shot_93-way_acc=0.785]\n",
      "Epoch 32:   2%|▏         | 2/96 [00:36<28:12, 18.00s/it, loss=1.23, categorical_accuracy=0.956, val_1-shot_93-way_acc=0.817]\n",
      "Epoch 33:   2%|▏         | 2/96 [00:36<28:23, 18.12s/it, loss=9.97, categorical_accuracy=0.912, val_1-shot_93-way_acc=0.828]\n",
      "Epoch 34:   2%|▏         | 2/96 [00:36<28:21, 18.10s/it, loss=1.54, categorical_accuracy=0.975, val_1-shot_93-way_acc=0.828]\n",
      "Epoch 35:   2%|▏         | 2/96 [00:36<28:12, 18.00s/it, loss=5.01, categorical_accuracy=0.894, val_1-shot_93-way_acc=0.828]\n",
      "Epoch 36:   2%|▏         | 2/96 [00:36<28:15, 18.03s/it, loss=5.06, categorical_accuracy=0.919, val_1-shot_93-way_acc=0.882]\n",
      "Epoch 37:   2%|▏         | 2/96 [00:35<27:49, 17.76s/it, loss=7.93, categorical_accuracy=0.875, val_1-shot_93-way_acc=0.817]\n",
      "Epoch 38:   2%|▏         | 2/96 [00:35<27:46, 17.73s/it, loss=3.68, categorical_accuracy=0.95, val_1-shot_93-way_acc=0.903]\n",
      "Epoch 39:   2%|▏         | 2/96 [00:35<27:49, 17.76s/it, loss=3.1, categorical_accuracy=0.938, val_1-shot_93-way_acc=0.849]\n",
      "Epoch 40:   2%|▏         | 2/96 [00:35<27:37, 17.63s/it, loss=4.33, categorical_accuracy=0.912, val_1-shot_93-way_acc=0.849]\n",
      "Epoch 41:   2%|▏         | 2/96 [00:36<27:56, 17.84s/it, loss=5.06, categorical_accuracy=0.906, val_1-shot_93-way_acc=0.882]\n",
      "Epoch 42:   2%|▏         | 2/96 [00:36<28:08, 17.96s/it, loss=3.24, categorical_accuracy=0.925, val_1-shot_93-way_acc=0.86]\n",
      "Epoch 43:   2%|▏         | 2/96 [00:35<27:45, 17.72s/it, loss=2.02, categorical_accuracy=0.963, val_1-shot_93-way_acc=0.785]\n",
      "Epoch 44:   2%|▏         | 2/96 [00:36<27:49, 17.76s/it, loss=3.03, categorical_accuracy=0.938, val_1-shot_93-way_acc=0.806]\n",
      "Epoch 45:   2%|▏         | 2/96 [00:36<27:51, 17.78s/it, loss=3.05, categorical_accuracy=0.944, val_1-shot_93-way_acc=0.839]\n",
      "Epoch 46:   2%|▏         | 2/96 [00:37<28:34, 18.24s/it, loss=2.56, categorical_accuracy=0.95, val_1-shot_93-way_acc=0.882]\n",
      "Epoch 47:   2%|▏         | 2/96 [00:35<27:52, 17.80s/it, loss=2.8, categorical_accuracy=0.938, val_1-shot_93-way_acc=0.839]\n",
      "Epoch 48:   2%|▏         | 2/96 [00:36<28:00, 17.88s/it, loss=4.71, categorical_accuracy=0.931, val_1-shot_93-way_acc=0.828]\n",
      "Epoch 49:   2%|▏         | 2/96 [00:35<27:52, 17.79s/it, loss=1.46, categorical_accuracy=0.963, val_1-shot_93-way_acc=0.839]\n",
      "Epoch 50:   2%|▏         | 2/96 [00:35<27:44, 17.71s/it, loss=1.89, categorical_accuracy=0.95, val_1-shot_93-way_acc=0.785]\n",
      "Epoch 51:   2%|▏         | 2/96 [00:36<28:01, 17.89s/it, loss=1.34, categorical_accuracy=0.963, val_1-shot_93-way_acc=0.796]\n",
      "Epoch 52:   2%|▏         | 2/96 [00:36<28:07, 17.95s/it, loss=1.56, categorical_accuracy=0.956, val_1-shot_93-way_acc=0.871]\n",
      "Epoch 53:   2%|▏         | 2/96 [00:36<28:20, 18.09s/it, loss=1.63, categorical_accuracy=0.963, val_1-shot_93-way_acc=0.839]\n",
      "Epoch 54:   2%|▏         | 2/96 [00:35<27:50, 17.77s/it, loss=1.94, categorical_accuracy=0.963, val_1-shot_93-way_acc=0.774]\n",
      "Epoch 55:   2%|▏         | 2/96 [00:36<28:05, 17.93s/it, loss=1.91, categorical_accuracy=0.95, val_1-shot_93-way_acc=0.817]\n",
      "Epoch 56:   2%|▏         | 2/96 [00:35<27:48, 17.75s/it, loss=1.01, categorical_accuracy=0.981, val_1-shot_93-way_acc=0.86]\n",
      "Epoch 57:   2%|▏         | 2/96 [00:36<28:09, 17.98s/it, loss=1.55, categorical_accuracy=0.956, val_1-shot_93-way_acc=0.849]\n",
      "Epoch 58:   2%|▏         | 2/96 [00:35<27:51, 17.78s/it, loss=2.17, categorical_accuracy=0.938, val_1-shot_93-way_acc=0.806]\n",
      "Epoch 59:   2%|▏         | 2/96 [00:35<27:46, 17.73s/it, loss=2.28, categorical_accuracy=0.938, val_1-shot_93-way_acc=0.871]\n",
      "Epoch 60:   2%|▏         | 2/96 [00:35<27:51, 17.78s/it, loss=1.92, categorical_accuracy=0.95, val_1-shot_93-way_acc=0.839]\n",
      "Epoch 61:   2%|▏         | 2/96 [00:35<27:25, 17.50s/it, loss=1.21, categorical_accuracy=0.975, val_1-shot_93-way_acc=0.806]\n",
      "Epoch 62:   2%|▏         | 2/96 [00:35<27:52, 17.80s/it, loss=3.9, categorical_accuracy=0.963, val_1-shot_93-way_acc=0.817]\n",
      "Epoch 63:   2%|▏         | 2/96 [00:35<27:10, 17.35s/it, loss=2.85, categorical_accuracy=0.925, val_1-shot_93-way_acc=0.796]\n",
      "Epoch 64:   2%|▏         | 2/96 [00:36<27:59, 17.87s/it, loss=2.55, categorical_accuracy=0.969, val_1-shot_93-way_acc=0.785]\n",
      "Epoch 65:   2%|▏         | 2/96 [00:35<27:44, 17.71s/it, loss=0.409, categorical_accuracy=0.975, val_1-shot_93-way_acc=0.796]\n"
     ]
    },
    {
     "name": "stderr",
     "output_type": "stream",
     "text": [
      "Epoch 66:   2%|▏         | 2/96 [00:36<27:57, 17.84s/it, loss=2.32, categorical_accuracy=0.956, val_1-shot_93-way_acc=0.785]\n",
      "Epoch 67:   2%|▏         | 2/96 [00:35<27:41, 17.68s/it, loss=2.22, categorical_accuracy=0.975, val_1-shot_93-way_acc=0.86]\n",
      "Epoch 68:   2%|▏         | 2/96 [00:36<27:57, 17.85s/it, loss=3.54, categorical_accuracy=0.95, val_1-shot_93-way_acc=0.785]\n",
      "Epoch 69:   2%|▏         | 2/96 [00:36<27:52, 17.80s/it, loss=2.26, categorical_accuracy=0.963, val_1-shot_93-way_acc=0.806]\n",
      "Epoch 70:   2%|▏         | 2/96 [00:36<27:57, 17.85s/it, loss=1.4, categorical_accuracy=0.938, val_1-shot_93-way_acc=0.763]\n",
      "Epoch 71:   2%|▏         | 2/96 [00:35<27:49, 17.76s/it, loss=4.74, categorical_accuracy=0.95, val_1-shot_93-way_acc=0.828]\n",
      "Epoch 72:   2%|▏         | 2/96 [00:36<28:08, 17.96s/it, loss=5.27, categorical_accuracy=0.919, val_1-shot_93-way_acc=0.86]\n",
      "Epoch 73:   2%|▏         | 2/96 [00:35<27:44, 17.70s/it, loss=4.35, categorical_accuracy=0.969, val_1-shot_93-way_acc=0.849]\n",
      "Epoch 74:   2%|▏         | 2/96 [00:35<27:39, 17.66s/it, loss=4.59, categorical_accuracy=0.944, val_1-shot_93-way_acc=0.796]\n",
      "Epoch 75:   2%|▏         | 2/96 [00:36<27:51, 17.79s/it, loss=3.05, categorical_accuracy=0.95, val_1-shot_93-way_acc=0.903]\n",
      "Epoch 76:   2%|▏         | 2/96 [00:35<27:41, 17.68s/it, loss=3.69, categorical_accuracy=0.938, val_1-shot_93-way_acc=0.839]\n",
      "Epoch 77:   2%|▏         | 2/96 [00:37<28:25, 18.15s/it, loss=5.08, categorical_accuracy=0.925, val_1-shot_93-way_acc=0.828]\n",
      "Epoch 78:   2%|▏         | 2/96 [00:36<28:10, 17.99s/it, loss=0.802, categorical_accuracy=0.981, val_1-shot_93-way_acc=0.882]\n",
      "Epoch 79:   2%|▏         | 2/96 [00:36<28:29, 18.19s/it, loss=3.99, categorical_accuracy=0.925, val_1-shot_93-way_acc=0.849]\n",
      "Epoch 80:   2%|▏         | 2/96 [00:36<28:09, 17.97s/it, loss=1.3, categorical_accuracy=0.956, val_1-shot_93-way_acc=0.86]\n",
      "Epoch 81:   2%|▏         | 2/96 [00:36<28:22, 18.11s/it, loss=4.09, categorical_accuracy=0.944, val_1-shot_93-way_acc=0.849]\n",
      "Epoch 82:   2%|▏         | 2/96 [00:36<28:19, 18.08s/it, loss=3.55, categorical_accuracy=0.956, val_1-shot_93-way_acc=0.785]\n",
      "Epoch 83:   2%|▏         | 2/96 [00:36<27:58, 17.85s/it, loss=1.13, categorical_accuracy=0.969, val_1-shot_93-way_acc=0.806]\n",
      "Epoch 84:   2%|▏         | 2/96 [00:36<28:13, 18.02s/it, loss=0.3, categorical_accuracy=0.975, val_1-shot_93-way_acc=0.871]\n",
      "Epoch 87:   2%|▏         | 2/96 [00:36<28:07, 17.96s/it, loss=3.52, categorical_accuracy=0.963, val_1-shot_93-way_acc=0.86]\n",
      "Epoch 88:   2%|▏         | 2/96 [00:36<28:07, 17.95s/it, loss=1.67, categorical_accuracy=0.963, val_1-shot_93-way_acc=0.925]\n",
      "Epoch 89:   2%|▏         | 2/96 [00:36<28:02, 17.90s/it, loss=1.21, categorical_accuracy=0.975, val_1-shot_93-way_acc=0.849]\n",
      "Epoch 90:   2%|▏         | 2/96 [00:36<28:00, 17.88s/it, loss=8.71, categorical_accuracy=0.938, val_1-shot_93-way_acc=0.871]\n",
      "Epoch 91:   2%|▏         | 2/96 [00:36<28:04, 17.92s/it, loss=1.65, categorical_accuracy=0.963, val_1-shot_93-way_acc=0.871]\n",
      "Epoch 92:   2%|▏         | 2/96 [00:36<28:07, 17.95s/it, loss=5.51, categorical_accuracy=0.912, val_1-shot_93-way_acc=0.871]\n",
      "Epoch 93:   2%|▏         | 2/96 [00:36<28:08, 17.96s/it, loss=1.96, categorical_accuracy=0.969, val_1-shot_93-way_acc=0.839]\n",
      "Epoch 94:   2%|▏         | 2/96 [00:36<28:09, 17.97s/it, loss=0.915, categorical_accuracy=0.969, val_1-shot_93-way_acc=0.892]\n",
      "Epoch 95:   2%|▏         | 2/96 [00:36<28:13, 18.01s/it, loss=1.45, categorical_accuracy=0.956, val_1-shot_93-way_acc=0.828]\n",
      "Epoch 96:   2%|▏         | 2/96 [00:36<28:14, 18.02s/it, loss=0.854, categorical_accuracy=0.975, val_1-shot_93-way_acc=0.86]\n",
      "Epoch 97:   2%|▏         | 2/96 [00:36<27:59, 17.86s/it, loss=0.656, categorical_accuracy=0.981, val_1-shot_93-way_acc=0.849]\n",
      "Epoch 98:   2%|▏         | 2/96 [00:36<27:58, 17.86s/it, loss=3.13, categorical_accuracy=0.963, val_1-shot_93-way_acc=0.828]\n",
      "Epoch 99:   2%|▏         | 2/96 [00:35<27:33, 17.59s/it, loss=0.992, categorical_accuracy=0.975, val_1-shot_93-way_acc=0.839]\n",
      "Epoch 100:   2%|▏         | 2/96 [00:36<28:17, 18.06s/it, loss=1.95, categorical_accuracy=0.956, val_1-shot_93-way_acc=0.871]"
     ]
    },
    {
     "name": "stdout",
     "output_type": "stream",
     "text": [
      "Finished.\n"
     ]
    },
    {
     "name": "stderr",
     "output_type": "stream",
     "text": [
      "\n"
     ]
    }
   ],
   "source": [
    "train_proto_net(args,\n",
    "                model=feature_model,\n",
    "                device=device,\n",
    "                path='.',\n",
    "                n_epochs=args.n_epochs,\n",
    "                background_taskloader=background_taskloader,\n",
    "                evaluation_taskloader=evaluation_taskloader,\n",
    "                drop_lr_every=args.drop_lr_every,\n",
    "                evaluation_episodes=args.evaluation_episodes,\n",
    "                episodes_per_epoch=args.episodes_per_epoch,\n",
    "                lr=args.lr,\n",
    "               )"
   ]
  },
  {
   "cell_type": "code",
   "execution_count": 25,
   "metadata": {},
   "outputs": [
    {
     "data": {
      "text/plain": [
       "'Grocer_res34_s1_q2_k80_nonq7.6k_epoch100.pth'"
      ]
     },
     "execution_count": 25,
     "metadata": {},
     "output_type": "execute_result"
    }
   ],
   "source": [
    "f'{args.param_str}_epoch{args.n_epochs}.pth'"
   ]
  },
  {
   "cell_type": "code",
   "execution_count": null,
   "metadata": {},
   "outputs": [],
   "source": [
    "# torch.save(feature_model.state_dict(), f'models/{args.param_str}_epoch{args.n_epochs}.pth')"
   ]
  },
  {
   "cell_type": "markdown",
   "metadata": {},
   "source": [
    "### Testing\n",
    "* loader for test query images\n",
    "* calculate protoypes for all reference images\n",
    "* Generate embeddings for all query images\n",
    "* Calculate distance between embeddings and prototypes\n",
    "* Save top1 and top5 accuracy"
   ]
  },
  {
   "cell_type": "code",
   "execution_count": 26,
   "metadata": {},
   "outputs": [],
   "source": [
    "from dlcliche.image import *\n",
    "sys.path.append('..') # app\n",
    "sys.path.append('../..') # root\n",
    "from easydict import EasyDict\n",
    "from app_utils_clf import *\n",
    "from whale_plus_utils import *\n",
    "from config import DATA_PATH"
   ]
  },
  {
   "cell_type": "code",
   "execution_count": 27,
   "metadata": {},
   "outputs": [
    {
     "name": "stdout",
     "output_type": "stream",
     "text": [
      "Grocer_res34_s1_q2_k80_nonq7.6k_epoch100\n"
     ]
    }
   ],
   "source": [
    "exp = f'{args.param_str}_epoch{args.n_epochs}'\n",
    "# exp = 'res34_untrained_8kcls'\n",
    "print(exp)\n",
    "get_model_fn=get_resnet34\n",
    "weight_file = f'models/{args.param_str}_e{args.n_epochs+1}.pth'\n",
    "output_path='results'"
   ]
  },
  {
   "cell_type": "code",
   "execution_count": 28,
   "metadata": {},
   "outputs": [],
   "source": [
    "SZ=256\n",
    "device='cuda'\n",
    "train_csv=DATA_PATH+'/train.csv'\n",
    "data_train = DATA_PATH\n",
    "data_test  = DATA_PATH\n",
    "data_type='normal'\n",
    "normalize='imagenet'\n",
    "N_TTA=0\n",
    "part=0\n",
    "n_part=1"
   ]
  },
  {
   "cell_type": "code",
   "execution_count": 29,
   "metadata": {},
   "outputs": [],
   "source": [
    "weight_file = Path(weight_file)\n",
    "output_path = Path(output_path)\n",
    "ensure_folder(output_path)"
   ]
  },
  {
   "cell_type": "code",
   "execution_count": 30,
   "metadata": {},
   "outputs": [],
   "source": [
    "proto_df = pd.read_csv('/home/raghava_balusu_walmartlabs_com/Work/oneshotml/data/Grocery_products/reference_metadata.csv')"
   ]
  },
  {
   "cell_type": "code",
   "execution_count": 31,
   "metadata": {},
   "outputs": [],
   "source": [
    "proto_df['type'] = 'reference'\n",
    "\n",
    "proto_df.columns = ['image_path', 'class', 'class_id', 'sub_class_label', 'label', 'num_Query_imgs', 'type']"
   ]
  },
  {
   "cell_type": "code",
   "execution_count": 32,
   "metadata": {},
   "outputs": [],
   "source": [
    "le = LabelEncoder()\n",
    "proto_df['label_id'] = le.fit_transform(proto_df.label)"
   ]
  },
  {
   "cell_type": "code",
   "execution_count": 33,
   "metadata": {},
   "outputs": [
    {
     "data": {
      "text/html": [
       "<div>\n",
       "<style scoped>\n",
       "    .dataframe tbody tr th:only-of-type {\n",
       "        vertical-align: middle;\n",
       "    }\n",
       "\n",
       "    .dataframe tbody tr th {\n",
       "        vertical-align: top;\n",
       "    }\n",
       "\n",
       "    .dataframe thead th {\n",
       "        text-align: right;\n",
       "    }\n",
       "</style>\n",
       "<table border=\"1\" class=\"dataframe\">\n",
       "  <thead>\n",
       "    <tr style=\"text-align: right;\">\n",
       "      <th></th>\n",
       "      <th>image_path</th>\n",
       "      <th>class</th>\n",
       "      <th>class_id</th>\n",
       "      <th>sub_class_label</th>\n",
       "      <th>label</th>\n",
       "      <th>num_Query_imgs</th>\n",
       "      <th>type</th>\n",
       "      <th>label_id</th>\n",
       "    </tr>\n",
       "  </thead>\n",
       "  <tbody>\n",
       "    <tr>\n",
       "      <th>0</th>\n",
       "      <td>Training/Beers/Dark/123121.JPG</td>\n",
       "      <td>Beers_Dark</td>\n",
       "      <td>2</td>\n",
       "      <td>123121.0</td>\n",
       "      <td>Beers_Dark_123121</td>\n",
       "      <td>0</td>\n",
       "      <td>reference</td>\n",
       "      <td>0</td>\n",
       "    </tr>\n",
       "    <tr>\n",
       "      <th>1</th>\n",
       "      <td>Training/Beers/Dark/14923.JPG</td>\n",
       "      <td>Beers_Dark</td>\n",
       "      <td>2</td>\n",
       "      <td>14923.0</td>\n",
       "      <td>Beers_Dark_14923</td>\n",
       "      <td>0</td>\n",
       "      <td>reference</td>\n",
       "      <td>1</td>\n",
       "    </tr>\n",
       "    <tr>\n",
       "      <th>2</th>\n",
       "      <td>Training/Beers/Dark/14925.JPG</td>\n",
       "      <td>Beers_Dark</td>\n",
       "      <td>2</td>\n",
       "      <td>14925.0</td>\n",
       "      <td>Beers_Dark_14925</td>\n",
       "      <td>0</td>\n",
       "      <td>reference</td>\n",
       "      <td>2</td>\n",
       "    </tr>\n",
       "    <tr>\n",
       "      <th>3</th>\n",
       "      <td>Training/Beers/Dark/201454.JPG</td>\n",
       "      <td>Beers_Dark</td>\n",
       "      <td>2</td>\n",
       "      <td>201454.0</td>\n",
       "      <td>Beers_Dark_201454</td>\n",
       "      <td>0</td>\n",
       "      <td>reference</td>\n",
       "      <td>3</td>\n",
       "    </tr>\n",
       "    <tr>\n",
       "      <th>4</th>\n",
       "      <td>Training/Beers/Dark/201750.JPG</td>\n",
       "      <td>Beers_Dark</td>\n",
       "      <td>2</td>\n",
       "      <td>201750.0</td>\n",
       "      <td>Beers_Dark_201750</td>\n",
       "      <td>0</td>\n",
       "      <td>reference</td>\n",
       "      <td>4</td>\n",
       "    </tr>\n",
       "  </tbody>\n",
       "</table>\n",
       "</div>"
      ],
      "text/plain": [
       "                       image_path       class  class_id  sub_class_label  \\\n",
       "0  Training/Beers/Dark/123121.JPG  Beers_Dark         2         123121.0   \n",
       "1   Training/Beers/Dark/14923.JPG  Beers_Dark         2          14923.0   \n",
       "2   Training/Beers/Dark/14925.JPG  Beers_Dark         2          14925.0   \n",
       "3  Training/Beers/Dark/201454.JPG  Beers_Dark         2         201454.0   \n",
       "4  Training/Beers/Dark/201750.JPG  Beers_Dark         2         201750.0   \n",
       "\n",
       "               label  num_Query_imgs       type  label_id  \n",
       "0  Beers_Dark_123121               0  reference         0  \n",
       "1   Beers_Dark_14923               0  reference         1  \n",
       "2   Beers_Dark_14925               0  reference         2  \n",
       "3  Beers_Dark_201454               0  reference         3  \n",
       "4  Beers_Dark_201750               0  reference         4  "
      ]
     },
     "execution_count": 33,
     "metadata": {},
     "output_type": "execute_result"
    }
   ],
   "source": [
    "proto_df.head()"
   ]
  },
  {
   "cell_type": "code",
   "execution_count": 34,
   "metadata": {
    "scrolled": true
   },
   "outputs": [],
   "source": [
    "query_df = img_df[img_df.type == 'query'].reset_index(drop=True)\n",
    "query_df['label_id'] = le.transform(query_df.label.values)"
   ]
  },
  {
   "cell_type": "code",
   "execution_count": 35,
   "metadata": {},
   "outputs": [
    {
     "name": "stdout",
     "output_type": "stream",
     "text": [
      "Test samples: 948.\n"
     ]
    },
    {
     "name": "stderr",
     "output_type": "stream",
     "text": [
      "100%|██████████| 31/31 [00:15<00:00,  3.32it/s]\n",
      "2020-04-13 17:51:05,117 dlcliche.utils make_prototypes [INFO]: Making new prototypes.\n"
     ]
    }
   ],
   "source": [
    "print(f'Test samples: {len(query_df)}.')\n",
    "\n",
    "# Making dataloaders\n",
    "def get_dl(df, folder, SZ=SZ, batch_size=256, augment='test', normalize='imagenet'):\n",
    "    if data_type == 'normal':\n",
    "        ds = GrocerImages_plus(folder, df, re_size=SZ, to_size=SZ,\n",
    "                             augment=augment, normalize=normalize, part=part, n_part=n_part)\n",
    "    else:\n",
    "        raise ValueError('invalid data type')\n",
    "    dl = DataLoader(ds, batch_size=batch_size, shuffle=False, num_workers=8)\n",
    "    return dl\n",
    "\n",
    "# 1. NORMAL RESULT\n",
    "# Make prototypes\n",
    "trn_dl = get_dl(proto_df, data_train)\n",
    "# model = feature_model\n",
    "model = get_model_fn(device=device, weight_file=weight_file)\n",
    "proto_net = ExtModelProtoNetClf(model, trn_dl.dataset.classes, device)\n",
    "proto_net.make_prototypes(trn_dl)"
   ]
  },
  {
   "cell_type": "code",
   "execution_count": 36,
   "metadata": {
    "scrolled": true
   },
   "outputs": [
    {
     "name": "stderr",
     "output_type": "stream",
     "text": [
      "100%|██████████| 4/4 [00:03<00:00,  1.12s/it]\n",
      "100%|██████████| 948/948 [00:54<00:00, 17.88it/s]\n"
     ]
    }
   ],
   "source": [
    "# Calculate distances\n",
    "test_dl = get_dl(query_df, data_test, batch_size=256)\n",
    "test_embs, gts = proto_net.get_embeddings(test_dl)\n",
    "test_dists = proto_net.predict_embeddings(test_embs, softmax=False) #Distance are already negated so dist shub b high now"
   ]
  },
  {
   "cell_type": "code",
   "execution_count": 37,
   "metadata": {},
   "outputs": [],
   "source": [
    "def stable_softmax(x):\n",
    "    z = x - x.max(axis=1)[:, None]\n",
    "    numerator = np.exp(z, )\n",
    "    denominator = np.sum(numerator, axis=1)[:, None]\n",
    "    softmax = numerator/denominator\n",
    "    return softmax"
   ]
  },
  {
   "cell_type": "code",
   "execution_count": 38,
   "metadata": {},
   "outputs": [],
   "source": [
    "from scipy.special import softmax\n",
    "test_probs = softmax(test_dists, axis=1)\n",
    "prototypes = np.array([x.mean() for x in proto_net.prototypes])"
   ]
  },
  {
   "cell_type": "code",
   "execution_count": 39,
   "metadata": {},
   "outputs": [
    {
     "data": {
      "text/plain": [
       "0.15147679324894514"
      ]
     },
     "execution_count": 39,
     "metadata": {},
     "output_type": "execute_result"
    }
   ],
   "source": [
    "(np.argsort(test_dists, axis=1)[:, :5] == np.argsort(test_probs, axis=1)[:, :5]).mean()"
   ]
  },
  {
   "cell_type": "code",
   "execution_count": 40,
   "metadata": {
    "scrolled": true
   },
   "outputs": [],
   "source": [
    "top5labels = np.argsort(-test_dists, axis=1)[:, :5] #- is to sort in descending order\n",
    "\n",
    "top5preds = [test_dists[i][top5labels[i]] for i in range(test_dists.shape[0])]\n",
    "top5probs = [test_probs[i][top5labels[i]] for i in range(test_dists.shape[0])]\n",
    "\n",
    "top5probs = np.array(top5probs)\n",
    "top5preds = np.array(top5preds)"
   ]
  },
  {
   "cell_type": "code",
   "execution_count": 41,
   "metadata": {},
   "outputs": [
    {
     "data": {
      "text/html": [
       "<div>\n",
       "<style scoped>\n",
       "    .dataframe tbody tr th:only-of-type {\n",
       "        vertical-align: middle;\n",
       "    }\n",
       "\n",
       "    .dataframe tbody tr th {\n",
       "        vertical-align: top;\n",
       "    }\n",
       "\n",
       "    .dataframe thead th {\n",
       "        text-align: right;\n",
       "    }\n",
       "</style>\n",
       "<table border=\"1\" class=\"dataframe\">\n",
       "  <thead>\n",
       "    <tr style=\"text-align: right;\">\n",
       "      <th></th>\n",
       "      <th>fpath</th>\n",
       "      <th>category</th>\n",
       "      <th>type</th>\n",
       "      <th>label_id</th>\n",
       "      <th>split</th>\n",
       "      <th>actual</th>\n",
       "      <th>top_prob1</th>\n",
       "      <th>top_prob2</th>\n",
       "      <th>top_prob3</th>\n",
       "      <th>top_prob4</th>\n",
       "      <th>top_prob5</th>\n",
       "      <th>top_cat1</th>\n",
       "      <th>top_cat2</th>\n",
       "      <th>top_cat3</th>\n",
       "      <th>top_cat4</th>\n",
       "      <th>top_cat5</th>\n",
       "      <th>pred_cat</th>\n",
       "      <th>exp</th>\n",
       "    </tr>\n",
       "  </thead>\n",
       "  <tbody>\n",
       "    <tr>\n",
       "      <th>0</th>\n",
       "      <td>Training/query_images/380.jpg</td>\n",
       "      <td>Food_Biscuits_10</td>\n",
       "      <td>query</td>\n",
       "      <td>911</td>\n",
       "      <td>valid</td>\n",
       "      <td>Food_Biscuits_10</td>\n",
       "      <td>1.0</td>\n",
       "      <td>7.295048e-37</td>\n",
       "      <td>1.615398e-39</td>\n",
       "      <td>1.053035e-39</td>\n",
       "      <td>3.656607e-45</td>\n",
       "      <td>Food_Biscuits_10</td>\n",
       "      <td>Food_Biscuits_4</td>\n",
       "      <td>Food_Biscuits_28</td>\n",
       "      <td>Food_Biscuits_37</td>\n",
       "      <td>Food_Biscuits_6</td>\n",
       "      <td>Food_Biscuits_10</td>\n",
       "      <td>Grocer_res34_s1_q2_k80_nonq7.6k_epoch100</td>\n",
       "    </tr>\n",
       "    <tr>\n",
       "      <th>1</th>\n",
       "      <td>Training/query_images/381.jpg</td>\n",
       "      <td>Food_Biscuits_10</td>\n",
       "      <td>query</td>\n",
       "      <td>911</td>\n",
       "      <td>valid</td>\n",
       "      <td>Food_Biscuits_10</td>\n",
       "      <td>1.0</td>\n",
       "      <td>8.128343e-30</td>\n",
       "      <td>9.376765e-33</td>\n",
       "      <td>1.641798e-33</td>\n",
       "      <td>5.538426e-40</td>\n",
       "      <td>Food_Biscuits_10</td>\n",
       "      <td>Food_Biscuits_6</td>\n",
       "      <td>Food_Biscuits_37</td>\n",
       "      <td>Food_Biscuits_4</td>\n",
       "      <td>Food_Biscuits_7</td>\n",
       "      <td>Food_Biscuits_10</td>\n",
       "      <td>Grocer_res34_s1_q2_k80_nonq7.6k_epoch100</td>\n",
       "    </tr>\n",
       "    <tr>\n",
       "      <th>2</th>\n",
       "      <td>Training/query_images/514.jpg</td>\n",
       "      <td>Food_Biscuits_10</td>\n",
       "      <td>query</td>\n",
       "      <td>911</td>\n",
       "      <td>valid</td>\n",
       "      <td>Food_Biscuits_10</td>\n",
       "      <td>1.0</td>\n",
       "      <td>3.252117e-38</td>\n",
       "      <td>3.327894e-54</td>\n",
       "      <td>2.819294e-55</td>\n",
       "      <td>1.092772e-57</td>\n",
       "      <td>Food_Biscuits_10</td>\n",
       "      <td>Food_Biscuits_4</td>\n",
       "      <td>Food_Biscuits_6</td>\n",
       "      <td>Food_Biscuits_7</td>\n",
       "      <td>Food_Biscuits_12</td>\n",
       "      <td>Food_Biscuits_10</td>\n",
       "      <td>Grocer_res34_s1_q2_k80_nonq7.6k_epoch100</td>\n",
       "    </tr>\n",
       "    <tr>\n",
       "      <th>3</th>\n",
       "      <td>Training/query_images/516.jpg</td>\n",
       "      <td>Food_Biscuits_10</td>\n",
       "      <td>query</td>\n",
       "      <td>911</td>\n",
       "      <td>valid</td>\n",
       "      <td>Food_Biscuits_10</td>\n",
       "      <td>1.0</td>\n",
       "      <td>1.799026e-19</td>\n",
       "      <td>2.009034e-42</td>\n",
       "      <td>7.996992e-48</td>\n",
       "      <td>2.165836e-48</td>\n",
       "      <td>Food_Biscuits_10</td>\n",
       "      <td>Food_Biscuits_4</td>\n",
       "      <td>Food_Biscuits_28</td>\n",
       "      <td>Food_Biscuits_7</td>\n",
       "      <td>Food_Biscuits_6</td>\n",
       "      <td>Food_Biscuits_10</td>\n",
       "      <td>Grocer_res34_s1_q2_k80_nonq7.6k_epoch100</td>\n",
       "    </tr>\n",
       "    <tr>\n",
       "      <th>4</th>\n",
       "      <td>Training/query_images/541.jpg</td>\n",
       "      <td>Food_Biscuits_10</td>\n",
       "      <td>query</td>\n",
       "      <td>911</td>\n",
       "      <td>valid</td>\n",
       "      <td>Food_Biscuits_10</td>\n",
       "      <td>1.0</td>\n",
       "      <td>4.241608e-23</td>\n",
       "      <td>2.137096e-33</td>\n",
       "      <td>1.121437e-39</td>\n",
       "      <td>3.595119e-43</td>\n",
       "      <td>Food_Biscuits_10</td>\n",
       "      <td>Food_Biscuits_4</td>\n",
       "      <td>Food_Biscuits_28</td>\n",
       "      <td>Food_Biscuits_7</td>\n",
       "      <td>Food_Biscuits_6</td>\n",
       "      <td>Food_Biscuits_10</td>\n",
       "      <td>Grocer_res34_s1_q2_k80_nonq7.6k_epoch100</td>\n",
       "    </tr>\n",
       "  </tbody>\n",
       "</table>\n",
       "</div>"
      ],
      "text/plain": [
       "                           fpath          category   type  label_id  split  \\\n",
       "0  Training/query_images/380.jpg  Food_Biscuits_10  query       911  valid   \n",
       "1  Training/query_images/381.jpg  Food_Biscuits_10  query       911  valid   \n",
       "2  Training/query_images/514.jpg  Food_Biscuits_10  query       911  valid   \n",
       "3  Training/query_images/516.jpg  Food_Biscuits_10  query       911  valid   \n",
       "4  Training/query_images/541.jpg  Food_Biscuits_10  query       911  valid   \n",
       "\n",
       "             actual  top_prob1     top_prob2     top_prob3     top_prob4  \\\n",
       "0  Food_Biscuits_10        1.0  7.295048e-37  1.615398e-39  1.053035e-39   \n",
       "1  Food_Biscuits_10        1.0  8.128343e-30  9.376765e-33  1.641798e-33   \n",
       "2  Food_Biscuits_10        1.0  3.252117e-38  3.327894e-54  2.819294e-55   \n",
       "3  Food_Biscuits_10        1.0  1.799026e-19  2.009034e-42  7.996992e-48   \n",
       "4  Food_Biscuits_10        1.0  4.241608e-23  2.137096e-33  1.121437e-39   \n",
       "\n",
       "      top_prob5          top_cat1         top_cat2          top_cat3  \\\n",
       "0  3.656607e-45  Food_Biscuits_10  Food_Biscuits_4  Food_Biscuits_28   \n",
       "1  5.538426e-40  Food_Biscuits_10  Food_Biscuits_6  Food_Biscuits_37   \n",
       "2  1.092772e-57  Food_Biscuits_10  Food_Biscuits_4   Food_Biscuits_6   \n",
       "3  2.165836e-48  Food_Biscuits_10  Food_Biscuits_4  Food_Biscuits_28   \n",
       "4  3.595119e-43  Food_Biscuits_10  Food_Biscuits_4  Food_Biscuits_28   \n",
       "\n",
       "           top_cat4          top_cat5          pred_cat  \\\n",
       "0  Food_Biscuits_37   Food_Biscuits_6  Food_Biscuits_10   \n",
       "1   Food_Biscuits_4   Food_Biscuits_7  Food_Biscuits_10   \n",
       "2   Food_Biscuits_7  Food_Biscuits_12  Food_Biscuits_10   \n",
       "3   Food_Biscuits_7   Food_Biscuits_6  Food_Biscuits_10   \n",
       "4   Food_Biscuits_7   Food_Biscuits_6  Food_Biscuits_10   \n",
       "\n",
       "                                        exp  \n",
       "0  Grocer_res34_s1_q2_k80_nonq7.6k_epoch100  \n",
       "1  Grocer_res34_s1_q2_k80_nonq7.6k_epoch100  \n",
       "2  Grocer_res34_s1_q2_k80_nonq7.6k_epoch100  \n",
       "3  Grocer_res34_s1_q2_k80_nonq7.6k_epoch100  \n",
       "4  Grocer_res34_s1_q2_k80_nonq7.6k_epoch100  "
      ]
     },
     "execution_count": 41,
     "metadata": {},
     "output_type": "execute_result"
    }
   ],
   "source": [
    "query_df.columns = ['fpath', 'category', 'type', 'label_id', 'split']\n",
    "\n",
    "query_df['actual'] = query_df['category']\n",
    "\n",
    "for i in range(5):\n",
    "    query_df[f'top_prob'+str(i+1)] = top5probs[:, i]\n",
    "\n",
    "for i in range(5):\n",
    "    query_df[f'top_cat'+str(i+1)] = le.inverse_transform(top5labels[:, i])\n",
    "\n",
    "query_df['pred_cat'] = query_df['top_cat1']\n",
    "\n",
    "query_df['exp'] = exp\n",
    "\n",
    "query_df.head()"
   ]
  },
  {
   "cell_type": "code",
   "execution_count": 42,
   "metadata": {},
   "outputs": [
    {
     "name": "stdout",
     "output_type": "stream",
     "text": [
      "0.7626582278481012 0.9050632911392406\n",
      "0.7626582278481012 0.9050632911392406\n"
     ]
    }
   ],
   "source": [
    "query_df['fpath'] = query_df.fpath.map(lambda x : '/Users/r0b03m2/Desktop/Work/Retail_Data/Grocery_products/' + x)\n",
    "\n",
    "query_df['Flag'] = query_df.apply(lambda x: x['actual'] == x['pred_cat'], axis=1)\n",
    "\n",
    "query_df['Flag_top5'] = query_df.apply(lambda x: x['actual'] in x[['top_cat1', 'top_cat2', 'top_cat3', 'top_cat4', 'top_cat5']].values, axis=1)\n",
    "\n",
    "print(query_df.Flag.mean(), query_df.Flag_top5.mean())\n",
    "\n",
    "print(query_df[query_df.split == 'valid'].Flag.mean(), query_df[query_df.split == 'valid'].Flag_top5.mean())"
   ]
  },
  {
   "cell_type": "code",
   "execution_count": 44,
   "metadata": {},
   "outputs": [
    {
     "name": "stdout",
     "output_type": "stream",
     "text": [
      "nan nan\n"
     ]
    }
   ],
   "source": [
    "print(query_df[query_df.split == 'train'].Flag.mean(), query_df[query_df.split == 'train'].Flag_top5.mean())"
   ]
  },
  {
   "cell_type": "code",
   "execution_count": 47,
   "metadata": {},
   "outputs": [],
   "source": [
    "temp = query_df.groupby(['exp', 'category'])['Flag'].mean().reset_index()\n",
    "temp.columns = ['exp', 'category', 'accuracy']\n",
    "query_df = query_df.merge(temp, how='left', on=['exp', 'category'])\n",
    "\n",
    "temp = query_df.groupby(['exp', 'category'])['Flag_top5'].mean().reset_index()\n",
    "temp.columns = ['exp', 'category', 'accuracy_Top5']\n",
    "query_df = query_df.merge(temp, how='left', on=['exp', 'category'])"
   ]
  },
  {
   "cell_type": "code",
   "execution_count": 48,
   "metadata": {},
   "outputs": [
    {
     "data": {
      "text/html": [
       "<div>\n",
       "<style scoped>\n",
       "    .dataframe tbody tr th:only-of-type {\n",
       "        vertical-align: middle;\n",
       "    }\n",
       "\n",
       "    .dataframe tbody tr th {\n",
       "        vertical-align: top;\n",
       "    }\n",
       "\n",
       "    .dataframe thead th {\n",
       "        text-align: right;\n",
       "    }\n",
       "</style>\n",
       "<table border=\"1\" class=\"dataframe\">\n",
       "  <thead>\n",
       "    <tr style=\"text-align: right;\">\n",
       "      <th></th>\n",
       "      <th>fpath</th>\n",
       "      <th>category</th>\n",
       "      <th>type</th>\n",
       "      <th>label_id</th>\n",
       "      <th>split</th>\n",
       "      <th>actual</th>\n",
       "      <th>top_prob1</th>\n",
       "      <th>top_prob2</th>\n",
       "      <th>top_prob3</th>\n",
       "      <th>top_prob4</th>\n",
       "      <th>...</th>\n",
       "      <th>top_cat2</th>\n",
       "      <th>top_cat3</th>\n",
       "      <th>top_cat4</th>\n",
       "      <th>top_cat5</th>\n",
       "      <th>pred_cat</th>\n",
       "      <th>exp</th>\n",
       "      <th>Flag</th>\n",
       "      <th>Flag_top5</th>\n",
       "      <th>accuracy</th>\n",
       "      <th>accuracy_Top5</th>\n",
       "    </tr>\n",
       "  </thead>\n",
       "  <tbody>\n",
       "    <tr>\n",
       "      <th>0</th>\n",
       "      <td>/Users/r0b03m2/Desktop/Work/Retail_Data/Grocer...</td>\n",
       "      <td>Food_Biscuits_10</td>\n",
       "      <td>query</td>\n",
       "      <td>911</td>\n",
       "      <td>valid</td>\n",
       "      <td>Food_Biscuits_10</td>\n",
       "      <td>1.0</td>\n",
       "      <td>7.295048e-37</td>\n",
       "      <td>1.615398e-39</td>\n",
       "      <td>1.053035e-39</td>\n",
       "      <td>...</td>\n",
       "      <td>Food_Biscuits_4</td>\n",
       "      <td>Food_Biscuits_28</td>\n",
       "      <td>Food_Biscuits_37</td>\n",
       "      <td>Food_Biscuits_6</td>\n",
       "      <td>Food_Biscuits_10</td>\n",
       "      <td>Grocer_res34_s1_q2_k80_nonq7.6k_epoch100</td>\n",
       "      <td>True</td>\n",
       "      <td>True</td>\n",
       "      <td>1.0</td>\n",
       "      <td>1.0</td>\n",
       "    </tr>\n",
       "    <tr>\n",
       "      <th>1</th>\n",
       "      <td>/Users/r0b03m2/Desktop/Work/Retail_Data/Grocer...</td>\n",
       "      <td>Food_Biscuits_10</td>\n",
       "      <td>query</td>\n",
       "      <td>911</td>\n",
       "      <td>valid</td>\n",
       "      <td>Food_Biscuits_10</td>\n",
       "      <td>1.0</td>\n",
       "      <td>8.128343e-30</td>\n",
       "      <td>9.376765e-33</td>\n",
       "      <td>1.641798e-33</td>\n",
       "      <td>...</td>\n",
       "      <td>Food_Biscuits_6</td>\n",
       "      <td>Food_Biscuits_37</td>\n",
       "      <td>Food_Biscuits_4</td>\n",
       "      <td>Food_Biscuits_7</td>\n",
       "      <td>Food_Biscuits_10</td>\n",
       "      <td>Grocer_res34_s1_q2_k80_nonq7.6k_epoch100</td>\n",
       "      <td>True</td>\n",
       "      <td>True</td>\n",
       "      <td>1.0</td>\n",
       "      <td>1.0</td>\n",
       "    </tr>\n",
       "    <tr>\n",
       "      <th>2</th>\n",
       "      <td>/Users/r0b03m2/Desktop/Work/Retail_Data/Grocer...</td>\n",
       "      <td>Food_Biscuits_10</td>\n",
       "      <td>query</td>\n",
       "      <td>911</td>\n",
       "      <td>valid</td>\n",
       "      <td>Food_Biscuits_10</td>\n",
       "      <td>1.0</td>\n",
       "      <td>3.252117e-38</td>\n",
       "      <td>3.327894e-54</td>\n",
       "      <td>2.819294e-55</td>\n",
       "      <td>...</td>\n",
       "      <td>Food_Biscuits_4</td>\n",
       "      <td>Food_Biscuits_6</td>\n",
       "      <td>Food_Biscuits_7</td>\n",
       "      <td>Food_Biscuits_12</td>\n",
       "      <td>Food_Biscuits_10</td>\n",
       "      <td>Grocer_res34_s1_q2_k80_nonq7.6k_epoch100</td>\n",
       "      <td>True</td>\n",
       "      <td>True</td>\n",
       "      <td>1.0</td>\n",
       "      <td>1.0</td>\n",
       "    </tr>\n",
       "    <tr>\n",
       "      <th>3</th>\n",
       "      <td>/Users/r0b03m2/Desktop/Work/Retail_Data/Grocer...</td>\n",
       "      <td>Food_Biscuits_10</td>\n",
       "      <td>query</td>\n",
       "      <td>911</td>\n",
       "      <td>valid</td>\n",
       "      <td>Food_Biscuits_10</td>\n",
       "      <td>1.0</td>\n",
       "      <td>1.799026e-19</td>\n",
       "      <td>2.009034e-42</td>\n",
       "      <td>7.996992e-48</td>\n",
       "      <td>...</td>\n",
       "      <td>Food_Biscuits_4</td>\n",
       "      <td>Food_Biscuits_28</td>\n",
       "      <td>Food_Biscuits_7</td>\n",
       "      <td>Food_Biscuits_6</td>\n",
       "      <td>Food_Biscuits_10</td>\n",
       "      <td>Grocer_res34_s1_q2_k80_nonq7.6k_epoch100</td>\n",
       "      <td>True</td>\n",
       "      <td>True</td>\n",
       "      <td>1.0</td>\n",
       "      <td>1.0</td>\n",
       "    </tr>\n",
       "    <tr>\n",
       "      <th>4</th>\n",
       "      <td>/Users/r0b03m2/Desktop/Work/Retail_Data/Grocer...</td>\n",
       "      <td>Food_Biscuits_10</td>\n",
       "      <td>query</td>\n",
       "      <td>911</td>\n",
       "      <td>valid</td>\n",
       "      <td>Food_Biscuits_10</td>\n",
       "      <td>1.0</td>\n",
       "      <td>4.241608e-23</td>\n",
       "      <td>2.137096e-33</td>\n",
       "      <td>1.121437e-39</td>\n",
       "      <td>...</td>\n",
       "      <td>Food_Biscuits_4</td>\n",
       "      <td>Food_Biscuits_28</td>\n",
       "      <td>Food_Biscuits_7</td>\n",
       "      <td>Food_Biscuits_6</td>\n",
       "      <td>Food_Biscuits_10</td>\n",
       "      <td>Grocer_res34_s1_q2_k80_nonq7.6k_epoch100</td>\n",
       "      <td>True</td>\n",
       "      <td>True</td>\n",
       "      <td>1.0</td>\n",
       "      <td>1.0</td>\n",
       "    </tr>\n",
       "  </tbody>\n",
       "</table>\n",
       "<p>5 rows × 22 columns</p>\n",
       "</div>"
      ],
      "text/plain": [
       "                                               fpath          category   type  \\\n",
       "0  /Users/r0b03m2/Desktop/Work/Retail_Data/Grocer...  Food_Biscuits_10  query   \n",
       "1  /Users/r0b03m2/Desktop/Work/Retail_Data/Grocer...  Food_Biscuits_10  query   \n",
       "2  /Users/r0b03m2/Desktop/Work/Retail_Data/Grocer...  Food_Biscuits_10  query   \n",
       "3  /Users/r0b03m2/Desktop/Work/Retail_Data/Grocer...  Food_Biscuits_10  query   \n",
       "4  /Users/r0b03m2/Desktop/Work/Retail_Data/Grocer...  Food_Biscuits_10  query   \n",
       "\n",
       "   label_id  split            actual  top_prob1     top_prob2     top_prob3  \\\n",
       "0       911  valid  Food_Biscuits_10        1.0  7.295048e-37  1.615398e-39   \n",
       "1       911  valid  Food_Biscuits_10        1.0  8.128343e-30  9.376765e-33   \n",
       "2       911  valid  Food_Biscuits_10        1.0  3.252117e-38  3.327894e-54   \n",
       "3       911  valid  Food_Biscuits_10        1.0  1.799026e-19  2.009034e-42   \n",
       "4       911  valid  Food_Biscuits_10        1.0  4.241608e-23  2.137096e-33   \n",
       "\n",
       "      top_prob4      ...               top_cat2          top_cat3  \\\n",
       "0  1.053035e-39      ...        Food_Biscuits_4  Food_Biscuits_28   \n",
       "1  1.641798e-33      ...        Food_Biscuits_6  Food_Biscuits_37   \n",
       "2  2.819294e-55      ...        Food_Biscuits_4   Food_Biscuits_6   \n",
       "3  7.996992e-48      ...        Food_Biscuits_4  Food_Biscuits_28   \n",
       "4  1.121437e-39      ...        Food_Biscuits_4  Food_Biscuits_28   \n",
       "\n",
       "           top_cat4          top_cat5          pred_cat  \\\n",
       "0  Food_Biscuits_37   Food_Biscuits_6  Food_Biscuits_10   \n",
       "1   Food_Biscuits_4   Food_Biscuits_7  Food_Biscuits_10   \n",
       "2   Food_Biscuits_7  Food_Biscuits_12  Food_Biscuits_10   \n",
       "3   Food_Biscuits_7   Food_Biscuits_6  Food_Biscuits_10   \n",
       "4   Food_Biscuits_7   Food_Biscuits_6  Food_Biscuits_10   \n",
       "\n",
       "                                        exp  Flag Flag_top5  accuracy  \\\n",
       "0  Grocer_res34_s1_q2_k80_nonq7.6k_epoch100  True      True       1.0   \n",
       "1  Grocer_res34_s1_q2_k80_nonq7.6k_epoch100  True      True       1.0   \n",
       "2  Grocer_res34_s1_q2_k80_nonq7.6k_epoch100  True      True       1.0   \n",
       "3  Grocer_res34_s1_q2_k80_nonq7.6k_epoch100  True      True       1.0   \n",
       "4  Grocer_res34_s1_q2_k80_nonq7.6k_epoch100  True      True       1.0   \n",
       "\n",
       "   accuracy_Top5  \n",
       "0            1.0  \n",
       "1            1.0  \n",
       "2            1.0  \n",
       "3            1.0  \n",
       "4            1.0  \n",
       "\n",
       "[5 rows x 22 columns]"
      ]
     },
     "execution_count": 48,
     "metadata": {},
     "output_type": "execute_result"
    }
   ],
   "source": [
    "query_df.head()"
   ]
  },
  {
   "cell_type": "code",
   "execution_count": 49,
   "metadata": {},
   "outputs": [],
   "source": [
    "result_df = pd.read_csv('results/protonet_results.csv')"
   ]
  },
  {
   "cell_type": "code",
   "execution_count": 50,
   "metadata": {},
   "outputs": [
    {
     "data": {
      "text/html": [
       "<div>\n",
       "<style scoped>\n",
       "    .dataframe tbody tr th:only-of-type {\n",
       "        vertical-align: middle;\n",
       "    }\n",
       "\n",
       "    .dataframe tbody tr th {\n",
       "        vertical-align: top;\n",
       "    }\n",
       "\n",
       "    .dataframe thead th {\n",
       "        text-align: right;\n",
       "    }\n",
       "</style>\n",
       "<table border=\"1\" class=\"dataframe\">\n",
       "  <thead>\n",
       "    <tr style=\"text-align: right;\">\n",
       "      <th></th>\n",
       "      <th>fpath</th>\n",
       "      <th>category</th>\n",
       "      <th>type</th>\n",
       "      <th>label_id</th>\n",
       "      <th>split</th>\n",
       "      <th>actual</th>\n",
       "      <th>top_prob1</th>\n",
       "      <th>top_prob2</th>\n",
       "      <th>top_prob3</th>\n",
       "      <th>top_prob4</th>\n",
       "      <th>...</th>\n",
       "      <th>top_cat2</th>\n",
       "      <th>top_cat3</th>\n",
       "      <th>top_cat4</th>\n",
       "      <th>top_cat5</th>\n",
       "      <th>pred_cat</th>\n",
       "      <th>exp</th>\n",
       "      <th>Flag</th>\n",
       "      <th>Flag_top5</th>\n",
       "      <th>accuracy</th>\n",
       "      <th>accuracy_Top5</th>\n",
       "    </tr>\n",
       "  </thead>\n",
       "  <tbody>\n",
       "    <tr>\n",
       "      <th>14297</th>\n",
       "      <td>/Users/r0b03m2/Desktop/Work/Retail_Data/Grocer...</td>\n",
       "      <td>Food_Tea_83</td>\n",
       "      <td>query</td>\n",
       "      <td>3961.0</td>\n",
       "      <td>train</td>\n",
       "      <td>Food_Tea_83</td>\n",
       "      <td>0.939122</td>\n",
       "      <td>6.087781e-02</td>\n",
       "      <td>2.020180e-17</td>\n",
       "      <td>8.099863e-20</td>\n",
       "      <td>...</td>\n",
       "      <td>Food_Tea_37</td>\n",
       "      <td>Food_Tea_15</td>\n",
       "      <td>Food_Tea_23</td>\n",
       "      <td>Food_Tea_14</td>\n",
       "      <td>Food_Tea_83</td>\n",
       "      <td>Grocer_res34_s1_q2_k80_onlyref2.5k_epoch100</td>\n",
       "      <td>True</td>\n",
       "      <td>True</td>\n",
       "      <td>0.333333</td>\n",
       "      <td>1.0</td>\n",
       "    </tr>\n",
       "    <tr>\n",
       "      <th>14298</th>\n",
       "      <td>/Users/r0b03m2/Desktop/Work/Retail_Data/Grocer...</td>\n",
       "      <td>Food_Tea_83</td>\n",
       "      <td>query</td>\n",
       "      <td>3961.0</td>\n",
       "      <td>train</td>\n",
       "      <td>Food_Tea_83</td>\n",
       "      <td>0.999345</td>\n",
       "      <td>6.554053e-04</td>\n",
       "      <td>2.578479e-23</td>\n",
       "      <td>5.059062e-25</td>\n",
       "      <td>...</td>\n",
       "      <td>Food_Tea_37</td>\n",
       "      <td>Food_Tea_23</td>\n",
       "      <td>Food_Tea_15</td>\n",
       "      <td>Food_Tea_14</td>\n",
       "      <td>Food_Tea_83</td>\n",
       "      <td>Grocer_res34_s1_q2_k80_onlyref2.5k_epoch100</td>\n",
       "      <td>True</td>\n",
       "      <td>True</td>\n",
       "      <td>0.333333</td>\n",
       "      <td>1.0</td>\n",
       "    </tr>\n",
       "    <tr>\n",
       "      <th>14299</th>\n",
       "      <td>/Users/r0b03m2/Desktop/Work/Retail_Data/Grocer...</td>\n",
       "      <td>Food_Tea_83</td>\n",
       "      <td>query</td>\n",
       "      <td>3961.0</td>\n",
       "      <td>train</td>\n",
       "      <td>Food_Tea_83</td>\n",
       "      <td>1.000000</td>\n",
       "      <td>8.830499e-08</td>\n",
       "      <td>4.948448e-28</td>\n",
       "      <td>5.675756e-34</td>\n",
       "      <td>...</td>\n",
       "      <td>Food_Tea_83</td>\n",
       "      <td>Food_Tea_15</td>\n",
       "      <td>Food_Tea_23</td>\n",
       "      <td>HouseProducts_Bathroom_218242</td>\n",
       "      <td>Food_Tea_37</td>\n",
       "      <td>Grocer_res34_s1_q2_k80_onlyref2.5k_epoch100</td>\n",
       "      <td>False</td>\n",
       "      <td>True</td>\n",
       "      <td>0.333333</td>\n",
       "      <td>1.0</td>\n",
       "    </tr>\n",
       "    <tr>\n",
       "      <th>14300</th>\n",
       "      <td>/Users/r0b03m2/Desktop/Work/Retail_Data/Grocer...</td>\n",
       "      <td>Food_Tea_83</td>\n",
       "      <td>query</td>\n",
       "      <td>3961.0</td>\n",
       "      <td>train</td>\n",
       "      <td>Food_Tea_83</td>\n",
       "      <td>1.000000</td>\n",
       "      <td>2.509187e-07</td>\n",
       "      <td>2.792062e-16</td>\n",
       "      <td>1.285143e-17</td>\n",
       "      <td>...</td>\n",
       "      <td>Food_Tea_23</td>\n",
       "      <td>Food_Tea_15</td>\n",
       "      <td>Food_Tea_83</td>\n",
       "      <td>Food_Tea_14</td>\n",
       "      <td>Food_Tea_37</td>\n",
       "      <td>Grocer_res34_s1_q2_k80_onlyref2.5k_epoch100</td>\n",
       "      <td>False</td>\n",
       "      <td>True</td>\n",
       "      <td>0.333333</td>\n",
       "      <td>1.0</td>\n",
       "    </tr>\n",
       "    <tr>\n",
       "      <th>14301</th>\n",
       "      <td>/Users/r0b03m2/Desktop/Work/Retail_Data/Grocer...</td>\n",
       "      <td>Food_Tea_83</td>\n",
       "      <td>query</td>\n",
       "      <td>3961.0</td>\n",
       "      <td>train</td>\n",
       "      <td>Food_Tea_83</td>\n",
       "      <td>1.000000</td>\n",
       "      <td>4.375374e-08</td>\n",
       "      <td>1.306456e-33</td>\n",
       "      <td>3.479617e-35</td>\n",
       "      <td>...</td>\n",
       "      <td>Food_Tea_83</td>\n",
       "      <td>Food_Tea_15</td>\n",
       "      <td>Food_Tea_14</td>\n",
       "      <td>Food_Tea_23</td>\n",
       "      <td>Food_Tea_37</td>\n",
       "      <td>Grocer_res34_s1_q2_k80_onlyref2.5k_epoch100</td>\n",
       "      <td>False</td>\n",
       "      <td>True</td>\n",
       "      <td>0.333333</td>\n",
       "      <td>1.0</td>\n",
       "    </tr>\n",
       "  </tbody>\n",
       "</table>\n",
       "<p>5 rows × 22 columns</p>\n",
       "</div>"
      ],
      "text/plain": [
       "                                                   fpath     category   type  \\\n",
       "14297  /Users/r0b03m2/Desktop/Work/Retail_Data/Grocer...  Food_Tea_83  query   \n",
       "14298  /Users/r0b03m2/Desktop/Work/Retail_Data/Grocer...  Food_Tea_83  query   \n",
       "14299  /Users/r0b03m2/Desktop/Work/Retail_Data/Grocer...  Food_Tea_83  query   \n",
       "14300  /Users/r0b03m2/Desktop/Work/Retail_Data/Grocer...  Food_Tea_83  query   \n",
       "14301  /Users/r0b03m2/Desktop/Work/Retail_Data/Grocer...  Food_Tea_83  query   \n",
       "\n",
       "       label_id  split       actual  top_prob1     top_prob2     top_prob3  \\\n",
       "14297    3961.0  train  Food_Tea_83   0.939122  6.087781e-02  2.020180e-17   \n",
       "14298    3961.0  train  Food_Tea_83   0.999345  6.554053e-04  2.578479e-23   \n",
       "14299    3961.0  train  Food_Tea_83   1.000000  8.830499e-08  4.948448e-28   \n",
       "14300    3961.0  train  Food_Tea_83   1.000000  2.509187e-07  2.792062e-16   \n",
       "14301    3961.0  train  Food_Tea_83   1.000000  4.375374e-08  1.306456e-33   \n",
       "\n",
       "          top_prob4      ...          top_cat2     top_cat3     top_cat4  \\\n",
       "14297  8.099863e-20      ...       Food_Tea_37  Food_Tea_15  Food_Tea_23   \n",
       "14298  5.059062e-25      ...       Food_Tea_37  Food_Tea_23  Food_Tea_15   \n",
       "14299  5.675756e-34      ...       Food_Tea_83  Food_Tea_15  Food_Tea_23   \n",
       "14300  1.285143e-17      ...       Food_Tea_23  Food_Tea_15  Food_Tea_83   \n",
       "14301  3.479617e-35      ...       Food_Tea_83  Food_Tea_15  Food_Tea_14   \n",
       "\n",
       "                            top_cat5     pred_cat  \\\n",
       "14297                    Food_Tea_14  Food_Tea_83   \n",
       "14298                    Food_Tea_14  Food_Tea_83   \n",
       "14299  HouseProducts_Bathroom_218242  Food_Tea_37   \n",
       "14300                    Food_Tea_14  Food_Tea_37   \n",
       "14301                    Food_Tea_23  Food_Tea_37   \n",
       "\n",
       "                                               exp   Flag Flag_top5  accuracy  \\\n",
       "14297  Grocer_res34_s1_q2_k80_onlyref2.5k_epoch100   True      True  0.333333   \n",
       "14298  Grocer_res34_s1_q2_k80_onlyref2.5k_epoch100   True      True  0.333333   \n",
       "14299  Grocer_res34_s1_q2_k80_onlyref2.5k_epoch100  False      True  0.333333   \n",
       "14300  Grocer_res34_s1_q2_k80_onlyref2.5k_epoch100  False      True  0.333333   \n",
       "14301  Grocer_res34_s1_q2_k80_onlyref2.5k_epoch100  False      True  0.333333   \n",
       "\n",
       "      accuracy_Top5  \n",
       "14297           1.0  \n",
       "14298           1.0  \n",
       "14299           1.0  \n",
       "14300           1.0  \n",
       "14301           1.0  \n",
       "\n",
       "[5 rows x 22 columns]"
      ]
     },
     "execution_count": 50,
     "metadata": {},
     "output_type": "execute_result"
    }
   ],
   "source": [
    "result_df.tail()"
   ]
  },
  {
   "cell_type": "code",
   "execution_count": 51,
   "metadata": {},
   "outputs": [],
   "source": [
    "# result_df.drop(result_df[result_df.exp == 'Grocer_res34_s1_q2_k80_epoch100'].index.values, inplace=True, axis=0)"
   ]
  },
  {
   "cell_type": "code",
   "execution_count": 52,
   "metadata": {},
   "outputs": [],
   "source": [
    "fin_df = result_df.append(query_df, ignore_index=True)"
   ]
  },
  {
   "cell_type": "code",
   "execution_count": 53,
   "metadata": {},
   "outputs": [
    {
     "data": {
      "text/html": [
       "<div>\n",
       "<style scoped>\n",
       "    .dataframe tbody tr th:only-of-type {\n",
       "        vertical-align: middle;\n",
       "    }\n",
       "\n",
       "    .dataframe tbody tr th {\n",
       "        vertical-align: top;\n",
       "    }\n",
       "\n",
       "    .dataframe thead th {\n",
       "        text-align: right;\n",
       "    }\n",
       "</style>\n",
       "<table border=\"1\" class=\"dataframe\">\n",
       "  <thead>\n",
       "    <tr style=\"text-align: right;\">\n",
       "      <th></th>\n",
       "      <th>fpath</th>\n",
       "      <th>category</th>\n",
       "      <th>type</th>\n",
       "      <th>label_id</th>\n",
       "      <th>split</th>\n",
       "      <th>actual</th>\n",
       "      <th>top_prob1</th>\n",
       "      <th>top_prob2</th>\n",
       "      <th>top_prob3</th>\n",
       "      <th>top_prob4</th>\n",
       "      <th>...</th>\n",
       "      <th>top_cat2</th>\n",
       "      <th>top_cat3</th>\n",
       "      <th>top_cat4</th>\n",
       "      <th>top_cat5</th>\n",
       "      <th>pred_cat</th>\n",
       "      <th>exp</th>\n",
       "      <th>Flag</th>\n",
       "      <th>Flag_top5</th>\n",
       "      <th>accuracy</th>\n",
       "      <th>accuracy_Top5</th>\n",
       "    </tr>\n",
       "  </thead>\n",
       "  <tbody>\n",
       "    <tr>\n",
       "      <th>15245</th>\n",
       "      <td>/Users/r0b03m2/Desktop/Work/Retail_Data/Grocer...</td>\n",
       "      <td>Food_Tea_83</td>\n",
       "      <td>query</td>\n",
       "      <td>3961.0</td>\n",
       "      <td>valid</td>\n",
       "      <td>Food_Tea_83</td>\n",
       "      <td>0.999998</td>\n",
       "      <td>2.456900e-06</td>\n",
       "      <td>1.085515e-10</td>\n",
       "      <td>2.194207e-19</td>\n",
       "      <td>...</td>\n",
       "      <td>Food_Tea_23</td>\n",
       "      <td>Food_Tea_37</td>\n",
       "      <td>Food_Tea_15</td>\n",
       "      <td>Food_Tea_14</td>\n",
       "      <td>Food_Tea_83</td>\n",
       "      <td>Grocer_res34_s1_q2_k80_nonq7.6k_epoch100</td>\n",
       "      <td>True</td>\n",
       "      <td>True</td>\n",
       "      <td>0.833333</td>\n",
       "      <td>1.0</td>\n",
       "    </tr>\n",
       "    <tr>\n",
       "      <th>15246</th>\n",
       "      <td>/Users/r0b03m2/Desktop/Work/Retail_Data/Grocer...</td>\n",
       "      <td>Food_Tea_83</td>\n",
       "      <td>query</td>\n",
       "      <td>3961.0</td>\n",
       "      <td>valid</td>\n",
       "      <td>Food_Tea_83</td>\n",
       "      <td>1.000000</td>\n",
       "      <td>2.010592e-07</td>\n",
       "      <td>1.683243e-18</td>\n",
       "      <td>1.553814e-27</td>\n",
       "      <td>...</td>\n",
       "      <td>Food_Tea_37</td>\n",
       "      <td>Food_Tea_23</td>\n",
       "      <td>Food_Tea_15</td>\n",
       "      <td>Food_Tea_12</td>\n",
       "      <td>Food_Tea_83</td>\n",
       "      <td>Grocer_res34_s1_q2_k80_nonq7.6k_epoch100</td>\n",
       "      <td>True</td>\n",
       "      <td>True</td>\n",
       "      <td>0.833333</td>\n",
       "      <td>1.0</td>\n",
       "    </tr>\n",
       "    <tr>\n",
       "      <th>15247</th>\n",
       "      <td>/Users/r0b03m2/Desktop/Work/Retail_Data/Grocer...</td>\n",
       "      <td>Food_Tea_83</td>\n",
       "      <td>query</td>\n",
       "      <td>3961.0</td>\n",
       "      <td>valid</td>\n",
       "      <td>Food_Tea_83</td>\n",
       "      <td>0.999789</td>\n",
       "      <td>2.108412e-04</td>\n",
       "      <td>5.369683e-18</td>\n",
       "      <td>8.248489e-26</td>\n",
       "      <td>...</td>\n",
       "      <td>Food_Tea_37</td>\n",
       "      <td>Food_Tea_23</td>\n",
       "      <td>Food_Tea_12</td>\n",
       "      <td>Food_Tea_15</td>\n",
       "      <td>Food_Tea_83</td>\n",
       "      <td>Grocer_res34_s1_q2_k80_nonq7.6k_epoch100</td>\n",
       "      <td>True</td>\n",
       "      <td>True</td>\n",
       "      <td>0.833333</td>\n",
       "      <td>1.0</td>\n",
       "    </tr>\n",
       "    <tr>\n",
       "      <th>15248</th>\n",
       "      <td>/Users/r0b03m2/Desktop/Work/Retail_Data/Grocer...</td>\n",
       "      <td>Food_Tea_83</td>\n",
       "      <td>query</td>\n",
       "      <td>3961.0</td>\n",
       "      <td>valid</td>\n",
       "      <td>Food_Tea_83</td>\n",
       "      <td>1.000000</td>\n",
       "      <td>1.659651e-10</td>\n",
       "      <td>1.223553e-10</td>\n",
       "      <td>3.089174e-19</td>\n",
       "      <td>...</td>\n",
       "      <td>Food_Tea_83</td>\n",
       "      <td>Food_Tea_37</td>\n",
       "      <td>Food_Tea_15</td>\n",
       "      <td>Food_Tea_14</td>\n",
       "      <td>Food_Tea_23</td>\n",
       "      <td>Grocer_res34_s1_q2_k80_nonq7.6k_epoch100</td>\n",
       "      <td>False</td>\n",
       "      <td>True</td>\n",
       "      <td>0.833333</td>\n",
       "      <td>1.0</td>\n",
       "    </tr>\n",
       "    <tr>\n",
       "      <th>15249</th>\n",
       "      <td>/Users/r0b03m2/Desktop/Work/Retail_Data/Grocer...</td>\n",
       "      <td>Food_Tea_83</td>\n",
       "      <td>query</td>\n",
       "      <td>3961.0</td>\n",
       "      <td>valid</td>\n",
       "      <td>Food_Tea_83</td>\n",
       "      <td>1.000000</td>\n",
       "      <td>2.576018e-07</td>\n",
       "      <td>1.369356e-20</td>\n",
       "      <td>2.317417e-30</td>\n",
       "      <td>...</td>\n",
       "      <td>Food_Tea_37</td>\n",
       "      <td>Food_Tea_23</td>\n",
       "      <td>Food_Tea_15</td>\n",
       "      <td>Food_Tea_12</td>\n",
       "      <td>Food_Tea_83</td>\n",
       "      <td>Grocer_res34_s1_q2_k80_nonq7.6k_epoch100</td>\n",
       "      <td>True</td>\n",
       "      <td>True</td>\n",
       "      <td>0.833333</td>\n",
       "      <td>1.0</td>\n",
       "    </tr>\n",
       "  </tbody>\n",
       "</table>\n",
       "<p>5 rows × 22 columns</p>\n",
       "</div>"
      ],
      "text/plain": [
       "                                                   fpath     category   type  \\\n",
       "15245  /Users/r0b03m2/Desktop/Work/Retail_Data/Grocer...  Food_Tea_83  query   \n",
       "15246  /Users/r0b03m2/Desktop/Work/Retail_Data/Grocer...  Food_Tea_83  query   \n",
       "15247  /Users/r0b03m2/Desktop/Work/Retail_Data/Grocer...  Food_Tea_83  query   \n",
       "15248  /Users/r0b03m2/Desktop/Work/Retail_Data/Grocer...  Food_Tea_83  query   \n",
       "15249  /Users/r0b03m2/Desktop/Work/Retail_Data/Grocer...  Food_Tea_83  query   \n",
       "\n",
       "       label_id  split       actual  top_prob1     top_prob2     top_prob3  \\\n",
       "15245    3961.0  valid  Food_Tea_83   0.999998  2.456900e-06  1.085515e-10   \n",
       "15246    3961.0  valid  Food_Tea_83   1.000000  2.010592e-07  1.683243e-18   \n",
       "15247    3961.0  valid  Food_Tea_83   0.999789  2.108412e-04  5.369683e-18   \n",
       "15248    3961.0  valid  Food_Tea_83   1.000000  1.659651e-10  1.223553e-10   \n",
       "15249    3961.0  valid  Food_Tea_83   1.000000  2.576018e-07  1.369356e-20   \n",
       "\n",
       "          top_prob4      ...          top_cat2     top_cat3     top_cat4  \\\n",
       "15245  2.194207e-19      ...       Food_Tea_23  Food_Tea_37  Food_Tea_15   \n",
       "15246  1.553814e-27      ...       Food_Tea_37  Food_Tea_23  Food_Tea_15   \n",
       "15247  8.248489e-26      ...       Food_Tea_37  Food_Tea_23  Food_Tea_12   \n",
       "15248  3.089174e-19      ...       Food_Tea_83  Food_Tea_37  Food_Tea_15   \n",
       "15249  2.317417e-30      ...       Food_Tea_37  Food_Tea_23  Food_Tea_15   \n",
       "\n",
       "          top_cat5     pred_cat                                       exp  \\\n",
       "15245  Food_Tea_14  Food_Tea_83  Grocer_res34_s1_q2_k80_nonq7.6k_epoch100   \n",
       "15246  Food_Tea_12  Food_Tea_83  Grocer_res34_s1_q2_k80_nonq7.6k_epoch100   \n",
       "15247  Food_Tea_15  Food_Tea_83  Grocer_res34_s1_q2_k80_nonq7.6k_epoch100   \n",
       "15248  Food_Tea_14  Food_Tea_23  Grocer_res34_s1_q2_k80_nonq7.6k_epoch100   \n",
       "15249  Food_Tea_12  Food_Tea_83  Grocer_res34_s1_q2_k80_nonq7.6k_epoch100   \n",
       "\n",
       "        Flag Flag_top5  accuracy accuracy_Top5  \n",
       "15245   True      True  0.833333           1.0  \n",
       "15246   True      True  0.833333           1.0  \n",
       "15247   True      True  0.833333           1.0  \n",
       "15248  False      True  0.833333           1.0  \n",
       "15249   True      True  0.833333           1.0  \n",
       "\n",
       "[5 rows x 22 columns]"
      ]
     },
     "execution_count": 53,
     "metadata": {},
     "output_type": "execute_result"
    }
   ],
   "source": [
    "fin_df.tail()"
   ]
  },
  {
   "cell_type": "code",
   "execution_count": 54,
   "metadata": {},
   "outputs": [
    {
     "data": {
      "text/html": [
       "<div>\n",
       "<style scoped>\n",
       "    .dataframe tbody tr th:only-of-type {\n",
       "        vertical-align: middle;\n",
       "    }\n",
       "\n",
       "    .dataframe tbody tr th {\n",
       "        vertical-align: top;\n",
       "    }\n",
       "\n",
       "    .dataframe thead th {\n",
       "        text-align: right;\n",
       "    }\n",
       "</style>\n",
       "<table border=\"1\" class=\"dataframe\">\n",
       "  <thead>\n",
       "    <tr style=\"text-align: right;\">\n",
       "      <th></th>\n",
       "      <th>fpath</th>\n",
       "      <th>category</th>\n",
       "      <th>type</th>\n",
       "      <th>label_id</th>\n",
       "      <th>split</th>\n",
       "      <th>actual</th>\n",
       "      <th>top_prob1</th>\n",
       "      <th>top_prob2</th>\n",
       "      <th>top_prob3</th>\n",
       "      <th>top_prob4</th>\n",
       "      <th>...</th>\n",
       "      <th>top_cat2</th>\n",
       "      <th>top_cat3</th>\n",
       "      <th>top_cat4</th>\n",
       "      <th>top_cat5</th>\n",
       "      <th>pred_cat</th>\n",
       "      <th>exp</th>\n",
       "      <th>Flag</th>\n",
       "      <th>Flag_top5</th>\n",
       "      <th>accuracy</th>\n",
       "      <th>accuracy_Top5</th>\n",
       "    </tr>\n",
       "  </thead>\n",
       "  <tbody>\n",
       "    <tr>\n",
       "      <th>0</th>\n",
       "      <td>/Users/r0b03m2/Desktop/Work/Retail_Data/Grocer...</td>\n",
       "      <td>Food_Biscuits_10</td>\n",
       "      <td>query</td>\n",
       "      <td>0.0</td>\n",
       "      <td>train</td>\n",
       "      <td>Food_Biscuits_10</td>\n",
       "      <td>0.008629</td>\n",
       "      <td>0.007199</td>\n",
       "      <td>0.007133</td>\n",
       "      <td>0.007083</td>\n",
       "      <td>...</td>\n",
       "      <td>Food_Coffee_13</td>\n",
       "      <td>Food_Biscuits_114</td>\n",
       "      <td>Food_Cereals_140</td>\n",
       "      <td>Food_Biscuits_12</td>\n",
       "      <td>Food_Biscuits_10</td>\n",
       "      <td>res34_untrained</td>\n",
       "      <td>True</td>\n",
       "      <td>True</td>\n",
       "      <td>1.0</td>\n",
       "      <td>1.0</td>\n",
       "    </tr>\n",
       "    <tr>\n",
       "      <th>1</th>\n",
       "      <td>/Users/r0b03m2/Desktop/Work/Retail_Data/Grocer...</td>\n",
       "      <td>Food_Biscuits_10</td>\n",
       "      <td>query</td>\n",
       "      <td>0.0</td>\n",
       "      <td>train</td>\n",
       "      <td>Food_Biscuits_10</td>\n",
       "      <td>0.009133</td>\n",
       "      <td>0.008316</td>\n",
       "      <td>0.008079</td>\n",
       "      <td>0.007641</td>\n",
       "      <td>...</td>\n",
       "      <td>Food_Biscuits_12</td>\n",
       "      <td>Food_Biscuits_24</td>\n",
       "      <td>Food_Biscuits_6</td>\n",
       "      <td>Food_Coffee_13</td>\n",
       "      <td>Food_Biscuits_10</td>\n",
       "      <td>res34_untrained</td>\n",
       "      <td>True</td>\n",
       "      <td>True</td>\n",
       "      <td>1.0</td>\n",
       "      <td>1.0</td>\n",
       "    </tr>\n",
       "    <tr>\n",
       "      <th>2</th>\n",
       "      <td>/Users/r0b03m2/Desktop/Work/Retail_Data/Grocer...</td>\n",
       "      <td>Food_Biscuits_10</td>\n",
       "      <td>query</td>\n",
       "      <td>0.0</td>\n",
       "      <td>train</td>\n",
       "      <td>Food_Biscuits_10</td>\n",
       "      <td>0.009334</td>\n",
       "      <td>0.007663</td>\n",
       "      <td>0.007574</td>\n",
       "      <td>0.007526</td>\n",
       "      <td>...</td>\n",
       "      <td>Food_Biscuits_114</td>\n",
       "      <td>Food_Tea_72</td>\n",
       "      <td>Food_Biscuits_33</td>\n",
       "      <td>Food_Coffee_13</td>\n",
       "      <td>Food_Biscuits_10</td>\n",
       "      <td>res34_untrained</td>\n",
       "      <td>True</td>\n",
       "      <td>True</td>\n",
       "      <td>1.0</td>\n",
       "      <td>1.0</td>\n",
       "    </tr>\n",
       "    <tr>\n",
       "      <th>3</th>\n",
       "      <td>/Users/r0b03m2/Desktop/Work/Retail_Data/Grocer...</td>\n",
       "      <td>Food_Biscuits_10</td>\n",
       "      <td>query</td>\n",
       "      <td>0.0</td>\n",
       "      <td>train</td>\n",
       "      <td>Food_Biscuits_10</td>\n",
       "      <td>0.009094</td>\n",
       "      <td>0.007711</td>\n",
       "      <td>0.007484</td>\n",
       "      <td>0.007454</td>\n",
       "      <td>...</td>\n",
       "      <td>Food_Biscuits_24</td>\n",
       "      <td>Food_Biscuits_33</td>\n",
       "      <td>Food_Tea_72</td>\n",
       "      <td>Food_Biscuits_28</td>\n",
       "      <td>Food_Biscuits_10</td>\n",
       "      <td>res34_untrained</td>\n",
       "      <td>True</td>\n",
       "      <td>True</td>\n",
       "      <td>1.0</td>\n",
       "      <td>1.0</td>\n",
       "    </tr>\n",
       "    <tr>\n",
       "      <th>4</th>\n",
       "      <td>/Users/r0b03m2/Desktop/Work/Retail_Data/Grocer...</td>\n",
       "      <td>Food_Biscuits_10</td>\n",
       "      <td>query</td>\n",
       "      <td>0.0</td>\n",
       "      <td>train</td>\n",
       "      <td>Food_Biscuits_10</td>\n",
       "      <td>0.009180</td>\n",
       "      <td>0.007560</td>\n",
       "      <td>0.007486</td>\n",
       "      <td>0.007305</td>\n",
       "      <td>...</td>\n",
       "      <td>Food_Biscuits_114</td>\n",
       "      <td>Food_Biscuits_28</td>\n",
       "      <td>Food_Biscuits_12</td>\n",
       "      <td>Food_Biscuits_6</td>\n",
       "      <td>Food_Biscuits_10</td>\n",
       "      <td>res34_untrained</td>\n",
       "      <td>True</td>\n",
       "      <td>True</td>\n",
       "      <td>1.0</td>\n",
       "      <td>1.0</td>\n",
       "    </tr>\n",
       "  </tbody>\n",
       "</table>\n",
       "<p>5 rows × 22 columns</p>\n",
       "</div>"
      ],
      "text/plain": [
       "                                               fpath          category   type  \\\n",
       "0  /Users/r0b03m2/Desktop/Work/Retail_Data/Grocer...  Food_Biscuits_10  query   \n",
       "1  /Users/r0b03m2/Desktop/Work/Retail_Data/Grocer...  Food_Biscuits_10  query   \n",
       "2  /Users/r0b03m2/Desktop/Work/Retail_Data/Grocer...  Food_Biscuits_10  query   \n",
       "3  /Users/r0b03m2/Desktop/Work/Retail_Data/Grocer...  Food_Biscuits_10  query   \n",
       "4  /Users/r0b03m2/Desktop/Work/Retail_Data/Grocer...  Food_Biscuits_10  query   \n",
       "\n",
       "   label_id  split            actual  top_prob1  top_prob2  top_prob3  \\\n",
       "0       0.0  train  Food_Biscuits_10   0.008629   0.007199   0.007133   \n",
       "1       0.0  train  Food_Biscuits_10   0.009133   0.008316   0.008079   \n",
       "2       0.0  train  Food_Biscuits_10   0.009334   0.007663   0.007574   \n",
       "3       0.0  train  Food_Biscuits_10   0.009094   0.007711   0.007484   \n",
       "4       0.0  train  Food_Biscuits_10   0.009180   0.007560   0.007486   \n",
       "\n",
       "   top_prob4      ...                top_cat2           top_cat3  \\\n",
       "0   0.007083      ...          Food_Coffee_13  Food_Biscuits_114   \n",
       "1   0.007641      ...        Food_Biscuits_12   Food_Biscuits_24   \n",
       "2   0.007526      ...       Food_Biscuits_114        Food_Tea_72   \n",
       "3   0.007454      ...        Food_Biscuits_24   Food_Biscuits_33   \n",
       "4   0.007305      ...       Food_Biscuits_114   Food_Biscuits_28   \n",
       "\n",
       "           top_cat4          top_cat5          pred_cat              exp  \\\n",
       "0  Food_Cereals_140  Food_Biscuits_12  Food_Biscuits_10  res34_untrained   \n",
       "1   Food_Biscuits_6    Food_Coffee_13  Food_Biscuits_10  res34_untrained   \n",
       "2  Food_Biscuits_33    Food_Coffee_13  Food_Biscuits_10  res34_untrained   \n",
       "3       Food_Tea_72  Food_Biscuits_28  Food_Biscuits_10  res34_untrained   \n",
       "4  Food_Biscuits_12   Food_Biscuits_6  Food_Biscuits_10  res34_untrained   \n",
       "\n",
       "   Flag Flag_top5 accuracy accuracy_Top5  \n",
       "0  True      True      1.0           1.0  \n",
       "1  True      True      1.0           1.0  \n",
       "2  True      True      1.0           1.0  \n",
       "3  True      True      1.0           1.0  \n",
       "4  True      True      1.0           1.0  \n",
       "\n",
       "[5 rows x 22 columns]"
      ]
     },
     "execution_count": 54,
     "metadata": {},
     "output_type": "execute_result"
    }
   ],
   "source": [
    "fin_df.head()"
   ]
  },
  {
   "cell_type": "code",
   "execution_count": 55,
   "metadata": {},
   "outputs": [],
   "source": [
    "fin_df.to_csv('results/protonet_results.csv', index=False)"
   ]
  },
  {
   "cell_type": "code",
   "execution_count": null,
   "metadata": {},
   "outputs": [],
   "source": []
  }
 ],
 "metadata": {
  "kernelspec": {
   "display_name": "proto",
   "language": "python",
   "name": "proto"
  },
  "language_info": {
   "codemirror_mode": {
    "name": "ipython",
    "version": 3
   },
   "file_extension": ".py",
   "mimetype": "text/x-python",
   "name": "python",
   "nbconvert_exporter": "python",
   "pygments_lexer": "ipython3",
   "version": "3.6.10"
  }
 },
 "nbformat": 4,
 "nbformat_minor": 2
}
